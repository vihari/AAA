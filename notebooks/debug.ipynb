{
 "cells": [
  {
   "cell_type": "code",
   "execution_count": 1,
   "metadata": {},
   "outputs": [],
   "source": [
    "# sanity check for if Kernel score corresponds to true value of arms\n",
    "# i.e. correlation of K(a1, a2) to v(a1) - v(a2)\n",
    "\n",
    "import pickle\n",
    "import numpy as np\n",
    "\n",
    "from matplotlib import pyplot as plt"
   ]
  },
  {
   "cell_type": "code",
   "execution_count": 11,
   "metadata": {},
   "outputs": [
    {
     "name": "stdout",
     "output_type": "stream",
     "text": [
      "(4096, 20)\n",
      "158404 158404\n"
     ]
    },
    {
     "data": {
      "image/png": "[encoded data removed]",
      "text/plain": [
       "<Figure size 432x288 with 1 Axes>"
      ]
     },
     "metadata": {
      "needs_background": "light"
     },
     "output_type": "display_data"
    },
    {
     "data": {
      "text/plain": [
       "(array([ 3.,  5.,  7., 11.,  5.,  2.,  4.,  1.,  1.,  1.]),\n",
       " array([-0.34830517, -0.26753637, -0.18676758, -0.10599879, -0.02523   ,\n",
       "         0.05553879,  0.13630758,  0.21707638,  0.29784516,  0.37861395,\n",
       "         0.45938274], dtype=float32),\n",
       " <a list of 10 Patch objects>)"
      ]
     },
     "execution_count": 11,
     "metadata": {},
     "output_type": "execute_result"
    },
    {
     "data": {
      "image/png": "[encoded data removed]",
      "text/plain": [
       "<Figure size 432x288 with 1 Axes>"
      ]
     },
     "metadata": {
      "needs_background": "light"
     },
     "output_type": "display_data"
    }
   ],
   "source": [
    "def reject_outliers(data, m = 1.):\n",
    "    d = np.abs(data - np.median(data))\n",
    "    mdev = np.median(d)\n",
    "    s = d/mdev if mdev else 0.\n",
    "    return data[s<m]\n",
    "def reject_outliers2(data, m=0.2):\n",
    "    return data[abs(data - np.mean(data)) < m * np.std(data)]\n",
    "\n",
    "def mean(dat):\n",
    "    return np.mean(dat)\n",
    "    \n",
    "def std(dat):\n",
    "    return np.std(dat)\n",
    "    \n",
    "from sklearn.decomposition import PCA\n",
    "from sklearn.manifold import TSNE\n",
    "\n",
    "with open(\"../data/celeba/svariance2_width=3_debug.pkl\", \"rb\") as f:\n",
    "    covmat, embs, arm_accs = pickle.load(f)\n",
    "    arm_accs = np.array(arm_accs)\n",
    "    \n",
    "    idxs = np.where(~np.isnan(arm_accs) )[0]\n",
    "    idxs1 = np.where(arm_accs[idxs] > 0.8)[0]\n",
    "    idxs2 = np.where(arm_accs[idxs] <= 0.5)[0]\n",
    "    covmat = np.linalg.cholesky(covmat[0][idxs, :][:, idxs] + 1e-5*np.eye(len(idxs)))\n",
    "    \n",
    "    pca = PCA(n_components=2)\n",
    "    pca_x = pca.fit_transform(embs[idxs])\n",
    "    \n",
    "    print (np.shape(embs))\n",
    "    _norms = np.linalg.norm(embs, axis=-1)**2\n",
    "#     ks = np.expand_dims(_norms, axis=-1) + np.expand_dims(_norms, axis=0) -2*np.matmul(embs, np.transpose(embs))\n",
    "    ks = np.matmul(embs, np.transpose(embs))\n",
    "    ks = ks[idxs, :][:, idxs]\n",
    "    ks = np.reshape(ks, [-1])\n",
    "    ks = np.reshape(covmat, [-1])\n",
    "    acc_diffs = np.reshape(np.abs(arm_accs[idxs, None] - arm_accs[idxs]), [-1])\n",
    "    print (len(ks), len(acc_diffs))\n",
    "    sidxs = np.argsort(acc_diffs)\n",
    "xs, ys = [], []\n",
    "y_errs = []\n",
    "sep = 1e-1\n",
    "for _ in np.arange(0, 1., sep):\n",
    "    _ln = len(acc_diffs)\n",
    "    \n",
    "    _idxs = np.arange(_ln)[int(_ln*_): int(_ln*(_+sep))]\n",
    "    xs.append(np.max(acc_diffs[sidxs][_idxs]))\n",
    "#     _idxs = [_idx for _idx in range(len(sidxs)) if acc_diffs[sidxs][_idx]>_ and acc_diffs[sidxs][_idx]<=_+sep]\n",
    "#     xs.append(_+sep)\n",
    "    ys.append(np.mean(ks[sidxs][_idxs]))\n",
    "    y_errs.append(std(ks[sidxs][_idxs]))\n",
    "# plt.errorbar(xs, ys, y_errs)\n",
    "plt.plot(xs, ys, \"r-*\")\n",
    "plt.xlabel(\"|a1-a2|\")\n",
    "plt.ylabel(\"Cov(a1, a2)\")\n",
    "plt.show()\n",
    "\n",
    "plt.hist(pca_x[idxs1, 0])\n",
    "plt.hist(pca_x[idxs2, 0])"
   ]
  },
  {
   "cell_type": "code",
   "execution_count": 12,
   "metadata": {},
   "outputs": [
    {
     "name": "stdout",
     "output_type": "stream",
     "text": [
      "Arms shape:  (4096, 12) [0 0 0 0 0 0 0 0 0 0 0 0] [1 1 1 1 1 1 1 1 1 1 1 1]\n",
      "Arms shape:  (320, 6) [0 0 0 0 0 0] [9 1 1 1 1 1]\n",
      "{154: 177, 147: 177, 125: 125, 144: 125, 143: 125, 146: 125, 139: 125, 148: 125, 124: 125, 135: 125, 110: 125, 158: 125, 153: 125, 159: 125, 126: 125, 134: 125, 161: 125, 149: 125, 181: 125, 141: 125, 162: 125, 133: 125, 93: 125, 118: 125, 128: 125, 96: 125, 168: 125, 123: 125, 156: 156, 105: 156, 163: 163, 98: 163, 112: 163, 145: 163, 137: 163, 95: 163, 127: 163, 150: 163, 165: 163, 157: 163, 94: 163, 122: 122, 160: 122, 129: 122, 106: 122, 132: 122, 107: 122, 155: 122, 97: 122, 164: 122, 109: 122, 111: 122, 180: 122, 179: 122, 131: 122, 142: 122, 99: 122, 138: 122, 114: 122, 115: 122, 113: 122, 117: 122, 116: 122, 100: 122, 101: 122, 102: 122, 172: 122, 171: 122, 174: 122, 170: 122, 175: 122, 173: 122}\n",
      "0.08077559930924072\n",
      "-3.2438082388705265\n"
     ]
    },
    {
     "ename": "IndexError",
     "evalue": "index 1 is out of bounds for axis 0 with size 0",
     "output_type": "error",
     "traceback": [
      "\u001b[0;31m---------------------------------------------------------------------------\u001b[0m",
      "\u001b[0;31mIndexError\u001b[0m                                Traceback (most recent call last)",
      "\u001b[0;32m<ipython-input-12-b1d8c8f6804a>\u001b[0m in \u001b[0;36m<module>\u001b[0;34m\u001b[0m\n\u001b[1;32m     19\u001b[0m     \u001b[0mprint\u001b[0m \u001b[0;34m(\u001b[0m\u001b[0mreg\u001b[0m\u001b[0;34m.\u001b[0m\u001b[0mscore\u001b[0m\u001b[0;34m(\u001b[0m\u001b[0marms\u001b[0m\u001b[0;34m[\u001b[0m\u001b[0midxs\u001b[0m\u001b[0;34m]\u001b[0m\u001b[0;34m,\u001b[0m \u001b[0marm_accs\u001b[0m\u001b[0;34m[\u001b[0m\u001b[0midxs\u001b[0m\u001b[0;34m]\u001b[0m\u001b[0;34m)\u001b[0m\u001b[0;34m)\u001b[0m\u001b[0;34m\u001b[0m\u001b[0;34m\u001b[0m\u001b[0m\n\u001b[1;32m     20\u001b[0m \u001b[0;34m\u001b[0m\u001b[0m\n\u001b[0;32m---> 21\u001b[0;31m     \u001b[0mbad_idx\u001b[0m \u001b[0;34m=\u001b[0m \u001b[0mnp\u001b[0m\u001b[0;34m.\u001b[0m\u001b[0mwhere\u001b[0m\u001b[0;34m(\u001b[0m\u001b[0marm_accs\u001b[0m\u001b[0;34m==\u001b[0m\u001b[0;36m0\u001b[0m\u001b[0;34m)\u001b[0m\u001b[0;34m[\u001b[0m\u001b[0;36m0\u001b[0m\u001b[0;34m]\u001b[0m\u001b[0;34m[\u001b[0m\u001b[0;36m1\u001b[0m\u001b[0;34m]\u001b[0m\u001b[0;34m\u001b[0m\u001b[0;34m\u001b[0m\u001b[0m\n\u001b[0m\u001b[1;32m     22\u001b[0m     \u001b[0mprint\u001b[0m \u001b[0;34m(\u001b[0m\u001b[0marms\u001b[0m\u001b[0;34m[\u001b[0m\u001b[0mbad_idx\u001b[0m\u001b[0;34m]\u001b[0m\u001b[0;34m,\u001b[0m \u001b[0marm_accs\u001b[0m\u001b[0;34m[\u001b[0m\u001b[0mbad_idx\u001b[0m\u001b[0;34m]\u001b[0m\u001b[0;34m)\u001b[0m\u001b[0;34m\u001b[0m\u001b[0;34m\u001b[0m\u001b[0m\n\u001b[1;32m     23\u001b[0m     \u001b[0mx\u001b[0m \u001b[0;34m=\u001b[0m \u001b[0mcovmat\u001b[0m\u001b[0;34m[\u001b[0m\u001b[0;36m0\u001b[0m\u001b[0;34m]\u001b[0m\u001b[0;34m[\u001b[0m\u001b[0mbad_idx\u001b[0m\u001b[0;34m,\u001b[0m \u001b[0;34m:\u001b[0m\u001b[0;34m]\u001b[0m\u001b[0;34m\u001b[0m\u001b[0;34m\u001b[0m\u001b[0m\n",
      "\u001b[0;31mIndexError\u001b[0m: index 1 is out of bounds for axis 0 with size 0"
     ]
    }
   ],
   "source": [
    "from sklearn.linear_model import LinearRegression\n",
    "import os, sys\n",
    "module_path = os.path.abspath(os.path.join('..'))\n",
    "if module_path not in sys.path:\n",
    "    sys.path.append(module_path)\n",
    "import celeba\n",
    "import cocos3\n",
    "    \n",
    "with open(\"../data/cocos3/svariance2_width=3_debug.pkl\", \"rb\") as f:\n",
    "#     arms = celeba.D\n",
    "    arms = cocos3.D\n",
    "    covmat, embs, arm_accs = pickle.load(f)\n",
    "    idxs = np.where(~np.isnan(arm_accs))[0]\n",
    "    arm_accs = np.array(arm_accs)\n",
    "    reg = LinearRegression(fit_intercept=False).fit(embs[idxs], arm_accs[idxs])\n",
    "    print (reg.score(embs[idxs], arm_accs[idxs]))\n",
    "    \n",
    "    reg = LinearRegression(fit_intercept=False).fit(arms[idxs], arm_accs[idxs])\n",
    "    print (reg.score(arms[idxs], arm_accs[idxs]))\n",
    "    \n",
    "    bad_idx = np.where(arm_accs==0)[0][1]\n",
    "    print (arms[bad_idx], arm_accs[bad_idx])\n",
    "    x = covmat[0][bad_idx, :]\n",
    "    k = 0\n",
    "    for close_idx in np.argsort(-x):\n",
    "        if not np.isnan(arm_accs[close_idx]):\n",
    "            print (arms[close_idx], arm_accs[close_idx])\n",
    "            k += 1\n",
    "            if k >= 10:\n",
    "                break"
   ]
  }
 ],
 "metadata": {
  "kernelspec": {
   "display_name": "Python 3",
   "language": "python",
   "name": "python3"
  },
  "language_info": {
   "codemirror_mode": {
    "name": "ipython",
    "version": 3
   },
   "file_extension": ".py",
   "mimetype": "text/x-python",
   "name": "python",
   "nbconvert_exporter": "python",
   "pygments_lexer": "ipython3",
   "version": "3.6.10"
  }
 },
 "nbformat": 4,
 "nbformat_minor": 4
}
