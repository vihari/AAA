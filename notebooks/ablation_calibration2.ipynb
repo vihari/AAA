{
 "cells": [
  {
   "cell_type": "code",
   "execution_count": null,
   "metadata": {},
   "outputs": [],
   "source": [
    "%load_ext autoreload\n",
    "%autoreload 2"
   ]
  },
  {
   "cell_type": "code",
   "execution_count": null,
   "metadata": {},
   "outputs": [],
   "source": [
    "import os, sys\n",
    "import torch\n",
    "import pickle\n",
    "import numpy as np\n",
    "\n",
    "module_path = os.path.abspath(os.path.join('..'))\n",
    "if module_path not in sys.path:\n",
    "    sys.path.append(module_path)\n",
    "\n",
    "from src.utils import train_utils, config, data_utils\n",
    "from src import dataset, data_fitter, beta_explorer\n",
    "import line_simple_data, line_simple_data_corr_attrs, utkface, cocos, celeba\n",
    "\n",
    "line_simple_data_corr_attrs.root_dir = \"../data/line_simple_dataset_corr_attr\"\n",
    "line_simple_data.root_dir = \"../data/line_simple_dataset\""
   ]
  },
  {
   "cell_type": "code",
   "execution_count": 3,
   "metadata": {},
   "outputs": [],
   "source": [
    "from matplotlib import pyplot as plt\n",
    "plt.rcParams.update({'font.size': 20})\n",
    "def plot(task, title, save_fname, legend=False, mark=False):\n",
    "    cals = [(\"cal:full\", \"r*-\", \"Cal:Full\"), (\"cal:temp\", \"b*-\", \"Cal:Temp\"), (\"cal:raw\", \"k*-\", \"Cal:Raw\")]\n",
    "    for cal, fmt, name in cals:\n",
    "        with open(\"../data/%s/%s.pkl\" % (task, cal), \"rb\") as f:\n",
    "            perfs = pickle.load(f)\n",
    "            xs, aucs, _, _ = zip(*perfs)\n",
    "            plt.plot(xs, 100*np.array(aucs), fmt, label=name)\n",
    "    plt.title(title, fontdict = {'fontsize' : 20})\n",
    "    if legend:\n",
    "        plt.legend(prop={'size':20})\n",
    "    if mark:\n",
    "        plt.xlabel('Number Explored')\n",
    "        plt.ylabel('MSE')\n",
    "    plt.tight_layout(pad=0.0)\n",
    "    plt.savefig(save_fname)\n",
    "    plt.show()\n",
    "    \n",
    "def write(tpls, task):\n",
    "    for arr, cal_type in tpls:\n",
    "        fname = \"../data/%s/%s.pkl\" % (task, cal_type)\n",
    "        with open(fname, \"wb\") as f:\n",
    "            pickle.dump(arr, f)"
   ]
  },
  {
   "cell_type": "markdown",
   "metadata": {},
   "source": [
    "# Ablation on sampling from corrected vs uncalibrated dataset"
   ]
  },
  {
   "cell_type": "code",
   "execution_count": 15,
   "metadata": {
    "scrolled": true
   },
   "outputs": [
    {
     "name": "stdout",
     "output_type": "stream",
     "text": [
      "Loading label attribute models...\n",
      "Done\n",
      "Loding dataset...\n",
      "Size fo available labeled data: 8732\n",
      "Size of available unlabeled data: 40320\n",
      "Setting models...\n",
      "Initializing fitter...\n"
     ]
    },
    {
     "name": "stderr",
     "output_type": "stream",
     "text": [
      "Computing per arm accuracy\n",
      "Found 0 unsupported arms of the total 2016 arms\n",
      "Done\n",
      "Best, worst, mean accuracy: 1.0000, 0.0000 0.9909\n",
      "Acc quantiles: [0. 1. 1. 1. 1. 1. 1.]\n",
      "Worst arms: [0.   0.05 0.05 0.15 0.25 0.25 0.35 0.4  0.4  0.5  0.5  0.55 0.65 0.7\n",
      " 0.7  0.7  0.7  0.7  0.75 0.75 0.8  0.8  0.8  0.8  0.8  0.8  0.8  0.85\n",
      " 0.85 0.85]\n",
      "Read model from ../data/line_simple_dataset/kernel.pb\n",
      "Temp: tensor([1.1593, 1.8104, 3.1248, 3.2976])\n",
      "Read model from ../data/line_simple_dataset/kernel_no_edge_potential.pb\n",
      "Temp: tensor([1.1516, 1.8080, 3.1086, 3.2529])\n"
     ]
    },
    {
     "name": "stdout",
     "output_type": "stream",
     "text": [
      "Length of available: 40320, samples: 0\n",
      "Num untouched: 1422/2016\n",
      "Std acc: 0.0624\n",
      "Std acc: 0.0624\n",
      "Std acc: 0.0624\n",
      "Brute force predictor perf.: 19.0390 14.9618 13.2189\n",
      "Loading label attribute models...\n"
     ]
    },
    {
     "name": "stderr",
     "output_type": "stream",
     "text": [
      "Empirical accuracy: 0.9991\n"
     ]
    },
    {
     "name": "stdout",
     "output_type": "stream",
     "text": [
      "Done\n",
      "Loding dataset...\n",
      "Size fo available labeled data: 8732\n",
      "Size of available unlabeled data: 40320\n",
      "Setting models...\n",
      "Initializing fitter...\n"
     ]
    },
    {
     "name": "stderr",
     "output_type": "stream",
     "text": [
      "Computing per arm accuracy\n",
      "Found 0 unsupported arms of the total 2016 arms\n",
      "Done\n",
      "Best, worst, mean accuracy: 1.0000, 0.0000 0.9909\n",
      "Acc quantiles: [0. 1. 1. 1. 1. 1. 1.]\n",
      "Worst arms: [0.   0.05 0.05 0.15 0.25 0.25 0.35 0.4  0.4  0.5  0.5  0.55 0.65 0.7\n",
      " 0.7  0.7  0.7  0.7  0.75 0.75 0.8  0.8  0.8  0.8  0.8  0.8  0.8  0.85\n",
      " 0.85 0.85]\n",
      "Read model from ../data/line_simple_dataset/kernel.pb\n",
      "Temp: tensor([1.1593, 1.8104, 3.1248, 3.2976])\n",
      "Read model from ../data/line_simple_dataset/kernel_no_edge_potential.pb\n",
      "Temp: tensor([1.1516, 1.8080, 3.1086, 3.2529])\n"
     ]
    },
    {
     "name": "stdout",
     "output_type": "stream",
     "text": [
      "Length of available: 40320, samples: 0\n",
      "Num untouched: 1422/2016\n",
      "Std acc: 0.0624\n",
      "Std acc: 0.0624\n",
      "Std acc: 0.0624\n",
      "Brute force predictor perf.: 19.0390 14.9618 13.2189\n",
      "Loading label attribute models...\n"
     ]
    },
    {
     "name": "stderr",
     "output_type": "stream",
     "text": [
      "Empirical accuracy: 0.9991\n"
     ]
    },
    {
     "name": "stdout",
     "output_type": "stream",
     "text": [
      "Done\n",
      "Loding dataset...\n",
      "Size fo available labeled data: 8732\n",
      "Size of available unlabeled data: 40320\n",
      "Setting models...\n",
      "Initializing fitter...\n"
     ]
    },
    {
     "name": "stderr",
     "output_type": "stream",
     "text": [
      "Computing per arm accuracy\n",
      "Found 0 unsupported arms of the total 2016 arms\n",
      "Done\n",
      "Best, worst, mean accuracy: 1.0000, 0.0000 0.9909\n",
      "Acc quantiles: [0. 1. 1. 1. 1. 1. 1.]\n",
      "Worst arms: [0.   0.05 0.05 0.15 0.25 0.25 0.35 0.4  0.4  0.5  0.5  0.55 0.65 0.7\n",
      " 0.7  0.7  0.7  0.7  0.75 0.75 0.8  0.8  0.8  0.8  0.8  0.8  0.8  0.85\n",
      " 0.85 0.85]\n",
      "Read model from ../data/line_simple_dataset/kernel.pb\n",
      "Temp: tensor([1.1593, 1.8104, 3.1248, 3.2976])\n",
      "Read model from ../data/line_simple_dataset/kernel_no_edge_potential.pb\n",
      "Temp: tensor([1.1516, 1.8080, 3.1086, 3.2529])\n"
     ]
    },
    {
     "name": "stdout",
     "output_type": "stream",
     "text": [
      "Length of available: 40320, samples: 0\n",
      "Num untouched: 1422/2016\n",
      "Std acc: 0.0624\n",
      "Std acc: 0.0624\n",
      "Std acc: 0.0624\n",
      "Brute force predictor perf.: 19.0390 14.9618 13.2189\n",
      "Loading label attribute models...\n"
     ]
    },
    {
     "name": "stderr",
     "output_type": "stream",
     "text": [
      "Empirical accuracy: 0.9991\n"
     ]
    },
    {
     "name": "stdout",
     "output_type": "stream",
     "text": [
      "Done\n",
      "Loding dataset...\n",
      "Size fo available labeled data: 8732\n",
      "Size of available unlabeled data: 40320\n",
      "Setting models...\n",
      "Initializing fitter...\n"
     ]
    },
    {
     "name": "stderr",
     "output_type": "stream",
     "text": [
      "Computing per arm accuracy\n",
      "Found 0 unsupported arms of the total 2016 arms\n",
      "Done\n",
      "Best, worst, mean accuracy: 1.0000, 0.0000 0.9909\n",
      "Acc quantiles: [0. 1. 1. 1. 1. 1. 1.]\n",
      "Worst arms: [0.   0.05 0.05 0.15 0.25 0.25 0.35 0.4  0.4  0.5  0.5  0.55 0.65 0.7\n",
      " 0.7  0.7  0.7  0.7  0.75 0.75 0.8  0.8  0.8  0.8  0.8  0.8  0.8  0.85\n",
      " 0.85 0.85]\n",
      "Read model from ../data/line_simple_dataset/kernel.pb\n",
      "Temp: tensor([1.1593, 1.8104, 3.1248, 3.2976])\n",
      "Read model from ../data/line_simple_dataset/kernel_no_edge_potential.pb\n",
      "Temp: tensor([1.1516, 1.8080, 3.1086, 3.2529])\n"
     ]
    },
    {
     "name": "stdout",
     "output_type": "stream",
     "text": [
      "Length of available: 40320, samples: 500\n",
      "Num untouched: 463/2016\n",
      "Std acc: 0.0624\n",
      "Std acc: 0.0624\n",
      "Std acc: 0.0624\n",
      "Brute force predictor perf.: 19.1130 15.1713 13.3405\n",
      "Loading label attribute models...\n"
     ]
    },
    {
     "name": "stderr",
     "output_type": "stream",
     "text": [
      "Empirical accuracy: 0.9988\n"
     ]
    },
    {
     "name": "stdout",
     "output_type": "stream",
     "text": [
      "Done\n",
      "Loding dataset...\n",
      "Size fo available labeled data: 8732\n",
      "Size of available unlabeled data: 40320\n",
      "Setting models...\n",
      "Initializing fitter...\n"
     ]
    },
    {
     "name": "stderr",
     "output_type": "stream",
     "text": [
      "Computing per arm accuracy\n",
      "Found 0 unsupported arms of the total 2016 arms\n",
      "Done\n",
      "Best, worst, mean accuracy: 1.0000, 0.0000 0.9909\n",
      "Acc quantiles: [0. 1. 1. 1. 1. 1. 1.]\n",
      "Worst arms: [0.   0.05 0.05 0.15 0.25 0.25 0.35 0.4  0.4  0.5  0.5  0.55 0.65 0.7\n",
      " 0.7  0.7  0.7  0.7  0.75 0.75 0.8  0.8  0.8  0.8  0.8  0.8  0.8  0.85\n",
      " 0.85 0.85]\n",
      "Read model from ../data/line_simple_dataset/kernel.pb\n",
      "Temp: tensor([1.1593, 1.8104, 3.1248, 3.2976])\n",
      "Read model from ../data/line_simple_dataset/kernel_no_edge_potential.pb\n",
      "Temp: tensor([1.1516, 1.8080, 3.1086, 3.2529])\n"
     ]
    },
    {
     "name": "stdout",
     "output_type": "stream",
     "text": [
      "Length of available: 40320, samples: 500\n",
      "Num untouched: 462/2016\n",
      "Std acc: 0.0624\n",
      "Std acc: 0.0624\n",
      "Std acc: 0.0624\n",
      "Brute force predictor perf.: 19.1374 15.1858 13.3550\n",
      "Loading label attribute models...\n"
     ]
    },
    {
     "name": "stderr",
     "output_type": "stream",
     "text": [
      "Empirical accuracy: 0.9988\n"
     ]
    },
    {
     "name": "stdout",
     "output_type": "stream",
     "text": [
      "Done\n",
      "Loding dataset...\n",
      "Size fo available labeled data: 8732\n",
      "Size of available unlabeled data: 40320\n",
      "Setting models...\n",
      "Initializing fitter...\n"
     ]
    },
    {
     "name": "stderr",
     "output_type": "stream",
     "text": [
      "Computing per arm accuracy\n",
      "Found 0 unsupported arms of the total 2016 arms\n",
      "Done\n",
      "Best, worst, mean accuracy: 1.0000, 0.0000 0.9909\n",
      "Acc quantiles: [0. 1. 1. 1. 1. 1. 1.]\n",
      "Worst arms: [0.   0.05 0.05 0.15 0.25 0.25 0.35 0.4  0.4  0.5  0.5  0.55 0.65 0.7\n",
      " 0.7  0.7  0.7  0.7  0.75 0.75 0.8  0.8  0.8  0.8  0.8  0.8  0.8  0.85\n",
      " 0.85 0.85]\n",
      "Read model from ../data/line_simple_dataset/kernel.pb\n",
      "Temp: tensor([1.1593, 1.8104, 3.1248, 3.2976])\n",
      "Read model from ../data/line_simple_dataset/kernel_no_edge_potential.pb\n",
      "Temp: tensor([1.1516, 1.8080, 3.1086, 3.2529])\n"
     ]
    },
    {
     "name": "stdout",
     "output_type": "stream",
     "text": [
      "Length of available: 40320, samples: 500\n",
      "Num untouched: 1146/2016\n",
      "Std acc: 0.0624\n",
      "Std acc: 0.0624\n",
      "Std acc: 0.0624\n",
      "Brute force predictor perf.: 19.8390 15.8887 14.0549\n",
      "Loading label attribute models...\n"
     ]
    },
    {
     "name": "stderr",
     "output_type": "stream",
     "text": [
      "Empirical accuracy: 0.9988\n"
     ]
    },
    {
     "name": "stdout",
     "output_type": "stream",
     "text": [
      "Done\n",
      "Loding dataset...\n",
      "Size fo available labeled data: 8732\n",
      "Size of available unlabeled data: 40320\n",
      "Setting models...\n",
      "Initializing fitter...\n"
     ]
    },
    {
     "name": "stderr",
     "output_type": "stream",
     "text": [
      "Computing per arm accuracy\n",
      "Found 0 unsupported arms of the total 2016 arms\n",
      "Done\n",
      "Best, worst, mean accuracy: 1.0000, 0.0000 0.9909\n",
      "Acc quantiles: [0. 1. 1. 1. 1. 1. 1.]\n",
      "Worst arms: [0.   0.05 0.05 0.15 0.25 0.25 0.35 0.4  0.4  0.5  0.5  0.55 0.65 0.7\n",
      " 0.7  0.7  0.7  0.7  0.75 0.75 0.8  0.8  0.8  0.8  0.8  0.8  0.8  0.85\n",
      " 0.85 0.85]\n",
      "Read model from ../data/line_simple_dataset/kernel.pb\n",
      "Temp: tensor([1.1593, 1.8104, 3.1248, 3.2976])\n",
      "Read model from ../data/line_simple_dataset/kernel_no_edge_potential.pb\n",
      "Temp: tensor([1.1516, 1.8080, 3.1086, 3.2529])\n"
     ]
    },
    {
     "name": "stdout",
     "output_type": "stream",
     "text": [
      "Length of available: 40320, samples: 2000\n",
      "Num untouched: 44/2016\n",
      "Std acc: 0.0624\n",
      "Std acc: 0.0624\n",
      "Std acc: 0.0624\n",
      "Brute force predictor perf.: 21.0983 17.1017 15.1604\n",
      "Loading label attribute models...\n"
     ]
    },
    {
     "name": "stderr",
     "output_type": "stream",
     "text": [
      "Empirical accuracy: 0.9975\n"
     ]
    },
    {
     "name": "stdout",
     "output_type": "stream",
     "text": [
      "Done\n",
      "Loding dataset...\n",
      "Size fo available labeled data: 8732\n",
      "Size of available unlabeled data: 40320\n",
      "Setting models...\n",
      "Initializing fitter...\n"
     ]
    },
    {
     "name": "stderr",
     "output_type": "stream",
     "text": [
      "Computing per arm accuracy\n",
      "Found 0 unsupported arms of the total 2016 arms\n",
      "Done\n",
      "Best, worst, mean accuracy: 1.0000, 0.0000 0.9909\n",
      "Acc quantiles: [0. 1. 1. 1. 1. 1. 1.]\n",
      "Worst arms: [0.   0.05 0.05 0.15 0.25 0.25 0.35 0.4  0.4  0.5  0.5  0.55 0.65 0.7\n",
      " 0.7  0.7  0.7  0.7  0.75 0.75 0.8  0.8  0.8  0.8  0.8  0.8  0.8  0.85\n",
      " 0.85 0.85]\n",
      "Read model from ../data/line_simple_dataset/kernel.pb\n",
      "Temp: tensor([1.1593, 1.8104, 3.1248, 3.2976])\n",
      "Read model from ../data/line_simple_dataset/kernel_no_edge_potential.pb\n",
      "Temp: tensor([1.1516, 1.8080, 3.1086, 3.2529])\n"
     ]
    },
    {
     "name": "stdout",
     "output_type": "stream",
     "text": [
      "Length of available: 40320, samples: 2000\n",
      "Num untouched: 40/2016\n",
      "Std acc: 0.0624\n",
      "Std acc: 0.0624\n",
      "Std acc: 0.0624\n",
      "Brute force predictor perf.: 21.1646 17.0947 15.1953\n",
      "Loading label attribute models...\n"
     ]
    },
    {
     "name": "stderr",
     "output_type": "stream",
     "text": [
      "Empirical accuracy: 0.9975\n"
     ]
    },
    {
     "name": "stdout",
     "output_type": "stream",
     "text": [
      "Done\n",
      "Loding dataset...\n",
      "Size fo available labeled data: 8732\n",
      "Size of available unlabeled data: 40320\n",
      "Setting models...\n",
      "Initializing fitter...\n"
     ]
    },
    {
     "name": "stderr",
     "output_type": "stream",
     "text": [
      "Computing per arm accuracy\n",
      "Found 0 unsupported arms of the total 2016 arms\n",
      "Done\n",
      "Best, worst, mean accuracy: 1.0000, 0.0000 0.9909\n",
      "Acc quantiles: [0. 1. 1. 1. 1. 1. 1.]\n",
      "Worst arms: [0.   0.05 0.05 0.15 0.25 0.25 0.35 0.4  0.4  0.5  0.5  0.55 0.65 0.7\n",
      " 0.7  0.7  0.7  0.7  0.75 0.75 0.8  0.8  0.8  0.8  0.8  0.8  0.8  0.85\n",
      " 0.85 0.85]\n",
      "Read model from ../data/line_simple_dataset/kernel.pb\n",
      "Temp: tensor([1.1593, 1.8104, 3.1248, 3.2976])\n",
      "Read model from ../data/line_simple_dataset/kernel_no_edge_potential.pb\n",
      "Temp: tensor([1.1516, 1.8080, 3.1086, 3.2529])\n"
     ]
    },
    {
     "name": "stdout",
     "output_type": "stream",
     "text": [
      "Length of available: 40320, samples: 2000\n",
      "Num untouched: 635/2016\n",
      "Std acc: 0.0624\n",
      "Std acc: 0.0624\n",
      "Std acc: 0.0624\n",
      "Brute force predictor perf.: 23.1106 19.3083 17.2577\n",
      "Loading label attribute models...\n"
     ]
    },
    {
     "name": "stderr",
     "output_type": "stream",
     "text": [
      "Empirical accuracy: 0.9975\n"
     ]
    },
    {
     "name": "stdout",
     "output_type": "stream",
     "text": [
      "Done\n",
      "Loding dataset...\n",
      "Size fo available labeled data: 8732\n",
      "Size of available unlabeled data: 40320\n",
      "Setting models...\n",
      "Initializing fitter...\n"
     ]
    },
    {
     "name": "stderr",
     "output_type": "stream",
     "text": [
      "Computing per arm accuracy\n",
      "Found 0 unsupported arms of the total 2016 arms\n",
      "Done\n",
      "Best, worst, mean accuracy: 1.0000, 0.0000 0.9909\n",
      "Acc quantiles: [0. 1. 1. 1. 1. 1. 1.]\n",
      "Worst arms: [0.   0.05 0.05 0.15 0.25 0.25 0.35 0.4  0.4  0.5  0.5  0.55 0.65 0.7\n",
      " 0.7  0.7  0.7  0.7  0.75 0.75 0.8  0.8  0.8  0.8  0.8  0.8  0.8  0.85\n",
      " 0.85 0.85]\n",
      "Read model from ../data/line_simple_dataset/kernel.pb\n",
      "Temp: tensor([1.1593, 1.8104, 3.1248, 3.2976])\n",
      "Read model from ../data/line_simple_dataset/kernel_no_edge_potential.pb\n",
      "Temp: tensor([1.1516, 1.8080, 3.1086, 3.2529])\n"
     ]
    },
    {
     "name": "stdout",
     "output_type": "stream",
     "text": [
      "Length of available: 40320, samples: 5000\n",
      "Num untouched: 5/2016\n",
      "Std acc: 0.0624\n"
     ]
    },
    {
     "name": "stderr",
     "output_type": "stream",
     "text": [
      "Empirical accuracy: 0.9962\n"
     ]
    },
    {
     "name": "stdout",
     "output_type": "stream",
     "text": [
      "Std acc: 0.0624\n",
      "Std acc: 0.0624\n",
      "Brute force predictor perf.: 22.1132 18.3597 15.6639\n",
      "Loading label attribute models...\n",
      "Done\n",
      "Loding dataset...\n",
      "Size fo available labeled data: 8732\n",
      "Size of available unlabeled data: 40320\n",
      "Setting models...\n",
      "Initializing fitter...\n"
     ]
    },
    {
     "name": "stderr",
     "output_type": "stream",
     "text": [
      "Computing per arm accuracy\n",
      "Found 0 unsupported arms of the total 2016 arms\n",
      "Done\n",
      "Best, worst, mean accuracy: 1.0000, 0.0000 0.9909\n",
      "Acc quantiles: [0. 1. 1. 1. 1. 1. 1.]\n",
      "Worst arms: [0.   0.05 0.05 0.15 0.25 0.25 0.35 0.4  0.4  0.5  0.5  0.55 0.65 0.7\n",
      " 0.7  0.7  0.7  0.7  0.75 0.75 0.8  0.8  0.8  0.8  0.8  0.8  0.8  0.85\n",
      " 0.85 0.85]\n",
      "Read model from ../data/line_simple_dataset/kernel.pb\n",
      "Temp: tensor([1.1593, 1.8104, 3.1248, 3.2976])\n",
      "Read model from ../data/line_simple_dataset/kernel_no_edge_potential.pb\n",
      "Temp: tensor([1.1516, 1.8080, 3.1086, 3.2529])\n"
     ]
    },
    {
     "name": "stdout",
     "output_type": "stream",
     "text": [
      "Length of available: 40320, samples: 5000\n",
      "Num untouched: 5/2016\n",
      "Std acc: 0.0624\n"
     ]
    },
    {
     "name": "stderr",
     "output_type": "stream",
     "text": [
      "Empirical accuracy: 0.9962\n"
     ]
    },
    {
     "name": "stdout",
     "output_type": "stream",
     "text": [
      "Std acc: 0.0624\n",
      "Std acc: 0.0624\n",
      "Brute force predictor perf.: 22.1869 18.3033 15.7472\n",
      "Loading label attribute models...\n",
      "Done\n",
      "Loding dataset...\n",
      "Size fo available labeled data: 8732\n",
      "Size of available unlabeled data: 40320\n",
      "Setting models...\n",
      "Initializing fitter...\n"
     ]
    },
    {
     "name": "stderr",
     "output_type": "stream",
     "text": [
      "Computing per arm accuracy\n",
      "Found 0 unsupported arms of the total 2016 arms\n",
      "Done\n",
      "Best, worst, mean accuracy: 1.0000, 0.0000 0.9909\n",
      "Acc quantiles: [0. 1. 1. 1. 1. 1. 1.]\n",
      "Worst arms: [0.   0.05 0.05 0.15 0.25 0.25 0.35 0.4  0.4  0.5  0.5  0.55 0.65 0.7\n",
      " 0.7  0.7  0.7  0.7  0.75 0.75 0.8  0.8  0.8  0.8  0.8  0.8  0.8  0.85\n",
      " 0.85 0.85]\n",
      "Read model from ../data/line_simple_dataset/kernel.pb\n",
      "Temp: tensor([1.1593, 1.8104, 3.1248, 3.2976])\n",
      "Read model from ../data/line_simple_dataset/kernel_no_edge_potential.pb\n",
      "Temp: tensor([1.1516, 1.8080, 3.1086, 3.2529])\n"
     ]
    },
    {
     "name": "stdout",
     "output_type": "stream",
     "text": [
      "Length of available: 40320, samples: 5000\n",
      "Num untouched: 289/2016\n",
      "Std acc: 0.0624\n",
      "Std acc: 0.0624\n",
      "Std acc: 0.0624\n",
      "Brute force predictor perf.: 25.5624 22.0532 19.9162\n",
      "[(0, 19.0389950037249, 14.961798932985374, 13.21894182317911), (500, 19.113002591444854, 15.171279600372646, 13.340549601296411), (2000, 21.098309998545112, 17.10165331695553, 15.16042416168635), (5000, 22.113184999730017, 18.359663846168143, 15.663904033192935)]\n"
     ]
    },
    {
     "name": "stderr",
     "output_type": "stream",
     "text": [
      "Empirical accuracy: 0.9962\n"
     ]
    }
   ],
   "source": [
    "dev = torch.device(\"cpu\")\n",
    "\n",
    "line_simple_data.root_dir = \"../data/line_simple_dataset\"\n",
    "calibrated_perfs, noep_calibrated_perfs, uncalibrated_perfs = [], [], []\n",
    "err_ns = [0.0, 0.05, 0.1]\n",
    "for num_sample in [0, 500, 2000, 5000]:\n",
    "    line_dataset, line_data_fitter = line_simple_data.prepare()\n",
    "    explorer = beta_explorer.BetaExplorer(line_dataset, line_data_fitter, line_data_fitter.cache_dir, dev, \n",
    "                                          explore_strategy='variance', err_ns=err_ns)\n",
    "    err_3, err_5, err_10, _ = explorer.brute_predictor(num_sample, sample_type=\"correctedwep\")\n",
    "    calibrated_perfs.append((num_sample, err_3, err_5, err_10))\n",
    "    \n",
    "    line_dataset, line_data_fitter = line_simple_data.prepare()\n",
    "    explorer = beta_explorer.BetaExplorer(line_dataset, line_data_fitter, line_data_fitter.cache_dir, dev, \n",
    "                                          explore_strategy='variance', err_ns=err_ns)\n",
    "    err_3, err_5, err_10, _ = explorer.brute_predictor(num_sample, sample_type=\"correctednoep\")\n",
    "    noep_calibrated_perfs.append((num_sample, err_3, err_5, err_10))\n",
    "    \n",
    "    line_dataset, line_data_fitter = line_simple_data.prepare()\n",
    "    explorer = beta_explorer.BetaExplorer(line_dataset, line_data_fitter, line_data_fitter.cache_dir, dev, \n",
    "                                          explore_strategy='variance', err_ns=err_ns)\n",
    "    err_3, err_5, err_10, _ = explorer.brute_predictor(num_sample, sample_type=\"raw\")\n",
    "    uncalibrated_perfs.append((num_sample, err_3, err_5, err_10))\n",
    "    \n",
    "print (calibrated_perfs)"
   ]
  },
  {
   "cell_type": "code",
   "execution_count": 16,
   "metadata": {},
   "outputs": [
    {
     "data": {
      "text/plain": [
       "([(0, 19.0389950037249, 14.961798932985374, 13.21894182317911),\n",
       "  (500, 19.113002591444854, 15.171279600372646, 13.340549601296411),\n",
       "  (2000, 21.098309998545112, 17.10165331695553, 15.16042416168635),\n",
       "  (5000, 22.113184999730017, 18.359663846168143, 15.663904033192935)],\n",
       " [(0, 19.0389950037249, 14.961798932985374, 13.21894182317911),\n",
       "  (500, 19.137443241013983, 15.18581712421793, 13.354957034925624),\n",
       "  (2000, 21.164609241414, 17.09470653324493, 15.195256914852372),\n",
       "  (5000, 22.18691669675256, 18.303325645775477, 15.747190044169468)],\n",
       " [(0, 19.0389950037249, 14.961798932985374, 13.21894182317911),\n",
       "  (500, 19.83898673397585, 15.888720461601814, 14.054870972667583),\n",
       "  (2000, 23.11057333626713, 19.308264792163094, 17.257715463647667),\n",
       "  (5000, 25.562400119129162, 22.053194838999925, 19.91619506916117)])"
      ]
     },
     "execution_count": 16,
     "metadata": {},
     "output_type": "execute_result"
    }
   ],
   "source": [
    "calibrated_perfs, noep_calibrated_perfs, uncalibrated_perfs"
   ]
  },
  {
   "cell_type": "code",
   "execution_count": 7,
   "metadata": {},
   "outputs": [
    {
     "name": "stdout",
     "output_type": "stream",
     "text": [
      "Arms shape:  (2016, 4) [0 0 0 0] [11  2  6  7]\n"
     ]
    }
   ],
   "source": [
    "if True:\n",
    "    with open(\"../data/line_simple_dataset/fit:emp_exp:rand_uncalibrated.pkl\", \"wb\") as f:\n",
    "        pickle.dump(uncalibrated_perfs, f)\n",
    "    with open(\"../data/line_simple_dataset/fit:emp_exp:rand_calibrated:noep.pkl\", \"wb\") as f:\n",
    "        pickle.dump(noep_calibrated_perfs, f)\n",
    "    with open(\"../data/line_simple_dataset/fit:emp_exp:rand_calibrated.pkl\", \"wb\") as f:\n",
    "        pickle.dump(calibrated_perfs, f)"
   ]
  },
  {
   "cell_type": "markdown",
   "metadata": {},
   "source": [
    "# Line data with correlations"
   ]
  },
  {
   "cell_type": "code",
   "execution_count": 27,
   "metadata": {
    "scrolled": true
   },
   "outputs": [
    {
     "name": "stdout",
     "output_type": "stream",
     "text": [
      "Arms shape:  (240, 4) [0 0 0 0] [4 2 3 3]\n",
      "Loading label attribute models...\n",
      "Done\n",
      "Loding dataset...\n",
      "Size of available labeled data: 3410\n",
      "Size of available unlabeled data: 4800\n",
      "Setting models...\n",
      "Initializing fitter...\n",
      "Num untouched: 164/240\n",
      "Found 240 for acc sigma: 0.000000\n",
      "Found 3 for acc sigma: 0.300000\n",
      "Found 1 for acc sigma: 0.700000\n",
      "Brute force predictor perf.: 0.0071 0.0065 0.0042\n",
      "Loading label attribute models...\n"
     ]
    },
    {
     "name": "stderr",
     "output_type": "stream",
     "text": [
      "Computing per arm accuracy\n",
      "Found 0 unsupported arms of the total 240 arms\n",
      "Done\n",
      "Best, worst, mean accuracy: 1.0000, 0.0000 0.9873\n",
      "Acc quantiles: [0. 1. 1. 1. 1. 1. 1.]\n",
      "Worst arms: [0.   0.4  0.55 0.75 0.85 0.9  0.9  0.9  0.95 0.95 0.95 0.95 0.95 0.95\n",
      " 1.   1.   1.   1.   1.   1.   1.   1.   1.   1.   1.   1.   1.   1.\n",
      " 1.   1.  ]\n",
      "Read model from ../data/line_simple_dataset_corr_attr_small/kernel.pb\n",
      "Temp: tensor([0.9227, 1.3415, 2.1567, 1.1366])\n",
      "Read model from ../data/line_simple_dataset_corr_attr_small/kernel_no_edge_potential.pb\n",
      "Temp: tensor([0.8807, 1.5282, 1.8778, 0.9780])\n",
      "Empirical accuracy: 1.0000\n"
     ]
    },
    {
     "name": "stdout",
     "output_type": "stream",
     "text": [
      "Done\n",
      "Loding dataset...\n",
      "Size of available labeled data: 3410\n",
      "Size of available unlabeled data: 4800\n",
      "Setting models...\n",
      "Initializing fitter...\n",
      "Num untouched: 169/240\n",
      "Found 240 for acc sigma: 0.000000\n",
      "Found 3 for acc sigma: 0.300000\n",
      "Found 1 for acc sigma: 0.700000\n",
      "Brute force predictor perf.: 0.0071 0.0065 0.0042\n",
      "Loading label attribute models...\n"
     ]
    },
    {
     "name": "stderr",
     "output_type": "stream",
     "text": [
      "Computing per arm accuracy\n",
      "Found 0 unsupported arms of the total 240 arms\n",
      "Done\n",
      "Best, worst, mean accuracy: 1.0000, 0.0000 0.9873\n",
      "Acc quantiles: [0. 1. 1. 1. 1. 1. 1.]\n",
      "Worst arms: [0.   0.4  0.55 0.75 0.85 0.9  0.9  0.9  0.95 0.95 0.95 0.95 0.95 0.95\n",
      " 1.   1.   1.   1.   1.   1.   1.   1.   1.   1.   1.   1.   1.   1.\n",
      " 1.   1.  ]\n",
      "Read model from ../data/line_simple_dataset_corr_attr_small/kernel.pb\n",
      "Temp: tensor([0.9227, 1.3415, 2.1567, 1.1366])\n",
      "Read model from ../data/line_simple_dataset_corr_attr_small/kernel_no_edge_potential.pb\n",
      "Temp: tensor([0.8807, 1.5282, 1.8778, 0.9780])\n",
      "Empirical accuracy: 1.0000\n"
     ]
    },
    {
     "name": "stdout",
     "output_type": "stream",
     "text": [
      "Done\n",
      "Loding dataset...\n",
      "Size of available labeled data: 3410\n",
      "Size of available unlabeled data: 4800\n",
      "Setting models...\n",
      "Initializing fitter...\n",
      "Num untouched: 164/240\n",
      "Found 240 for acc sigma: 0.000000\n",
      "Found 3 for acc sigma: 0.300000\n",
      "Found 1 for acc sigma: 0.700000\n",
      "Brute force predictor perf.: 0.0071 0.0065 0.0042\n",
      "Loading label attribute models...\n"
     ]
    },
    {
     "name": "stderr",
     "output_type": "stream",
     "text": [
      "Computing per arm accuracy\n",
      "Found 0 unsupported arms of the total 240 arms\n",
      "Done\n",
      "Best, worst, mean accuracy: 1.0000, 0.0000 0.9873\n",
      "Acc quantiles: [0. 1. 1. 1. 1. 1. 1.]\n",
      "Worst arms: [0.   0.4  0.55 0.75 0.85 0.9  0.9  0.9  0.95 0.95 0.95 0.95 0.95 0.95\n",
      " 1.   1.   1.   1.   1.   1.   1.   1.   1.   1.   1.   1.   1.   1.\n",
      " 1.   1.  ]\n",
      "Read model from ../data/line_simple_dataset_corr_attr_small/kernel.pb\n",
      "Temp: tensor([0.9227, 1.3415, 2.1567, 1.1366])\n",
      "Read model from ../data/line_simple_dataset_corr_attr_small/kernel_no_edge_potential.pb\n",
      "Temp: tensor([0.8807, 1.5282, 1.8778, 0.9780])\n",
      "Empirical accuracy: 1.0000\n"
     ]
    },
    {
     "name": "stdout",
     "output_type": "stream",
     "text": [
      "Done\n",
      "Loding dataset...\n",
      "Size of available labeled data: 3410\n",
      "Size of available unlabeled data: 4800\n",
      "Setting models...\n",
      "Initializing fitter...\n",
      "Num untouched: 164/240\n",
      "Found 240 for acc sigma: 0.000000\n",
      "Found 3 for acc sigma: 0.300000\n",
      "Found 1 for acc sigma: 0.700000\n",
      "Brute force predictor perf.: 0.0071 0.0065 0.0042\n",
      "Loading label attribute models...\n"
     ]
    },
    {
     "name": "stderr",
     "output_type": "stream",
     "text": [
      "Computing per arm accuracy\n",
      "Found 0 unsupported arms of the total 240 arms\n",
      "Done\n",
      "Best, worst, mean accuracy: 1.0000, 0.0000 0.9873\n",
      "Acc quantiles: [0. 1. 1. 1. 1. 1. 1.]\n",
      "Worst arms: [0.   0.4  0.55 0.75 0.85 0.9  0.9  0.9  0.95 0.95 0.95 0.95 0.95 0.95\n",
      " 1.   1.   1.   1.   1.   1.   1.   1.   1.   1.   1.   1.   1.   1.\n",
      " 1.   1.  ]\n",
      "Read model from ../data/line_simple_dataset_corr_attr_small/kernel.pb\n",
      "Temp: tensor([0.9227, 1.3415, 2.1567, 1.1366])\n",
      "Read model from ../data/line_simple_dataset_corr_attr_small/kernel_no_edge_potential.pb\n",
      "Temp: tensor([0.8807, 1.5282, 1.8778, 0.9780])\n",
      "Empirical accuracy: 1.0000\n"
     ]
    },
    {
     "name": "stdout",
     "output_type": "stream",
     "text": [
      "Done\n",
      "Loding dataset...\n",
      "Size of available labeled data: 3410\n",
      "Size of available unlabeled data: 4800\n",
      "Setting models...\n",
      "Initializing fitter...\n",
      "Num untouched: 169/240\n",
      "Found 240 for acc sigma: 0.000000\n",
      "Found 3 for acc sigma: 0.300000\n",
      "Found 1 for acc sigma: 0.700000\n",
      "Brute force predictor perf.: 0.0071 0.0065 0.0042\n",
      "Loading label attribute models...\n"
     ]
    },
    {
     "name": "stderr",
     "output_type": "stream",
     "text": [
      "Computing per arm accuracy\n",
      "Found 0 unsupported arms of the total 240 arms\n",
      "Done\n",
      "Best, worst, mean accuracy: 1.0000, 0.0000 0.9873\n",
      "Acc quantiles: [0. 1. 1. 1. 1. 1. 1.]\n",
      "Worst arms: [0.   0.4  0.55 0.75 0.85 0.9  0.9  0.9  0.95 0.95 0.95 0.95 0.95 0.95\n",
      " 1.   1.   1.   1.   1.   1.   1.   1.   1.   1.   1.   1.   1.   1.\n",
      " 1.   1.  ]\n",
      "Read model from ../data/line_simple_dataset_corr_attr_small/kernel.pb\n",
      "Temp: tensor([0.9227, 1.3415, 2.1567, 1.1366])\n",
      "Read model from ../data/line_simple_dataset_corr_attr_small/kernel_no_edge_potential.pb\n",
      "Temp: tensor([0.8807, 1.5282, 1.8778, 0.9780])\n",
      "Empirical accuracy: 1.0000\n"
     ]
    },
    {
     "name": "stdout",
     "output_type": "stream",
     "text": [
      "Done\n",
      "Loding dataset...\n",
      "Size of available labeled data: 3410\n",
      "Size of available unlabeled data: 4800\n",
      "Setting models...\n",
      "Initializing fitter...\n",
      "Num untouched: 164/240\n",
      "Found 240 for acc sigma: 0.000000\n",
      "Found 3 for acc sigma: 0.300000\n",
      "Found 1 for acc sigma: 0.700000\n",
      "Brute force predictor perf.: 0.0071 0.0065 0.0042\n",
      "Loading label attribute models...\n"
     ]
    },
    {
     "name": "stderr",
     "output_type": "stream",
     "text": [
      "Computing per arm accuracy\n",
      "Found 0 unsupported arms of the total 240 arms\n",
      "Done\n",
      "Best, worst, mean accuracy: 1.0000, 0.0000 0.9873\n",
      "Acc quantiles: [0. 1. 1. 1. 1. 1. 1.]\n",
      "Worst arms: [0.   0.4  0.55 0.75 0.85 0.9  0.9  0.9  0.95 0.95 0.95 0.95 0.95 0.95\n",
      " 1.   1.   1.   1.   1.   1.   1.   1.   1.   1.   1.   1.   1.   1.\n",
      " 1.   1.  ]\n",
      "Read model from ../data/line_simple_dataset_corr_attr_small/kernel.pb\n",
      "Temp: tensor([0.9227, 1.3415, 2.1567, 1.1366])\n",
      "Read model from ../data/line_simple_dataset_corr_attr_small/kernel_no_edge_potential.pb\n",
      "Temp: tensor([0.8807, 1.5282, 1.8778, 0.9780])\n",
      "Empirical accuracy: 1.0000\n"
     ]
    },
    {
     "name": "stdout",
     "output_type": "stream",
     "text": [
      "Done\n",
      "Loding dataset...\n",
      "Size of available labeled data: 3410\n",
      "Size of available unlabeled data: 4800\n",
      "Setting models...\n",
      "Initializing fitter...\n",
      "Num untouched: 164/240\n",
      "Found 240 for acc sigma: 0.000000\n",
      "Found 3 for acc sigma: 0.300000\n",
      "Found 1 for acc sigma: 0.700000\n",
      "Brute force predictor perf.: 0.0071 0.0065 0.0042\n",
      "Loading label attribute models...\n"
     ]
    },
    {
     "name": "stderr",
     "output_type": "stream",
     "text": [
      "Computing per arm accuracy\n",
      "Found 0 unsupported arms of the total 240 arms\n",
      "Done\n",
      "Best, worst, mean accuracy: 1.0000, 0.0000 0.9873\n",
      "Acc quantiles: [0. 1. 1. 1. 1. 1. 1.]\n",
      "Worst arms: [0.   0.4  0.55 0.75 0.85 0.9  0.9  0.9  0.95 0.95 0.95 0.95 0.95 0.95\n",
      " 1.   1.   1.   1.   1.   1.   1.   1.   1.   1.   1.   1.   1.   1.\n",
      " 1.   1.  ]\n",
      "Read model from ../data/line_simple_dataset_corr_attr_small/kernel.pb\n",
      "Temp: tensor([0.9227, 1.3415, 2.1567, 1.1366])\n",
      "Read model from ../data/line_simple_dataset_corr_attr_small/kernel_no_edge_potential.pb\n",
      "Temp: tensor([0.8807, 1.5282, 1.8778, 0.9780])\n",
      "Empirical accuracy: 1.0000\n"
     ]
    },
    {
     "name": "stdout",
     "output_type": "stream",
     "text": [
      "Done\n",
      "Loding dataset...\n",
      "Size of available labeled data: 3410\n",
      "Size of available unlabeled data: 4800\n",
      "Setting models...\n",
      "Initializing fitter...\n",
      "Num untouched: 169/240\n",
      "Found 240 for acc sigma: 0.000000\n",
      "Found 3 for acc sigma: 0.300000\n",
      "Found 1 for acc sigma: 0.700000\n",
      "Brute force predictor perf.: 0.0071 0.0065 0.0042\n",
      "Loading label attribute models...\n"
     ]
    },
    {
     "name": "stderr",
     "output_type": "stream",
     "text": [
      "Computing per arm accuracy\n",
      "Found 0 unsupported arms of the total 240 arms\n",
      "Done\n",
      "Best, worst, mean accuracy: 1.0000, 0.0000 0.9873\n",
      "Acc quantiles: [0. 1. 1. 1. 1. 1. 1.]\n",
      "Worst arms: [0.   0.4  0.55 0.75 0.85 0.9  0.9  0.9  0.95 0.95 0.95 0.95 0.95 0.95\n",
      " 1.   1.   1.   1.   1.   1.   1.   1.   1.   1.   1.   1.   1.   1.\n",
      " 1.   1.  ]\n",
      "Read model from ../data/line_simple_dataset_corr_attr_small/kernel.pb\n",
      "Temp: tensor([0.9227, 1.3415, 2.1567, 1.1366])\n",
      "Read model from ../data/line_simple_dataset_corr_attr_small/kernel_no_edge_potential.pb\n",
      "Temp: tensor([0.8807, 1.5282, 1.8778, 0.9780])\n",
      "Empirical accuracy: 1.0000\n"
     ]
    },
    {
     "name": "stdout",
     "output_type": "stream",
     "text": [
      "Done\n",
      "Loding dataset...\n",
      "Size of available labeled data: 3410\n",
      "Size of available unlabeled data: 4800\n",
      "Setting models...\n",
      "Initializing fitter...\n",
      "Num untouched: 164/240\n",
      "Found 240 for acc sigma: 0.000000\n",
      "Found 3 for acc sigma: 0.300000\n",
      "Found 1 for acc sigma: 0.700000\n",
      "Brute force predictor perf.: 0.0071 0.0065 0.0042\n",
      "Loading label attribute models...\n"
     ]
    },
    {
     "name": "stderr",
     "output_type": "stream",
     "text": [
      "Computing per arm accuracy\n",
      "Found 0 unsupported arms of the total 240 arms\n",
      "Done\n",
      "Best, worst, mean accuracy: 1.0000, 0.0000 0.9873\n",
      "Acc quantiles: [0. 1. 1. 1. 1. 1. 1.]\n",
      "Worst arms: [0.   0.4  0.55 0.75 0.85 0.9  0.9  0.9  0.95 0.95 0.95 0.95 0.95 0.95\n",
      " 1.   1.   1.   1.   1.   1.   1.   1.   1.   1.   1.   1.   1.   1.\n",
      " 1.   1.  ]\n",
      "Read model from ../data/line_simple_dataset_corr_attr_small/kernel.pb\n",
      "Temp: tensor([0.9227, 1.3415, 2.1567, 1.1366])\n",
      "Read model from ../data/line_simple_dataset_corr_attr_small/kernel_no_edge_potential.pb\n",
      "Temp: tensor([0.8807, 1.5282, 1.8778, 0.9780])\n",
      "Empirical accuracy: 1.0000\n"
     ]
    },
    {
     "name": "stdout",
     "output_type": "stream",
     "text": [
      "Done\n",
      "Loding dataset...\n",
      "Size of available labeled data: 3410\n",
      "Size of available unlabeled data: 4800\n",
      "Setting models...\n",
      "Initializing fitter...\n",
      "Num untouched: 164/240\n",
      "Found 240 for acc sigma: 0.000000\n",
      "Found 3 for acc sigma: 0.300000\n",
      "Found 1 for acc sigma: 0.700000\n",
      "Brute force predictor perf.: 0.0071 0.0065 0.0042\n",
      "Loading label attribute models...\n"
     ]
    },
    {
     "name": "stderr",
     "output_type": "stream",
     "text": [
      "Computing per arm accuracy\n",
      "Found 0 unsupported arms of the total 240 arms\n",
      "Done\n",
      "Best, worst, mean accuracy: 1.0000, 0.0000 0.9873\n",
      "Acc quantiles: [0. 1. 1. 1. 1. 1. 1.]\n",
      "Worst arms: [0.   0.4  0.55 0.75 0.85 0.9  0.9  0.9  0.95 0.95 0.95 0.95 0.95 0.95\n",
      " 1.   1.   1.   1.   1.   1.   1.   1.   1.   1.   1.   1.   1.   1.\n",
      " 1.   1.  ]\n",
      "Read model from ../data/line_simple_dataset_corr_attr_small/kernel.pb\n",
      "Temp: tensor([0.9227, 1.3415, 2.1567, 1.1366])\n",
      "Read model from ../data/line_simple_dataset_corr_attr_small/kernel_no_edge_potential.pb\n",
      "Temp: tensor([0.8807, 1.5282, 1.8778, 0.9780])\n",
      "Empirical accuracy: 1.0000\n"
     ]
    },
    {
     "name": "stdout",
     "output_type": "stream",
     "text": [
      "Done\n",
      "Loding dataset...\n",
      "Size of available labeled data: 3410\n",
      "Size of available unlabeled data: 4800\n",
      "Setting models...\n",
      "Initializing fitter...\n",
      "Num untouched: 169/240\n",
      "Found 240 for acc sigma: 0.000000\n",
      "Found 3 for acc sigma: 0.300000\n",
      "Found 1 for acc sigma: 0.700000\n",
      "Brute force predictor perf.: 0.0071 0.0065 0.0042\n",
      "Loading label attribute models...\n"
     ]
    },
    {
     "name": "stderr",
     "output_type": "stream",
     "text": [
      "Computing per arm accuracy\n",
      "Found 0 unsupported arms of the total 240 arms\n",
      "Done\n",
      "Best, worst, mean accuracy: 1.0000, 0.0000 0.9873\n",
      "Acc quantiles: [0. 1. 1. 1. 1. 1. 1.]\n",
      "Worst arms: [0.   0.4  0.55 0.75 0.85 0.9  0.9  0.9  0.95 0.95 0.95 0.95 0.95 0.95\n",
      " 1.   1.   1.   1.   1.   1.   1.   1.   1.   1.   1.   1.   1.   1.\n",
      " 1.   1.  ]\n",
      "Read model from ../data/line_simple_dataset_corr_attr_small/kernel.pb\n",
      "Temp: tensor([0.9227, 1.3415, 2.1567, 1.1366])\n",
      "Read model from ../data/line_simple_dataset_corr_attr_small/kernel_no_edge_potential.pb\n",
      "Temp: tensor([0.8807, 1.5282, 1.8778, 0.9780])\n",
      "Empirical accuracy: 1.0000\n"
     ]
    },
    {
     "name": "stdout",
     "output_type": "stream",
     "text": [
      "Done\n",
      "Loding dataset...\n",
      "Size of available labeled data: 3410\n",
      "Size of available unlabeled data: 4800\n",
      "Setting models...\n",
      "Initializing fitter...\n",
      "Num untouched: 164/240\n",
      "Found 240 for acc sigma: 0.000000\n",
      "Found 3 for acc sigma: 0.300000\n",
      "Found 1 for acc sigma: 0.700000\n",
      "Brute force predictor perf.: 0.0071 0.0065 0.0042\n",
      "Loading label attribute models...\n"
     ]
    },
    {
     "name": "stderr",
     "output_type": "stream",
     "text": [
      "Computing per arm accuracy\n",
      "Found 0 unsupported arms of the total 240 arms\n",
      "Done\n",
      "Best, worst, mean accuracy: 1.0000, 0.0000 0.9873\n",
      "Acc quantiles: [0. 1. 1. 1. 1. 1. 1.]\n",
      "Worst arms: [0.   0.4  0.55 0.75 0.85 0.9  0.9  0.9  0.95 0.95 0.95 0.95 0.95 0.95\n",
      " 1.   1.   1.   1.   1.   1.   1.   1.   1.   1.   1.   1.   1.   1.\n",
      " 1.   1.  ]\n",
      "Read model from ../data/line_simple_dataset_corr_attr_small/kernel.pb\n",
      "Temp: tensor([0.9227, 1.3415, 2.1567, 1.1366])\n",
      "Read model from ../data/line_simple_dataset_corr_attr_small/kernel_no_edge_potential.pb\n",
      "Temp: tensor([0.8807, 1.5282, 1.8778, 0.9780])\n",
      "Empirical accuracy: 1.0000\n"
     ]
    },
    {
     "name": "stdout",
     "output_type": "stream",
     "text": [
      "Done\n",
      "Loding dataset...\n",
      "Size of available labeled data: 3410\n",
      "Size of available unlabeled data: 4800\n",
      "Setting models...\n",
      "Initializing fitter...\n",
      "Num untouched: 13/240\n",
      "Found 240 for acc sigma: 0.000000\n",
      "Found 2 for acc sigma: 0.300000\n",
      "Found 0 for acc sigma: 0.700000\n",
      "Brute force predictor perf.: 0.0030 0.0018 0.0000\n",
      "Loading label attribute models...\n"
     ]
    },
    {
     "name": "stderr",
     "output_type": "stream",
     "text": [
      "Computing per arm accuracy\n",
      "Found 0 unsupported arms of the total 240 arms\n",
      "Done\n",
      "Best, worst, mean accuracy: 1.0000, 0.0000 0.9873\n",
      "Acc quantiles: [0. 1. 1. 1. 1. 1. 1.]\n",
      "Worst arms: [0.   0.4  0.55 0.75 0.85 0.9  0.9  0.9  0.95 0.95 0.95 0.95 0.95 0.95\n",
      " 1.   1.   1.   1.   1.   1.   1.   1.   1.   1.   1.   1.   1.   1.\n",
      " 1.   1.  ]\n",
      "Read model from ../data/line_simple_dataset_corr_attr_small/kernel.pb\n",
      "Temp: tensor([0.9227, 1.3415, 2.1567, 1.1366])\n",
      "Read model from ../data/line_simple_dataset_corr_attr_small/kernel_no_edge_potential.pb\n",
      "Temp: tensor([0.8807, 1.5282, 1.8778, 0.9780])\n",
      "Empirical accuracy: 0.9940\n"
     ]
    },
    {
     "name": "stdout",
     "output_type": "stream",
     "text": [
      "Done\n",
      "Loding dataset...\n",
      "Size of available labeled data: 3410\n",
      "Size of available unlabeled data: 4800\n",
      "Setting models...\n",
      "Initializing fitter...\n",
      "Num untouched: 18/240\n",
      "Found 240 for acc sigma: 0.000000\n",
      "Found 5 for acc sigma: 0.300000\n",
      "Found 1 for acc sigma: 0.700000\n",
      "Brute force predictor perf.: 0.0055 0.0046 0.0024\n",
      "Loading label attribute models...\n"
     ]
    },
    {
     "name": "stderr",
     "output_type": "stream",
     "text": [
      "Computing per arm accuracy\n",
      "Found 0 unsupported arms of the total 240 arms\n",
      "Done\n",
      "Best, worst, mean accuracy: 1.0000, 0.0000 0.9873\n",
      "Acc quantiles: [0. 1. 1. 1. 1. 1. 1.]\n",
      "Worst arms: [0.   0.4  0.55 0.75 0.85 0.9  0.9  0.9  0.95 0.95 0.95 0.95 0.95 0.95\n",
      " 1.   1.   1.   1.   1.   1.   1.   1.   1.   1.   1.   1.   1.   1.\n",
      " 1.   1.  ]\n",
      "Read model from ../data/line_simple_dataset_corr_attr_small/kernel.pb\n",
      "Temp: tensor([0.9227, 1.3415, 2.1567, 1.1366])\n",
      "Read model from ../data/line_simple_dataset_corr_attr_small/kernel_no_edge_potential.pb\n",
      "Temp: tensor([0.8807, 1.5282, 1.8778, 0.9780])\n",
      "Empirical accuracy: 0.9940\n"
     ]
    },
    {
     "name": "stdout",
     "output_type": "stream",
     "text": [
      "Done\n",
      "Loding dataset...\n",
      "Size of available labeled data: 3410\n",
      "Size of available unlabeled data: 4800\n",
      "Setting models...\n",
      "Initializing fitter...\n",
      "Num untouched: 13/240\n",
      "Found 240 for acc sigma: 0.000000\n",
      "Found 5 for acc sigma: 0.300000\n",
      "Found 1 for acc sigma: 0.700000\n",
      "Brute force predictor perf.: 0.0054 0.0046 0.0024\n",
      "Loading label attribute models...\n"
     ]
    },
    {
     "name": "stderr",
     "output_type": "stream",
     "text": [
      "Computing per arm accuracy\n",
      "Found 0 unsupported arms of the total 240 arms\n",
      "Done\n",
      "Best, worst, mean accuracy: 1.0000, 0.0000 0.9873\n",
      "Acc quantiles: [0. 1. 1. 1. 1. 1. 1.]\n",
      "Worst arms: [0.   0.4  0.55 0.75 0.85 0.9  0.9  0.9  0.95 0.95 0.95 0.95 0.95 0.95\n",
      " 1.   1.   1.   1.   1.   1.   1.   1.   1.   1.   1.   1.   1.   1.\n",
      " 1.   1.  ]\n",
      "Read model from ../data/line_simple_dataset_corr_attr_small/kernel.pb\n",
      "Temp: tensor([0.9227, 1.3415, 2.1567, 1.1366])\n",
      "Read model from ../data/line_simple_dataset_corr_attr_small/kernel_no_edge_potential.pb\n",
      "Temp: tensor([0.8807, 1.5282, 1.8778, 0.9780])\n",
      "Empirical accuracy: 0.9910\n"
     ]
    },
    {
     "name": "stdout",
     "output_type": "stream",
     "text": [
      "Done\n",
      "Loding dataset...\n",
      "Size of available labeled data: 3410\n",
      "Size of available unlabeled data: 4800\n",
      "Setting models...\n",
      "Initializing fitter...\n",
      "Num untouched: 8/240\n",
      "Found 240 for acc sigma: 0.000000\n",
      "Found 2 for acc sigma: 0.300000\n",
      "Found 0 for acc sigma: 0.700000\n",
      "Brute force predictor perf.: 0.0031 0.0016 0.0000\n",
      "Loading label attribute models...\n"
     ]
    },
    {
     "name": "stderr",
     "output_type": "stream",
     "text": [
      "Computing per arm accuracy\n",
      "Found 0 unsupported arms of the total 240 arms\n",
      "Done\n",
      "Best, worst, mean accuracy: 1.0000, 0.0000 0.9873\n",
      "Acc quantiles: [0. 1. 1. 1. 1. 1. 1.]\n",
      "Worst arms: [0.   0.4  0.55 0.75 0.85 0.9  0.9  0.9  0.95 0.95 0.95 0.95 0.95 0.95\n",
      " 1.   1.   1.   1.   1.   1.   1.   1.   1.   1.   1.   1.   1.   1.\n",
      " 1.   1.  ]\n",
      "Read model from ../data/line_simple_dataset_corr_attr_small/kernel.pb\n",
      "Temp: tensor([0.9227, 1.3415, 2.1567, 1.1366])\n",
      "Read model from ../data/line_simple_dataset_corr_attr_small/kernel_no_edge_potential.pb\n",
      "Temp: tensor([0.8807, 1.5282, 1.8778, 0.9780])\n",
      "Empirical accuracy: 0.9940\n"
     ]
    },
    {
     "name": "stdout",
     "output_type": "stream",
     "text": [
      "Done\n",
      "Loding dataset...\n",
      "Size of available labeled data: 3410\n",
      "Size of available unlabeled data: 4800\n",
      "Setting models...\n",
      "Initializing fitter...\n",
      "Num untouched: 13/240\n",
      "Found 240 for acc sigma: 0.000000\n",
      "Found 6 for acc sigma: 0.300000\n",
      "Found 1 for acc sigma: 0.700000\n",
      "Brute force predictor perf.: 0.0055 0.0048 0.0024\n",
      "Loading label attribute models...\n"
     ]
    },
    {
     "name": "stderr",
     "output_type": "stream",
     "text": [
      "Computing per arm accuracy\n",
      "Found 0 unsupported arms of the total 240 arms\n",
      "Done\n",
      "Best, worst, mean accuracy: 1.0000, 0.0000 0.9873\n",
      "Acc quantiles: [0. 1. 1. 1. 1. 1. 1.]\n",
      "Worst arms: [0.   0.4  0.55 0.75 0.85 0.9  0.9  0.9  0.95 0.95 0.95 0.95 0.95 0.95\n",
      " 1.   1.   1.   1.   1.   1.   1.   1.   1.   1.   1.   1.   1.   1.\n",
      " 1.   1.  ]\n",
      "Read model from ../data/line_simple_dataset_corr_attr_small/kernel.pb\n",
      "Temp: tensor([0.9227, 1.3415, 2.1567, 1.1366])\n",
      "Read model from ../data/line_simple_dataset_corr_attr_small/kernel_no_edge_potential.pb\n",
      "Temp: tensor([0.8807, 1.5282, 1.8778, 0.9780])\n",
      "Empirical accuracy: 0.9940\n"
     ]
    },
    {
     "name": "stdout",
     "output_type": "stream",
     "text": [
      "Done\n",
      "Loding dataset...\n",
      "Size of available labeled data: 3410\n",
      "Size of available unlabeled data: 4800\n",
      "Setting models...\n",
      "Initializing fitter...\n",
      "Num untouched: 8/240\n",
      "Found 240 for acc sigma: 0.000000\n",
      "Found 5 for acc sigma: 0.300000\n",
      "Found 1 for acc sigma: 0.700000\n",
      "Brute force predictor perf.: 0.0061 0.0050 0.0025\n",
      "Loading label attribute models...\n"
     ]
    },
    {
     "name": "stderr",
     "output_type": "stream",
     "text": [
      "Computing per arm accuracy\n",
      "Found 0 unsupported arms of the total 240 arms\n",
      "Done\n",
      "Best, worst, mean accuracy: 1.0000, 0.0000 0.9873\n",
      "Acc quantiles: [0. 1. 1. 1. 1. 1. 1.]\n",
      "Worst arms: [0.   0.4  0.55 0.75 0.85 0.9  0.9  0.9  0.95 0.95 0.95 0.95 0.95 0.95\n",
      " 1.   1.   1.   1.   1.   1.   1.   1.   1.   1.   1.   1.   1.   1.\n",
      " 1.   1.  ]\n",
      "Read model from ../data/line_simple_dataset_corr_attr_small/kernel.pb\n",
      "Temp: tensor([0.9227, 1.3415, 2.1567, 1.1366])\n",
      "Read model from ../data/line_simple_dataset_corr_attr_small/kernel_no_edge_potential.pb\n",
      "Temp: tensor([0.8807, 1.5282, 1.8778, 0.9780])\n",
      "Empirical accuracy: 0.9911\n"
     ]
    },
    {
     "name": "stdout",
     "output_type": "stream",
     "text": [
      "Done\n",
      "Loding dataset...\n",
      "Size of available labeled data: 3410\n",
      "Size of available unlabeled data: 4800\n",
      "Setting models...\n",
      "Initializing fitter...\n",
      "Num untouched: 33/240\n",
      "Found 240 for acc sigma: 0.000000\n",
      "Found 5 for acc sigma: 0.300000\n",
      "Found 1 for acc sigma: 0.700000\n",
      "Brute force predictor perf.: 0.0081 0.0074 0.0042\n",
      "Loading label attribute models...\n"
     ]
    },
    {
     "name": "stderr",
     "output_type": "stream",
     "text": [
      "Computing per arm accuracy\n",
      "Found 0 unsupported arms of the total 240 arms\n",
      "Done\n",
      "Best, worst, mean accuracy: 1.0000, 0.0000 0.9873\n",
      "Acc quantiles: [0. 1. 1. 1. 1. 1. 1.]\n",
      "Worst arms: [0.   0.4  0.55 0.75 0.85 0.9  0.9  0.9  0.95 0.95 0.95 0.95 0.95 0.95\n",
      " 1.   1.   1.   1.   1.   1.   1.   1.   1.   1.   1.   1.   1.   1.\n",
      " 1.   1.  ]\n",
      "Read model from ../data/line_simple_dataset_corr_attr_small/kernel.pb\n",
      "Temp: tensor([0.9227, 1.3415, 2.1567, 1.1366])\n",
      "Read model from ../data/line_simple_dataset_corr_attr_small/kernel_no_edge_potential.pb\n",
      "Temp: tensor([0.8807, 1.5282, 1.8778, 0.9780])\n",
      "Empirical accuracy: 0.9940\n"
     ]
    },
    {
     "name": "stdout",
     "output_type": "stream",
     "text": [
      "Done\n",
      "Loding dataset...\n",
      "Size of available labeled data: 3410\n",
      "Size of available unlabeled data: 4800\n",
      "Setting models...\n",
      "Initializing fitter...\n",
      "Num untouched: 41/240\n",
      "Found 240 for acc sigma: 0.000000\n",
      "Found 5 for acc sigma: 0.300000\n",
      "Found 1 for acc sigma: 0.700000\n",
      "Brute force predictor perf.: 0.0088 0.0081 0.0042\n",
      "Loading label attribute models...\n"
     ]
    },
    {
     "name": "stderr",
     "output_type": "stream",
     "text": [
      "Computing per arm accuracy\n",
      "Found 0 unsupported arms of the total 240 arms\n",
      "Done\n",
      "Best, worst, mean accuracy: 1.0000, 0.0000 0.9873\n",
      "Acc quantiles: [0. 1. 1. 1. 1. 1. 1.]\n",
      "Worst arms: [0.   0.4  0.55 0.75 0.85 0.9  0.9  0.9  0.95 0.95 0.95 0.95 0.95 0.95\n",
      " 1.   1.   1.   1.   1.   1.   1.   1.   1.   1.   1.   1.   1.   1.\n",
      " 1.   1.  ]\n",
      "Read model from ../data/line_simple_dataset_corr_attr_small/kernel.pb\n",
      "Temp: tensor([0.9227, 1.3415, 2.1567, 1.1366])\n",
      "Read model from ../data/line_simple_dataset_corr_attr_small/kernel_no_edge_potential.pb\n",
      "Temp: tensor([0.8807, 1.5282, 1.8778, 0.9780])\n",
      "Empirical accuracy: 0.9940\n"
     ]
    },
    {
     "name": "stdout",
     "output_type": "stream",
     "text": [
      "Done\n",
      "Loding dataset...\n",
      "Size of available labeled data: 3410\n",
      "Size of available unlabeled data: 4800\n",
      "Setting models...\n",
      "Initializing fitter...\n",
      "Num untouched: 38/240\n",
      "Found 240 for acc sigma: 0.000000\n",
      "Found 5 for acc sigma: 0.300000\n",
      "Found 1 for acc sigma: 0.700000\n",
      "Brute force predictor perf.: 0.0092 0.0085 0.0042\n",
      "Loading label attribute models...\n"
     ]
    },
    {
     "name": "stderr",
     "output_type": "stream",
     "text": [
      "Computing per arm accuracy\n",
      "Found 0 unsupported arms of the total 240 arms\n",
      "Done\n",
      "Best, worst, mean accuracy: 1.0000, 0.0000 0.9873\n",
      "Acc quantiles: [0. 1. 1. 1. 1. 1. 1.]\n",
      "Worst arms: [0.   0.4  0.55 0.75 0.85 0.9  0.9  0.9  0.95 0.95 0.95 0.95 0.95 0.95\n",
      " 1.   1.   1.   1.   1.   1.   1.   1.   1.   1.   1.   1.   1.   1.\n",
      " 1.   1.  ]\n",
      "Read model from ../data/line_simple_dataset_corr_attr_small/kernel.pb\n",
      "Temp: tensor([0.9227, 1.3415, 2.1567, 1.1366])\n",
      "Read model from ../data/line_simple_dataset_corr_attr_small/kernel_no_edge_potential.pb\n",
      "Temp: tensor([0.8807, 1.5282, 1.8778, 0.9780])\n",
      "Empirical accuracy: 0.9910\n"
     ]
    },
    {
     "name": "stdout",
     "output_type": "stream",
     "text": [
      "Done\n",
      "Loding dataset...\n",
      "Size of available labeled data: 3410\n",
      "Size of available unlabeled data: 4800\n",
      "Setting models...\n",
      "Initializing fitter...\n",
      "Num untouched: 16/240\n",
      "Found 240 for acc sigma: 0.000000\n",
      "Found 1 for acc sigma: 0.300000\n",
      "Found 0 for acc sigma: 0.700000\n",
      "Brute force predictor perf.: 0.0013 0.0004 0.0000\n",
      "Loading label attribute models...\n"
     ]
    },
    {
     "name": "stderr",
     "output_type": "stream",
     "text": [
      "Computing per arm accuracy\n",
      "Found 0 unsupported arms of the total 240 arms\n",
      "Done\n",
      "Best, worst, mean accuracy: 1.0000, 0.0000 0.9873\n",
      "Acc quantiles: [0. 1. 1. 1. 1. 1. 1.]\n",
      "Worst arms: [0.   0.4  0.55 0.75 0.85 0.9  0.9  0.9  0.95 0.95 0.95 0.95 0.95 0.95\n",
      " 1.   1.   1.   1.   1.   1.   1.   1.   1.   1.   1.   1.   1.   1.\n",
      " 1.   1.  ]\n",
      "Read model from ../data/line_simple_dataset_corr_attr_small/kernel.pb\n",
      "Temp: tensor([0.9227, 1.3415, 2.1567, 1.1366])\n",
      "Read model from ../data/line_simple_dataset_corr_attr_small/kernel_no_edge_potential.pb\n",
      "Temp: tensor([0.8807, 1.5282, 1.8778, 0.9780])\n",
      "Empirical accuracy: 0.9940\n"
     ]
    },
    {
     "name": "stdout",
     "output_type": "stream",
     "text": [
      "Done\n",
      "Loding dataset...\n",
      "Size of available labeled data: 3410\n",
      "Size of available unlabeled data: 4800\n",
      "Setting models...\n",
      "Initializing fitter...\n",
      "Num untouched: 22/240\n",
      "Found 240 for acc sigma: 0.000000\n",
      "Found 1 for acc sigma: 0.300000\n",
      "Found 0 for acc sigma: 0.700000\n",
      "Brute force predictor perf.: 0.0007 0.0004 0.0000\n",
      "Loading label attribute models...\n"
     ]
    },
    {
     "name": "stderr",
     "output_type": "stream",
     "text": [
      "Computing per arm accuracy\n",
      "Found 0 unsupported arms of the total 240 arms\n",
      "Done\n",
      "Best, worst, mean accuracy: 1.0000, 0.0000 0.9873\n",
      "Acc quantiles: [0. 1. 1. 1. 1. 1. 1.]\n",
      "Worst arms: [0.   0.4  0.55 0.75 0.85 0.9  0.9  0.9  0.95 0.95 0.95 0.95 0.95 0.95\n",
      " 1.   1.   1.   1.   1.   1.   1.   1.   1.   1.   1.   1.   1.   1.\n",
      " 1.   1.  ]\n",
      "Read model from ../data/line_simple_dataset_corr_attr_small/kernel.pb\n",
      "Temp: tensor([0.9227, 1.3415, 2.1567, 1.1366])\n",
      "Read model from ../data/line_simple_dataset_corr_attr_small/kernel_no_edge_potential.pb\n",
      "Temp: tensor([0.8807, 1.5282, 1.8778, 0.9780])\n",
      "Empirical accuracy: 0.9940\n"
     ]
    },
    {
     "name": "stdout",
     "output_type": "stream",
     "text": [
      "Done\n",
      "Loding dataset...\n",
      "Size of available labeled data: 3410\n",
      "Size of available unlabeled data: 4800\n",
      "Setting models...\n",
      "Initializing fitter...\n",
      "Num untouched: 19/240\n",
      "Found 240 for acc sigma: 0.000000\n",
      "Found 0 for acc sigma: 0.300000\n",
      "Found 0 for acc sigma: 0.700000\n",
      "Brute force predictor perf.: 0.0007 0.0000 0.0000\n",
      "Loading label attribute models...\n"
     ]
    },
    {
     "name": "stderr",
     "output_type": "stream",
     "text": [
      "Computing per arm accuracy\n",
      "Found 0 unsupported arms of the total 240 arms\n",
      "Done\n",
      "Best, worst, mean accuracy: 1.0000, 0.0000 0.9873\n",
      "Acc quantiles: [0. 1. 1. 1. 1. 1. 1.]\n",
      "Worst arms: [0.   0.4  0.55 0.75 0.85 0.9  0.9  0.9  0.95 0.95 0.95 0.95 0.95 0.95\n",
      " 1.   1.   1.   1.   1.   1.   1.   1.   1.   1.   1.   1.   1.   1.\n",
      " 1.   1.  ]\n",
      "Read model from ../data/line_simple_dataset_corr_attr_small/kernel.pb\n",
      "Temp: tensor([0.9227, 1.3415, 2.1567, 1.1366])\n",
      "Read model from ../data/line_simple_dataset_corr_attr_small/kernel_no_edge_potential.pb\n",
      "Temp: tensor([0.8807, 1.5282, 1.8778, 0.9780])\n",
      "Empirical accuracy: 0.9910\n"
     ]
    },
    {
     "name": "stdout",
     "output_type": "stream",
     "text": [
      "Done\n",
      "Loding dataset...\n",
      "Size of available labeled data: 3410\n",
      "Size of available unlabeled data: 4800\n",
      "Setting models...\n",
      "Initializing fitter...\n",
      "Num untouched: 9/240\n",
      "Found 240 for acc sigma: 0.000000\n",
      "Found 2 for acc sigma: 0.300000\n",
      "Found 0 for acc sigma: 0.700000\n",
      "Brute force predictor perf.: 0.0032 0.0020 0.0000\n",
      "Loading label attribute models...\n"
     ]
    },
    {
     "name": "stderr",
     "output_type": "stream",
     "text": [
      "Computing per arm accuracy\n",
      "Found 0 unsupported arms of the total 240 arms\n",
      "Done\n",
      "Best, worst, mean accuracy: 1.0000, 0.0000 0.9873\n",
      "Acc quantiles: [0. 1. 1. 1. 1. 1. 1.]\n",
      "Worst arms: [0.   0.4  0.55 0.75 0.85 0.9  0.9  0.9  0.95 0.95 0.95 0.95 0.95 0.95\n",
      " 1.   1.   1.   1.   1.   1.   1.   1.   1.   1.   1.   1.   1.   1.\n",
      " 1.   1.  ]\n",
      "Read model from ../data/line_simple_dataset_corr_attr_small/kernel.pb\n",
      "Temp: tensor([0.9227, 1.3415, 2.1567, 1.1366])\n",
      "Read model from ../data/line_simple_dataset_corr_attr_small/kernel_no_edge_potential.pb\n",
      "Temp: tensor([0.8807, 1.5282, 1.8778, 0.9780])\n",
      "Empirical accuracy: 0.9907\n"
     ]
    },
    {
     "name": "stdout",
     "output_type": "stream",
     "text": [
      "Done\n",
      "Loding dataset...\n",
      "Size of available labeled data: 3410\n",
      "Size of available unlabeled data: 4800\n",
      "Setting models...\n",
      "Initializing fitter...\n",
      "Num untouched: 8/240\n",
      "Found 240 for acc sigma: 0.000000\n",
      "Found 2 for acc sigma: 0.300000\n",
      "Found 0 for acc sigma: 0.700000\n",
      "Brute force predictor perf.: 0.0043 0.0027 0.0000\n",
      "Loading label attribute models...\n"
     ]
    },
    {
     "name": "stderr",
     "output_type": "stream",
     "text": [
      "Computing per arm accuracy\n",
      "Found 0 unsupported arms of the total 240 arms\n",
      "Done\n",
      "Best, worst, mean accuracy: 1.0000, 0.0000 0.9873\n",
      "Acc quantiles: [0. 1. 1. 1. 1. 1. 1.]\n",
      "Worst arms: [0.   0.4  0.55 0.75 0.85 0.9  0.9  0.9  0.95 0.95 0.95 0.95 0.95 0.95\n",
      " 1.   1.   1.   1.   1.   1.   1.   1.   1.   1.   1.   1.   1.   1.\n",
      " 1.   1.  ]\n",
      "Read model from ../data/line_simple_dataset_corr_attr_small/kernel.pb\n",
      "Temp: tensor([0.9227, 1.3415, 2.1567, 1.1366])\n",
      "Read model from ../data/line_simple_dataset_corr_attr_small/kernel_no_edge_potential.pb\n",
      "Temp: tensor([0.8807, 1.5282, 1.8778, 0.9780])\n",
      "Empirical accuracy: 0.9907\n"
     ]
    },
    {
     "name": "stdout",
     "output_type": "stream",
     "text": [
      "Done\n",
      "Loding dataset...\n",
      "Size of available labeled data: 3410\n",
      "Size of available unlabeled data: 4800\n",
      "Setting models...\n",
      "Initializing fitter...\n",
      "Num untouched: 8/240\n",
      "Found 240 for acc sigma: 0.000000\n",
      "Found 4 for acc sigma: 0.300000\n",
      "Found 1 for acc sigma: 0.700000\n",
      "Brute force predictor perf.: 0.0049 0.0037 0.0022\n",
      "Loading label attribute models...\n"
     ]
    },
    {
     "name": "stderr",
     "output_type": "stream",
     "text": [
      "Computing per arm accuracy\n",
      "Found 0 unsupported arms of the total 240 arms\n",
      "Done\n",
      "Best, worst, mean accuracy: 1.0000, 0.0000 0.9873\n",
      "Acc quantiles: [0. 1. 1. 1. 1. 1. 1.]\n",
      "Worst arms: [0.   0.4  0.55 0.75 0.85 0.9  0.9  0.9  0.95 0.95 0.95 0.95 0.95 0.95\n",
      " 1.   1.   1.   1.   1.   1.   1.   1.   1.   1.   1.   1.   1.   1.\n",
      " 1.   1.  ]\n",
      "Read model from ../data/line_simple_dataset_corr_attr_small/kernel.pb\n",
      "Temp: tensor([0.9227, 1.3415, 2.1567, 1.1366])\n",
      "Read model from ../data/line_simple_dataset_corr_attr_small/kernel_no_edge_potential.pb\n",
      "Temp: tensor([0.8807, 1.5282, 1.8778, 0.9780])\n",
      "Empirical accuracy: 0.9894\n"
     ]
    },
    {
     "name": "stdout",
     "output_type": "stream",
     "text": [
      "Done\n",
      "Loding dataset...\n",
      "Size of available labeled data: 3410\n",
      "Size of available unlabeled data: 4800\n",
      "Setting models...\n",
      "Initializing fitter...\n",
      "Num untouched: 3/240\n",
      "Found 240 for acc sigma: 0.000000\n",
      "Found 3 for acc sigma: 0.300000\n",
      "Found 0 for acc sigma: 0.700000\n",
      "Brute force predictor perf.: 0.0037 0.0024 0.0000\n",
      "Loading label attribute models...\n"
     ]
    },
    {
     "name": "stderr",
     "output_type": "stream",
     "text": [
      "Computing per arm accuracy\n",
      "Found 0 unsupported arms of the total 240 arms\n",
      "Done\n",
      "Best, worst, mean accuracy: 1.0000, 0.0000 0.9873\n",
      "Acc quantiles: [0. 1. 1. 1. 1. 1. 1.]\n",
      "Worst arms: [0.   0.4  0.55 0.75 0.85 0.9  0.9  0.9  0.95 0.95 0.95 0.95 0.95 0.95\n",
      " 1.   1.   1.   1.   1.   1.   1.   1.   1.   1.   1.   1.   1.   1.\n",
      " 1.   1.  ]\n",
      "Read model from ../data/line_simple_dataset_corr_attr_small/kernel.pb\n",
      "Temp: tensor([0.9227, 1.3415, 2.1567, 1.1366])\n",
      "Read model from ../data/line_simple_dataset_corr_attr_small/kernel_no_edge_potential.pb\n",
      "Temp: tensor([0.8807, 1.5282, 1.8778, 0.9780])\n",
      "Empirical accuracy: 0.9907\n"
     ]
    },
    {
     "name": "stdout",
     "output_type": "stream",
     "text": [
      "Done\n",
      "Loding dataset...\n",
      "Size of available labeled data: 3410\n",
      "Size of available unlabeled data: 4800\n",
      "Setting models...\n",
      "Initializing fitter...\n",
      "Num untouched: 3/240\n",
      "Found 240 for acc sigma: 0.000000\n",
      "Found 3 for acc sigma: 0.300000\n",
      "Found 0 for acc sigma: 0.700000\n",
      "Brute force predictor perf.: 0.0040 0.0026 0.0000\n",
      "Loading label attribute models...\n"
     ]
    },
    {
     "name": "stderr",
     "output_type": "stream",
     "text": [
      "Computing per arm accuracy\n",
      "Found 0 unsupported arms of the total 240 arms\n",
      "Done\n",
      "Best, worst, mean accuracy: 1.0000, 0.0000 0.9873\n",
      "Acc quantiles: [0. 1. 1. 1. 1. 1. 1.]\n",
      "Worst arms: [0.   0.4  0.55 0.75 0.85 0.9  0.9  0.9  0.95 0.95 0.95 0.95 0.95 0.95\n",
      " 1.   1.   1.   1.   1.   1.   1.   1.   1.   1.   1.   1.   1.   1.\n",
      " 1.   1.  ]\n",
      "Read model from ../data/line_simple_dataset_corr_attr_small/kernel.pb\n",
      "Temp: tensor([0.9227, 1.3415, 2.1567, 1.1366])\n",
      "Read model from ../data/line_simple_dataset_corr_attr_small/kernel_no_edge_potential.pb\n",
      "Temp: tensor([0.8807, 1.5282, 1.8778, 0.9780])\n",
      "Empirical accuracy: 0.9907\n"
     ]
    },
    {
     "name": "stdout",
     "output_type": "stream",
     "text": [
      "Done\n",
      "Loding dataset...\n",
      "Size of available labeled data: 3410\n",
      "Size of available unlabeled data: 4800\n",
      "Setting models...\n",
      "Initializing fitter...\n",
      "Num untouched: 1/240\n",
      "Found 240 for acc sigma: 0.000000\n",
      "Found 4 for acc sigma: 0.300000\n",
      "Found 1 for acc sigma: 0.700000\n",
      "Brute force predictor perf.: 0.0051 0.0037 0.0021\n",
      "Loading label attribute models...\n"
     ]
    },
    {
     "name": "stderr",
     "output_type": "stream",
     "text": [
      "Computing per arm accuracy\n",
      "Found 0 unsupported arms of the total 240 arms\n",
      "Done\n",
      "Best, worst, mean accuracy: 1.0000, 0.0000 0.9873\n",
      "Acc quantiles: [0. 1. 1. 1. 1. 1. 1.]\n",
      "Worst arms: [0.   0.4  0.55 0.75 0.85 0.9  0.9  0.9  0.95 0.95 0.95 0.95 0.95 0.95\n",
      " 1.   1.   1.   1.   1.   1.   1.   1.   1.   1.   1.   1.   1.   1.\n",
      " 1.   1.  ]\n",
      "Read model from ../data/line_simple_dataset_corr_attr_small/kernel.pb\n",
      "Temp: tensor([0.9227, 1.3415, 2.1567, 1.1366])\n",
      "Read model from ../data/line_simple_dataset_corr_attr_small/kernel_no_edge_potential.pb\n",
      "Temp: tensor([0.8807, 1.5282, 1.8778, 0.9780])\n",
      "Empirical accuracy: 0.9894\n"
     ]
    },
    {
     "name": "stdout",
     "output_type": "stream",
     "text": [
      "Done\n",
      "Loding dataset...\n",
      "Size of available labeled data: 3410\n",
      "Size of available unlabeled data: 4800\n",
      "Setting models...\n",
      "Initializing fitter...\n",
      "Num untouched: 20/240\n",
      "Found 240 for acc sigma: 0.000000\n",
      "Found 5 for acc sigma: 0.300000\n",
      "Found 1 for acc sigma: 0.700000\n",
      "Brute force predictor perf.: 0.0096 0.0089 0.0042\n",
      "Loading label attribute models...\n"
     ]
    },
    {
     "name": "stderr",
     "output_type": "stream",
     "text": [
      "Computing per arm accuracy\n",
      "Found 0 unsupported arms of the total 240 arms\n",
      "Done\n",
      "Best, worst, mean accuracy: 1.0000, 0.0000 0.9873\n",
      "Acc quantiles: [0. 1. 1. 1. 1. 1. 1.]\n",
      "Worst arms: [0.   0.4  0.55 0.75 0.85 0.9  0.9  0.9  0.95 0.95 0.95 0.95 0.95 0.95\n",
      " 1.   1.   1.   1.   1.   1.   1.   1.   1.   1.   1.   1.   1.   1.\n",
      " 1.   1.  ]\n",
      "Read model from ../data/line_simple_dataset_corr_attr_small/kernel.pb\n",
      "Temp: tensor([0.9227, 1.3415, 2.1567, 1.1366])\n",
      "Read model from ../data/line_simple_dataset_corr_attr_small/kernel_no_edge_potential.pb\n",
      "Temp: tensor([0.8807, 1.5282, 1.8778, 0.9780])\n",
      "Empirical accuracy: 0.9907\n"
     ]
    },
    {
     "name": "stdout",
     "output_type": "stream",
     "text": [
      "Done\n",
      "Loding dataset...\n",
      "Size of available labeled data: 3410\n",
      "Size of available unlabeled data: 4800\n",
      "Setting models...\n",
      "Initializing fitter...\n",
      "Num untouched: 23/240\n",
      "Found 240 for acc sigma: 0.000000\n",
      "Found 4 for acc sigma: 0.300000\n",
      "Found 1 for acc sigma: 0.700000\n",
      "Brute force predictor perf.: 0.0084 0.0071 0.0042\n",
      "Loading label attribute models...\n"
     ]
    },
    {
     "name": "stderr",
     "output_type": "stream",
     "text": [
      "Computing per arm accuracy\n",
      "Found 0 unsupported arms of the total 240 arms\n",
      "Done\n",
      "Best, worst, mean accuracy: 1.0000, 0.0000 0.9873\n",
      "Acc quantiles: [0. 1. 1. 1. 1. 1. 1.]\n",
      "Worst arms: [0.   0.4  0.55 0.75 0.85 0.9  0.9  0.9  0.95 0.95 0.95 0.95 0.95 0.95\n",
      " 1.   1.   1.   1.   1.   1.   1.   1.   1.   1.   1.   1.   1.   1.\n",
      " 1.   1.  ]\n",
      "Read model from ../data/line_simple_dataset_corr_attr_small/kernel.pb\n",
      "Temp: tensor([0.9227, 1.3415, 2.1567, 1.1366])\n",
      "Read model from ../data/line_simple_dataset_corr_attr_small/kernel_no_edge_potential.pb\n",
      "Temp: tensor([0.8807, 1.5282, 1.8778, 0.9780])\n",
      "Empirical accuracy: 0.9907\n"
     ]
    },
    {
     "name": "stdout",
     "output_type": "stream",
     "text": [
      "Done\n",
      "Loding dataset...\n",
      "Size of available labeled data: 3410\n",
      "Size of available unlabeled data: 4800\n",
      "Setting models...\n",
      "Initializing fitter...\n",
      "Num untouched: 20/240\n",
      "Found 240 for acc sigma: 0.000000\n",
      "Found 5 for acc sigma: 0.300000\n",
      "Found 1 for acc sigma: 0.700000\n",
      "Brute force predictor perf.: 0.0091 0.0080 0.0042\n",
      "Loading label attribute models...\n"
     ]
    },
    {
     "name": "stderr",
     "output_type": "stream",
     "text": [
      "Computing per arm accuracy\n",
      "Found 0 unsupported arms of the total 240 arms\n",
      "Done\n",
      "Best, worst, mean accuracy: 1.0000, 0.0000 0.9873\n",
      "Acc quantiles: [0. 1. 1. 1. 1. 1. 1.]\n",
      "Worst arms: [0.   0.4  0.55 0.75 0.85 0.9  0.9  0.9  0.95 0.95 0.95 0.95 0.95 0.95\n",
      " 1.   1.   1.   1.   1.   1.   1.   1.   1.   1.   1.   1.   1.   1.\n",
      " 1.   1.  ]\n",
      "Read model from ../data/line_simple_dataset_corr_attr_small/kernel.pb\n",
      "Temp: tensor([0.9227, 1.3415, 2.1567, 1.1366])\n",
      "Read model from ../data/line_simple_dataset_corr_attr_small/kernel_no_edge_potential.pb\n",
      "Temp: tensor([0.8807, 1.5282, 1.8778, 0.9780])\n",
      "Empirical accuracy: 0.9893\n"
     ]
    },
    {
     "name": "stdout",
     "output_type": "stream",
     "text": [
      "Done\n",
      "Loding dataset...\n",
      "Size of available labeled data: 3410\n",
      "Size of available unlabeled data: 4800\n",
      "Setting models...\n",
      "Initializing fitter...\n",
      "Num untouched: 2/240\n",
      "Found 240 for acc sigma: 0.000000\n",
      "Found 0 for acc sigma: 0.300000\n",
      "Found 0 for acc sigma: 0.700000\n",
      "Brute force predictor perf.: 0.0008 0.0000 0.0000\n",
      "Loading label attribute models...\n"
     ]
    },
    {
     "name": "stderr",
     "output_type": "stream",
     "text": [
      "Computing per arm accuracy\n",
      "Found 0 unsupported arms of the total 240 arms\n",
      "Done\n",
      "Best, worst, mean accuracy: 1.0000, 0.0000 0.9873\n",
      "Acc quantiles: [0. 1. 1. 1. 1. 1. 1.]\n",
      "Worst arms: [0.   0.4  0.55 0.75 0.85 0.9  0.9  0.9  0.95 0.95 0.95 0.95 0.95 0.95\n",
      " 1.   1.   1.   1.   1.   1.   1.   1.   1.   1.   1.   1.   1.   1.\n",
      " 1.   1.  ]\n",
      "Read model from ../data/line_simple_dataset_corr_attr_small/kernel.pb\n",
      "Temp: tensor([0.9227, 1.3415, 2.1567, 1.1366])\n",
      "Read model from ../data/line_simple_dataset_corr_attr_small/kernel_no_edge_potential.pb\n",
      "Temp: tensor([0.8807, 1.5282, 1.8778, 0.9780])\n",
      "Empirical accuracy: 0.9907\n"
     ]
    },
    {
     "name": "stdout",
     "output_type": "stream",
     "text": [
      "Done\n",
      "Loding dataset...\n",
      "Size of available labeled data: 3410\n",
      "Size of available unlabeled data: 4800\n",
      "Setting models...\n",
      "Initializing fitter...\n",
      "Num untouched: 5/240\n",
      "Found 240 for acc sigma: 0.000000\n",
      "Found 2 for acc sigma: 0.300000\n",
      "Found 0 for acc sigma: 0.700000\n",
      "Brute force predictor perf.: 0.0014 0.0010 0.0000\n",
      "Loading label attribute models...\n"
     ]
    },
    {
     "name": "stderr",
     "output_type": "stream",
     "text": [
      "Computing per arm accuracy\n",
      "Found 0 unsupported arms of the total 240 arms\n",
      "Done\n",
      "Best, worst, mean accuracy: 1.0000, 0.0000 0.9873\n",
      "Acc quantiles: [0. 1. 1. 1. 1. 1. 1.]\n",
      "Worst arms: [0.   0.4  0.55 0.75 0.85 0.9  0.9  0.9  0.95 0.95 0.95 0.95 0.95 0.95\n",
      " 1.   1.   1.   1.   1.   1.   1.   1.   1.   1.   1.   1.   1.   1.\n",
      " 1.   1.  ]\n",
      "Read model from ../data/line_simple_dataset_corr_attr_small/kernel.pb\n",
      "Temp: tensor([0.9227, 1.3415, 2.1567, 1.1366])\n",
      "Read model from ../data/line_simple_dataset_corr_attr_small/kernel_no_edge_potential.pb\n",
      "Temp: tensor([0.8807, 1.5282, 1.8778, 0.9780])\n",
      "Empirical accuracy: 0.9907\n"
     ]
    },
    {
     "name": "stdout",
     "output_type": "stream",
     "text": [
      "Done\n",
      "Loding dataset...\n",
      "Size of available labeled data: 3410\n",
      "Size of available unlabeled data: 4800\n",
      "Setting models...\n",
      "Initializing fitter...\n",
      "Num untouched: 1/240\n",
      "Found 240 for acc sigma: 0.000000\n",
      "Found 0 for acc sigma: 0.300000\n",
      "Found 0 for acc sigma: 0.700000\n",
      "Brute force predictor perf.: 0.0008 0.0000 0.0000\n",
      "Loading label attribute models...\n"
     ]
    },
    {
     "name": "stderr",
     "output_type": "stream",
     "text": [
      "Computing per arm accuracy\n",
      "Found 0 unsupported arms of the total 240 arms\n",
      "Done\n",
      "Best, worst, mean accuracy: 1.0000, 0.0000 0.9873\n",
      "Acc quantiles: [0. 1. 1. 1. 1. 1. 1.]\n",
      "Worst arms: [0.   0.4  0.55 0.75 0.85 0.9  0.9  0.9  0.95 0.95 0.95 0.95 0.95 0.95\n",
      " 1.   1.   1.   1.   1.   1.   1.   1.   1.   1.   1.   1.   1.   1.\n",
      " 1.   1.  ]\n",
      "Read model from ../data/line_simple_dataset_corr_attr_small/kernel.pb\n",
      "Temp: tensor([0.9227, 1.3415, 2.1567, 1.1366])\n",
      "Read model from ../data/line_simple_dataset_corr_attr_small/kernel_no_edge_potential.pb\n",
      "Temp: tensor([0.8807, 1.5282, 1.8778, 0.9780])\n",
      "Empirical accuracy: 0.9893\n"
     ]
    },
    {
     "name": "stdout",
     "output_type": "stream",
     "text": [
      "Done\n",
      "Loding dataset...\n",
      "Size of available labeled data: 3410\n",
      "Size of available unlabeled data: 4800\n",
      "Setting models...\n",
      "Initializing fitter...\n",
      "Num untouched: 8/240\n",
      "Found 240 for acc sigma: 0.000000\n",
      "Found 4 for acc sigma: 0.300000\n",
      "Found 0 for acc sigma: 0.700000\n",
      "Brute force predictor perf.: 0.0041 0.0031 0.0000\n",
      "Loading label attribute models...\n"
     ]
    },
    {
     "name": "stderr",
     "output_type": "stream",
     "text": [
      "Computing per arm accuracy\n",
      "Found 0 unsupported arms of the total 240 arms\n",
      "Done\n",
      "Best, worst, mean accuracy: 1.0000, 0.0000 0.9873\n",
      "Acc quantiles: [0. 1. 1. 1. 1. 1. 1.]\n",
      "Worst arms: [0.   0.4  0.55 0.75 0.85 0.9  0.9  0.9  0.95 0.95 0.95 0.95 0.95 0.95\n",
      " 1.   1.   1.   1.   1.   1.   1.   1.   1.   1.   1.   1.   1.   1.\n",
      " 1.   1.  ]\n",
      "Read model from ../data/line_simple_dataset_corr_attr_small/kernel.pb\n",
      "Temp: tensor([0.9227, 1.3415, 2.1567, 1.1366])\n",
      "Read model from ../data/line_simple_dataset_corr_attr_small/kernel_no_edge_potential.pb\n",
      "Temp: tensor([0.8807, 1.5282, 1.8778, 0.9780])\n",
      "Empirical accuracy: 0.9895\n"
     ]
    },
    {
     "name": "stdout",
     "output_type": "stream",
     "text": [
      "Done\n",
      "Loding dataset...\n",
      "Size of available labeled data: 3410\n",
      "Size of available unlabeled data: 4800\n",
      "Setting models...\n",
      "Initializing fitter...\n",
      "Num untouched: 6/240\n",
      "Found 240 for acc sigma: 0.000000\n",
      "Found 3 for acc sigma: 0.300000\n",
      "Found 0 for acc sigma: 0.700000\n",
      "Brute force predictor perf.: 0.0042 0.0027 0.0000\n",
      "Loading label attribute models...\n"
     ]
    },
    {
     "name": "stderr",
     "output_type": "stream",
     "text": [
      "Computing per arm accuracy\n",
      "Found 0 unsupported arms of the total 240 arms\n",
      "Done\n",
      "Best, worst, mean accuracy: 1.0000, 0.0000 0.9873\n",
      "Acc quantiles: [0. 1. 1. 1. 1. 1. 1.]\n",
      "Worst arms: [0.   0.4  0.55 0.75 0.85 0.9  0.9  0.9  0.95 0.95 0.95 0.95 0.95 0.95\n",
      " 1.   1.   1.   1.   1.   1.   1.   1.   1.   1.   1.   1.   1.   1.\n",
      " 1.   1.  ]\n",
      "Read model from ../data/line_simple_dataset_corr_attr_small/kernel.pb\n",
      "Temp: tensor([0.9227, 1.3415, 2.1567, 1.1366])\n",
      "Read model from ../data/line_simple_dataset_corr_attr_small/kernel_no_edge_potential.pb\n",
      "Temp: tensor([0.8807, 1.5282, 1.8778, 0.9780])\n",
      "Empirical accuracy: 0.9870\n"
     ]
    },
    {
     "name": "stdout",
     "output_type": "stream",
     "text": [
      "Done\n",
      "Loding dataset...\n",
      "Size of available labeled data: 3410\n",
      "Size of available unlabeled data: 4800\n",
      "Setting models...\n",
      "Initializing fitter...\n",
      "Num untouched: 8/240\n",
      "Found 240 for acc sigma: 0.000000\n",
      "Found 3 for acc sigma: 0.300000\n",
      "Found 1 for acc sigma: 0.700000\n",
      "Brute force predictor perf.: 0.0045 0.0031 0.0022\n",
      "Loading label attribute models...\n"
     ]
    },
    {
     "name": "stderr",
     "output_type": "stream",
     "text": [
      "Computing per arm accuracy\n",
      "Found 0 unsupported arms of the total 240 arms\n",
      "Done\n",
      "Best, worst, mean accuracy: 1.0000, 0.0000 0.9873\n",
      "Acc quantiles: [0. 1. 1. 1. 1. 1. 1.]\n",
      "Worst arms: [0.   0.4  0.55 0.75 0.85 0.9  0.9  0.9  0.95 0.95 0.95 0.95 0.95 0.95\n",
      " 1.   1.   1.   1.   1.   1.   1.   1.   1.   1.   1.   1.   1.   1.\n",
      " 1.   1.  ]\n",
      "Read model from ../data/line_simple_dataset_corr_attr_small/kernel.pb\n",
      "Temp: tensor([0.9227, 1.3415, 2.1567, 1.1366])\n",
      "Read model from ../data/line_simple_dataset_corr_attr_small/kernel_no_edge_potential.pb\n",
      "Temp: tensor([0.8807, 1.5282, 1.8778, 0.9780])\n",
      "Empirical accuracy: 0.9895\n"
     ]
    },
    {
     "name": "stdout",
     "output_type": "stream",
     "text": [
      "Done\n",
      "Loding dataset...\n",
      "Size of available labeled data: 3410\n",
      "Size of available unlabeled data: 4800\n",
      "Setting models...\n",
      "Initializing fitter...\n",
      "Num untouched: 1/240\n",
      "Found 240 for acc sigma: 0.000000\n",
      "Found 5 for acc sigma: 0.300000\n",
      "Found 0 for acc sigma: 0.700000\n",
      "Brute force predictor perf.: 0.0044 0.0036 0.0000\n",
      "Loading label attribute models...\n"
     ]
    },
    {
     "name": "stderr",
     "output_type": "stream",
     "text": [
      "Computing per arm accuracy\n",
      "Found 0 unsupported arms of the total 240 arms\n",
      "Done\n",
      "Best, worst, mean accuracy: 1.0000, 0.0000 0.9873\n",
      "Acc quantiles: [0. 1. 1. 1. 1. 1. 1.]\n",
      "Worst arms: [0.   0.4  0.55 0.75 0.85 0.9  0.9  0.9  0.95 0.95 0.95 0.95 0.95 0.95\n",
      " 1.   1.   1.   1.   1.   1.   1.   1.   1.   1.   1.   1.   1.   1.\n",
      " 1.   1.  ]\n",
      "Read model from ../data/line_simple_dataset_corr_attr_small/kernel.pb\n",
      "Temp: tensor([0.9227, 1.3415, 2.1567, 1.1366])\n",
      "Read model from ../data/line_simple_dataset_corr_attr_small/kernel_no_edge_potential.pb\n",
      "Temp: tensor([0.8807, 1.5282, 1.8778, 0.9780])\n",
      "Empirical accuracy: 0.9896\n"
     ]
    },
    {
     "name": "stdout",
     "output_type": "stream",
     "text": [
      "Done\n",
      "Loding dataset...\n",
      "Size of available labeled data: 3410\n",
      "Size of available unlabeled data: 4800\n",
      "Setting models...\n",
      "Initializing fitter...\n",
      "Num untouched: 1/240\n",
      "Found 240 for acc sigma: 0.000000\n",
      "Found 6 for acc sigma: 0.300000\n",
      "Found 0 for acc sigma: 0.700000\n",
      "Brute force predictor perf.: 0.0048 0.0039 0.0000\n",
      "Loading label attribute models...\n"
     ]
    },
    {
     "name": "stderr",
     "output_type": "stream",
     "text": [
      "Computing per arm accuracy\n",
      "Found 0 unsupported arms of the total 240 arms\n",
      "Done\n",
      "Best, worst, mean accuracy: 1.0000, 0.0000 0.9873\n",
      "Acc quantiles: [0. 1. 1. 1. 1. 1. 1.]\n",
      "Worst arms: [0.   0.4  0.55 0.75 0.85 0.9  0.9  0.9  0.95 0.95 0.95 0.95 0.95 0.95\n",
      " 1.   1.   1.   1.   1.   1.   1.   1.   1.   1.   1.   1.   1.   1.\n",
      " 1.   1.  ]\n",
      "Read model from ../data/line_simple_dataset_corr_attr_small/kernel.pb\n",
      "Temp: tensor([0.9227, 1.3415, 2.1567, 1.1366])\n",
      "Read model from ../data/line_simple_dataset_corr_attr_small/kernel_no_edge_potential.pb\n",
      "Temp: tensor([0.8807, 1.5282, 1.8778, 0.9780])\n",
      "Empirical accuracy: 0.9870\n"
     ]
    },
    {
     "name": "stdout",
     "output_type": "stream",
     "text": [
      "Done\n",
      "Loding dataset...\n",
      "Size of available labeled data: 3410\n",
      "Size of available unlabeled data: 4800\n",
      "Setting models...\n",
      "Initializing fitter...\n",
      "Num untouched: 1/240\n",
      "Found 240 for acc sigma: 0.000000\n",
      "Found 4 for acc sigma: 0.300000\n",
      "Found 0 for acc sigma: 0.700000\n",
      "Brute force predictor perf.: 0.0044 0.0032 0.0000\n",
      "Loading label attribute models...\n"
     ]
    },
    {
     "name": "stderr",
     "output_type": "stream",
     "text": [
      "Computing per arm accuracy\n",
      "Found 0 unsupported arms of the total 240 arms\n",
      "Done\n",
      "Best, worst, mean accuracy: 1.0000, 0.0000 0.9873\n",
      "Acc quantiles: [0. 1. 1. 1. 1. 1. 1.]\n",
      "Worst arms: [0.   0.4  0.55 0.75 0.85 0.9  0.9  0.9  0.95 0.95 0.95 0.95 0.95 0.95\n",
      " 1.   1.   1.   1.   1.   1.   1.   1.   1.   1.   1.   1.   1.   1.\n",
      " 1.   1.  ]\n",
      "Read model from ../data/line_simple_dataset_corr_attr_small/kernel.pb\n",
      "Temp: tensor([0.9227, 1.3415, 2.1567, 1.1366])\n",
      "Read model from ../data/line_simple_dataset_corr_attr_small/kernel_no_edge_potential.pb\n",
      "Temp: tensor([0.8807, 1.5282, 1.8778, 0.9780])\n",
      "Empirical accuracy: 0.9895\n"
     ]
    },
    {
     "name": "stdout",
     "output_type": "stream",
     "text": [
      "Done\n",
      "Loding dataset...\n",
      "Size of available labeled data: 3410\n",
      "Size of available unlabeled data: 4800\n",
      "Setting models...\n",
      "Initializing fitter...\n",
      "Num untouched: 17/240\n",
      "Found 240 for acc sigma: 0.000000\n",
      "Found 5 for acc sigma: 0.300000\n",
      "Found 1 for acc sigma: 0.700000\n",
      "Brute force predictor perf.: 0.0107 0.0101 0.0042\n",
      "Loading label attribute models...\n"
     ]
    },
    {
     "name": "stderr",
     "output_type": "stream",
     "text": [
      "Computing per arm accuracy\n",
      "Found 0 unsupported arms of the total 240 arms\n",
      "Done\n",
      "Best, worst, mean accuracy: 1.0000, 0.0000 0.9873\n",
      "Acc quantiles: [0. 1. 1. 1. 1. 1. 1.]\n",
      "Worst arms: [0.   0.4  0.55 0.75 0.85 0.9  0.9  0.9  0.95 0.95 0.95 0.95 0.95 0.95\n",
      " 1.   1.   1.   1.   1.   1.   1.   1.   1.   1.   1.   1.   1.   1.\n",
      " 1.   1.  ]\n",
      "Read model from ../data/line_simple_dataset_corr_attr_small/kernel.pb\n",
      "Temp: tensor([0.9227, 1.3415, 2.1567, 1.1366])\n",
      "Read model from ../data/line_simple_dataset_corr_attr_small/kernel_no_edge_potential.pb\n",
      "Temp: tensor([0.8807, 1.5282, 1.8778, 0.9780])\n",
      "Empirical accuracy: 0.9895\n"
     ]
    },
    {
     "name": "stdout",
     "output_type": "stream",
     "text": [
      "Done\n",
      "Loding dataset...\n",
      "Size of available labeled data: 3410\n",
      "Size of available unlabeled data: 4800\n",
      "Setting models...\n",
      "Initializing fitter...\n",
      "Num untouched: 20/240\n",
      "Found 240 for acc sigma: 0.000000\n",
      "Found 5 for acc sigma: 0.300000\n",
      "Found 1 for acc sigma: 0.700000\n",
      "Brute force predictor perf.: 0.0088 0.0078 0.0042\n",
      "Loading label attribute models...\n"
     ]
    },
    {
     "name": "stderr",
     "output_type": "stream",
     "text": [
      "Computing per arm accuracy\n",
      "Found 0 unsupported arms of the total 240 arms\n",
      "Done\n",
      "Best, worst, mean accuracy: 1.0000, 0.0000 0.9873\n",
      "Acc quantiles: [0. 1. 1. 1. 1. 1. 1.]\n",
      "Worst arms: [0.   0.4  0.55 0.75 0.85 0.9  0.9  0.9  0.95 0.95 0.95 0.95 0.95 0.95\n",
      " 1.   1.   1.   1.   1.   1.   1.   1.   1.   1.   1.   1.   1.   1.\n",
      " 1.   1.  ]\n",
      "Read model from ../data/line_simple_dataset_corr_attr_small/kernel.pb\n",
      "Temp: tensor([0.9227, 1.3415, 2.1567, 1.1366])\n",
      "Read model from ../data/line_simple_dataset_corr_attr_small/kernel_no_edge_potential.pb\n",
      "Temp: tensor([0.8807, 1.5282, 1.8778, 0.9780])\n",
      "Empirical accuracy: 0.9870\n"
     ]
    },
    {
     "name": "stdout",
     "output_type": "stream",
     "text": [
      "Done\n",
      "Loding dataset...\n",
      "Size of available labeled data: 3410\n",
      "Size of available unlabeled data: 4800\n",
      "Setting models...\n",
      "Initializing fitter...\n",
      "Num untouched: 18/240\n",
      "Found 240 for acc sigma: 0.000000\n",
      "Found 5 for acc sigma: 0.300000\n",
      "Found 1 for acc sigma: 0.700000\n",
      "Brute force predictor perf.: 0.0089 0.0080 0.0042\n",
      "Loading label attribute models...\n"
     ]
    },
    {
     "name": "stderr",
     "output_type": "stream",
     "text": [
      "Computing per arm accuracy\n",
      "Found 0 unsupported arms of the total 240 arms\n",
      "Done\n",
      "Best, worst, mean accuracy: 1.0000, 0.0000 0.9873\n",
      "Acc quantiles: [0. 1. 1. 1. 1. 1. 1.]\n",
      "Worst arms: [0.   0.4  0.55 0.75 0.85 0.9  0.9  0.9  0.95 0.95 0.95 0.95 0.95 0.95\n",
      " 1.   1.   1.   1.   1.   1.   1.   1.   1.   1.   1.   1.   1.   1.\n",
      " 1.   1.  ]\n",
      "Read model from ../data/line_simple_dataset_corr_attr_small/kernel.pb\n",
      "Temp: tensor([0.9227, 1.3415, 2.1567, 1.1366])\n",
      "Read model from ../data/line_simple_dataset_corr_attr_small/kernel_no_edge_potential.pb\n",
      "Temp: tensor([0.8807, 1.5282, 1.8778, 0.9780])\n",
      "Empirical accuracy: 0.9895\n"
     ]
    },
    {
     "name": "stdout",
     "output_type": "stream",
     "text": [
      "Done\n",
      "Loding dataset...\n",
      "Size of available labeled data: 3410\n",
      "Size of available unlabeled data: 4800\n",
      "Setting models...\n",
      "Initializing fitter...\n",
      "Num untouched: 0/240\n",
      "Found 240 for acc sigma: 0.000000\n",
      "Found 0 for acc sigma: 0.300000\n",
      "Found 0 for acc sigma: 0.700000\n",
      "Brute force predictor perf.: 0.0005 0.0000 0.0000\n",
      "Loading label attribute models...\n"
     ]
    },
    {
     "name": "stderr",
     "output_type": "stream",
     "text": [
      "Computing per arm accuracy\n",
      "Found 0 unsupported arms of the total 240 arms\n",
      "Done\n",
      "Best, worst, mean accuracy: 1.0000, 0.0000 0.9873\n",
      "Acc quantiles: [0. 1. 1. 1. 1. 1. 1.]\n",
      "Worst arms: [0.   0.4  0.55 0.75 0.85 0.9  0.9  0.9  0.95 0.95 0.95 0.95 0.95 0.95\n",
      " 1.   1.   1.   1.   1.   1.   1.   1.   1.   1.   1.   1.   1.   1.\n",
      " 1.   1.  ]\n",
      "Read model from ../data/line_simple_dataset_corr_attr_small/kernel.pb\n",
      "Temp: tensor([0.9227, 1.3415, 2.1567, 1.1366])\n",
      "Read model from ../data/line_simple_dataset_corr_attr_small/kernel_no_edge_potential.pb\n",
      "Temp: tensor([0.8807, 1.5282, 1.8778, 0.9780])\n",
      "Empirical accuracy: 0.9895\n"
     ]
    },
    {
     "name": "stdout",
     "output_type": "stream",
     "text": [
      "Done\n",
      "Loding dataset...\n",
      "Size of available labeled data: 3410\n",
      "Size of available unlabeled data: 4800\n",
      "Setting models...\n",
      "Initializing fitter...\n",
      "Num untouched: 2/240\n",
      "Found 240 for acc sigma: 0.000000\n",
      "Found 0 for acc sigma: 0.300000\n",
      "Found 0 for acc sigma: 0.700000\n",
      "Brute force predictor perf.: 0.0005 0.0000 0.0000\n",
      "Loading label attribute models...\n"
     ]
    },
    {
     "name": "stderr",
     "output_type": "stream",
     "text": [
      "Computing per arm accuracy\n",
      "Found 0 unsupported arms of the total 240 arms\n",
      "Done\n",
      "Best, worst, mean accuracy: 1.0000, 0.0000 0.9873\n",
      "Acc quantiles: [0. 1. 1. 1. 1. 1. 1.]\n",
      "Worst arms: [0.   0.4  0.55 0.75 0.85 0.9  0.9  0.9  0.95 0.95 0.95 0.95 0.95 0.95\n",
      " 1.   1.   1.   1.   1.   1.   1.   1.   1.   1.   1.   1.   1.   1.\n",
      " 1.   1.  ]\n",
      "Read model from ../data/line_simple_dataset_corr_attr_small/kernel.pb\n",
      "Temp: tensor([0.9227, 1.3415, 2.1567, 1.1366])\n",
      "Read model from ../data/line_simple_dataset_corr_attr_small/kernel_no_edge_potential.pb\n",
      "Temp: tensor([0.8807, 1.5282, 1.8778, 0.9780])\n",
      "Empirical accuracy: 0.9870\n"
     ]
    },
    {
     "name": "stdout",
     "output_type": "stream",
     "text": [
      "Done\n",
      "Loding dataset...\n",
      "Size of available labeled data: 3410\n",
      "Size of available unlabeled data: 4800\n",
      "Setting models...\n",
      "Initializing fitter...\n",
      "Num untouched: 0/240\n",
      "Found 240 for acc sigma: 0.000000\n",
      "Found 0 for acc sigma: 0.300000\n",
      "Found 0 for acc sigma: 0.700000\n",
      "Brute force predictor perf.: 0.0005 0.0000 0.0000\n",
      "Loading label attribute models...\n"
     ]
    },
    {
     "name": "stderr",
     "output_type": "stream",
     "text": [
      "Computing per arm accuracy\n",
      "Found 0 unsupported arms of the total 240 arms\n",
      "Done\n",
      "Best, worst, mean accuracy: 1.0000, 0.0000 0.9873\n",
      "Acc quantiles: [0. 1. 1. 1. 1. 1. 1.]\n",
      "Worst arms: [0.   0.4  0.55 0.75 0.85 0.9  0.9  0.9  0.95 0.95 0.95 0.95 0.95 0.95\n",
      " 1.   1.   1.   1.   1.   1.   1.   1.   1.   1.   1.   1.   1.   1.\n",
      " 1.   1.  ]\n",
      "Read model from ../data/line_simple_dataset_corr_attr_small/kernel.pb\n",
      "Temp: tensor([0.9227, 1.3415, 2.1567, 1.1366])\n",
      "Read model from ../data/line_simple_dataset_corr_attr_small/kernel_no_edge_potential.pb\n",
      "Temp: tensor([0.8807, 1.5282, 1.8778, 0.9780])\n",
      "Empirical accuracy: 0.9895\n"
     ]
    },
    {
     "name": "stdout",
     "output_type": "stream",
     "text": [
      "Done\n",
      "Loding dataset...\n",
      "Size of available labeled data: 3410\n",
      "Size of available unlabeled data: 4800\n",
      "Setting models...\n",
      "Initializing fitter...\n",
      "Num untouched: 6/240\n",
      "Found 240 for acc sigma: 0.000000\n",
      "Found 3 for acc sigma: 0.300000\n",
      "Found 0 for acc sigma: 0.700000\n",
      "Brute force predictor perf.: 0.0037 0.0023 0.0000\n",
      "Loading label attribute models...\n"
     ]
    },
    {
     "name": "stderr",
     "output_type": "stream",
     "text": [
      "Computing per arm accuracy\n",
      "Found 0 unsupported arms of the total 240 arms\n",
      "Done\n",
      "Best, worst, mean accuracy: 1.0000, 0.0000 0.9873\n",
      "Acc quantiles: [0. 1. 1. 1. 1. 1. 1.]\n",
      "Worst arms: [0.   0.4  0.55 0.75 0.85 0.9  0.9  0.9  0.95 0.95 0.95 0.95 0.95 0.95\n",
      " 1.   1.   1.   1.   1.   1.   1.   1.   1.   1.   1.   1.   1.   1.\n",
      " 1.   1.  ]\n",
      "Read model from ../data/line_simple_dataset_corr_attr_small/kernel.pb\n",
      "Temp: tensor([0.9227, 1.3415, 2.1567, 1.1366])\n",
      "Read model from ../data/line_simple_dataset_corr_attr_small/kernel_no_edge_potential.pb\n",
      "Temp: tensor([0.8807, 1.5282, 1.8778, 0.9780])\n",
      "Empirical accuracy: 0.9892\n"
     ]
    },
    {
     "name": "stdout",
     "output_type": "stream",
     "text": [
      "Done\n",
      "Loding dataset...\n",
      "Size of available labeled data: 3410\n",
      "Size of available unlabeled data: 4800\n",
      "Setting models...\n",
      "Initializing fitter...\n",
      "Num untouched: 6/240\n",
      "Found 240 for acc sigma: 0.000000\n",
      "Found 4 for acc sigma: 0.300000\n",
      "Found 0 for acc sigma: 0.700000\n",
      "Brute force predictor perf.: 0.0041 0.0029 0.0000\n",
      "Loading label attribute models...\n"
     ]
    },
    {
     "name": "stderr",
     "output_type": "stream",
     "text": [
      "Computing per arm accuracy\n",
      "Found 0 unsupported arms of the total 240 arms\n",
      "Done\n",
      "Best, worst, mean accuracy: 1.0000, 0.0000 0.9873\n",
      "Acc quantiles: [0. 1. 1. 1. 1. 1. 1.]\n",
      "Worst arms: [0.   0.4  0.55 0.75 0.85 0.9  0.9  0.9  0.95 0.95 0.95 0.95 0.95 0.95\n",
      " 1.   1.   1.   1.   1.   1.   1.   1.   1.   1.   1.   1.   1.   1.\n",
      " 1.   1.  ]\n",
      "Read model from ../data/line_simple_dataset_corr_attr_small/kernel.pb\n",
      "Temp: tensor([0.9227, 1.3415, 2.1567, 1.1366])\n",
      "Read model from ../data/line_simple_dataset_corr_attr_small/kernel_no_edge_potential.pb\n",
      "Temp: tensor([0.8807, 1.5282, 1.8778, 0.9780])\n",
      "Empirical accuracy: 0.9864\n"
     ]
    },
    {
     "name": "stdout",
     "output_type": "stream",
     "text": [
      "Done\n",
      "Loding dataset...\n",
      "Size of available labeled data: 3410\n",
      "Size of available unlabeled data: 4800\n",
      "Setting models...\n",
      "Initializing fitter...\n",
      "Num untouched: 8/240\n",
      "Found 240 for acc sigma: 0.000000\n",
      "Found 3 for acc sigma: 0.300000\n",
      "Found 1 for acc sigma: 0.700000\n",
      "Brute force predictor perf.: 0.0049 0.0036 0.0025\n",
      "Loading label attribute models...\n"
     ]
    },
    {
     "name": "stderr",
     "output_type": "stream",
     "text": [
      "Computing per arm accuracy\n",
      "Found 0 unsupported arms of the total 240 arms\n",
      "Done\n",
      "Best, worst, mean accuracy: 1.0000, 0.0000 0.9873\n",
      "Acc quantiles: [0. 1. 1. 1. 1. 1. 1.]\n",
      "Worst arms: [0.   0.4  0.55 0.75 0.85 0.9  0.9  0.9  0.95 0.95 0.95 0.95 0.95 0.95\n",
      " 1.   1.   1.   1.   1.   1.   1.   1.   1.   1.   1.   1.   1.   1.\n",
      " 1.   1.  ]\n",
      "Read model from ../data/line_simple_dataset_corr_attr_small/kernel.pb\n",
      "Temp: tensor([0.9227, 1.3415, 2.1567, 1.1366])\n",
      "Read model from ../data/line_simple_dataset_corr_attr_small/kernel_no_edge_potential.pb\n",
      "Temp: tensor([0.8807, 1.5282, 1.8778, 0.9780])\n",
      "Empirical accuracy: 0.9908\n"
     ]
    },
    {
     "name": "stdout",
     "output_type": "stream",
     "text": [
      "Done\n",
      "Loding dataset...\n",
      "Size of available labeled data: 3410\n",
      "Size of available unlabeled data: 4800\n",
      "Setting models...\n",
      "Initializing fitter...\n",
      "Num untouched: 1/240\n",
      "Found 240 for acc sigma: 0.000000\n",
      "Found 4 for acc sigma: 0.300000\n",
      "Found 0 for acc sigma: 0.700000\n",
      "Brute force predictor perf.: 0.0037 0.0024 0.0000\n",
      "Loading label attribute models...\n"
     ]
    },
    {
     "name": "stderr",
     "output_type": "stream",
     "text": [
      "Computing per arm accuracy\n",
      "Found 0 unsupported arms of the total 240 arms\n",
      "Done\n",
      "Best, worst, mean accuracy: 1.0000, 0.0000 0.9873\n",
      "Acc quantiles: [0. 1. 1. 1. 1. 1. 1.]\n",
      "Worst arms: [0.   0.4  0.55 0.75 0.85 0.9  0.9  0.9  0.95 0.95 0.95 0.95 0.95 0.95\n",
      " 1.   1.   1.   1.   1.   1.   1.   1.   1.   1.   1.   1.   1.   1.\n",
      " 1.   1.  ]\n",
      "Read model from ../data/line_simple_dataset_corr_attr_small/kernel.pb\n",
      "Temp: tensor([0.9227, 1.3415, 2.1567, 1.1366])\n",
      "Read model from ../data/line_simple_dataset_corr_attr_small/kernel_no_edge_potential.pb\n",
      "Temp: tensor([0.8807, 1.5282, 1.8778, 0.9780])\n",
      "Empirical accuracy: 0.9893\n"
     ]
    },
    {
     "name": "stdout",
     "output_type": "stream",
     "text": [
      "Done\n",
      "Loding dataset...\n",
      "Size of available labeled data: 3410\n",
      "Size of available unlabeled data: 4800\n",
      "Setting models...\n",
      "Initializing fitter...\n",
      "Num untouched: 1/240\n",
      "Found 240 for acc sigma: 0.000000\n",
      "Found 4 for acc sigma: 0.300000\n",
      "Found 0 for acc sigma: 0.700000\n",
      "Brute force predictor perf.: 0.0043 0.0027 0.0000\n",
      "Loading label attribute models...\n"
     ]
    },
    {
     "name": "stderr",
     "output_type": "stream",
     "text": [
      "Computing per arm accuracy\n",
      "Found 0 unsupported arms of the total 240 arms\n",
      "Done\n",
      "Best, worst, mean accuracy: 1.0000, 0.0000 0.9873\n",
      "Acc quantiles: [0. 1. 1. 1. 1. 1. 1.]\n",
      "Worst arms: [0.   0.4  0.55 0.75 0.85 0.9  0.9  0.9  0.95 0.95 0.95 0.95 0.95 0.95\n",
      " 1.   1.   1.   1.   1.   1.   1.   1.   1.   1.   1.   1.   1.   1.\n",
      " 1.   1.  ]\n",
      "Read model from ../data/line_simple_dataset_corr_attr_small/kernel.pb\n",
      "Temp: tensor([0.9227, 1.3415, 2.1567, 1.1366])\n",
      "Read model from ../data/line_simple_dataset_corr_attr_small/kernel_no_edge_potential.pb\n",
      "Temp: tensor([0.8807, 1.5282, 1.8778, 0.9780])\n",
      "Empirical accuracy: 0.9864\n"
     ]
    },
    {
     "name": "stdout",
     "output_type": "stream",
     "text": [
      "Done\n",
      "Loding dataset...\n",
      "Size of available labeled data: 3410\n",
      "Size of available unlabeled data: 4800\n",
      "Setting models...\n",
      "Initializing fitter...\n",
      "Num untouched: 1/240\n",
      "Found 240 for acc sigma: 0.000000\n",
      "Found 2 for acc sigma: 0.300000\n",
      "Found 1 for acc sigma: 0.700000\n",
      "Brute force predictor perf.: 0.0045 0.0028 0.0022\n",
      "Loading label attribute models...\n"
     ]
    },
    {
     "name": "stderr",
     "output_type": "stream",
     "text": [
      "Computing per arm accuracy\n",
      "Found 0 unsupported arms of the total 240 arms\n",
      "Done\n",
      "Best, worst, mean accuracy: 1.0000, 0.0000 0.9873\n",
      "Acc quantiles: [0. 1. 1. 1. 1. 1. 1.]\n",
      "Worst arms: [0.   0.4  0.55 0.75 0.85 0.9  0.9  0.9  0.95 0.95 0.95 0.95 0.95 0.95\n",
      " 1.   1.   1.   1.   1.   1.   1.   1.   1.   1.   1.   1.   1.   1.\n",
      " 1.   1.  ]\n",
      "Read model from ../data/line_simple_dataset_corr_attr_small/kernel.pb\n",
      "Temp: tensor([0.9227, 1.3415, 2.1567, 1.1366])\n",
      "Read model from ../data/line_simple_dataset_corr_attr_small/kernel_no_edge_potential.pb\n",
      "Temp: tensor([0.8807, 1.5282, 1.8778, 0.9780])\n",
      "Empirical accuracy: 0.9908\n"
     ]
    },
    {
     "name": "stdout",
     "output_type": "stream",
     "text": [
      "Done\n",
      "Loding dataset...\n",
      "Size of available labeled data: 3410\n",
      "Size of available unlabeled data: 4800\n",
      "Setting models...\n",
      "Initializing fitter...\n",
      "Num untouched: 16/240\n",
      "Found 240 for acc sigma: 0.000000\n",
      "Found 5 for acc sigma: 0.300000\n",
      "Found 1 for acc sigma: 0.700000\n",
      "Brute force predictor perf.: 0.0094 0.0086 0.0042\n",
      "Loading label attribute models...\n"
     ]
    },
    {
     "name": "stderr",
     "output_type": "stream",
     "text": [
      "Computing per arm accuracy\n",
      "Found 0 unsupported arms of the total 240 arms\n",
      "Done\n",
      "Best, worst, mean accuracy: 1.0000, 0.0000 0.9873\n",
      "Acc quantiles: [0. 1. 1. 1. 1. 1. 1.]\n",
      "Worst arms: [0.   0.4  0.55 0.75 0.85 0.9  0.9  0.9  0.95 0.95 0.95 0.95 0.95 0.95\n",
      " 1.   1.   1.   1.   1.   1.   1.   1.   1.   1.   1.   1.   1.   1.\n",
      " 1.   1.  ]\n",
      "Read model from ../data/line_simple_dataset_corr_attr_small/kernel.pb\n",
      "Temp: tensor([0.9227, 1.3415, 2.1567, 1.1366])\n",
      "Read model from ../data/line_simple_dataset_corr_attr_small/kernel_no_edge_potential.pb\n",
      "Temp: tensor([0.8807, 1.5282, 1.8778, 0.9780])\n",
      "Empirical accuracy: 0.9892\n"
     ]
    },
    {
     "name": "stdout",
     "output_type": "stream",
     "text": [
      "Done\n",
      "Loding dataset...\n",
      "Size of available labeled data: 3410\n",
      "Size of available unlabeled data: 4800\n",
      "Setting models...\n",
      "Initializing fitter...\n",
      "Num untouched: 19/240\n",
      "Found 240 for acc sigma: 0.000000\n",
      "Found 5 for acc sigma: 0.300000\n",
      "Found 1 for acc sigma: 0.700000\n",
      "Brute force predictor perf.: 0.0090 0.0080 0.0042\n",
      "Loading label attribute models...\n"
     ]
    },
    {
     "name": "stderr",
     "output_type": "stream",
     "text": [
      "Computing per arm accuracy\n",
      "Found 0 unsupported arms of the total 240 arms\n",
      "Done\n",
      "Best, worst, mean accuracy: 1.0000, 0.0000 0.9873\n",
      "Acc quantiles: [0. 1. 1. 1. 1. 1. 1.]\n",
      "Worst arms: [0.   0.4  0.55 0.75 0.85 0.9  0.9  0.9  0.95 0.95 0.95 0.95 0.95 0.95\n",
      " 1.   1.   1.   1.   1.   1.   1.   1.   1.   1.   1.   1.   1.   1.\n",
      " 1.   1.  ]\n",
      "Read model from ../data/line_simple_dataset_corr_attr_small/kernel.pb\n",
      "Temp: tensor([0.9227, 1.3415, 2.1567, 1.1366])\n",
      "Read model from ../data/line_simple_dataset_corr_attr_small/kernel_no_edge_potential.pb\n",
      "Temp: tensor([0.8807, 1.5282, 1.8778, 0.9780])\n",
      "Empirical accuracy: 0.9864\n"
     ]
    },
    {
     "name": "stdout",
     "output_type": "stream",
     "text": [
      "Done\n",
      "Loding dataset...\n",
      "Size of available labeled data: 3410\n",
      "Size of available unlabeled data: 4800\n",
      "Setting models...\n",
      "Initializing fitter...\n",
      "Num untouched: 18/240\n",
      "Found 240 for acc sigma: 0.000000\n",
      "Found 5 for acc sigma: 0.300000\n",
      "Found 1 for acc sigma: 0.700000\n",
      "Brute force predictor perf.: 0.0086 0.0077 0.0042\n",
      "Loading label attribute models...\n"
     ]
    },
    {
     "name": "stderr",
     "output_type": "stream",
     "text": [
      "Computing per arm accuracy\n",
      "Found 0 unsupported arms of the total 240 arms\n",
      "Done\n",
      "Best, worst, mean accuracy: 1.0000, 0.0000 0.9873\n",
      "Acc quantiles: [0. 1. 1. 1. 1. 1. 1.]\n",
      "Worst arms: [0.   0.4  0.55 0.75 0.85 0.9  0.9  0.9  0.95 0.95 0.95 0.95 0.95 0.95\n",
      " 1.   1.   1.   1.   1.   1.   1.   1.   1.   1.   1.   1.   1.   1.\n",
      " 1.   1.  ]\n",
      "Read model from ../data/line_simple_dataset_corr_attr_small/kernel.pb\n",
      "Temp: tensor([0.9227, 1.3415, 2.1567, 1.1366])\n",
      "Read model from ../data/line_simple_dataset_corr_attr_small/kernel_no_edge_potential.pb\n",
      "Temp: tensor([0.8807, 1.5282, 1.8778, 0.9780])\n",
      "Empirical accuracy: 0.9908\n"
     ]
    },
    {
     "name": "stdout",
     "output_type": "stream",
     "text": [
      "Done\n",
      "Loding dataset...\n",
      "Size of available labeled data: 3410\n",
      "Size of available unlabeled data: 4800\n",
      "Setting models...\n",
      "Initializing fitter...\n",
      "Num untouched: 0/240\n",
      "Found 240 for acc sigma: 0.000000\n",
      "Found 0 for acc sigma: 0.300000\n",
      "Found 0 for acc sigma: 0.700000\n",
      "Brute force predictor perf.: 0.0003 0.0000 0.0000\n",
      "Loading label attribute models...\n"
     ]
    },
    {
     "name": "stderr",
     "output_type": "stream",
     "text": [
      "Computing per arm accuracy\n",
      "Found 0 unsupported arms of the total 240 arms\n",
      "Done\n",
      "Best, worst, mean accuracy: 1.0000, 0.0000 0.9873\n",
      "Acc quantiles: [0. 1. 1. 1. 1. 1. 1.]\n",
      "Worst arms: [0.   0.4  0.55 0.75 0.85 0.9  0.9  0.9  0.95 0.95 0.95 0.95 0.95 0.95\n",
      " 1.   1.   1.   1.   1.   1.   1.   1.   1.   1.   1.   1.   1.   1.\n",
      " 1.   1.  ]\n",
      "Read model from ../data/line_simple_dataset_corr_attr_small/kernel.pb\n",
      "Temp: tensor([0.9227, 1.3415, 2.1567, 1.1366])\n",
      "Read model from ../data/line_simple_dataset_corr_attr_small/kernel_no_edge_potential.pb\n",
      "Temp: tensor([0.8807, 1.5282, 1.8778, 0.9780])\n",
      "Empirical accuracy: 0.9892\n"
     ]
    },
    {
     "name": "stdout",
     "output_type": "stream",
     "text": [
      "Done\n",
      "Loding dataset...\n",
      "Size of available labeled data: 3410\n",
      "Size of available unlabeled data: 4800\n",
      "Setting models...\n",
      "Initializing fitter...\n",
      "Num untouched: 0/240\n",
      "Found 240 for acc sigma: 0.000000\n",
      "Found 0 for acc sigma: 0.300000\n",
      "Found 0 for acc sigma: 0.700000\n",
      "Brute force predictor perf.: 0.0003 0.0000 0.0000\n",
      "Loading label attribute models...\n"
     ]
    },
    {
     "name": "stderr",
     "output_type": "stream",
     "text": [
      "Computing per arm accuracy\n",
      "Found 0 unsupported arms of the total 240 arms\n",
      "Done\n",
      "Best, worst, mean accuracy: 1.0000, 0.0000 0.9873\n",
      "Acc quantiles: [0. 1. 1. 1. 1. 1. 1.]\n",
      "Worst arms: [0.   0.4  0.55 0.75 0.85 0.9  0.9  0.9  0.95 0.95 0.95 0.95 0.95 0.95\n",
      " 1.   1.   1.   1.   1.   1.   1.   1.   1.   1.   1.   1.   1.   1.\n",
      " 1.   1.  ]\n",
      "Read model from ../data/line_simple_dataset_corr_attr_small/kernel.pb\n",
      "Temp: tensor([0.9227, 1.3415, 2.1567, 1.1366])\n",
      "Read model from ../data/line_simple_dataset_corr_attr_small/kernel_no_edge_potential.pb\n",
      "Temp: tensor([0.8807, 1.5282, 1.8778, 0.9780])\n",
      "Empirical accuracy: 0.9864\n"
     ]
    },
    {
     "name": "stdout",
     "output_type": "stream",
     "text": [
      "Done\n",
      "Loding dataset...\n",
      "Size of available labeled data: 3410\n",
      "Size of available unlabeled data: 4800\n",
      "Setting models...\n",
      "Initializing fitter...\n",
      "Num untouched: 0/240\n",
      "Found 240 for acc sigma: 0.000000\n",
      "Found 0 for acc sigma: 0.300000\n",
      "Found 0 for acc sigma: 0.700000\n",
      "Brute force predictor perf.: 0.0005 0.0000 0.0000\n",
      "[(0, 0.007052083333333333, 0.006510416666666667, 0.004166666666666667), (500, 0.004630840433211999, 0.003671770664926778, 0.0015840793113225781), (1000, 0.0041411611427312174, 0.0028122126675473387, 0.0007465843589082024), (1500, 0.004261078979102241, 0.002978539078354761, 0.000731150506269537), (2000, 0.004224423052405775, 0.0029306102733636075, 0.000828063630203622)]\n"
     ]
    },
    {
     "name": "stderr",
     "output_type": "stream",
     "text": [
      "Computing per arm accuracy\n",
      "Found 0 unsupported arms of the total 240 arms\n",
      "Done\n",
      "Best, worst, mean accuracy: 1.0000, 0.0000 0.9873\n",
      "Acc quantiles: [0. 1. 1. 1. 1. 1. 1.]\n",
      "Worst arms: [0.   0.4  0.55 0.75 0.85 0.9  0.9  0.9  0.95 0.95 0.95 0.95 0.95 0.95\n",
      " 1.   1.   1.   1.   1.   1.   1.   1.   1.   1.   1.   1.   1.   1.\n",
      " 1.   1.  ]\n",
      "Read model from ../data/line_simple_dataset_corr_attr_small/kernel.pb\n",
      "Temp: tensor([0.9227, 1.3415, 2.1567, 1.1366])\n",
      "Read model from ../data/line_simple_dataset_corr_attr_small/kernel_no_edge_potential.pb\n",
      "Temp: tensor([0.8807, 1.5282, 1.8778, 0.9780])\n",
      "Empirical accuracy: 0.9908\n"
     ]
    }
   ],
   "source": [
    "import line_simple_data_corr_attrs_small\n",
    "dev = torch.device(\"cpu\")\n",
    "\n",
    "line_simple_data_corr_attrs_small.root_dir = \"../data/line_simple_dataset_corr_attr_small\"\n",
    "calibrated_perfs, noep_calibrated_perfs, uncalibrated_perfs, gt_perfs = [], [], [], []\n",
    "err_ns = [0., 0.3, 0.7]\n",
    "sts = [\"correctedwep\", \"correctednoep\", \"raw\", \"gt\"]\n",
    "\n",
    "def perf(num_sample, sample_type):\n",
    "    err1s, err2s, err3s = [], [], []\n",
    "    for seed in range(3):\n",
    "        dataset, data_fitter = line_simple_data_corr_attrs_small.prepare(seed)\n",
    "        explorer = beta_explorer.BetaExplorer(dataset, data_fitter, data_fitter.cache_dir, dev, \n",
    "                                              explore_strategy='variance', err_ns=err_ns)\n",
    "        err_1, err_2, err_3, all_err = explorer.brute_predictor(num_sample, sample_type=sample_type)\n",
    "        err1s.append(err_1)\n",
    "        err2s.append(err_2)\n",
    "        err3s.append(err_3)\n",
    "    return np.mean(err1s), np.mean(err2s), np.mean(err3s)\n",
    "\n",
    "for num_sample in [0, 500, 1000, 1500, 2000]:\n",
    "    for sti, st in enumerate(sts):\n",
    "        err_1, err_2, err_3 = perf(num_sample, st)\n",
    "        if sti == 0:        \n",
    "            calibrated_perfs.append((num_sample, err_1, err_2, err_3))\n",
    "        elif sti == 1:\n",
    "            noep_calibrated_perfs.append((num_sample, err_1, err_2, err_3))\n",
    "        elif sti == 2:\n",
    "            uncalibrated_perfs.append((num_sample, err_1, err_2, err_3))   \n",
    "        elif sti == 3:\n",
    "            gt_perfs.append((num_sample, err_1, err_2, err_3))   \n",
    "\n",
    "write([(calibrated_perfs, \"cal:full\"), (noep_calibrated_perfs, \"cal:temp\"), \n",
    "       (uncalibrated_perfs, \"cal:raw\"), (gt_perfs, \"cal:gold\")], \"line_simple_dataset_corr_attr_small\")\n",
    "print (calibrated_perfs)"
   ]
  },
  {
   "cell_type": "code",
   "execution_count": 9,
   "metadata": {},
   "outputs": [
    {
     "name": "stdout",
     "output_type": "stream",
     "text": [
      "[(0, 0.012793915821476813, 0.011872563333915988, 0.0110753315186497), (500, 0.0141778330335707, 0.013018968343787699, 0.0108935797984945), (1000, 0.013740016052919737, 0.01261352842692956, 0.00937707488004415), (1500, 0.013203612950715432, 0.011931061725118638, 0.00796886707387606), (2000, 0.012238953401103876, 0.010852808649096721, 0.005758463830928009), (3000, 0.010420385374782183, 0.008924978671850787, 0.004481158780780121), (4000, 0.009392451758918906, 0.007870856752573154, 0.002734768127075756), (5000, 0.00845864145498471, 0.006934268170063019, 0.0027589355721318863)]\n"
     ]
    }
   ],
   "source": [
    "print (calibrated_perfs)"
   ]
  },
  {
   "cell_type": "code",
   "execution_count": 28,
   "metadata": {},
   "outputs": [
    {
     "data": {
      "text/plain": [
       "([(0, 0.007052083333333333, 0.006510416666666667, 0.004166666666666667),\n",
       "  (500, 0.004630840433211999, 0.003671770664926778, 0.0015840793113225781),\n",
       "  (1000, 0.0041411611427312174, 0.0028122126675473387, 0.0007465843589082024),\n",
       "  (1500, 0.004261078979102241, 0.002978539078354761, 0.000731150506269537),\n",
       "  (2000, 0.004224423052405775, 0.0029306102733636075, 0.000828063630203622)],\n",
       " [(0, 0.007052083333333333, 0.006510416666666667, 0.004166666666666667),\n",
       "  (500, 0.004909552516371125, 0.0038112337607335814, 0.001630373970222423),\n",
       "  (1000, 0.0042441164040613695, 0.0028835395257242897, 0.0007025790135893418),\n",
       "  (1500, 0.004528588222864174, 0.003558209608375943, 0.0),\n",
       "  (2000, 0.004176206008809064, 0.002623206189384164, 0.000740934143937581)],\n",
       " [(0, 0.007052083333333333, 0.006510416666666667, 0.004166666666666667),\n",
       "  (500, 0.008743983071907817, 0.008004641057660584, 0.004166666666666667),\n",
       "  (1000, 0.00901222305665778, 0.00797641728367192, 0.004166666666666667),\n",
       "  (1500, 0.00949385574342304, 0.008634213559361904, 0.004166666666666667),\n",
       "  (2000, 0.009004907933484225, 0.00808902064632428, 0.004166666666666667)],\n",
       " [(0, 0.007052083333333333, 0.006510416666666667, 0.004166666666666667),\n",
       "  (500, 0.0009273937021171733, 0.00026538108356290174, 0.0),\n",
       "  (1000, 0.0009993812747665241, 0.00033135479137188644, 0.0),\n",
       "  (1500, 0.0005026463406012486, 0.0, 0.0),\n",
       "  (2000, 0.0003493409600981816, 0.0, 0.0)])"
      ]
     },
     "execution_count": 28,
     "metadata": {},
     "output_type": "execute_result"
    }
   ],
   "source": [
    "calibrated_perfs, noep_calibrated_perfs, uncalibrated_perfs, gt_perfs"
   ]
  },
  {
   "cell_type": "code",
   "execution_count": 29,
   "metadata": {},
   "outputs": [
    {
     "data": {
      "image/png": "[encoded data removed]",
      "text/plain": [
       "<Figure size 432x288 with 1 Axes>"
      ]
     },
     "metadata": {
      "needs_background": "light"
     },
     "output_type": "display_data"
    }
   ],
   "source": [
    "plot(\"line_simple_dataset_corr_attr_small\", \"Line\", \"../plots/line_calibration.png\")"
   ]
  },
  {
   "cell_type": "markdown",
   "metadata": {},
   "source": [
    "# UTK Dataset"
   ]
  },
  {
   "cell_type": "code",
   "execution_count": 16,
   "metadata": {
    "scrolled": true
   },
   "outputs": [
    {
     "name": "stdout",
     "output_type": "stream",
     "text": [
      "Loding dataset...\n",
      "Found 2/9780 unexpected file names\n",
      "Setting models...\n",
      "Initializing fitter...\n"
     ]
    },
    {
     "name": "stderr",
     "output_type": "stream",
     "text": [
      "Computing per arm accuracy\n",
      "Found 19 unsupported arms of the total 120 arms\n",
      "Done\n",
      "Best, worst, mean accuracy: 1.0000, 0.0000 0.6335\n",
      "Acc quantiles: [0.         0.14285714 0.40740741 0.67919075 0.95454545 1.\n",
      " 1.        ]\n",
      "Worst arms: [0.         0.         0.         0.         0.         0.\n",
      " 0.         0.04545455 0.1        0.125      0.14285714 0.16\n",
      " 0.16666667 0.18454936 0.19298246 0.2        0.23076923 0.23076923\n",
      " 0.25       0.25       0.25       0.26328502 0.28571429 0.29090909\n",
      " 0.33333333 0.33742331 0.35       0.36082474 0.36170213 0.38461538]\n",
      "Read model from ../data/utkface/kernel.pb\n",
      "Temp: tensor([0.2034, 0.6030, 0.5915])\n",
      "Read model from ../data/utkface/kernel_no_edge_potential.pb\n",
      "Temp: tensor([0.2034, 0.3506, 0.4091])\n",
      "Empirical accuracy: 0.8000\n"
     ]
    },
    {
     "name": "stdout",
     "output_type": "stream",
     "text": [
      "Length of available: 9773, samples: 0\n",
      "Found 101 for acc sigma: 0.000000 0.633517 0.633517\n",
      "Found 90 for acc sigma: 0.100000 0.533517 0.733517\n",
      "Found 79 for acc sigma: 0.200000 0.433517 0.833517\n",
      "Brute force predictor perf.: 0.3212 0.3325 0.3423\n",
      "Loding dataset...\n",
      "Found 2/9780 unexpected file names\n",
      "Setting models...\n",
      "Initializing fitter...\n",
      "Length of available: 9773, samples: 500\n",
      "Found 101 for acc sigma: 0.000000 0.633517 0.633517\n",
      "Found 90 for acc sigma: 0.100000 0.533517 0.733517\n",
      "Found 79 for acc sigma: 0.200000 0.433517 0.833517\n",
      "Brute force predictor perf.: 0.3425 0.3742 0.3832\n",
      "0.7119 0.8000 0.0881 0.7119 0.6495 0.0624\n",
      "1.0000 0.8000 0.2000 1.0000 0.6495 0.3505\n",
      "0.8424 0.8000 0.0424 0.8424 0.6495 0.1929\n",
      "0.8792 1.0000 0.1208 0.8792 1.0000 0.1208\n",
      "0.8062 0.8000 0.0062 0.8062 0.6495 0.1567\n",
      "0.8525 0.8000 0.0525 0.8525 0.6495 0.2030\n",
      "0.9655 0.8000 0.1655 0.9655 0.6495 0.3160\n",
      "0.7568 0.8000 0.0432 0.7568 0.6495 0.1073\n",
      "0.9773 0.8000 0.1773 0.9773 0.6495 0.3278\n",
      "0.9592 0.8000 0.1592 0.9592 0.6495 0.3097\n",
      "0.9612 0.8000 0.1612 0.9612 0.6364 0.3249\n",
      "1.0000 0.8000 0.2000 1.0000 0.5000 0.5000\n",
      "0.9245 0.8000 0.1245 0.9245 0.4138 0.5107\n",
      "0.9762 0.8000 0.1762 0.9762 0.6500 0.3262\n",
      "0.8900 0.8000 0.0900 0.8900 0.6327 0.2573\n",
      "0.9694 0.8000 0.1694 0.9694 0.5882 0.3812\n",
      "1.0000 0.8000 0.2000 1.0000 0.4000 0.6000\n",
      "0.9556 0.8000 0.1556 0.9556 0.5000 0.4556\n",
      "0.9714 0.8000 0.1714 0.9714 0.6364 0.3351\n",
      "0.9865 0.8000 0.1865 0.9865 0.5556 0.4309\n",
      "0.9875 0.8000 0.1875 0.9875 0.0000 0.9875\n",
      "0.9375 0.8000 0.1375 0.9375 0.5000 0.4375\n",
      "0.9574 0.8000 0.1574 0.9574 0.8000 0.1574\n",
      "0.9667 0.8000 0.1667 0.9667 1.0000 0.0333\n",
      "1.0000 0.8000 0.2000 1.0000 0.6176 0.3824\n",
      "0.9523 0.8000 0.1523 0.9523 1.0000 0.0477\n",
      "0.9444 0.8000 0.1444 0.9444 0.6495 0.2949\n",
      "0.9200 0.8000 0.1200 0.9200 1.0000 0.0800\n",
      "0.9783 0.8000 0.1783 0.9783 0.5000 0.4783\n",
      "1.0000 0.8000 0.2000 1.0000 0.8571 0.1429\n",
      "0.9626 1.0000 0.0374 0.9626 1.0000 0.0374\n",
      "1.0000 0.8000 0.2000 1.0000 0.6495 0.3505\n",
      "1.0000 0.8000 0.2000 1.0000 0.6495 0.3505\n",
      "0.9355 0.8000 0.1355 0.9355 0.6495 0.2860\n",
      "1.0000 0.8000 0.2000 1.0000 0.6495 0.3505\n",
      "0.9518 0.8000 0.1518 0.9518 0.6495 0.3023\n",
      "0.9545 0.8000 0.1545 0.9545 0.6495 0.3050\n",
      "0.9333 0.8000 0.1333 0.9333 0.6495 0.2838\n",
      "1.0000 0.8000 0.2000 1.0000 0.6495 0.3505\n",
      "1.0000 0.8000 0.2000 1.0000 0.6495 0.3505\n",
      "0.9352 0.8000 0.1352 0.9352 0.6495 0.2857\n",
      "0.9231 0.8000 0.1231 0.9231 0.6495 0.2736\n",
      "0.9167 0.8000 0.1167 0.9167 0.6495 0.2672\n",
      "1.0000 0.8000 0.2000 1.0000 0.6495 0.3505\n",
      "nan 0.8000 nan nan 0.6495 nan\n",
      "1.0000 0.8000 0.2000 1.0000 0.6495 0.3505\n",
      "1.0000 0.8000 0.2000 1.0000 0.6495 0.3505\n",
      "1.0000 0.8000 0.2000 1.0000 0.6495 0.3505\n",
      "1.0000 0.8000 0.2000 1.0000 0.6495 0.3505\n",
      "nan 0.8000 nan nan 0.6495 nan\n",
      "nan 0.8000 nan nan 0.6495 nan\n",
      "nan 0.8000 nan nan 0.6495 nan\n",
      "nan 0.8000 nan nan 0.6495 nan\n",
      "nan 0.8000 nan nan 0.6495 nan\n",
      "nan 0.8000 nan nan 0.6495 nan\n",
      "nan 0.8000 nan nan 0.6495 nan\n",
      "nan 0.8000 nan nan 0.6495 nan\n",
      "nan 0.8000 nan nan 0.6495 nan\n",
      "nan 0.8000 nan nan 0.6495 nan\n",
      "nan 0.8000 nan nan 0.6495 nan\n",
      "0.4484 0.8000 0.3516 0.4484 0.6495 0.2011\n",
      "0.1930 0.8000 0.6070 0.1930 0.6495 0.4565\n",
      "0.2633 0.8000 0.5367 0.2633 0.6495 0.3862\n",
      "0.1845 0.8000 0.6155 0.1845 0.6495 0.4650\n",
      "0.2909 0.8000 0.5091 0.2909 0.6495 0.3586\n",
      "0.5439 0.8000 0.2561 0.5439 0.6495 0.1056\n",
      "0.1000 0.8000 0.7000 0.1000 0.6495 0.5495\n",
      "0.3333 0.8000 0.4667 0.3333 0.6495 0.3162\n",
      "0.1600 0.8000 0.6400 0.1600 0.6495 0.4895\n",
      "0.3608 0.8000 0.4392 0.3608 0.6495 0.2887\n",
      "0.6792 0.0000 0.6792 0.6792 0.7500 0.0708\n",
      "0.2500 0.8000 0.5500 0.2500 1.0000 0.7500\n",
      "0.5644 0.8000 0.2356 0.5644 0.5000 0.0644\n",
      "0.4854 0.8000 0.3146 0.4854 1.0000 0.5146\n",
      "0.6311 0.8000 0.1689 0.6311 0.8333 0.2022\n",
      "0.5123 0.8000 0.2877 0.5123 0.8750 0.3627\n",
      "0.3846 0.8000 0.4154 0.3846 1.0000 0.6154\n",
      "0.5638 0.8000 0.2362 0.5638 0.7692 0.2054\n",
      "0.4247 0.8000 0.3753 0.4247 0.8000 0.3753\n",
      "0.6111 0.8000 0.1889 0.6111 0.7170 0.1059\n",
      "0.4599 1.0000 0.5401 0.4599 1.0000 0.5401\n",
      "0.4167 0.8000 0.3833 0.4167 0.6495 0.2328\n",
      "0.4800 0.8000 0.3200 0.4800 1.0000 0.5200\n",
      "0.3617 0.8000 0.4383 0.3617 0.5000 0.1383\n",
      "0.4348 0.8000 0.3652 0.4348 0.8824 0.4476\n",
      "0.6111 0.8000 0.1889 0.6111 0.6495 0.0384\n",
      "0.4074 0.8000 0.3926 0.4074 0.6495 0.2421\n",
      "0.2857 0.8000 0.5143 0.2857 0.6495 0.3638\n",
      "0.3500 0.8000 0.4500 0.3500 0.6495 0.2995\n",
      "0.8000 0.8000 0.0000 0.8000 1.0000 0.2000\n",
      "0.6540 0.8000 0.1460 0.6540 0.6495 0.0045\n",
      "0.2000 0.8000 0.6000 0.2000 0.6495 0.4495\n",
      "0.4444 0.8000 0.3556 0.4444 0.6495 0.2051\n",
      "0.0455 0.8000 0.7545 0.0455 0.6495 0.6041\n",
      "1.0000 0.8000 0.2000 1.0000 0.6495 0.3505\n",
      "0.6064 0.8000 0.1936 0.6064 0.6495 0.0431\n",
      "0.5000 0.8000 0.3000 0.5000 0.6495 0.1495\n",
      "0.2308 0.8000 0.5692 0.2308 0.6495 0.4187\n",
      "0.2500 0.8000 0.5500 0.2500 0.6495 0.3995\n",
      "0.0000 0.8000 0.8000 0.0000 0.6495 0.6495\n",
      "0.3374 0.8000 0.4626 0.3374 0.6495 0.3121\n",
      "0.0000 0.8000 0.8000 0.0000 0.6495 0.6495\n",
      "0.1250 0.8000 0.6750 0.1250 0.6495 0.5245\n",
      "0.2500 0.8000 0.5500 0.2500 0.6495 0.3995\n",
      "0.6667 0.8000 0.1333 0.6667 0.6495 0.0172\n",
      "0.2308 0.8000 0.5692 0.2308 0.6495 0.4187\n",
      "0.0000 0.8000 0.8000 0.0000 0.6495 0.6495\n",
      "0.1667 0.8000 0.6333 0.1667 0.6495 0.4828\n",
      "0.1429 0.8000 0.6571 0.1429 0.6495 0.5066\n",
      "nan 0.8000 nan nan 0.6495 nan\n",
      "0.0000 0.8000 0.8000 0.0000 0.6495 0.6495\n",
      "nan 0.8000 nan nan 0.6495 nan\n",
      "0.0000 0.8000 0.8000 0.0000 0.6495 0.6495\n",
      "nan 0.8000 nan nan 0.6495 nan\n",
      "nan 0.8000 nan nan 0.6495 nan\n",
      "nan 0.8000 nan nan 0.6495 nan\n",
      "0.0000 0.8000 0.8000 0.0000 0.6495 0.6495\n",
      "nan 0.8000 nan nan 0.6495 nan\n",
      "0.0000 0.8000 0.8000 0.0000 0.6495 0.6495\n",
      "nan 0.8000 nan nan 0.6495 nan\n"
     ]
    },
    {
     "name": "stderr",
     "output_type": "stream",
     "text": [
      "Computing per arm accuracy\n",
      "Found 19 unsupported arms of the total 120 arms\n",
      "Done\n",
      "Best, worst, mean accuracy: 1.0000, 0.0000 0.6335\n",
      "Acc quantiles: [0.         0.14285714 0.40740741 0.67919075 0.95454545 1.\n",
      " 1.        ]\n",
      "Worst arms: [0.         0.         0.         0.         0.         0.\n",
      " 0.         0.04545455 0.1        0.125      0.14285714 0.16\n",
      " 0.16666667 0.18454936 0.19298246 0.2        0.23076923 0.23076923\n",
      " 0.25       0.25       0.25       0.26328502 0.28571429 0.29090909\n",
      " 0.33333333 0.33742331 0.35       0.36082474 0.36170213 0.38461538]\n",
      "Read model from ../data/utkface/kernel.pb\n",
      "Temp: tensor([0.2034, 0.6030, 0.5915])\n",
      "Read model from ../data/utkface/kernel_no_edge_potential.pb\n",
      "Temp: tensor([0.2034, 0.3506, 0.4091])\n",
      "Empirical accuracy: 0.6495\n"
     ]
    }
   ],
   "source": [
    "dev = torch.device(\"cpu\")\n",
    "\n",
    "utkface.root_dir = \"../data/utkface\"\n",
    "calibrated_perfs, noep_calibrated_perfs, uncalibrated_perfs = [], [], []\n",
    "debug_objs = []\n",
    "for num_sample in [0, 500]:\n",
    "#     utk_dataset, utk_data_fitter = utkface.prepare()\n",
    "#     explorer = beta_explorer.BetaExplorer(utk_dataset, utk_data_fitter, utk_data_fitter.cache_dir, dev, \n",
    "#                                           explore_strategy='variance', err_ns=[0.0, 0.1, 0.2])\n",
    "#     err_1, err_2, err_3 = explorer.brute_predictor(num_sample, sample_type=\"correctedwep\")\n",
    "#     calibrated_perfs.append((num_sample, err_1, err_2, err_3))\n",
    "    \n",
    "#     utk_dataset, utk_data_fitter = utkface.prepare()\n",
    "#     explorer = beta_explorer.BetaExplorer(utk_dataset, utk_data_fitter, utk_data_fitter.cache_dir, dev, \n",
    "#                                           explore_strategy='variance', err_ns=[0.0, 0.1, 0.2])\n",
    "#     err_1, err_2, err_3 = explorer.brute_predictor(num_sample, sample_type=\"correctednoep\")\n",
    "#     noep_calibrated_perfs.append((num_sample, err_1, err_2, err_3))\n",
    "    \n",
    "    utk_dataset, utk_data_fitter = utkface.prepare()\n",
    "    explorer = beta_explorer.BetaExplorer(utk_dataset, utk_data_fitter, utk_data_fitter.cache_dir, dev, \n",
    "                                          explore_strategy='variance', err_ns=[0., 0.3, 0.7])\n",
    "    err_1, err_2, err_3, all_err = explorer.brute_predictor(num_sample, sample_type=\"raw\")\n",
    "    uncalibrated_perfs.append((num_sample, err_1, err_2, err_3))    \n",
    "    debug_objs.append(all_err)\n",
    "for _ in range(len(debug_objs[0])):\n",
    "    print (\"%s %s\" % (debug_objs[0][_], debug_objs[1][_]))"
   ]
  },
  {
   "cell_type": "code",
   "execution_count": 9,
   "metadata": {},
   "outputs": [
    {
     "data": {
      "text/plain": [
       "([(0, 0.07049265938084222, 0.02264679467081609, 0.005718539700225732),\n",
       "  (500, 0.06864223046651813, 0.021749416180675125, 0.0020994224762989656),\n",
       "  (1000, 0.06572634763027622, 0.01988820693822986, 0.0020168757833107748),\n",
       "  (1500, 0.06359158971753738, 0.015644749690397298, 0.0014133281085014486),\n",
       "  (2000, 0.06210593603545273, 0.014554287096414398, 0.0014133281085014486),\n",
       "  (3000, 0.05956101624072072, 0.01201964749164472, 0.0013861693723525483),\n",
       "  (4000, 0.06065721912522909, 0.013277531135339221, 0.0013612325721814378),\n",
       "  (5000, 0.059628099305315735, 0.014036089547923472, 0.0013612325721814378)],\n",
       " [(0, 0.07049265938084222, 0.02264679467081609, 0.005718539700225732),\n",
       "  (500, 0.0729233253062571, 0.0257212568021601, 0.0026893598555435996),\n",
       "  (1000, 0.07092300931332084, 0.024819920793607713, 0.0020645400265058753),\n",
       "  (1500, 0.07010623709925239, 0.023731126391028225, 0.0020645400265058753),\n",
       "  (2000, 0.06786905478414444, 0.02079490978236717, 0.0020645400265058753),\n",
       "  (3000, 0.06779051399618115, 0.01914058429180446, 0.0020141630971654135),\n",
       "  (4000, 0.0688982400303003, 0.01898165907032243, 0.0020141630971654135),\n",
       "  (5000, 0.06744973195299664, 0.01639833562889857, 0.0020141630971654135)],\n",
       " [(0, 0.07049265938084222, 0.02264679467081609, 0.005718539700225732),\n",
       "  (500, 0.0707251736879362, 0.023355815020194834, 0.005746408555469327),\n",
       "  (1000, 0.07064748832879596, 0.022643579489851944, 0.004776469692520963),\n",
       "  (1500, 0.07126072746554768, 0.023774366987774357, 0.004776469692520963),\n",
       "  (2000, 0.07065343671738504, 0.022797296899671138, 0.004776469692520963),\n",
       "  (3000, 0.07078514984835681, 0.022921671620972802, 0.0041898083501416125),\n",
       "  (4000, 0.07519971827518741, 0.027637231365350803, 0.006127449818913309),\n",
       "  (5000, 0.07405428798915879, 0.02640856630934393, 0.0041898083501416125)])"
      ]
     },
     "execution_count": 9,
     "metadata": {},
     "output_type": "execute_result"
    }
   ],
   "source": [
    "calibrated_perfs, noep_calibrated_perfs, uncalibrated_perfs"
   ]
  },
  {
   "cell_type": "markdown",
   "metadata": {},
   "source": [
    "# CelebA"
   ]
  },
  {
   "cell_type": "code",
   "execution_count": 4,
   "metadata": {
    "scrolled": true
   },
   "outputs": [
    {
     "name": "stdout",
     "output_type": "stream",
     "text": [
      "Loading label attribute models...\n",
      "Done\n",
      "Loding dataset...\n"
     ]
    },
    {
     "ename": "KeyboardInterrupt",
     "evalue": "",
     "output_type": "error",
     "traceback": [
      "\u001b[0;31m---------------------------------------------------------------------------\u001b[0m",
      "\u001b[0;31mKeyboardInterrupt\u001b[0m                         Traceback (most recent call last)",
      "\u001b[0;32m<ipython-input-4-1cef49411f39>\u001b[0m in \u001b[0;36m<module>\u001b[0;34m\u001b[0m\n\u001b[1;32m     24\u001b[0m \u001b[0;32mfor\u001b[0m \u001b[0mnum_sample\u001b[0m \u001b[0;32min\u001b[0m \u001b[0;34m[\u001b[0m\u001b[0;36m0\u001b[0m\u001b[0;34m,\u001b[0m\u001b[0;36m500\u001b[0m\u001b[0;34m,\u001b[0m \u001b[0;36m1000\u001b[0m\u001b[0;34m,\u001b[0m \u001b[0;36m1500\u001b[0m\u001b[0;34m,\u001b[0m \u001b[0;36m2000\u001b[0m\u001b[0;34m,\u001b[0m \u001b[0;36m3000\u001b[0m\u001b[0;34m,\u001b[0m \u001b[0;36m4000\u001b[0m\u001b[0;34m,\u001b[0m \u001b[0;36m5000\u001b[0m\u001b[0;34m]\u001b[0m\u001b[0;34m:\u001b[0m\u001b[0;34m\u001b[0m\u001b[0;34m\u001b[0m\u001b[0m\n\u001b[1;32m     25\u001b[0m     \u001b[0;32mfor\u001b[0m \u001b[0msti\u001b[0m\u001b[0;34m,\u001b[0m \u001b[0mst\u001b[0m \u001b[0;32min\u001b[0m \u001b[0menumerate\u001b[0m\u001b[0;34m(\u001b[0m\u001b[0msts\u001b[0m\u001b[0;34m)\u001b[0m\u001b[0;34m:\u001b[0m\u001b[0;34m\u001b[0m\u001b[0;34m\u001b[0m\u001b[0m\n\u001b[0;32m---> 26\u001b[0;31m         \u001b[0merr_1\u001b[0m\u001b[0;34m,\u001b[0m \u001b[0merr_2\u001b[0m\u001b[0;34m,\u001b[0m \u001b[0merr_3\u001b[0m \u001b[0;34m=\u001b[0m \u001b[0mperf\u001b[0m\u001b[0;34m(\u001b[0m\u001b[0mnum_sample\u001b[0m\u001b[0;34m,\u001b[0m \u001b[0mst\u001b[0m\u001b[0;34m)\u001b[0m\u001b[0;34m\u001b[0m\u001b[0;34m\u001b[0m\u001b[0m\n\u001b[0m\u001b[1;32m     27\u001b[0m         \u001b[0;32mif\u001b[0m \u001b[0msti\u001b[0m \u001b[0;34m==\u001b[0m \u001b[0;36m0\u001b[0m\u001b[0;34m:\u001b[0m\u001b[0;34m\u001b[0m\u001b[0;34m\u001b[0m\u001b[0m\n\u001b[1;32m     28\u001b[0m             \u001b[0mcalibrated_perfs\u001b[0m\u001b[0;34m.\u001b[0m\u001b[0mappend\u001b[0m\u001b[0;34m(\u001b[0m\u001b[0;34m(\u001b[0m\u001b[0mnum_sample\u001b[0m\u001b[0;34m,\u001b[0m \u001b[0merr_1\u001b[0m\u001b[0;34m,\u001b[0m \u001b[0merr_2\u001b[0m\u001b[0;34m,\u001b[0m \u001b[0merr_3\u001b[0m\u001b[0;34m)\u001b[0m\u001b[0;34m)\u001b[0m\u001b[0;34m\u001b[0m\u001b[0;34m\u001b[0m\u001b[0m\n",
      "\u001b[0;32m<ipython-input-4-1cef49411f39>\u001b[0m in \u001b[0;36mperf\u001b[0;34m(num_sample, sample_type)\u001b[0m\n\u001b[1;32m     12\u001b[0m     \u001b[0merr1s\u001b[0m\u001b[0;34m,\u001b[0m \u001b[0merr2s\u001b[0m\u001b[0;34m,\u001b[0m \u001b[0merr3s\u001b[0m \u001b[0;34m=\u001b[0m \u001b[0;34m[\u001b[0m\u001b[0;34m]\u001b[0m\u001b[0;34m,\u001b[0m \u001b[0;34m[\u001b[0m\u001b[0;34m]\u001b[0m\u001b[0;34m,\u001b[0m \u001b[0;34m[\u001b[0m\u001b[0;34m]\u001b[0m\u001b[0;34m\u001b[0m\u001b[0;34m\u001b[0m\u001b[0m\n\u001b[1;32m     13\u001b[0m     \u001b[0;32mfor\u001b[0m \u001b[0mseed\u001b[0m \u001b[0;32min\u001b[0m \u001b[0mrange\u001b[0m\u001b[0;34m(\u001b[0m\u001b[0;36m3\u001b[0m\u001b[0;34m)\u001b[0m\u001b[0;34m:\u001b[0m\u001b[0;34m\u001b[0m\u001b[0;34m\u001b[0m\u001b[0m\n\u001b[0;32m---> 14\u001b[0;31m         \u001b[0mceleba_dataset\u001b[0m\u001b[0;34m,\u001b[0m \u001b[0mceleba_data_fitter\u001b[0m \u001b[0;34m=\u001b[0m \u001b[0mceleba\u001b[0m\u001b[0;34m.\u001b[0m\u001b[0mprepare\u001b[0m\u001b[0;34m(\u001b[0m\u001b[0mseed\u001b[0m\u001b[0;34m)\u001b[0m\u001b[0;34m\u001b[0m\u001b[0;34m\u001b[0m\u001b[0m\n\u001b[0m\u001b[1;32m     15\u001b[0m         explorer = beta_explorer.BetaExplorer(celeba_dataset, celeba_data_fitter, celeba_data_fitter.cache_dir, dev, \n\u001b[1;32m     16\u001b[0m                                               explore_strategy='variance', err_ns=err_ns)\n",
      "\u001b[0;32m~/repos/SC/celeba.py\u001b[0m in \u001b[0;36mprepare\u001b[0;34m(seed)\u001b[0m\n\u001b[1;32m    421\u001b[0m \u001b[0;34m\u001b[0m\u001b[0m\n\u001b[1;32m    422\u001b[0m     \u001b[0mprint\u001b[0m \u001b[0;34m(\u001b[0m\u001b[0;34m\"Loding dataset...\"\u001b[0m\u001b[0;34m)\u001b[0m\u001b[0;34m\u001b[0m\u001b[0;34m\u001b[0m\u001b[0m\n\u001b[0;32m--> 423\u001b[0;31m     \u001b[0mceleba_dataset\u001b[0m \u001b[0;34m=\u001b[0m \u001b[0mCelebADataset\u001b[0m\u001b[0;34m(\u001b[0m\u001b[0mseed\u001b[0m\u001b[0;34m)\u001b[0m\u001b[0;34m\u001b[0m\u001b[0;34m\u001b[0m\u001b[0m\n\u001b[0m\u001b[1;32m    424\u001b[0m     \u001b[0mprint\u001b[0m \u001b[0;34m(\u001b[0m\u001b[0;34m\"Setting models...\"\u001b[0m\u001b[0;34m)\u001b[0m\u001b[0;34m\u001b[0m\u001b[0;34m\u001b[0m\u001b[0m\n\u001b[1;32m    425\u001b[0m     \u001b[0mmodel_helpers\u001b[0m \u001b[0;34m=\u001b[0m \u001b[0;34m[\u001b[0m\u001b[0mSingleOutputModel\u001b[0m\u001b[0;34m(\u001b[0m\u001b[0mmodel\u001b[0m\u001b[0;34m,\u001b[0m \u001b[0mattr\u001b[0m\u001b[0;34m,\u001b[0m \u001b[0mdev\u001b[0m\u001b[0;34m,\u001b[0m \u001b[0mx_transform\u001b[0m\u001b[0;34m=\u001b[0m\u001b[0mtf\u001b[0m\u001b[0;34m)\u001b[0m \u001b[0;32mfor\u001b[0m \u001b[0mattr\u001b[0m \u001b[0;32min\u001b[0m \u001b[0mrange\u001b[0m\u001b[0;34m(\u001b[0m\u001b[0mlen\u001b[0m\u001b[0;34m(\u001b[0m\u001b[0mgen_params\u001b[0m\u001b[0;34m)\u001b[0m\u001b[0;34m)\u001b[0m\u001b[0;34m]\u001b[0m\u001b[0;34m\u001b[0m\u001b[0;34m\u001b[0m\u001b[0m\n",
      "\u001b[0;32m~/repos/SC/celeba.py\u001b[0m in \u001b[0;36m__init__\u001b[0;34m(self, seed)\u001b[0m\n\u001b[1;32m    241\u001b[0m \u001b[0;34m\u001b[0m\u001b[0m\n\u001b[1;32m    242\u001b[0m         \u001b[0mself\u001b[0m\u001b[0;34m.\u001b[0m\u001b[0mprimary_task\u001b[0m \u001b[0;34m=\u001b[0m \u001b[0;36m4\u001b[0m\u001b[0;34m\u001b[0m\u001b[0;34m\u001b[0m\u001b[0m\n\u001b[0;32m--> 243\u001b[0;31m         \u001b[0mceleba_data\u001b[0m \u001b[0;34m=\u001b[0m \u001b[0mdatasets\u001b[0m\u001b[0;34m.\u001b[0m\u001b[0mCelebA\u001b[0m\u001b[0;34m(\u001b[0m\u001b[0mroot\u001b[0m\u001b[0;34m=\u001b[0m\u001b[0mceleba_root\u001b[0m\u001b[0;34m,\u001b[0m \u001b[0msplit\u001b[0m\u001b[0;34m=\u001b[0m\u001b[0;34m'all'\u001b[0m\u001b[0;34m,\u001b[0m \u001b[0mtarget_type\u001b[0m\u001b[0;34m=\u001b[0m\u001b[0;34m'attr'\u001b[0m\u001b[0;34m,\u001b[0m \u001b[0mtransform\u001b[0m\u001b[0;34m=\u001b[0m\u001b[0mnp\u001b[0m\u001b[0;34m.\u001b[0m\u001b[0marray\u001b[0m\u001b[0;34m,\u001b[0m \u001b[0mtarget_transform\u001b[0m\u001b[0;34m=\u001b[0m\u001b[0msubset_attr_fn\u001b[0m\u001b[0;34m,\u001b[0m \u001b[0mdownload\u001b[0m\u001b[0;34m=\u001b[0m\u001b[0;32mFalse\u001b[0m\u001b[0;34m)\u001b[0m\u001b[0;34m\u001b[0m\u001b[0;34m\u001b[0m\u001b[0m\n\u001b[0m\u001b[1;32m    244\u001b[0m \u001b[0;34m\u001b[0m\u001b[0m\n\u001b[1;32m    245\u001b[0m         \u001b[0mlab_idxs\u001b[0m \u001b[0;34m=\u001b[0m \u001b[0mnp\u001b[0m\u001b[0;34m.\u001b[0m\u001b[0mload\u001b[0m\u001b[0;34m(\u001b[0m\u001b[0;34m\"%s/lab_idxs.npy\"\u001b[0m \u001b[0;34m%\u001b[0m \u001b[0mroot_dir\u001b[0m\u001b[0;34m)\u001b[0m\u001b[0;34m\u001b[0m\u001b[0;34m\u001b[0m\u001b[0m\n",
      "\u001b[0;32m/anaconda3/envs/torch-xla-1.6/lib/python3.6/site-packages/torchvision/datasets/celeba.py\u001b[0m in \u001b[0;36m__init__\u001b[0;34m(self, root, split, target_type, transform, target_transform, download)\u001b[0m\n\u001b[1;32m     92\u001b[0m         \u001b[0mbbox\u001b[0m \u001b[0;34m=\u001b[0m \u001b[0mpandas\u001b[0m\u001b[0;34m.\u001b[0m\u001b[0mread_csv\u001b[0m\u001b[0;34m(\u001b[0m\u001b[0mfn\u001b[0m\u001b[0;34m(\u001b[0m\u001b[0;34m\"list_bbox_celeba.txt\"\u001b[0m\u001b[0;34m)\u001b[0m\u001b[0;34m,\u001b[0m \u001b[0mdelim_whitespace\u001b[0m\u001b[0;34m=\u001b[0m\u001b[0;32mTrue\u001b[0m\u001b[0;34m,\u001b[0m \u001b[0mheader\u001b[0m\u001b[0;34m=\u001b[0m\u001b[0;36m1\u001b[0m\u001b[0;34m,\u001b[0m \u001b[0mindex_col\u001b[0m\u001b[0;34m=\u001b[0m\u001b[0;36m0\u001b[0m\u001b[0;34m)\u001b[0m\u001b[0;34m\u001b[0m\u001b[0;34m\u001b[0m\u001b[0m\n\u001b[1;32m     93\u001b[0m         \u001b[0mlandmarks_align\u001b[0m \u001b[0;34m=\u001b[0m \u001b[0mpandas\u001b[0m\u001b[0;34m.\u001b[0m\u001b[0mread_csv\u001b[0m\u001b[0;34m(\u001b[0m\u001b[0mfn\u001b[0m\u001b[0;34m(\u001b[0m\u001b[0;34m\"list_landmarks_align_celeba.txt\"\u001b[0m\u001b[0;34m)\u001b[0m\u001b[0;34m,\u001b[0m \u001b[0mdelim_whitespace\u001b[0m\u001b[0;34m=\u001b[0m\u001b[0;32mTrue\u001b[0m\u001b[0;34m,\u001b[0m \u001b[0mheader\u001b[0m\u001b[0;34m=\u001b[0m\u001b[0;36m1\u001b[0m\u001b[0;34m)\u001b[0m\u001b[0;34m\u001b[0m\u001b[0;34m\u001b[0m\u001b[0m\n\u001b[0;32m---> 94\u001b[0;31m         \u001b[0mattr\u001b[0m \u001b[0;34m=\u001b[0m \u001b[0mpandas\u001b[0m\u001b[0;34m.\u001b[0m\u001b[0mread_csv\u001b[0m\u001b[0;34m(\u001b[0m\u001b[0mfn\u001b[0m\u001b[0;34m(\u001b[0m\u001b[0;34m\"list_attr_celeba.txt\"\u001b[0m\u001b[0;34m)\u001b[0m\u001b[0;34m,\u001b[0m \u001b[0mdelim_whitespace\u001b[0m\u001b[0;34m=\u001b[0m\u001b[0;32mTrue\u001b[0m\u001b[0;34m,\u001b[0m \u001b[0mheader\u001b[0m\u001b[0;34m=\u001b[0m\u001b[0;36m1\u001b[0m\u001b[0;34m)\u001b[0m\u001b[0;34m\u001b[0m\u001b[0;34m\u001b[0m\u001b[0m\n\u001b[0m\u001b[1;32m     95\u001b[0m \u001b[0;34m\u001b[0m\u001b[0m\n\u001b[1;32m     96\u001b[0m         \u001b[0mmask\u001b[0m \u001b[0;34m=\u001b[0m \u001b[0mslice\u001b[0m\u001b[0;34m(\u001b[0m\u001b[0;32mNone\u001b[0m\u001b[0;34m)\u001b[0m \u001b[0;32mif\u001b[0m \u001b[0msplit_\u001b[0m \u001b[0;32mis\u001b[0m \u001b[0;32mNone\u001b[0m \u001b[0;32melse\u001b[0m \u001b[0;34m(\u001b[0m\u001b[0msplits\u001b[0m\u001b[0;34m[\u001b[0m\u001b[0;36m1\u001b[0m\u001b[0;34m]\u001b[0m \u001b[0;34m==\u001b[0m \u001b[0msplit_\u001b[0m\u001b[0;34m)\u001b[0m\u001b[0;34m\u001b[0m\u001b[0;34m\u001b[0m\u001b[0m\n",
      "\u001b[0;32m/anaconda3/envs/torch-xla-1.6/lib/python3.6/site-packages/pandas/io/parsers.py\u001b[0m in \u001b[0;36mparser_f\u001b[0;34m(filepath_or_buffer, sep, delimiter, header, names, index_col, usecols, squeeze, prefix, mangle_dupe_cols, dtype, engine, converters, true_values, false_values, skipinitialspace, skiprows, skipfooter, nrows, na_values, keep_default_na, na_filter, verbose, skip_blank_lines, parse_dates, infer_datetime_format, keep_date_col, date_parser, dayfirst, cache_dates, iterator, chunksize, compression, thousands, decimal, lineterminator, quotechar, quoting, doublequote, escapechar, comment, encoding, dialect, error_bad_lines, warn_bad_lines, delim_whitespace, low_memory, memory_map, float_precision)\u001b[0m\n\u001b[1;32m    674\u001b[0m         )\n\u001b[1;32m    675\u001b[0m \u001b[0;34m\u001b[0m\u001b[0m\n\u001b[0;32m--> 676\u001b[0;31m         \u001b[0;32mreturn\u001b[0m \u001b[0m_read\u001b[0m\u001b[0;34m(\u001b[0m\u001b[0mfilepath_or_buffer\u001b[0m\u001b[0;34m,\u001b[0m \u001b[0mkwds\u001b[0m\u001b[0;34m)\u001b[0m\u001b[0;34m\u001b[0m\u001b[0;34m\u001b[0m\u001b[0m\n\u001b[0m\u001b[1;32m    677\u001b[0m \u001b[0;34m\u001b[0m\u001b[0m\n\u001b[1;32m    678\u001b[0m     \u001b[0mparser_f\u001b[0m\u001b[0;34m.\u001b[0m\u001b[0m__name__\u001b[0m \u001b[0;34m=\u001b[0m \u001b[0mname\u001b[0m\u001b[0;34m\u001b[0m\u001b[0;34m\u001b[0m\u001b[0m\n",
      "\u001b[0;32m/anaconda3/envs/torch-xla-1.6/lib/python3.6/site-packages/pandas/io/parsers.py\u001b[0m in \u001b[0;36m_read\u001b[0;34m(filepath_or_buffer, kwds)\u001b[0m\n\u001b[1;32m    452\u001b[0m \u001b[0;34m\u001b[0m\u001b[0m\n\u001b[1;32m    453\u001b[0m     \u001b[0;32mtry\u001b[0m\u001b[0;34m:\u001b[0m\u001b[0;34m\u001b[0m\u001b[0;34m\u001b[0m\u001b[0m\n\u001b[0;32m--> 454\u001b[0;31m         \u001b[0mdata\u001b[0m \u001b[0;34m=\u001b[0m \u001b[0mparser\u001b[0m\u001b[0;34m.\u001b[0m\u001b[0mread\u001b[0m\u001b[0;34m(\u001b[0m\u001b[0mnrows\u001b[0m\u001b[0;34m)\u001b[0m\u001b[0;34m\u001b[0m\u001b[0;34m\u001b[0m\u001b[0m\n\u001b[0m\u001b[1;32m    455\u001b[0m     \u001b[0;32mfinally\u001b[0m\u001b[0;34m:\u001b[0m\u001b[0;34m\u001b[0m\u001b[0;34m\u001b[0m\u001b[0m\n\u001b[1;32m    456\u001b[0m         \u001b[0mparser\u001b[0m\u001b[0;34m.\u001b[0m\u001b[0mclose\u001b[0m\u001b[0;34m(\u001b[0m\u001b[0;34m)\u001b[0m\u001b[0;34m\u001b[0m\u001b[0;34m\u001b[0m\u001b[0m\n",
      "\u001b[0;32m/anaconda3/envs/torch-xla-1.6/lib/python3.6/site-packages/pandas/io/parsers.py\u001b[0m in \u001b[0;36mread\u001b[0;34m(self, nrows)\u001b[0m\n\u001b[1;32m   1131\u001b[0m     \u001b[0;32mdef\u001b[0m \u001b[0mread\u001b[0m\u001b[0;34m(\u001b[0m\u001b[0mself\u001b[0m\u001b[0;34m,\u001b[0m \u001b[0mnrows\u001b[0m\u001b[0;34m=\u001b[0m\u001b[0;32mNone\u001b[0m\u001b[0;34m)\u001b[0m\u001b[0;34m:\u001b[0m\u001b[0;34m\u001b[0m\u001b[0;34m\u001b[0m\u001b[0m\n\u001b[1;32m   1132\u001b[0m         \u001b[0mnrows\u001b[0m \u001b[0;34m=\u001b[0m \u001b[0m_validate_integer\u001b[0m\u001b[0;34m(\u001b[0m\u001b[0;34m\"nrows\"\u001b[0m\u001b[0;34m,\u001b[0m \u001b[0mnrows\u001b[0m\u001b[0;34m)\u001b[0m\u001b[0;34m\u001b[0m\u001b[0;34m\u001b[0m\u001b[0m\n\u001b[0;32m-> 1133\u001b[0;31m         \u001b[0mret\u001b[0m \u001b[0;34m=\u001b[0m \u001b[0mself\u001b[0m\u001b[0;34m.\u001b[0m\u001b[0m_engine\u001b[0m\u001b[0;34m.\u001b[0m\u001b[0mread\u001b[0m\u001b[0;34m(\u001b[0m\u001b[0mnrows\u001b[0m\u001b[0;34m)\u001b[0m\u001b[0;34m\u001b[0m\u001b[0;34m\u001b[0m\u001b[0m\n\u001b[0m\u001b[1;32m   1134\u001b[0m \u001b[0;34m\u001b[0m\u001b[0m\n\u001b[1;32m   1135\u001b[0m         \u001b[0;31m# May alter columns / col_dict\u001b[0m\u001b[0;34m\u001b[0m\u001b[0;34m\u001b[0m\u001b[0;34m\u001b[0m\u001b[0m\n",
      "\u001b[0;32m/anaconda3/envs/torch-xla-1.6/lib/python3.6/site-packages/pandas/io/parsers.py\u001b[0m in \u001b[0;36mread\u001b[0;34m(self, nrows)\u001b[0m\n\u001b[1;32m   2035\u001b[0m     \u001b[0;32mdef\u001b[0m \u001b[0mread\u001b[0m\u001b[0;34m(\u001b[0m\u001b[0mself\u001b[0m\u001b[0;34m,\u001b[0m \u001b[0mnrows\u001b[0m\u001b[0;34m=\u001b[0m\u001b[0;32mNone\u001b[0m\u001b[0;34m)\u001b[0m\u001b[0;34m:\u001b[0m\u001b[0;34m\u001b[0m\u001b[0;34m\u001b[0m\u001b[0m\n\u001b[1;32m   2036\u001b[0m         \u001b[0;32mtry\u001b[0m\u001b[0;34m:\u001b[0m\u001b[0;34m\u001b[0m\u001b[0;34m\u001b[0m\u001b[0m\n\u001b[0;32m-> 2037\u001b[0;31m             \u001b[0mdata\u001b[0m \u001b[0;34m=\u001b[0m \u001b[0mself\u001b[0m\u001b[0;34m.\u001b[0m\u001b[0m_reader\u001b[0m\u001b[0;34m.\u001b[0m\u001b[0mread\u001b[0m\u001b[0;34m(\u001b[0m\u001b[0mnrows\u001b[0m\u001b[0;34m)\u001b[0m\u001b[0;34m\u001b[0m\u001b[0;34m\u001b[0m\u001b[0m\n\u001b[0m\u001b[1;32m   2038\u001b[0m         \u001b[0;32mexcept\u001b[0m \u001b[0mStopIteration\u001b[0m\u001b[0;34m:\u001b[0m\u001b[0;34m\u001b[0m\u001b[0;34m\u001b[0m\u001b[0m\n\u001b[1;32m   2039\u001b[0m             \u001b[0;32mif\u001b[0m \u001b[0mself\u001b[0m\u001b[0;34m.\u001b[0m\u001b[0m_first_chunk\u001b[0m\u001b[0;34m:\u001b[0m\u001b[0;34m\u001b[0m\u001b[0;34m\u001b[0m\u001b[0m\n",
      "\u001b[0;32mpandas/_libs/parsers.pyx\u001b[0m in \u001b[0;36mpandas._libs.parsers.TextReader.read\u001b[0;34m()\u001b[0m\n",
      "\u001b[0;32mpandas/_libs/parsers.pyx\u001b[0m in \u001b[0;36mpandas._libs.parsers.TextReader._read_low_memory\u001b[0;34m()\u001b[0m\n",
      "\u001b[0;32mpandas/_libs/parsers.pyx\u001b[0m in \u001b[0;36mpandas._libs.parsers.TextReader._read_rows\u001b[0;34m()\u001b[0m\n",
      "\u001b[0;32mpandas/_libs/parsers.pyx\u001b[0m in \u001b[0;36mpandas._libs.parsers.TextReader._convert_column_data\u001b[0;34m()\u001b[0m\n",
      "\u001b[0;32mpandas/_libs/parsers.pyx\u001b[0m in \u001b[0;36mpandas._libs.parsers.TextReader._convert_tokens\u001b[0;34m()\u001b[0m\n",
      "\u001b[0;32mpandas/_libs/parsers.pyx\u001b[0m in \u001b[0;36mpandas._libs.parsers.TextReader._convert_with_dtype\u001b[0;34m()\u001b[0m\n",
      "\u001b[0;32m/anaconda3/envs/torch-xla-1.6/lib/python3.6/site-packages/pandas/core/dtypes/common.py\u001b[0m in \u001b[0;36mis_categorical_dtype\u001b[0;34m(arr_or_dtype)\u001b[0m\n\u001b[1;32m    540\u001b[0m \u001b[0;34m\u001b[0m\u001b[0m\n\u001b[1;32m    541\u001b[0m \u001b[0;34m\u001b[0m\u001b[0m\n\u001b[0;32m--> 542\u001b[0;31m \u001b[0;32mdef\u001b[0m \u001b[0mis_categorical_dtype\u001b[0m\u001b[0;34m(\u001b[0m\u001b[0marr_or_dtype\u001b[0m\u001b[0;34m)\u001b[0m \u001b[0;34m->\u001b[0m \u001b[0mbool\u001b[0m\u001b[0;34m:\u001b[0m\u001b[0;34m\u001b[0m\u001b[0;34m\u001b[0m\u001b[0m\n\u001b[0m\u001b[1;32m    543\u001b[0m     \"\"\"\n\u001b[1;32m    544\u001b[0m     \u001b[0mCheck\u001b[0m \u001b[0mwhether\u001b[0m \u001b[0man\u001b[0m \u001b[0marray\u001b[0m\u001b[0;34m-\u001b[0m\u001b[0mlike\u001b[0m \u001b[0;32mor\u001b[0m \u001b[0mdtype\u001b[0m \u001b[0;32mis\u001b[0m \u001b[0mof\u001b[0m \u001b[0mthe\u001b[0m \u001b[0mCategorical\u001b[0m \u001b[0mdtype\u001b[0m\u001b[0;34m.\u001b[0m\u001b[0;34m\u001b[0m\u001b[0;34m\u001b[0m\u001b[0m\n",
      "\u001b[0;31mKeyboardInterrupt\u001b[0m: "
     ]
    }
   ],
   "source": [
    "import celeba\n",
    "dev = torch.device(\"cpu\")\n",
    "\n",
    "celeba.root_dir = \"../data/celeba\"\n",
    "calibrated_perfs, noep_calibrated_perfs, uncalibrated_perfs, gt_perfs = [], [], [], []\n",
    "debug_objs = []\n",
    "err_ns = [0., 0.3, 0.7]\n",
    "# err_ns = [0.1, 0.3, 0.5]\n",
    "sts = [\"correctedwep\", \"correctednoep\", \"raw\", \"gt\"]\n",
    "\n",
    "def perf(num_sample, sample_type):\n",
    "    err1s, err2s, err3s = [], [], []\n",
    "    for seed in range(3):\n",
    "        celeba_dataset, celeba_data_fitter = celeba.prepare(seed)\n",
    "        explorer = beta_explorer.BetaExplorer(celeba_dataset, celeba_data_fitter, celeba_data_fitter.cache_dir, dev, \n",
    "                                              explore_strategy='variance', err_ns=err_ns)\n",
    "        np.random.seed(seed)\n",
    "        err_1, err_2, err_3, all_err = explorer.brute_predictor(num_sample, sample_type=sample_type)\n",
    "        err1s.append(err_1)\n",
    "        err2s.append(err_2)\n",
    "        err3s.append(err_3)\n",
    "    return np.mean(err1s), np.mean(err2s), np.mean(err3s)\n",
    "\n",
    "for num_sample in [0,500, 1000, 1500, 2000, 3000, 4000, 5000]:\n",
    "    for sti, st in enumerate(sts):\n",
    "        err_1, err_2, err_3 = perf(num_sample, st)\n",
    "        if sti == 0:        \n",
    "            calibrated_perfs.append((num_sample, err_1, err_2, err_3))\n",
    "        elif sti == 1:\n",
    "            noep_calibrated_perfs.append((num_sample, err_1, err_2, err_3))\n",
    "        elif sti == 2:\n",
    "            uncalibrated_perfs.append((num_sample, err_1, err_2, err_3))   \n",
    "        elif sti == 3:\n",
    "            gt_perfs.append((num_sample, err_1, err_2, err_3))   \n",
    "    \n",
    "write([(calibrated_perfs, \"cal:full\"), (noep_calibrated_perfs, \"cal:temp\"), \n",
    "      (uncalibrated_perfs, \"cal:raw\"), (gt_perfs, \"cal:gold\")], \"celeba\")"
   ]
  },
  {
   "cell_type": "code",
   "execution_count": 6,
   "metadata": {
    "scrolled": true
   },
   "outputs": [
    {
     "name": "stdout",
     "output_type": "stream",
     "text": [
      "Loading label attribute models...\n",
      "Done\n",
      "Loding dataset...\n",
      "Number of arms: 4096 over 202599 instances -- shape: (4096, 12)\n",
      "Size of available unlabeled data: 100000\n",
      "Setting models...\n",
      "Initializing fitter...\n",
      "Using seed: 0 for warm start\n"
     ]
    },
    {
     "name": "stderr",
     "output_type": "stream",
     "text": [
      "Using joint model.\n",
      "Computing per arm accuracy\n",
      "Found 3698 unsupported arms of the total 4096 arms\n",
      "Done\n",
      "Best, worst, mean accuracy: 1.0000, 0.0000 0.8712\n",
      "Acc quantiles: [0.         0.5107362  0.88501391 0.97368421 1.         1.\n",
      " 1.        ]\n",
      "Worst arms: [0.         0.         0.         0.1        0.1        0.13636364\n",
      " 0.15       0.16666667 0.2        0.2        0.2        0.2\n",
      " 0.27272727 0.27777778 0.28571429 0.30379747 0.33333333 0.33333333\n",
      " 0.35526316 0.36363636 0.375      0.4        0.4        0.4\n",
      " 0.4        0.4        0.41509434 0.41666667 0.42592593 0.42857143]\n",
      "Read model from ../data/celeba/kernel.pb\n",
      "Temp: tensor([1.1906, 1.2827, 1.2269, 1.4947, 1.3000, 1.1529, 1.0865, 1.4081, 1.5273,\n",
      "        1.1343, 1.1124, 2.2262])\n",
      "Read model from ../data/celeba/kernel_no_edge_potential.pb\n",
      "Temp: tensor([1.2087, 1.3473, 1.2404, 1.5101, 1.3042, 1.0678, 1.1056, 1.4106, 1.2482,\n",
      "        1.0405, 1.0837, 1.6822])\n"
     ]
    },
    {
     "name": "stdout",
     "output_type": "stream",
     "text": [
      "NS: 500, seed: 0 59.8817790222841 937.8554994303747\n",
      "Found 398 for acc sigma: 0.000000\n",
      "Found 57 for acc sigma: 0.300000\n",
      "Found 17 for acc sigma: 0.700000\n",
      "Brute force predictor perf.: 0.0737 0.0659 0.0448\n",
      "Loading label attribute models...\n",
      "Done\n",
      "Loding dataset...\n",
      "Number of arms: 4096 over 202599 instances -- shape: (4096, 12)\n",
      "Size of available unlabeled data: 100000\n",
      "Setting models...\n",
      "Initializing fitter...\n"
     ]
    },
    {
     "name": "stderr",
     "output_type": "stream",
     "text": [
      "Using joint model.\n",
      "Computing per arm accuracy\n",
      "Found 3698 unsupported arms of the total 4096 arms\n",
      "Done\n",
      "Best, worst, mean accuracy: 1.0000, 0.0000 0.8712\n",
      "Acc quantiles: [0.         0.5107362  0.88501391 0.97368421 1.         1.\n",
      " 1.        ]\n",
      "Worst arms: [0.         0.         0.         0.1        0.1        0.13636364\n",
      " 0.15       0.16666667 0.2        0.2        0.2        0.2\n",
      " 0.27272727 0.27777778 0.28571429 0.30379747 0.33333333 0.33333333\n",
      " 0.35526316 0.36363636 0.375      0.4        0.4        0.4\n",
      " 0.4        0.4        0.41509434 0.41666667 0.42592593 0.42857143]\n",
      "Read model from ../data/celeba/kernel.pb\n",
      "Temp: tensor([1.1906, 1.2827, 1.2269, 1.4947, 1.3000, 1.1529, 1.0865, 1.4081, 1.5273,\n",
      "        1.1343, 1.1124, 2.2262])\n",
      "Read model from ../data/celeba/kernel_no_edge_potential.pb\n",
      "Temp: tensor([1.2087, 1.3473, 1.2404, 1.5101, 1.3042, 1.0678, 1.1056, 1.4106, 1.2482,\n",
      "        1.0405, 1.0837, 1.6822])\n"
     ]
    },
    {
     "name": "stdout",
     "output_type": "stream",
     "text": [
      "Using seed: 1 for warm start\n",
      "NS: 500, seed: 1 46.89230444729639 950.8739352409431\n",
      "Found 398 for acc sigma: 0.000000\n",
      "Found 60 for acc sigma: 0.300000\n",
      "Found 18 for acc sigma: 0.700000\n",
      "Brute force predictor perf.: 0.0913 0.0845 0.0596\n",
      "Loading label attribute models...\n",
      "Done\n",
      "Loding dataset...\n",
      "Number of arms: 4096 over 202599 instances -- shape: (4096, 12)\n",
      "Size of available unlabeled data: 100000\n",
      "Setting models...\n",
      "Initializing fitter...\n"
     ]
    },
    {
     "name": "stderr",
     "output_type": "stream",
     "text": [
      "Using joint model.\n",
      "Computing per arm accuracy\n",
      "Found 3698 unsupported arms of the total 4096 arms\n",
      "Done\n",
      "Best, worst, mean accuracy: 1.0000, 0.0000 0.8712\n",
      "Acc quantiles: [0.         0.5107362  0.88501391 0.97368421 1.         1.\n",
      " 1.        ]\n",
      "Worst arms: [0.         0.         0.         0.1        0.1        0.13636364\n",
      " 0.15       0.16666667 0.2        0.2        0.2        0.2\n",
      " 0.27272727 0.27777778 0.28571429 0.30379747 0.33333333 0.33333333\n",
      " 0.35526316 0.36363636 0.375      0.4        0.4        0.4\n",
      " 0.4        0.4        0.41509434 0.41666667 0.42592593 0.42857143]\n",
      "Read model from ../data/celeba/kernel.pb\n",
      "Temp: tensor([1.1906, 1.2827, 1.2269, 1.4947, 1.3000, 1.1529, 1.0865, 1.4081, 1.5273,\n",
      "        1.1343, 1.1124, 2.2262])\n",
      "Read model from ../data/celeba/kernel_no_edge_potential.pb\n",
      "Temp: tensor([1.2087, 1.3473, 1.2404, 1.5101, 1.3042, 1.0678, 1.1056, 1.4106, 1.2482,\n",
      "        1.0405, 1.0837, 1.6822])\n"
     ]
    },
    {
     "name": "stdout",
     "output_type": "stream",
     "text": [
      "Using seed: 2 for warm start\n",
      "NS: 500, seed: 2 48.908477047693815 948.8061912407253\n",
      "Found 398 for acc sigma: 0.000000\n",
      "Found 63 for acc sigma: 0.300000\n",
      "Found 17 for acc sigma: 0.700000\n",
      "Brute force predictor perf.: 0.0880 0.0811 0.0544\n",
      "Loading label attribute models...\n",
      "Done\n",
      "Loding dataset...\n",
      "Number of arms: 4096 over 202599 instances -- shape: (4096, 12)\n",
      "Size of available unlabeled data: 100000\n",
      "Setting models...\n",
      "Initializing fitter...\n",
      "Using seed: 0 for warm start\n"
     ]
    },
    {
     "name": "stderr",
     "output_type": "stream",
     "text": [
      "Using joint model.\n",
      "Computing per arm accuracy\n",
      "Found 3698 unsupported arms of the total 4096 arms\n",
      "Done\n",
      "Best, worst, mean accuracy: 1.0000, 0.0000 0.8712\n",
      "Acc quantiles: [0.         0.5107362  0.88501391 0.97368421 1.         1.\n",
      " 1.        ]\n",
      "Worst arms: [0.         0.         0.         0.1        0.1        0.13636364\n",
      " 0.15       0.16666667 0.2        0.2        0.2        0.2\n",
      " 0.27272727 0.27777778 0.28571429 0.30379747 0.33333333 0.33333333\n",
      " 0.35526316 0.36363636 0.375      0.4        0.4        0.4\n",
      " 0.4        0.4        0.41509434 0.41666667 0.42592593 0.42857143]\n",
      "Read model from ../data/celeba/kernel.pb\n",
      "Temp: tensor([1.1906, 1.2827, 1.2269, 1.4947, 1.3000, 1.1529, 1.0865, 1.4081, 1.5273,\n",
      "        1.1343, 1.1124, 2.2262])\n",
      "Read model from ../data/celeba/kernel_no_edge_potential.pb\n",
      "Temp: tensor([1.2087, 1.3473, 1.2404, 1.5101, 1.3042, 1.0678, 1.1056, 1.4106, 1.2482,\n",
      "        1.0405, 1.0837, 1.6822])\n"
     ]
    },
    {
     "name": "stdout",
     "output_type": "stream",
     "text": [
      "NS: 1500, seed: 0 107.68170187857324 1885.5098059482102\n",
      "Found 398 for acc sigma: 0.000000\n",
      "Found 52 for acc sigma: 0.300000\n",
      "Found 15 for acc sigma: 0.700000\n",
      "Brute force predictor perf.: 0.0687 0.0619 0.0412\n",
      "Loading label attribute models...\n",
      "Done\n",
      "Loding dataset...\n",
      "Number of arms: 4096 over 202599 instances -- shape: (4096, 12)\n",
      "Size of available unlabeled data: 100000\n",
      "Setting models...\n",
      "Initializing fitter...\n"
     ]
    },
    {
     "name": "stderr",
     "output_type": "stream",
     "text": [
      "Using joint model.\n",
      "Computing per arm accuracy\n",
      "Found 3698 unsupported arms of the total 4096 arms\n",
      "Done\n",
      "Best, worst, mean accuracy: 1.0000, 0.0000 0.8712\n",
      "Acc quantiles: [0.         0.5107362  0.88501391 0.97368421 1.         1.\n",
      " 1.        ]\n",
      "Worst arms: [0.         0.         0.         0.1        0.1        0.13636364\n",
      " 0.15       0.16666667 0.2        0.2        0.2        0.2\n",
      " 0.27272727 0.27777778 0.28571429 0.30379747 0.33333333 0.33333333\n",
      " 0.35526316 0.36363636 0.375      0.4        0.4        0.4\n",
      " 0.4        0.4        0.41509434 0.41666667 0.42592593 0.42857143]\n",
      "Read model from ../data/celeba/kernel.pb\n",
      "Temp: tensor([1.1906, 1.2827, 1.2269, 1.4947, 1.3000, 1.1529, 1.0865, 1.4081, 1.5273,\n",
      "        1.1343, 1.1124, 2.2262])\n",
      "Read model from ../data/celeba/kernel_no_edge_potential.pb\n",
      "Temp: tensor([1.2087, 1.3473, 1.2404, 1.5101, 1.3042, 1.0678, 1.1056, 1.4106, 1.2482,\n",
      "        1.0405, 1.0837, 1.6822])\n"
     ]
    },
    {
     "name": "stdout",
     "output_type": "stream",
     "text": [
      "Using seed: 1 for warm start\n",
      "NS: 1500, seed: 1 103.70741258825291 1889.6761580559432\n",
      "Found 398 for acc sigma: 0.000000\n",
      "Found 50 for acc sigma: 0.300000\n",
      "Found 15 for acc sigma: 0.700000\n",
      "Brute force predictor perf.: 0.0776 0.0702 0.0492\n",
      "Loading label attribute models...\n",
      "Done\n",
      "Loding dataset...\n",
      "Number of arms: 4096 over 202599 instances -- shape: (4096, 12)\n",
      "Size of available unlabeled data: 100000\n",
      "Setting models...\n",
      "Initializing fitter...\n"
     ]
    },
    {
     "name": "stderr",
     "output_type": "stream",
     "text": [
      "Using joint model.\n",
      "Computing per arm accuracy\n",
      "Found 3698 unsupported arms of the total 4096 arms\n",
      "Done\n",
      "Best, worst, mean accuracy: 1.0000, 0.0000 0.8712\n",
      "Acc quantiles: [0.         0.5107362  0.88501391 0.97368421 1.         1.\n",
      " 1.        ]\n",
      "Worst arms: [0.         0.         0.         0.1        0.1        0.13636364\n",
      " 0.15       0.16666667 0.2        0.2        0.2        0.2\n",
      " 0.27272727 0.27777778 0.28571429 0.30379747 0.33333333 0.33333333\n",
      " 0.35526316 0.36363636 0.375      0.4        0.4        0.4\n",
      " 0.4        0.4        0.41509434 0.41666667 0.42592593 0.42857143]\n",
      "Read model from ../data/celeba/kernel.pb\n",
      "Temp: tensor([1.1906, 1.2827, 1.2269, 1.4947, 1.3000, 1.1529, 1.0865, 1.4081, 1.5273,\n",
      "        1.1343, 1.1124, 2.2262])\n",
      "Read model from ../data/celeba/kernel_no_edge_potential.pb\n",
      "Temp: tensor([1.2087, 1.3473, 1.2404, 1.5101, 1.3042, 1.0678, 1.1056, 1.4106, 1.2482,\n",
      "        1.0405, 1.0837, 1.6822])\n"
     ]
    },
    {
     "name": "stdout",
     "output_type": "stream",
     "text": [
      "Using seed: 2 for warm start\n",
      "NS: 1500, seed: 2 118.67525766744862 1874.3637024258494\n",
      "Found 398 for acc sigma: 0.000000\n",
      "Found 54 for acc sigma: 0.300000\n",
      "Found 15 for acc sigma: 0.700000\n",
      "Brute force predictor perf.: 0.0794 0.0732 0.0510\n",
      "Loading label attribute models...\n",
      "Done\n",
      "Loding dataset...\n",
      "Number of arms: 4096 over 202599 instances -- shape: (4096, 12)\n",
      "Size of available unlabeled data: 100000\n",
      "Setting models...\n",
      "Initializing fitter...\n",
      "Using seed: 0 for warm start\n"
     ]
    },
    {
     "name": "stderr",
     "output_type": "stream",
     "text": [
      "Using joint model.\n",
      "Computing per arm accuracy\n",
      "Found 3698 unsupported arms of the total 4096 arms\n",
      "Done\n",
      "Best, worst, mean accuracy: 1.0000, 0.0000 0.8712\n",
      "Acc quantiles: [0.         0.5107362  0.88501391 0.97368421 1.         1.\n",
      " 1.        ]\n",
      "Worst arms: [0.         0.         0.         0.1        0.1        0.13636364\n",
      " 0.15       0.16666667 0.2        0.2        0.2        0.2\n",
      " 0.27272727 0.27777778 0.28571429 0.30379747 0.33333333 0.33333333\n",
      " 0.35526316 0.36363636 0.375      0.4        0.4        0.4\n",
      " 0.4        0.4        0.41509434 0.41666667 0.42592593 0.42857143]\n",
      "Read model from ../data/celeba/kernel.pb\n",
      "Temp: tensor([1.1906, 1.2827, 1.2269, 1.4947, 1.3000, 1.1529, 1.0865, 1.4081, 1.5273,\n",
      "        1.1343, 1.1124, 2.2262])\n",
      "Read model from ../data/celeba/kernel_no_edge_potential.pb\n",
      "Temp: tensor([1.2087, 1.3473, 1.2404, 1.5101, 1.3042, 1.0678, 1.1056, 1.4106, 1.2482,\n",
      "        1.0405, 1.0837, 1.6822])\n"
     ]
    },
    {
     "name": "stdout",
     "output_type": "stream",
     "text": [
      "NS: 3000, seed: 0 183.37542642268687 3302.796683332373\n",
      "Found 398 for acc sigma: 0.000000\n",
      "Found 50 for acc sigma: 0.300000\n",
      "Found 15 for acc sigma: 0.700000\n",
      "Brute force predictor perf.: 0.0661 0.0589 0.0403\n",
      "Loading label attribute models...\n",
      "Done\n",
      "Loding dataset...\n",
      "Number of arms: 4096 over 202599 instances -- shape: (4096, 12)\n",
      "Size of available unlabeled data: 100000\n",
      "Setting models...\n",
      "Initializing fitter...\n"
     ]
    },
    {
     "name": "stderr",
     "output_type": "stream",
     "text": [
      "Using joint model.\n",
      "Computing per arm accuracy\n",
      "Found 3698 unsupported arms of the total 4096 arms\n",
      "Done\n",
      "Best, worst, mean accuracy: 1.0000, 0.0000 0.8712\n",
      "Acc quantiles: [0.         0.5107362  0.88501391 0.97368421 1.         1.\n",
      " 1.        ]\n",
      "Worst arms: [0.         0.         0.         0.1        0.1        0.13636364\n",
      " 0.15       0.16666667 0.2        0.2        0.2        0.2\n",
      " 0.27272727 0.27777778 0.28571429 0.30379747 0.33333333 0.33333333\n",
      " 0.35526316 0.36363636 0.375      0.4        0.4        0.4\n",
      " 0.4        0.4        0.41509434 0.41666667 0.42592593 0.42857143]\n",
      "Read model from ../data/celeba/kernel.pb\n",
      "Temp: tensor([1.1906, 1.2827, 1.2269, 1.4947, 1.3000, 1.1529, 1.0865, 1.4081, 1.5273,\n",
      "        1.1343, 1.1124, 2.2262])\n",
      "Read model from ../data/celeba/kernel_no_edge_potential.pb\n",
      "Temp: tensor([1.2087, 1.3473, 1.2404, 1.5101, 1.3042, 1.0678, 1.1056, 1.4106, 1.2482,\n",
      "        1.0405, 1.0837, 1.6822])\n"
     ]
    },
    {
     "name": "stdout",
     "output_type": "stream",
     "text": [
      "Using seed: 1 for warm start\n",
      "NS: 3000, seed: 1 194.38671968521456 3292.025336679748\n",
      "Found 398 for acc sigma: 0.000000\n",
      "Found 48 for acc sigma: 0.300000\n",
      "Found 14 for acc sigma: 0.700000\n",
      "Brute force predictor perf.: 0.0687 0.0620 0.0408\n",
      "Loading label attribute models...\n",
      "Done\n",
      "Loding dataset...\n",
      "Number of arms: 4096 over 202599 instances -- shape: (4096, 12)\n",
      "Size of available unlabeled data: 100000\n",
      "Setting models...\n",
      "Initializing fitter...\n"
     ]
    },
    {
     "name": "stderr",
     "output_type": "stream",
     "text": [
      "Using joint model.\n",
      "Computing per arm accuracy\n",
      "Found 3698 unsupported arms of the total 4096 arms\n",
      "Done\n",
      "Best, worst, mean accuracy: 1.0000, 0.0000 0.8712\n",
      "Acc quantiles: [0.         0.5107362  0.88501391 0.97368421 1.         1.\n",
      " 1.        ]\n",
      "Worst arms: [0.         0.         0.         0.1        0.1        0.13636364\n",
      " 0.15       0.16666667 0.2        0.2        0.2        0.2\n",
      " 0.27272727 0.27777778 0.28571429 0.30379747 0.33333333 0.33333333\n",
      " 0.35526316 0.36363636 0.375      0.4        0.4        0.4\n",
      " 0.4        0.4        0.41509434 0.41666667 0.42592593 0.42857143]\n",
      "Read model from ../data/celeba/kernel.pb\n",
      "Temp: tensor([1.1906, 1.2827, 1.2269, 1.4947, 1.3000, 1.1529, 1.0865, 1.4081, 1.5273,\n",
      "        1.1343, 1.1124, 2.2262])\n",
      "Read model from ../data/celeba/kernel_no_edge_potential.pb\n",
      "Temp: tensor([1.2087, 1.3473, 1.2404, 1.5101, 1.3042, 1.0678, 1.1056, 1.4106, 1.2482,\n",
      "        1.0405, 1.0837, 1.6822])\n"
     ]
    },
    {
     "name": "stdout",
     "output_type": "stream",
     "text": [
      "Using seed: 2 for warm start\n",
      "NS: 3000, seed: 2 203.37927982628062 3282.6927245537495\n",
      "Found 398 for acc sigma: 0.000000\n",
      "Found 51 for acc sigma: 0.300000\n",
      "Found 14 for acc sigma: 0.700000\n",
      "Brute force predictor perf.: 0.0778 0.0708 0.0490\n"
     ]
    },
    {
     "ename": "NameError",
     "evalue": "name 'write' is not defined",
     "output_type": "error",
     "traceback": [
      "\u001b[0;31m---------------------------------------------------------------------------\u001b[0m",
      "\u001b[0;31mNameError\u001b[0m                                 Traceback (most recent call last)",
      "\u001b[0;32m<ipython-input-6-dce858b56f4c>\u001b[0m in \u001b[0;36m<module>\u001b[0;34m\u001b[0m\n\u001b[1;32m     33\u001b[0m             \u001b[0mgt_perfs\u001b[0m\u001b[0;34m.\u001b[0m\u001b[0mappend\u001b[0m\u001b[0;34m(\u001b[0m\u001b[0;34m(\u001b[0m\u001b[0mnum_sample\u001b[0m\u001b[0;34m,\u001b[0m \u001b[0merr_1\u001b[0m\u001b[0;34m,\u001b[0m \u001b[0merr_2\u001b[0m\u001b[0;34m,\u001b[0m \u001b[0merr_3\u001b[0m\u001b[0;34m)\u001b[0m\u001b[0;34m)\u001b[0m\u001b[0;34m\u001b[0m\u001b[0;34m\u001b[0m\u001b[0m\n\u001b[1;32m     34\u001b[0m \u001b[0;34m\u001b[0m\u001b[0m\n\u001b[0;32m---> 35\u001b[0;31m \u001b[0mwrite\u001b[0m\u001b[0;34m(\u001b[0m\u001b[0;34m[\u001b[0m\u001b[0;34m(\u001b[0m\u001b[0mcalibrated_perfs\u001b[0m\u001b[0;34m,\u001b[0m \u001b[0;34m\"calwpool:full\"\u001b[0m\u001b[0;34m)\u001b[0m\u001b[0;34m]\u001b[0m\u001b[0;34m,\u001b[0m \u001b[0;34m\"celeba\"\u001b[0m\u001b[0;34m)\u001b[0m\u001b[0;34m\u001b[0m\u001b[0;34m\u001b[0m\u001b[0m\n\u001b[0m\u001b[1;32m     36\u001b[0m \u001b[0;31m# , (noep_calibrated_perfs, \"calwpool:temp\"), (uncalibrated_perfs, \"calwpool:raw\"), (gt_perfs, \"calwpool:gold\")], \"celeba\")\u001b[0m\u001b[0;34m\u001b[0m\u001b[0;34m\u001b[0m\u001b[0;34m\u001b[0m\u001b[0m\n",
      "\u001b[0;31mNameError\u001b[0m: name 'write' is not defined"
     ]
    }
   ],
   "source": [
    "import celeba\n",
    "dev = torch.device(\"cpu\")\n",
    "\n",
    "celeba.root_dir = \"../data/celeba\"\n",
    "calibrated_perfs, noep_calibrated_perfs, uncalibrated_perfs, gt_perfs = [], [], [], []\n",
    "debug_objs = []\n",
    "err_ns = [0., 0.3, 0.7]\n",
    "sts = [\"correctedwep\"] #, \"correctednoep\", \"raw\", \"gt\"]\n",
    "\n",
    "def perf_wpool(num_sample, sample_type):\n",
    "    err1s, err2s, err3s = [], [], []\n",
    "    for seed in range(3):\n",
    "        celeba_dataset, celeba_data_fitter = celeba.prepare(seed)\n",
    "        explorer = beta_explorer.BetaExplorer(celeba_dataset, celeba_data_fitter, celeba_data_fitter.cache_dir, dev, \n",
    "                                              explore_strategy='variance', err_ns=err_ns)\n",
    "        np.random.seed(seed)\n",
    "        err_1, err_2, err_3, all_err = explorer.brute_predictor_wpool(num_sample, width=3, sample_type=sample_type)\n",
    "        err1s.append(err_1)\n",
    "        err2s.append(err_2)\n",
    "        err3s.append(err_3)\n",
    "    return np.mean(err1s), np.mean(err2s), np.mean(err3s)\n",
    "\n",
    "for num_sample in [500, 1500, 3000]:\n",
    "    for sti, st in enumerate(sts):\n",
    "        err_1, err_2, err_3 = perf_wpool(num_sample, st)\n",
    "        if sti == 0:        \n",
    "            calibrated_perfs.append((num_sample, err_1, err_2, err_3))\n",
    "        elif sti == 1:\n",
    "            noep_calibrated_perfs.append((num_sample, err_1, err_2, err_3))\n",
    "        elif sti == 2:\n",
    "            uncalibrated_perfs.append((num_sample, err_1, err_2, err_3))   \n",
    "        elif sti == 3:\n",
    "            gt_perfs.append((num_sample, err_1, err_2, err_3))   \n",
    "    \n",
    "write([(calibrated_perfs, \"calwpool:full\")], \"celeba\")\n",
    "# , (noep_calibrated_perfs, \"calwpool:temp\"), (uncalibrated_perfs, \"calwpool:raw\"), (gt_perfs, \"calwpool:gold\")], \"celeba\")"
   ]
  },
  {
   "cell_type": "code",
   "execution_count": 7,
   "metadata": {},
   "outputs": [
    {
     "data": {
      "text/plain": [
       "([(500, 0.08434038375221693, 0.07718561150271576, 0.05293018275442327),\n",
       "  (1500, 0.07522548280868481, 0.06839994446659294, 0.04713778119699871),\n",
       "  (3000, 0.07087878600183421, 0.06389758897202295, 0.04334973978737113)],\n",
       " [],\n",
       " [],\n",
       " [])"
      ]
     },
     "execution_count": 7,
     "metadata": {},
     "output_type": "execute_result"
    }
   ],
   "source": [
    "calibrated_perfs, noep_calibrated_perfs, uncalibrated_perfs, gt_perfs"
   ]
  },
  {
   "cell_type": "code",
   "execution_count": 5,
   "metadata": {},
   "outputs": [
    {
     "data": {
      "text/plain": [
       "([(0, 0.05366673825528467, 0.04803383207104483, 0.021290361040079392),\n",
       "  (500, 0.049355783427051596, 0.0438269501516815, 0.018979666292716427),\n",
       "  (1000, 0.04751764504791289, 0.042086442397411626, 0.018065211229613045),\n",
       "  (1500, 0.04664230143626835, 0.041431045407031686, 0.018065211229613045),\n",
       "  (2000, 0.04677278488669312, 0.041318375766082535, 0.018065211229613045),\n",
       "  (3000, 0.04619893517255395, 0.040589332178084976, 0.0180743824950575),\n",
       "  (4000, 0.04526369329442842, 0.039958318697126786, 0.01696451359275089),\n",
       "  (5000, 0.0450261644150839, 0.03978569559125728, 0.017013189931874458)],\n",
       " [(0, 0.05366673825528467, 0.04803383207104483, 0.021290361040079392),\n",
       "  (500, 0.05194154244559984, 0.04621722812658822, 0.020341882571434624),\n",
       "  (1000, 0.05062580786419718, 0.045260194283861965, 0.020341882571434624),\n",
       "  (1500, 0.049623995430107364, 0.04439026928721799, 0.020341882571434624),\n",
       "  (2000, 0.04915036251141854, 0.04389764791573389, 0.020341882571434624),\n",
       "  (3000, 0.04872984466841765, 0.04328535583139675, 0.020341882571434624),\n",
       "  (4000, 0.048357838267471275, 0.04291233352672497, 0.020341882571434624),\n",
       "  (5000, 0.04820400344105352, 0.04257872992350279, 0.020341882571434624)],\n",
       " [(0, 0.05366673825528467, 0.04803383207104483, 0.021290361040079392),\n",
       "  (500, 0.05359979610578105, 0.048022942359144734, 0.021290361040079392),\n",
       "  (1000, 0.053676276310198695, 0.048119497870322846, 0.021290361040079392),\n",
       "  (1500, 0.053736024040694795, 0.04812519074348933, 0.021290361040079392),\n",
       "  (2000, 0.053723220891001545, 0.04812719293453019, 0.021290361040079392),\n",
       "  (3000, 0.05457582560129728, 0.04896617632211913, 0.02193826741077585),\n",
       "  (4000, 0.05467152538926245, 0.04893485598603765, 0.02193826741077585),\n",
       "  (5000, 0.05474739332408044, 0.04888711372343813, 0.02193826741077585)],\n",
       " [(0, 0.05366673825528467, 0.04803383207104483, 0.021290361040079392),\n",
       "  (500, 0.05373314157811412, 0.04798283302872804, 0.02129499005477736),\n",
       "  (1000, 0.05048892506669058, 0.04494494847867082, 0.019263080507038666),\n",
       "  (1500, 0.04927406007057996, 0.04364897897166251, 0.020062827167187307),\n",
       "  (2000, 0.05009371384734174, 0.0444437240255904, 0.020975502249249975),\n",
       "  (3000, 0.04662804440611331, 0.0410962855892591, 0.018715294929260915),\n",
       "  (4000, 0.04402052898299554, 0.03821775055584597, 0.018387061559820336),\n",
       "  (5000, 0.04152915324686276, 0.036049578919097276, 0.017617461964244366)])"
      ]
     },
     "execution_count": 5,
     "metadata": {},
     "output_type": "execute_result"
    }
   ],
   "source": [
    "# Simple wo pooling\n",
    "calibrated_perfs, noep_calibrated_perfs, uncalibrated_perfs, gt_perfs"
   ]
  },
  {
   "cell_type": "code",
   "execution_count": 10,
   "metadata": {},
   "outputs": [
    {
     "name": "stdout",
     "output_type": "stream",
     "text": [
      "[(0, 0.1292835674792903, 0.078714881135887, 0.025564891228578277), (500, 0.12240042854220538, 0.07274086456200675, 0.022789231691950296), (1000, 0.11963952467112904, 0.07036135433748124, 0.021545572960713005), (1500, 0.11794046093811171, 0.0695128467939562, 0.021545572960713005), (2000, 0.11790574749661022, 0.06903197553164292, 0.021545572960713005), (3000, 0.11696300261420219, 0.06754905173710919, 0.021551739087890005), (4000, 0.11569526840865148, 0.06738939277360198, 0.020551741247101622), (5000, 0.11492883355758236, 0.06692030503993006, 0.020583565290472536)]\n"
     ]
    }
   ],
   "source": [
    "import pickle\n",
    "with open(\"../data/celeba/cal:full.pkl\", \"rb\") as f:\n",
    "    print (pickle.load(f))"
   ]
  },
  {
   "cell_type": "code",
   "execution_count": 84,
   "metadata": {},
   "outputs": [
    {
     "data": {
      "image/png": "[encoded data removed]",
      "text/plain": [
       "<Figure size 432x288 with 1 Axes>"
      ]
     },
     "metadata": {
      "needs_background": "light"
     },
     "output_type": "display_data"
    }
   ],
   "source": [
    "plot(\"celeba\", \"CelebA\", \"../plots/celeba_calibration.png\")"
   ]
  },
  {
   "cell_type": "markdown",
   "metadata": {},
   "source": [
    "# CelebA w Private"
   ]
  },
  {
   "cell_type": "code",
   "execution_count": 8,
   "metadata": {},
   "outputs": [
    {
     "name": "stdout",
     "output_type": "stream",
     "text": [
      "tensor(0.9500)\n",
      "tensor(0.9907)\n"
     ]
    }
   ],
   "source": [
    "import torch\n",
    "\n",
    "def mu_transform(x):\n",
    "    return torch.sigmoid(6*x-3)\n",
    "\n",
    "def rev_mu_transform(y):\n",
    "    return (-torch.log(1./y - 1) + 3)/6\n",
    "\n",
    "print (mu_transform(torch.tensor(0.9907)))\n",
    "print (rev_mu_transform(torch.tensor(0.95)))"
   ]
  },
  {
   "cell_type": "code",
   "execution_count": null,
   "metadata": {},
   "outputs": [],
   "source": [
    "import celeba_private\n",
    "dev = torch.device(\"cpu\")\n",
    "\n",
    "celeba_private.root_dir = \"../data/celeba_private\"\n",
    "celeba_private.celeba_root_dir = \"../data/celeba\"\n",
    "celeba_private.private_celeba_root_dir = \"../../age-gender-estimation\"\n",
    "calibrated_perfs, noep_calibrated_perfs, uncalibrated_perfs, gt_perfs = [], [], [], []\n",
    "sts = [\"correctedwep\", \"correctednoep\", \"raw\", \"gt\"]\n",
    "\n",
    "celeba_dataset, celeba_data_fitter = celeba_private.prepare(0)\n",
    "worst_arms = [(ai, val) for ai, val in enumerate(celeba_data_fitter.arm_index_to_acc) if val is not np.nan and val<0.75]\n",
    "for ai, val in worst_arms:\n",
    "    print (celeba_dataset.arms[ai], ai, val)"
   ]
  },
  {
   "cell_type": "code",
   "execution_count": 14,
   "metadata": {
    "scrolled": true
   },
   "outputs": [
    {
     "name": "stdout",
     "output_type": "stream",
     "text": [
      "Loading label attribute models...\n",
      "Loding dataset...\n",
      "Number of arms: 4096 over 202599 instances -- shape: (4096, 12)\n",
      "Size of available unlabeled data: 100000\n",
      "Setting models...\n",
      "Initializing fitter...\n",
      "Using seed: 0 for warm start\n"
     ]
    },
    {
     "name": "stderr",
     "output_type": "stream",
     "text": [
      "Computing per arm accuracy\n",
      "Found 3698 unsupported arms of the total 4096 arms\n",
      "Done\n",
      "Best, worst, mean accuracy: 1.0000, 0.3000 0.9366\n",
      "Acc quantiles: [0.3        0.82324478 0.92873754 0.976      1.         1.\n",
      " 1.        ]\n",
      "Worst arms: [0.3        0.3        0.4        0.42857143 0.5        0.5\n",
      " 0.5        0.525      0.55555556 0.59615385 0.6        0.6\n",
      " 0.66666667 0.66666667 0.70833333 0.72222222 0.72727273 0.72727273\n",
      " 0.73684211 0.75       0.75       0.76923077 0.77777778 0.77837838\n",
      " 0.8        0.8        0.8        0.8        0.8        0.8       ]\n",
      "Read model from ../data/celeba_private/kernel.pb\n",
      "Temp: tensor([1.1824, 1.2758, 1.2325, 1.4758, 4.0888, 1.0795, 1.0934, 1.3858, 1.5746,\n",
      "        1.1410, 1.1148, 2.1117])\n",
      "Read model from ../data/celeba_private/kernel_no_edge_potential.pb\n",
      "Temp: tensor([1.2087, 1.3466, 1.2392, 1.5125, 4.2045, 1.0678, 1.1056, 1.4129, 1.2241,\n",
      "        1.0406, 1.0837, 1.6743])\n"
     ]
    },
    {
     "name": "stdout",
     "output_type": "stream",
     "text": [
      "NS: 0, seed: 0 21.0 479.0\n",
      "Num untouched: 3977/4096\n",
      "Found 398 for acc sigma: 0.000000\n",
      "Found 18 for acc sigma: 0.300000\n",
      "Found 2 for acc sigma: 0.700000\n",
      "Brute force predictor perf.: 0.0165 0.0117 0.0033\n",
      "Loading label attribute models...\n",
      "Loding dataset...\n",
      "Number of arms: 4096 over 202599 instances -- shape: (4096, 12)\n",
      "Size of available unlabeled data: 100000\n",
      "Setting models...\n",
      "Initializing fitter...\n"
     ]
    },
    {
     "name": "stderr",
     "output_type": "stream",
     "text": [
      "Computing per arm accuracy\n",
      "Found 3698 unsupported arms of the total 4096 arms\n",
      "Done\n",
      "Best, worst, mean accuracy: 1.0000, 0.3000 0.9366\n",
      "Acc quantiles: [0.3        0.82324478 0.92873754 0.976      1.         1.\n",
      " 1.        ]\n",
      "Worst arms: [0.3        0.3        0.4        0.42857143 0.5        0.5\n",
      " 0.5        0.525      0.55555556 0.59615385 0.6        0.6\n",
      " 0.66666667 0.66666667 0.70833333 0.72222222 0.72727273 0.72727273\n",
      " 0.73684211 0.75       0.75       0.76923077 0.77777778 0.77837838\n",
      " 0.8        0.8        0.8        0.8        0.8        0.8       ]\n",
      "Read model from ../data/celeba_private/kernel.pb\n",
      "Temp: tensor([1.1824, 1.2758, 1.2325, 1.4758, 4.0888, 1.0795, 1.0934, 1.3858, 1.5746,\n",
      "        1.1410, 1.1148, 2.1117])\n",
      "Read model from ../data/celeba_private/kernel_no_edge_potential.pb\n",
      "Temp: tensor([1.2087, 1.3466, 1.2392, 1.5125, 4.2045, 1.0678, 1.1056, 1.4129, 1.2241,\n",
      "        1.0406, 1.0837, 1.6743])\n"
     ]
    },
    {
     "name": "stdout",
     "output_type": "stream",
     "text": [
      "Using seed: 1 for warm start\n",
      "NS: 0, seed: 1 17.0 483.0\n",
      "Num untouched: 3981/4096\n",
      "Found 398 for acc sigma: 0.000000\n",
      "Found 19 for acc sigma: 0.300000\n",
      "Found 4 for acc sigma: 0.700000\n",
      "Brute force predictor perf.: 0.0216 0.0168 0.0079\n",
      "Loading label attribute models...\n",
      "Loding dataset...\n",
      "Number of arms: 4096 over 202599 instances -- shape: (4096, 12)\n",
      "Size of available unlabeled data: 100000\n",
      "Setting models...\n",
      "Initializing fitter...\n"
     ]
    },
    {
     "name": "stderr",
     "output_type": "stream",
     "text": [
      "Computing per arm accuracy\n",
      "Found 3698 unsupported arms of the total 4096 arms\n",
      "Done\n",
      "Best, worst, mean accuracy: 1.0000, 0.3000 0.9366\n",
      "Acc quantiles: [0.3        0.82324478 0.92873754 0.976      1.         1.\n",
      " 1.        ]\n",
      "Worst arms: [0.3        0.3        0.4        0.42857143 0.5        0.5\n",
      " 0.5        0.525      0.55555556 0.59615385 0.6        0.6\n",
      " 0.66666667 0.66666667 0.70833333 0.72222222 0.72727273 0.72727273\n",
      " 0.73684211 0.75       0.75       0.76923077 0.77777778 0.77837838\n",
      " 0.8        0.8        0.8        0.8        0.8        0.8       ]\n",
      "Read model from ../data/celeba_private/kernel.pb\n",
      "Temp: tensor([1.1824, 1.2758, 1.2325, 1.4758, 4.0888, 1.0795, 1.0934, 1.3858, 1.5746,\n",
      "        1.1410, 1.1148, 2.1117])\n",
      "Read model from ../data/celeba_private/kernel_no_edge_potential.pb\n",
      "Temp: tensor([1.2087, 1.3466, 1.2392, 1.5125, 4.2045, 1.0678, 1.1056, 1.4129, 1.2241,\n",
      "        1.0406, 1.0837, 1.6743])\n"
     ]
    },
    {
     "name": "stdout",
     "output_type": "stream",
     "text": [
      "Using seed: 2 for warm start\n",
      "NS: 0, seed: 2 17.0 483.0\n",
      "Num untouched: 3973/4096\n",
      "Found 398 for acc sigma: 0.000000\n",
      "Found 15 for acc sigma: 0.300000\n",
      "Found 2 for acc sigma: 0.700000\n",
      "Brute force predictor perf.: 0.0157 0.0108 0.0036\n",
      "Loading label attribute models...\n",
      "Loding dataset...\n",
      "Number of arms: 4096 over 202599 instances -- shape: (4096, 12)\n",
      "Size of available unlabeled data: 100000\n",
      "Setting models...\n",
      "Initializing fitter...\n",
      "Using seed: 0 for warm start\n"
     ]
    },
    {
     "name": "stderr",
     "output_type": "stream",
     "text": [
      "Computing per arm accuracy\n",
      "Found 3698 unsupported arms of the total 4096 arms\n",
      "Done\n",
      "Best, worst, mean accuracy: 1.0000, 0.3000 0.9366\n",
      "Acc quantiles: [0.3        0.82324478 0.92873754 0.976      1.         1.\n",
      " 1.        ]\n",
      "Worst arms: [0.3        0.3        0.4        0.42857143 0.5        0.5\n",
      " 0.5        0.525      0.55555556 0.59615385 0.6        0.6\n",
      " 0.66666667 0.66666667 0.70833333 0.72222222 0.72727273 0.72727273\n",
      " 0.73684211 0.75       0.75       0.76923077 0.77777778 0.77837838\n",
      " 0.8        0.8        0.8        0.8        0.8        0.8       ]\n",
      "Read model from ../data/celeba_private/kernel.pb\n",
      "Temp: tensor([1.1824, 1.2758, 1.2325, 1.4758, 4.0888, 1.0795, 1.0934, 1.3858, 1.5746,\n",
      "        1.1410, 1.1148, 2.1117])\n",
      "Read model from ../data/celeba_private/kernel_no_edge_potential.pb\n",
      "Temp: tensor([1.2087, 1.3466, 1.2392, 1.5125, 4.2045, 1.0678, 1.1056, 1.4129, 1.2241,\n",
      "        1.0406, 1.0837, 1.6743])\n"
     ]
    },
    {
     "name": "stdout",
     "output_type": "stream",
     "text": [
      "NS: 0, seed: 0 21.0 479.0\n",
      "Num untouched: 3977/4096\n",
      "Found 398 for acc sigma: 0.000000\n",
      "Found 18 for acc sigma: 0.300000\n",
      "Found 2 for acc sigma: 0.700000\n",
      "Brute force predictor perf.: 0.0165 0.0117 0.0033\n",
      "Loading label attribute models...\n",
      "Loding dataset...\n",
      "Number of arms: 4096 over 202599 instances -- shape: (4096, 12)\n",
      "Size of available unlabeled data: 100000\n",
      "Setting models...\n",
      "Initializing fitter...\n"
     ]
    },
    {
     "name": "stderr",
     "output_type": "stream",
     "text": [
      "Computing per arm accuracy\n",
      "Found 3698 unsupported arms of the total 4096 arms\n",
      "Done\n",
      "Best, worst, mean accuracy: 1.0000, 0.3000 0.9366\n",
      "Acc quantiles: [0.3        0.82324478 0.92873754 0.976      1.         1.\n",
      " 1.        ]\n",
      "Worst arms: [0.3        0.3        0.4        0.42857143 0.5        0.5\n",
      " 0.5        0.525      0.55555556 0.59615385 0.6        0.6\n",
      " 0.66666667 0.66666667 0.70833333 0.72222222 0.72727273 0.72727273\n",
      " 0.73684211 0.75       0.75       0.76923077 0.77777778 0.77837838\n",
      " 0.8        0.8        0.8        0.8        0.8        0.8       ]\n",
      "Read model from ../data/celeba_private/kernel.pb\n",
      "Temp: tensor([1.1824, 1.2758, 1.2325, 1.4758, 4.0888, 1.0795, 1.0934, 1.3858, 1.5746,\n",
      "        1.1410, 1.1148, 2.1117])\n",
      "Read model from ../data/celeba_private/kernel_no_edge_potential.pb\n",
      "Temp: tensor([1.2087, 1.3466, 1.2392, 1.5125, 4.2045, 1.0678, 1.1056, 1.4129, 1.2241,\n",
      "        1.0406, 1.0837, 1.6743])\n"
     ]
    },
    {
     "name": "stdout",
     "output_type": "stream",
     "text": [
      "Using seed: 1 for warm start\n",
      "NS: 0, seed: 1 17.0 483.0\n",
      "Num untouched: 3981/4096\n",
      "Found 398 for acc sigma: 0.000000\n",
      "Found 19 for acc sigma: 0.300000\n",
      "Found 4 for acc sigma: 0.700000\n",
      "Brute force predictor perf.: 0.0216 0.0168 0.0079\n",
      "Loading label attribute models...\n",
      "Loding dataset...\n",
      "Number of arms: 4096 over 202599 instances -- shape: (4096, 12)\n",
      "Size of available unlabeled data: 100000\n",
      "Setting models...\n",
      "Initializing fitter...\n"
     ]
    },
    {
     "name": "stderr",
     "output_type": "stream",
     "text": [
      "Computing per arm accuracy\n",
      "Found 3698 unsupported arms of the total 4096 arms\n",
      "Done\n",
      "Best, worst, mean accuracy: 1.0000, 0.3000 0.9366\n",
      "Acc quantiles: [0.3        0.82324478 0.92873754 0.976      1.         1.\n",
      " 1.        ]\n",
      "Worst arms: [0.3        0.3        0.4        0.42857143 0.5        0.5\n",
      " 0.5        0.525      0.55555556 0.59615385 0.6        0.6\n",
      " 0.66666667 0.66666667 0.70833333 0.72222222 0.72727273 0.72727273\n",
      " 0.73684211 0.75       0.75       0.76923077 0.77777778 0.77837838\n",
      " 0.8        0.8        0.8        0.8        0.8        0.8       ]\n",
      "Read model from ../data/celeba_private/kernel.pb\n",
      "Temp: tensor([1.1824, 1.2758, 1.2325, 1.4758, 4.0888, 1.0795, 1.0934, 1.3858, 1.5746,\n",
      "        1.1410, 1.1148, 2.1117])\n",
      "Read model from ../data/celeba_private/kernel_no_edge_potential.pb\n",
      "Temp: tensor([1.2087, 1.3466, 1.2392, 1.5125, 4.2045, 1.0678, 1.1056, 1.4129, 1.2241,\n",
      "        1.0406, 1.0837, 1.6743])\n"
     ]
    },
    {
     "name": "stdout",
     "output_type": "stream",
     "text": [
      "Using seed: 2 for warm start\n",
      "NS: 0, seed: 2 17.0 483.0\n",
      "Num untouched: 3973/4096\n",
      "Found 398 for acc sigma: 0.000000\n",
      "Found 15 for acc sigma: 0.300000\n",
      "Found 2 for acc sigma: 0.700000\n",
      "Brute force predictor perf.: 0.0157 0.0108 0.0036\n",
      "Loading label attribute models...\n",
      "Loding dataset...\n",
      "Number of arms: 4096 over 202599 instances -- shape: (4096, 12)\n",
      "Size of available unlabeled data: 100000\n",
      "Setting models...\n",
      "Initializing fitter...\n",
      "Using seed: 0 for warm start\n"
     ]
    },
    {
     "name": "stderr",
     "output_type": "stream",
     "text": [
      "Computing per arm accuracy\n",
      "Found 3698 unsupported arms of the total 4096 arms\n",
      "Done\n",
      "Best, worst, mean accuracy: 1.0000, 0.3000 0.9366\n",
      "Acc quantiles: [0.3        0.82324478 0.92873754 0.976      1.         1.\n",
      " 1.        ]\n",
      "Worst arms: [0.3        0.3        0.4        0.42857143 0.5        0.5\n",
      " 0.5        0.525      0.55555556 0.59615385 0.6        0.6\n",
      " 0.66666667 0.66666667 0.70833333 0.72222222 0.72727273 0.72727273\n",
      " 0.73684211 0.75       0.75       0.76923077 0.77777778 0.77837838\n",
      " 0.8        0.8        0.8        0.8        0.8        0.8       ]\n",
      "Read model from ../data/celeba_private/kernel.pb\n",
      "Temp: tensor([1.1824, 1.2758, 1.2325, 1.4758, 4.0888, 1.0795, 1.0934, 1.3858, 1.5746,\n",
      "        1.1410, 1.1148, 2.1117])\n",
      "Read model from ../data/celeba_private/kernel_no_edge_potential.pb\n",
      "Temp: tensor([1.2087, 1.3466, 1.2392, 1.5125, 4.2045, 1.0678, 1.1056, 1.4129, 1.2241,\n",
      "        1.0406, 1.0837, 1.6743])\n"
     ]
    },
    {
     "name": "stdout",
     "output_type": "stream",
     "text": [
      "NS: 0, seed: 0 21.0 479.0\n",
      "Num untouched: 3977/4096\n",
      "Found 398 for acc sigma: 0.000000\n",
      "Found 18 for acc sigma: 0.300000\n",
      "Found 2 for acc sigma: 0.700000\n",
      "Brute force predictor perf.: 0.0165 0.0117 0.0033\n",
      "Loading label attribute models...\n",
      "Loding dataset...\n",
      "Number of arms: 4096 over 202599 instances -- shape: (4096, 12)\n",
      "Size of available unlabeled data: 100000\n",
      "Setting models...\n",
      "Initializing fitter...\n"
     ]
    },
    {
     "name": "stderr",
     "output_type": "stream",
     "text": [
      "Computing per arm accuracy\n",
      "Found 3698 unsupported arms of the total 4096 arms\n",
      "Done\n",
      "Best, worst, mean accuracy: 1.0000, 0.3000 0.9366\n",
      "Acc quantiles: [0.3        0.82324478 0.92873754 0.976      1.         1.\n",
      " 1.        ]\n",
      "Worst arms: [0.3        0.3        0.4        0.42857143 0.5        0.5\n",
      " 0.5        0.525      0.55555556 0.59615385 0.6        0.6\n",
      " 0.66666667 0.66666667 0.70833333 0.72222222 0.72727273 0.72727273\n",
      " 0.73684211 0.75       0.75       0.76923077 0.77777778 0.77837838\n",
      " 0.8        0.8        0.8        0.8        0.8        0.8       ]\n",
      "Read model from ../data/celeba_private/kernel.pb\n",
      "Temp: tensor([1.1824, 1.2758, 1.2325, 1.4758, 4.0888, 1.0795, 1.0934, 1.3858, 1.5746,\n",
      "        1.1410, 1.1148, 2.1117])\n",
      "Read model from ../data/celeba_private/kernel_no_edge_potential.pb\n",
      "Temp: tensor([1.2087, 1.3466, 1.2392, 1.5125, 4.2045, 1.0678, 1.1056, 1.4129, 1.2241,\n",
      "        1.0406, 1.0837, 1.6743])\n"
     ]
    },
    {
     "name": "stdout",
     "output_type": "stream",
     "text": [
      "Using seed: 1 for warm start\n",
      "NS: 0, seed: 1 17.0 483.0\n",
      "Num untouched: 3981/4096\n",
      "Found 398 for acc sigma: 0.000000\n",
      "Found 19 for acc sigma: 0.300000\n",
      "Found 4 for acc sigma: 0.700000\n",
      "Brute force predictor perf.: 0.0216 0.0168 0.0079\n",
      "Loading label attribute models...\n",
      "Loding dataset...\n",
      "Number of arms: 4096 over 202599 instances -- shape: (4096, 12)\n",
      "Size of available unlabeled data: 100000\n",
      "Setting models...\n",
      "Initializing fitter...\n"
     ]
    },
    {
     "name": "stderr",
     "output_type": "stream",
     "text": [
      "Computing per arm accuracy\n",
      "Found 3698 unsupported arms of the total 4096 arms\n",
      "Done\n",
      "Best, worst, mean accuracy: 1.0000, 0.3000 0.9366\n",
      "Acc quantiles: [0.3        0.82324478 0.92873754 0.976      1.         1.\n",
      " 1.        ]\n",
      "Worst arms: [0.3        0.3        0.4        0.42857143 0.5        0.5\n",
      " 0.5        0.525      0.55555556 0.59615385 0.6        0.6\n",
      " 0.66666667 0.66666667 0.70833333 0.72222222 0.72727273 0.72727273\n",
      " 0.73684211 0.75       0.75       0.76923077 0.77777778 0.77837838\n",
      " 0.8        0.8        0.8        0.8        0.8        0.8       ]\n",
      "Read model from ../data/celeba_private/kernel.pb\n",
      "Temp: tensor([1.1824, 1.2758, 1.2325, 1.4758, 4.0888, 1.0795, 1.0934, 1.3858, 1.5746,\n",
      "        1.1410, 1.1148, 2.1117])\n",
      "Read model from ../data/celeba_private/kernel_no_edge_potential.pb\n",
      "Temp: tensor([1.2087, 1.3466, 1.2392, 1.5125, 4.2045, 1.0678, 1.1056, 1.4129, 1.2241,\n",
      "        1.0406, 1.0837, 1.6743])\n"
     ]
    },
    {
     "name": "stdout",
     "output_type": "stream",
     "text": [
      "Using seed: 2 for warm start\n",
      "NS: 0, seed: 2 17.0 483.0\n",
      "Num untouched: 3973/4096\n",
      "Found 398 for acc sigma: 0.000000\n",
      "Found 15 for acc sigma: 0.300000\n",
      "Found 2 for acc sigma: 0.700000\n",
      "Brute force predictor perf.: 0.0157 0.0108 0.0036\n",
      "Loading label attribute models...\n",
      "Loding dataset...\n",
      "Number of arms: 4096 over 202599 instances -- shape: (4096, 12)\n",
      "Size of available unlabeled data: 100000\n",
      "Setting models...\n",
      "Initializing fitter...\n",
      "Using seed: 0 for warm start\n"
     ]
    },
    {
     "name": "stderr",
     "output_type": "stream",
     "text": [
      "Computing per arm accuracy\n",
      "Found 3698 unsupported arms of the total 4096 arms\n",
      "Done\n",
      "Best, worst, mean accuracy: 1.0000, 0.3000 0.9366\n",
      "Acc quantiles: [0.3        0.82324478 0.92873754 0.976      1.         1.\n",
      " 1.        ]\n",
      "Worst arms: [0.3        0.3        0.4        0.42857143 0.5        0.5\n",
      " 0.5        0.525      0.55555556 0.59615385 0.6        0.6\n",
      " 0.66666667 0.66666667 0.70833333 0.72222222 0.72727273 0.72727273\n",
      " 0.73684211 0.75       0.75       0.76923077 0.77777778 0.77837838\n",
      " 0.8        0.8        0.8        0.8        0.8        0.8       ]\n",
      "Read model from ../data/celeba_private/kernel.pb\n",
      "Temp: tensor([1.1824, 1.2758, 1.2325, 1.4758, 4.0888, 1.0795, 1.0934, 1.3858, 1.5746,\n",
      "        1.1410, 1.1148, 2.1117])\n",
      "Read model from ../data/celeba_private/kernel_no_edge_potential.pb\n",
      "Temp: tensor([1.2087, 1.3466, 1.2392, 1.5125, 4.2045, 1.0678, 1.1056, 1.4129, 1.2241,\n",
      "        1.0406, 1.0837, 1.6743])\n"
     ]
    },
    {
     "name": "stdout",
     "output_type": "stream",
     "text": [
      "NS: 0, seed: 0 21.0 479.0\n",
      "Num untouched: 3977/4096\n",
      "Found 398 for acc sigma: 0.000000\n",
      "Found 18 for acc sigma: 0.300000\n",
      "Found 2 for acc sigma: 0.700000\n",
      "Brute force predictor perf.: 0.0165 0.0117 0.0033\n",
      "Loading label attribute models...\n",
      "Loding dataset...\n",
      "Number of arms: 4096 over 202599 instances -- shape: (4096, 12)\n",
      "Size of available unlabeled data: 100000\n",
      "Setting models...\n",
      "Initializing fitter...\n"
     ]
    },
    {
     "name": "stderr",
     "output_type": "stream",
     "text": [
      "Computing per arm accuracy\n",
      "Found 3698 unsupported arms of the total 4096 arms\n",
      "Done\n",
      "Best, worst, mean accuracy: 1.0000, 0.3000 0.9366\n",
      "Acc quantiles: [0.3        0.82324478 0.92873754 0.976      1.         1.\n",
      " 1.        ]\n",
      "Worst arms: [0.3        0.3        0.4        0.42857143 0.5        0.5\n",
      " 0.5        0.525      0.55555556 0.59615385 0.6        0.6\n",
      " 0.66666667 0.66666667 0.70833333 0.72222222 0.72727273 0.72727273\n",
      " 0.73684211 0.75       0.75       0.76923077 0.77777778 0.77837838\n",
      " 0.8        0.8        0.8        0.8        0.8        0.8       ]\n",
      "Read model from ../data/celeba_private/kernel.pb\n",
      "Temp: tensor([1.1824, 1.2758, 1.2325, 1.4758, 4.0888, 1.0795, 1.0934, 1.3858, 1.5746,\n",
      "        1.1410, 1.1148, 2.1117])\n",
      "Read model from ../data/celeba_private/kernel_no_edge_potential.pb\n",
      "Temp: tensor([1.2087, 1.3466, 1.2392, 1.5125, 4.2045, 1.0678, 1.1056, 1.4129, 1.2241,\n",
      "        1.0406, 1.0837, 1.6743])\n"
     ]
    },
    {
     "name": "stdout",
     "output_type": "stream",
     "text": [
      "Using seed: 1 for warm start\n",
      "NS: 0, seed: 1 17.0 483.0\n",
      "Num untouched: 3981/4096\n",
      "Found 398 for acc sigma: 0.000000\n",
      "Found 19 for acc sigma: 0.300000\n",
      "Found 4 for acc sigma: 0.700000\n",
      "Brute force predictor perf.: 0.0216 0.0168 0.0079\n",
      "Loading label attribute models...\n",
      "Loding dataset...\n",
      "Number of arms: 4096 over 202599 instances -- shape: (4096, 12)\n",
      "Size of available unlabeled data: 100000\n",
      "Setting models...\n",
      "Initializing fitter...\n"
     ]
    },
    {
     "name": "stderr",
     "output_type": "stream",
     "text": [
      "Computing per arm accuracy\n",
      "Found 3698 unsupported arms of the total 4096 arms\n",
      "Done\n",
      "Best, worst, mean accuracy: 1.0000, 0.3000 0.9366\n",
      "Acc quantiles: [0.3        0.82324478 0.92873754 0.976      1.         1.\n",
      " 1.        ]\n",
      "Worst arms: [0.3        0.3        0.4        0.42857143 0.5        0.5\n",
      " 0.5        0.525      0.55555556 0.59615385 0.6        0.6\n",
      " 0.66666667 0.66666667 0.70833333 0.72222222 0.72727273 0.72727273\n",
      " 0.73684211 0.75       0.75       0.76923077 0.77777778 0.77837838\n",
      " 0.8        0.8        0.8        0.8        0.8        0.8       ]\n",
      "Read model from ../data/celeba_private/kernel.pb\n",
      "Temp: tensor([1.1824, 1.2758, 1.2325, 1.4758, 4.0888, 1.0795, 1.0934, 1.3858, 1.5746,\n",
      "        1.1410, 1.1148, 2.1117])\n",
      "Read model from ../data/celeba_private/kernel_no_edge_potential.pb\n",
      "Temp: tensor([1.2087, 1.3466, 1.2392, 1.5125, 4.2045, 1.0678, 1.1056, 1.4129, 1.2241,\n",
      "        1.0406, 1.0837, 1.6743])\n"
     ]
    },
    {
     "name": "stdout",
     "output_type": "stream",
     "text": [
      "Using seed: 2 for warm start\n",
      "NS: 0, seed: 2 17.0 483.0\n",
      "Num untouched: 3973/4096\n",
      "Found 398 for acc sigma: 0.000000\n",
      "Found 15 for acc sigma: 0.300000\n",
      "Found 2 for acc sigma: 0.700000\n",
      "Brute force predictor perf.: 0.0157 0.0108 0.0036\n",
      "Loading label attribute models...\n",
      "Loding dataset...\n",
      "Number of arms: 4096 over 202599 instances -- shape: (4096, 12)\n",
      "Size of available unlabeled data: 100000\n",
      "Setting models...\n",
      "Initializing fitter...\n",
      "Using seed: 0 for warm start\n"
     ]
    },
    {
     "name": "stderr",
     "output_type": "stream",
     "text": [
      "Computing per arm accuracy\n",
      "Found 3698 unsupported arms of the total 4096 arms\n",
      "Done\n",
      "Best, worst, mean accuracy: 1.0000, 0.3000 0.9366\n",
      "Acc quantiles: [0.3        0.82324478 0.92873754 0.976      1.         1.\n",
      " 1.        ]\n",
      "Worst arms: [0.3        0.3        0.4        0.42857143 0.5        0.5\n",
      " 0.5        0.525      0.55555556 0.59615385 0.6        0.6\n",
      " 0.66666667 0.66666667 0.70833333 0.72222222 0.72727273 0.72727273\n",
      " 0.73684211 0.75       0.75       0.76923077 0.77777778 0.77837838\n",
      " 0.8        0.8        0.8        0.8        0.8        0.8       ]\n",
      "Read model from ../data/celeba_private/kernel.pb\n",
      "Temp: tensor([1.1824, 1.2758, 1.2325, 1.4758, 4.0888, 1.0795, 1.0934, 1.3858, 1.5746,\n",
      "        1.1410, 1.1148, 2.1117])\n",
      "Read model from ../data/celeba_private/kernel_no_edge_potential.pb\n",
      "Temp: tensor([1.2087, 1.3466, 1.2392, 1.5125, 4.2045, 1.0678, 1.1056, 1.4129, 1.2241,\n",
      "        1.0406, 1.0837, 1.6743])\n"
     ]
    },
    {
     "name": "stdout",
     "output_type": "stream",
     "text": [
      "NS: 500, seed: 0 39.967942854128715 958.5034337183787\n",
      "Num untouched: 3895/4096\n",
      "Found 398 for acc sigma: 0.000000\n",
      "Found 20 for acc sigma: 0.300000\n",
      "Found 2 for acc sigma: 0.700000\n",
      "Brute force predictor perf.: 0.0170 0.0121 0.0028\n",
      "Loading label attribute models...\n",
      "Loding dataset...\n",
      "Number of arms: 4096 over 202599 instances -- shape: (4096, 12)\n",
      "Size of available unlabeled data: 100000\n",
      "Setting models...\n",
      "Initializing fitter...\n"
     ]
    },
    {
     "name": "stderr",
     "output_type": "stream",
     "text": [
      "Computing per arm accuracy\n",
      "Found 3698 unsupported arms of the total 4096 arms\n",
      "Done\n",
      "Best, worst, mean accuracy: 1.0000, 0.3000 0.9366\n",
      "Acc quantiles: [0.3        0.82324478 0.92873754 0.976      1.         1.\n",
      " 1.        ]\n",
      "Worst arms: [0.3        0.3        0.4        0.42857143 0.5        0.5\n",
      " 0.5        0.525      0.55555556 0.59615385 0.6        0.6\n",
      " 0.66666667 0.66666667 0.70833333 0.72222222 0.72727273 0.72727273\n",
      " 0.73684211 0.75       0.75       0.76923077 0.77777778 0.77837838\n",
      " 0.8        0.8        0.8        0.8        0.8        0.8       ]\n",
      "Read model from ../data/celeba_private/kernel.pb\n",
      "Temp: tensor([1.1824, 1.2758, 1.2325, 1.4758, 4.0888, 1.0795, 1.0934, 1.3858, 1.5746,\n",
      "        1.1410, 1.1148, 2.1117])\n",
      "Read model from ../data/celeba_private/kernel_no_edge_potential.pb\n",
      "Temp: tensor([1.2087, 1.3466, 1.2392, 1.5125, 4.2045, 1.0678, 1.1056, 1.4129, 1.2241,\n",
      "        1.0406, 1.0837, 1.6743])\n"
     ]
    },
    {
     "name": "stdout",
     "output_type": "stream",
     "text": [
      "Using seed: 1 for warm start\n",
      "NS: 500, seed: 1 35.967942854128715 962.5034337183786\n",
      "Num untouched: 3897/4096\n",
      "Found 398 for acc sigma: 0.000000\n",
      "Found 19 for acc sigma: 0.300000\n",
      "Found 2 for acc sigma: 0.700000\n",
      "Brute force predictor perf.: 0.0201 0.0146 0.0041\n",
      "Loading label attribute models...\n",
      "Loding dataset...\n",
      "Number of arms: 4096 over 202599 instances -- shape: (4096, 12)\n",
      "Size of available unlabeled data: 100000\n",
      "Setting models...\n",
      "Initializing fitter...\n"
     ]
    },
    {
     "name": "stderr",
     "output_type": "stream",
     "text": [
      "Computing per arm accuracy\n",
      "Found 3698 unsupported arms of the total 4096 arms\n",
      "Done\n",
      "Best, worst, mean accuracy: 1.0000, 0.3000 0.9366\n",
      "Acc quantiles: [0.3        0.82324478 0.92873754 0.976      1.         1.\n",
      " 1.        ]\n",
      "Worst arms: [0.3        0.3        0.4        0.42857143 0.5        0.5\n",
      " 0.5        0.525      0.55555556 0.59615385 0.6        0.6\n",
      " 0.66666667 0.66666667 0.70833333 0.72222222 0.72727273 0.72727273\n",
      " 0.73684211 0.75       0.75       0.76923077 0.77777778 0.77837838\n",
      " 0.8        0.8        0.8        0.8        0.8        0.8       ]\n",
      "Read model from ../data/celeba_private/kernel.pb\n",
      "Temp: tensor([1.1824, 1.2758, 1.2325, 1.4758, 4.0888, 1.0795, 1.0934, 1.3858, 1.5746,\n",
      "        1.1410, 1.1148, 2.1117])\n",
      "Read model from ../data/celeba_private/kernel_no_edge_potential.pb\n",
      "Temp: tensor([1.2087, 1.3466, 1.2392, 1.5125, 4.2045, 1.0678, 1.1056, 1.4129, 1.2241,\n",
      "        1.0406, 1.0837, 1.6743])\n"
     ]
    },
    {
     "name": "stdout",
     "output_type": "stream",
     "text": [
      "Using seed: 2 for warm start\n",
      "NS: 500, seed: 2 35.967942854128715 962.5034337183786\n",
      "Num untouched: 3887/4096\n",
      "Found 398 for acc sigma: 0.000000\n",
      "Found 16 for acc sigma: 0.300000\n",
      "Found 2 for acc sigma: 0.700000\n",
      "Brute force predictor perf.: 0.0162 0.0107 0.0035\n",
      "Loading label attribute models...\n",
      "Loding dataset...\n",
      "Number of arms: 4096 over 202599 instances -- shape: (4096, 12)\n",
      "Size of available unlabeled data: 100000\n",
      "Setting models...\n",
      "Initializing fitter...\n",
      "Using seed: 0 for warm start\n"
     ]
    },
    {
     "name": "stderr",
     "output_type": "stream",
     "text": [
      "Computing per arm accuracy\n",
      "Found 3698 unsupported arms of the total 4096 arms\n",
      "Done\n",
      "Best, worst, mean accuracy: 1.0000, 0.3000 0.9366\n",
      "Acc quantiles: [0.3        0.82324478 0.92873754 0.976      1.         1.\n",
      " 1.        ]\n",
      "Worst arms: [0.3        0.3        0.4        0.42857143 0.5        0.5\n",
      " 0.5        0.525      0.55555556 0.59615385 0.6        0.6\n",
      " 0.66666667 0.66666667 0.70833333 0.72222222 0.72727273 0.72727273\n",
      " 0.73684211 0.75       0.75       0.76923077 0.77777778 0.77837838\n",
      " 0.8        0.8        0.8        0.8        0.8        0.8       ]\n",
      "Read model from ../data/celeba_private/kernel.pb\n",
      "Temp: tensor([1.1824, 1.2758, 1.2325, 1.4758, 4.0888, 1.0795, 1.0934, 1.3858, 1.5746,\n",
      "        1.1410, 1.1148, 2.1117])\n",
      "Read model from ../data/celeba_private/kernel_no_edge_potential.pb\n",
      "Temp: tensor([1.2087, 1.3466, 1.2392, 1.5125, 4.2045, 1.0678, 1.1056, 1.4129, 1.2241,\n",
      "        1.0406, 1.0837, 1.6743])\n"
     ]
    },
    {
     "name": "stdout",
     "output_type": "stream",
     "text": [
      "NS: 500, seed: 0 39.96839608314747 956.7808276869499\n",
      "Num untouched: 3886/4096\n",
      "Found 398 for acc sigma: 0.000000\n",
      "Found 22 for acc sigma: 0.300000\n",
      "Found 2 for acc sigma: 0.700000\n",
      "Brute force predictor perf.: 0.0176 0.0129 0.0027\n",
      "Loading label attribute models...\n",
      "Loding dataset...\n",
      "Number of arms: 4096 over 202599 instances -- shape: (4096, 12)\n",
      "Size of available unlabeled data: 100000\n",
      "Setting models...\n",
      "Initializing fitter...\n"
     ]
    },
    {
     "name": "stderr",
     "output_type": "stream",
     "text": [
      "Computing per arm accuracy\n",
      "Found 3698 unsupported arms of the total 4096 arms\n",
      "Done\n",
      "Best, worst, mean accuracy: 1.0000, 0.3000 0.9366\n",
      "Acc quantiles: [0.3        0.82324478 0.92873754 0.976      1.         1.\n",
      " 1.        ]\n",
      "Worst arms: [0.3        0.3        0.4        0.42857143 0.5        0.5\n",
      " 0.5        0.525      0.55555556 0.59615385 0.6        0.6\n",
      " 0.66666667 0.66666667 0.70833333 0.72222222 0.72727273 0.72727273\n",
      " 0.73684211 0.75       0.75       0.76923077 0.77777778 0.77837838\n",
      " 0.8        0.8        0.8        0.8        0.8        0.8       ]\n",
      "Read model from ../data/celeba_private/kernel.pb\n",
      "Temp: tensor([1.1824, 1.2758, 1.2325, 1.4758, 4.0888, 1.0795, 1.0934, 1.3858, 1.5746,\n",
      "        1.1410, 1.1148, 2.1117])\n",
      "Read model from ../data/celeba_private/kernel_no_edge_potential.pb\n",
      "Temp: tensor([1.2087, 1.3466, 1.2392, 1.5125, 4.2045, 1.0678, 1.1056, 1.4129, 1.2241,\n",
      "        1.0406, 1.0837, 1.6743])\n"
     ]
    },
    {
     "name": "stdout",
     "output_type": "stream",
     "text": [
      "Using seed: 1 for warm start\n",
      "NS: 500, seed: 1 35.96839608314747 960.7808276869499\n",
      "Num untouched: 3886/4096\n",
      "Found 398 for acc sigma: 0.000000\n",
      "Found 23 for acc sigma: 0.300000\n",
      "Found 1 for acc sigma: 0.700000\n",
      "Brute force predictor perf.: 0.0198 0.0145 0.0020\n",
      "Loading label attribute models...\n",
      "Loding dataset...\n",
      "Number of arms: 4096 over 202599 instances -- shape: (4096, 12)\n",
      "Size of available unlabeled data: 100000\n",
      "Setting models...\n",
      "Initializing fitter...\n"
     ]
    },
    {
     "name": "stderr",
     "output_type": "stream",
     "text": [
      "Computing per arm accuracy\n",
      "Found 3698 unsupported arms of the total 4096 arms\n",
      "Done\n",
      "Best, worst, mean accuracy: 1.0000, 0.3000 0.9366\n",
      "Acc quantiles: [0.3        0.82324478 0.92873754 0.976      1.         1.\n",
      " 1.        ]\n",
      "Worst arms: [0.3        0.3        0.4        0.42857143 0.5        0.5\n",
      " 0.5        0.525      0.55555556 0.59615385 0.6        0.6\n",
      " 0.66666667 0.66666667 0.70833333 0.72222222 0.72727273 0.72727273\n",
      " 0.73684211 0.75       0.75       0.76923077 0.77777778 0.77837838\n",
      " 0.8        0.8        0.8        0.8        0.8        0.8       ]\n",
      "Read model from ../data/celeba_private/kernel.pb\n",
      "Temp: tensor([1.1824, 1.2758, 1.2325, 1.4758, 4.0888, 1.0795, 1.0934, 1.3858, 1.5746,\n",
      "        1.1410, 1.1148, 2.1117])\n",
      "Read model from ../data/celeba_private/kernel_no_edge_potential.pb\n",
      "Temp: tensor([1.2087, 1.3466, 1.2392, 1.5125, 4.2045, 1.0678, 1.1056, 1.4129, 1.2241,\n",
      "        1.0406, 1.0837, 1.6743])\n"
     ]
    },
    {
     "name": "stdout",
     "output_type": "stream",
     "text": [
      "Using seed: 2 for warm start\n",
      "NS: 500, seed: 2 35.96839608314747 960.7808276869498\n",
      "Num untouched: 3881/4096\n",
      "Found 398 for acc sigma: 0.000000\n",
      "Found 20 for acc sigma: 0.300000\n",
      "Found 1 for acc sigma: 0.700000\n",
      "Brute force predictor perf.: 0.0171 0.0119 0.0019\n",
      "Loading label attribute models...\n",
      "Loding dataset...\n",
      "Number of arms: 4096 over 202599 instances -- shape: (4096, 12)\n",
      "Size of available unlabeled data: 100000\n",
      "Setting models...\n",
      "Initializing fitter...\n",
      "Using seed: 0 for warm start\n"
     ]
    },
    {
     "name": "stderr",
     "output_type": "stream",
     "text": [
      "Computing per arm accuracy\n",
      "Found 3698 unsupported arms of the total 4096 arms\n",
      "Done\n",
      "Best, worst, mean accuracy: 1.0000, 0.3000 0.9366\n",
      "Acc quantiles: [0.3        0.82324478 0.92873754 0.976      1.         1.\n",
      " 1.        ]\n",
      "Worst arms: [0.3        0.3        0.4        0.42857143 0.5        0.5\n",
      " 0.5        0.525      0.55555556 0.59615385 0.6        0.6\n",
      " 0.66666667 0.66666667 0.70833333 0.72222222 0.72727273 0.72727273\n",
      " 0.73684211 0.75       0.75       0.76923077 0.77777778 0.77837838\n",
      " 0.8        0.8        0.8        0.8        0.8        0.8       ]\n",
      "Read model from ../data/celeba_private/kernel.pb\n",
      "Temp: tensor([1.1824, 1.2758, 1.2325, 1.4758, 4.0888, 1.0795, 1.0934, 1.3858, 1.5746,\n",
      "        1.1410, 1.1148, 2.1117])\n",
      "Read model from ../data/celeba_private/kernel_no_edge_potential.pb\n",
      "Temp: tensor([1.2087, 1.3466, 1.2392, 1.5125, 4.2045, 1.0678, 1.1056, 1.4129, 1.2241,\n",
      "        1.0406, 1.0837, 1.6743])\n"
     ]
    },
    {
     "name": "stdout",
     "output_type": "stream",
     "text": [
      "NS: 500, seed: 0 40.0 960.0\n",
      "Num untouched: 3975/4096\n",
      "Found 398 for acc sigma: 0.000000\n",
      "Found 17 for acc sigma: 0.300000\n",
      "Found 2 for acc sigma: 0.700000\n",
      "Brute force predictor perf.: 0.0164 0.0117 0.0035\n",
      "Loading label attribute models...\n",
      "Loding dataset...\n",
      "Number of arms: 4096 over 202599 instances -- shape: (4096, 12)\n",
      "Size of available unlabeled data: 100000\n",
      "Setting models...\n",
      "Initializing fitter...\n"
     ]
    },
    {
     "name": "stderr",
     "output_type": "stream",
     "text": [
      "Computing per arm accuracy\n",
      "Found 3698 unsupported arms of the total 4096 arms\n",
      "Done\n",
      "Best, worst, mean accuracy: 1.0000, 0.3000 0.9366\n",
      "Acc quantiles: [0.3        0.82324478 0.92873754 0.976      1.         1.\n",
      " 1.        ]\n",
      "Worst arms: [0.3        0.3        0.4        0.42857143 0.5        0.5\n",
      " 0.5        0.525      0.55555556 0.59615385 0.6        0.6\n",
      " 0.66666667 0.66666667 0.70833333 0.72222222 0.72727273 0.72727273\n",
      " 0.73684211 0.75       0.75       0.76923077 0.77777778 0.77837838\n",
      " 0.8        0.8        0.8        0.8        0.8        0.8       ]\n",
      "Read model from ../data/celeba_private/kernel.pb\n",
      "Temp: tensor([1.1824, 1.2758, 1.2325, 1.4758, 4.0888, 1.0795, 1.0934, 1.3858, 1.5746,\n",
      "        1.1410, 1.1148, 2.1117])\n",
      "Read model from ../data/celeba_private/kernel_no_edge_potential.pb\n",
      "Temp: tensor([1.2087, 1.3466, 1.2392, 1.5125, 4.2045, 1.0678, 1.1056, 1.4129, 1.2241,\n",
      "        1.0406, 1.0837, 1.6743])\n"
     ]
    },
    {
     "name": "stdout",
     "output_type": "stream",
     "text": [
      "Using seed: 1 for warm start\n",
      "NS: 500, seed: 1 36.0 964.0\n",
      "Num untouched: 3978/4096\n",
      "Found 398 for acc sigma: 0.000000\n",
      "Found 20 for acc sigma: 0.300000\n",
      "Found 3 for acc sigma: 0.700000\n",
      "Brute force predictor perf.: 0.0209 0.0161 0.0056\n",
      "Loading label attribute models...\n",
      "Loding dataset...\n",
      "Number of arms: 4096 over 202599 instances -- shape: (4096, 12)\n",
      "Size of available unlabeled data: 100000\n",
      "Setting models...\n",
      "Initializing fitter...\n"
     ]
    },
    {
     "name": "stderr",
     "output_type": "stream",
     "text": [
      "Computing per arm accuracy\n",
      "Found 3698 unsupported arms of the total 4096 arms\n",
      "Done\n",
      "Best, worst, mean accuracy: 1.0000, 0.3000 0.9366\n",
      "Acc quantiles: [0.3        0.82324478 0.92873754 0.976      1.         1.\n",
      " 1.        ]\n",
      "Worst arms: [0.3        0.3        0.4        0.42857143 0.5        0.5\n",
      " 0.5        0.525      0.55555556 0.59615385 0.6        0.6\n",
      " 0.66666667 0.66666667 0.70833333 0.72222222 0.72727273 0.72727273\n",
      " 0.73684211 0.75       0.75       0.76923077 0.77777778 0.77837838\n",
      " 0.8        0.8        0.8        0.8        0.8        0.8       ]\n",
      "Read model from ../data/celeba_private/kernel.pb\n",
      "Temp: tensor([1.1824, 1.2758, 1.2325, 1.4758, 4.0888, 1.0795, 1.0934, 1.3858, 1.5746,\n",
      "        1.1410, 1.1148, 2.1117])\n",
      "Read model from ../data/celeba_private/kernel_no_edge_potential.pb\n",
      "Temp: tensor([1.2087, 1.3466, 1.2392, 1.5125, 4.2045, 1.0678, 1.1056, 1.4129, 1.2241,\n",
      "        1.0406, 1.0837, 1.6743])\n"
     ]
    },
    {
     "name": "stdout",
     "output_type": "stream",
     "text": [
      "Using seed: 2 for warm start\n",
      "NS: 500, seed: 2 36.0 964.0\n",
      "Num untouched: 3970/4096\n",
      "Found 398 for acc sigma: 0.000000\n",
      "Found 16 for acc sigma: 0.300000\n",
      "Found 3 for acc sigma: 0.700000\n",
      "Brute force predictor perf.: 0.0178 0.0129 0.0057\n",
      "Loading label attribute models...\n",
      "Loding dataset...\n",
      "Number of arms: 4096 over 202599 instances -- shape: (4096, 12)\n",
      "Size of available unlabeled data: 100000\n",
      "Setting models...\n",
      "Initializing fitter...\n",
      "Using seed: 0 for warm start\n"
     ]
    },
    {
     "name": "stderr",
     "output_type": "stream",
     "text": [
      "Computing per arm accuracy\n",
      "Found 3698 unsupported arms of the total 4096 arms\n",
      "Done\n",
      "Best, worst, mean accuracy: 1.0000, 0.3000 0.9366\n",
      "Acc quantiles: [0.3        0.82324478 0.92873754 0.976      1.         1.\n",
      " 1.        ]\n",
      "Worst arms: [0.3        0.3        0.4        0.42857143 0.5        0.5\n",
      " 0.5        0.525      0.55555556 0.59615385 0.6        0.6\n",
      " 0.66666667 0.66666667 0.70833333 0.72222222 0.72727273 0.72727273\n",
      " 0.73684211 0.75       0.75       0.76923077 0.77777778 0.77837838\n",
      " 0.8        0.8        0.8        0.8        0.8        0.8       ]\n",
      "Read model from ../data/celeba_private/kernel.pb\n",
      "Temp: tensor([1.1824, 1.2758, 1.2325, 1.4758, 4.0888, 1.0795, 1.0934, 1.3858, 1.5746,\n",
      "        1.1410, 1.1148, 2.1117])\n",
      "Read model from ../data/celeba_private/kernel_no_edge_potential.pb\n",
      "Temp: tensor([1.2087, 1.3466, 1.2392, 1.5125, 4.2045, 1.0678, 1.1056, 1.4129, 1.2241,\n",
      "        1.0406, 1.0837, 1.6743])\n"
     ]
    },
    {
     "name": "stdout",
     "output_type": "stream",
     "text": [
      "NS: 500, seed: 0 40.0 960.0\n",
      "Num untouched: 3923/4096\n",
      "Found 398 for acc sigma: 0.000000\n",
      "Found 20 for acc sigma: 0.300000\n",
      "Found 2 for acc sigma: 0.700000\n",
      "Brute force predictor perf.: 0.0187 0.0135 0.0033\n",
      "Loading label attribute models...\n",
      "Loding dataset...\n",
      "Number of arms: 4096 over 202599 instances -- shape: (4096, 12)\n",
      "Size of available unlabeled data: 100000\n",
      "Setting models...\n",
      "Initializing fitter...\n"
     ]
    },
    {
     "name": "stderr",
     "output_type": "stream",
     "text": [
      "Computing per arm accuracy\n",
      "Found 3698 unsupported arms of the total 4096 arms\n",
      "Done\n",
      "Best, worst, mean accuracy: 1.0000, 0.3000 0.9366\n",
      "Acc quantiles: [0.3        0.82324478 0.92873754 0.976      1.         1.\n",
      " 1.        ]\n",
      "Worst arms: [0.3        0.3        0.4        0.42857143 0.5        0.5\n",
      " 0.5        0.525      0.55555556 0.59615385 0.6        0.6\n",
      " 0.66666667 0.66666667 0.70833333 0.72222222 0.72727273 0.72727273\n",
      " 0.73684211 0.75       0.75       0.76923077 0.77777778 0.77837838\n",
      " 0.8        0.8        0.8        0.8        0.8        0.8       ]\n",
      "Read model from ../data/celeba_private/kernel.pb\n",
      "Temp: tensor([1.1824, 1.2758, 1.2325, 1.4758, 4.0888, 1.0795, 1.0934, 1.3858, 1.5746,\n",
      "        1.1410, 1.1148, 2.1117])\n",
      "Read model from ../data/celeba_private/kernel_no_edge_potential.pb\n",
      "Temp: tensor([1.2087, 1.3466, 1.2392, 1.5125, 4.2045, 1.0678, 1.1056, 1.4129, 1.2241,\n",
      "        1.0406, 1.0837, 1.6743])\n"
     ]
    },
    {
     "name": "stdout",
     "output_type": "stream",
     "text": [
      "Using seed: 1 for warm start\n",
      "NS: 500, seed: 1 36.0 964.0\n",
      "Num untouched: 3926/4096\n",
      "Found 398 for acc sigma: 0.000000\n",
      "Found 23 for acc sigma: 0.300000\n",
      "Found 4 for acc sigma: 0.700000\n",
      "Brute force predictor perf.: 0.0240 0.0192 0.0074\n",
      "Loading label attribute models...\n",
      "Loding dataset...\n",
      "Number of arms: 4096 over 202599 instances -- shape: (4096, 12)\n",
      "Size of available unlabeled data: 100000\n",
      "Setting models...\n",
      "Initializing fitter...\n"
     ]
    },
    {
     "name": "stderr",
     "output_type": "stream",
     "text": [
      "Computing per arm accuracy\n",
      "Found 3698 unsupported arms of the total 4096 arms\n",
      "Done\n",
      "Best, worst, mean accuracy: 1.0000, 0.3000 0.9366\n",
      "Acc quantiles: [0.3        0.82324478 0.92873754 0.976      1.         1.\n",
      " 1.        ]\n",
      "Worst arms: [0.3        0.3        0.4        0.42857143 0.5        0.5\n",
      " 0.5        0.525      0.55555556 0.59615385 0.6        0.6\n",
      " 0.66666667 0.66666667 0.70833333 0.72222222 0.72727273 0.72727273\n",
      " 0.73684211 0.75       0.75       0.76923077 0.77777778 0.77837838\n",
      " 0.8        0.8        0.8        0.8        0.8        0.8       ]\n",
      "Read model from ../data/celeba_private/kernel.pb\n",
      "Temp: tensor([1.1824, 1.2758, 1.2325, 1.4758, 4.0888, 1.0795, 1.0934, 1.3858, 1.5746,\n",
      "        1.1410, 1.1148, 2.1117])\n",
      "Read model from ../data/celeba_private/kernel_no_edge_potential.pb\n",
      "Temp: tensor([1.2087, 1.3466, 1.2392, 1.5125, 4.2045, 1.0678, 1.1056, 1.4129, 1.2241,\n",
      "        1.0406, 1.0837, 1.6743])\n"
     ]
    },
    {
     "name": "stdout",
     "output_type": "stream",
     "text": [
      "Using seed: 2 for warm start\n",
      "NS: 500, seed: 2 36.0 964.0\n",
      "Num untouched: 3920/4096\n",
      "Found 398 for acc sigma: 0.000000\n",
      "Found 20 for acc sigma: 0.300000\n",
      "Found 3 for acc sigma: 0.700000\n",
      "Brute force predictor perf.: 0.0200 0.0150 0.0052\n",
      "Loading label attribute models...\n",
      "Loding dataset...\n",
      "Number of arms: 4096 over 202599 instances -- shape: (4096, 12)\n",
      "Size of available unlabeled data: 100000\n",
      "Setting models...\n",
      "Initializing fitter...\n",
      "Using seed: 0 for warm start\n"
     ]
    },
    {
     "name": "stderr",
     "output_type": "stream",
     "text": [
      "Computing per arm accuracy\n",
      "Found 3698 unsupported arms of the total 4096 arms\n",
      "Done\n",
      "Best, worst, mean accuracy: 1.0000, 0.3000 0.9366\n",
      "Acc quantiles: [0.3        0.82324478 0.92873754 0.976      1.         1.\n",
      " 1.        ]\n",
      "Worst arms: [0.3        0.3        0.4        0.42857143 0.5        0.5\n",
      " 0.5        0.525      0.55555556 0.59615385 0.6        0.6\n",
      " 0.66666667 0.66666667 0.70833333 0.72222222 0.72727273 0.72727273\n",
      " 0.73684211 0.75       0.75       0.76923077 0.77777778 0.77837838\n",
      " 0.8        0.8        0.8        0.8        0.8        0.8       ]\n",
      "Read model from ../data/celeba_private/kernel.pb\n",
      "Temp: tensor([1.1824, 1.2758, 1.2325, 1.4758, 4.0888, 1.0795, 1.0934, 1.3858, 1.5746,\n",
      "        1.1410, 1.1148, 2.1117])\n",
      "Read model from ../data/celeba_private/kernel_no_edge_potential.pb\n",
      "Temp: tensor([1.2087, 1.3466, 1.2392, 1.5125, 4.2045, 1.0678, 1.1056, 1.4129, 1.2241,\n",
      "        1.0406, 1.0837, 1.6743])\n"
     ]
    },
    {
     "name": "stdout",
     "output_type": "stream",
     "text": [
      "NS: 1000, seed: 0 57.95213274691225 1439.1330197189418\n",
      "Num untouched: 3884/4096\n",
      "Found 398 for acc sigma: 0.000000\n",
      "Found 20 for acc sigma: 0.300000\n",
      "Found 1 for acc sigma: 0.700000\n",
      "Brute force predictor perf.: 0.0160 0.0113 0.0013\n",
      "Loading label attribute models...\n",
      "Loding dataset...\n",
      "Number of arms: 4096 over 202599 instances -- shape: (4096, 12)\n",
      "Size of available unlabeled data: 100000\n",
      "Setting models...\n",
      "Initializing fitter...\n"
     ]
    },
    {
     "name": "stderr",
     "output_type": "stream",
     "text": [
      "Computing per arm accuracy\n",
      "Found 3698 unsupported arms of the total 4096 arms\n",
      "Done\n",
      "Best, worst, mean accuracy: 1.0000, 0.3000 0.9366\n",
      "Acc quantiles: [0.3        0.82324478 0.92873754 0.976      1.         1.\n",
      " 1.        ]\n",
      "Worst arms: [0.3        0.3        0.4        0.42857143 0.5        0.5\n",
      " 0.5        0.525      0.55555556 0.59615385 0.6        0.6\n",
      " 0.66666667 0.66666667 0.70833333 0.72222222 0.72727273 0.72727273\n",
      " 0.73684211 0.75       0.75       0.76923077 0.77777778 0.77837838\n",
      " 0.8        0.8        0.8        0.8        0.8        0.8       ]\n",
      "Read model from ../data/celeba_private/kernel.pb\n",
      "Temp: tensor([1.1824, 1.2758, 1.2325, 1.4758, 4.0888, 1.0795, 1.0934, 1.3858, 1.5746,\n",
      "        1.1410, 1.1148, 2.1117])\n",
      "Read model from ../data/celeba_private/kernel_no_edge_potential.pb\n",
      "Temp: tensor([1.2087, 1.3466, 1.2392, 1.5125, 4.2045, 1.0678, 1.1056, 1.4129, 1.2241,\n",
      "        1.0406, 1.0837, 1.6743])\n"
     ]
    },
    {
     "name": "stdout",
     "output_type": "stream",
     "text": [
      "Using seed: 1 for warm start\n",
      "NS: 1000, seed: 1 53.952132746912234 1443.1330197189418\n",
      "Num untouched: 3885/4096\n",
      "Found 398 for acc sigma: 0.000000\n",
      "Found 19 for acc sigma: 0.300000\n",
      "Found 2 for acc sigma: 0.700000\n",
      "Brute force predictor perf.: 0.0182 0.0133 0.0037\n",
      "Loading label attribute models...\n",
      "Loding dataset...\n",
      "Number of arms: 4096 over 202599 instances -- shape: (4096, 12)\n",
      "Size of available unlabeled data: 100000\n",
      "Setting models...\n",
      "Initializing fitter...\n"
     ]
    },
    {
     "name": "stderr",
     "output_type": "stream",
     "text": [
      "Computing per arm accuracy\n",
      "Found 3698 unsupported arms of the total 4096 arms\n",
      "Done\n",
      "Best, worst, mean accuracy: 1.0000, 0.3000 0.9366\n",
      "Acc quantiles: [0.3        0.82324478 0.92873754 0.976      1.         1.\n",
      " 1.        ]\n",
      "Worst arms: [0.3        0.3        0.4        0.42857143 0.5        0.5\n",
      " 0.5        0.525      0.55555556 0.59615385 0.6        0.6\n",
      " 0.66666667 0.66666667 0.70833333 0.72222222 0.72727273 0.72727273\n",
      " 0.73684211 0.75       0.75       0.76923077 0.77777778 0.77837838\n",
      " 0.8        0.8        0.8        0.8        0.8        0.8       ]\n",
      "Read model from ../data/celeba_private/kernel.pb\n",
      "Temp: tensor([1.1824, 1.2758, 1.2325, 1.4758, 4.0888, 1.0795, 1.0934, 1.3858, 1.5746,\n",
      "        1.1410, 1.1148, 2.1117])\n",
      "Read model from ../data/celeba_private/kernel_no_edge_potential.pb\n",
      "Temp: tensor([1.2087, 1.3466, 1.2392, 1.5125, 4.2045, 1.0678, 1.1056, 1.4129, 1.2241,\n",
      "        1.0406, 1.0837, 1.6743])\n"
     ]
    },
    {
     "name": "stdout",
     "output_type": "stream",
     "text": [
      "Using seed: 2 for warm start\n",
      "NS: 1000, seed: 2 53.95213274691225 1443.1330197189418\n",
      "Num untouched: 3876/4096\n",
      "Found 398 for acc sigma: 0.000000\n",
      "Found 16 for acc sigma: 0.300000\n",
      "Found 2 for acc sigma: 0.700000\n",
      "Brute force predictor perf.: 0.0157 0.0106 0.0035\n",
      "Loading label attribute models...\n",
      "Loding dataset...\n",
      "Number of arms: 4096 over 202599 instances -- shape: (4096, 12)\n",
      "Size of available unlabeled data: 100000\n",
      "Setting models...\n",
      "Initializing fitter...\n",
      "Using seed: 0 for warm start\n"
     ]
    },
    {
     "name": "stderr",
     "output_type": "stream",
     "text": [
      "Computing per arm accuracy\n",
      "Found 3698 unsupported arms of the total 4096 arms\n",
      "Done\n",
      "Best, worst, mean accuracy: 1.0000, 0.3000 0.9366\n",
      "Acc quantiles: [0.3        0.82324478 0.92873754 0.976      1.         1.\n",
      " 1.        ]\n",
      "Worst arms: [0.3        0.3        0.4        0.42857143 0.5        0.5\n",
      " 0.5        0.525      0.55555556 0.59615385 0.6        0.6\n",
      " 0.66666667 0.66666667 0.70833333 0.72222222 0.72727273 0.72727273\n",
      " 0.73684211 0.75       0.75       0.76923077 0.77777778 0.77837838\n",
      " 0.8        0.8        0.8        0.8        0.8        0.8       ]\n",
      "Read model from ../data/celeba_private/kernel.pb\n",
      "Temp: tensor([1.1824, 1.2758, 1.2325, 1.4758, 4.0888, 1.0795, 1.0934, 1.3858, 1.5746,\n",
      "        1.1410, 1.1148, 2.1117])\n",
      "Read model from ../data/celeba_private/kernel_no_edge_potential.pb\n",
      "Temp: tensor([1.2087, 1.3466, 1.2392, 1.5125, 4.2045, 1.0678, 1.1056, 1.4129, 1.2241,\n",
      "        1.0406, 1.0837, 1.6743])\n"
     ]
    },
    {
     "name": "stdout",
     "output_type": "stream",
     "text": [
      "NS: 1000, seed: 0 57.95640097814586 1435.963160189083\n",
      "Num untouched: 3869/4096\n",
      "Found 398 for acc sigma: 0.000000\n",
      "Found 23 for acc sigma: 0.300000\n",
      "Found 1 for acc sigma: 0.700000\n",
      "Brute force predictor perf.: 0.0167 0.0123 0.0014\n",
      "Loading label attribute models...\n",
      "Loding dataset...\n",
      "Number of arms: 4096 over 202599 instances -- shape: (4096, 12)\n",
      "Size of available unlabeled data: 100000\n",
      "Setting models...\n",
      "Initializing fitter...\n"
     ]
    },
    {
     "name": "stderr",
     "output_type": "stream",
     "text": [
      "Computing per arm accuracy\n",
      "Found 3698 unsupported arms of the total 4096 arms\n",
      "Done\n",
      "Best, worst, mean accuracy: 1.0000, 0.3000 0.9366\n",
      "Acc quantiles: [0.3        0.82324478 0.92873754 0.976      1.         1.\n",
      " 1.        ]\n",
      "Worst arms: [0.3        0.3        0.4        0.42857143 0.5        0.5\n",
      " 0.5        0.525      0.55555556 0.59615385 0.6        0.6\n",
      " 0.66666667 0.66666667 0.70833333 0.72222222 0.72727273 0.72727273\n",
      " 0.73684211 0.75       0.75       0.76923077 0.77777778 0.77837838\n",
      " 0.8        0.8        0.8        0.8        0.8        0.8       ]\n",
      "Read model from ../data/celeba_private/kernel.pb\n",
      "Temp: tensor([1.1824, 1.2758, 1.2325, 1.4758, 4.0888, 1.0795, 1.0934, 1.3858, 1.5746,\n",
      "        1.1410, 1.1148, 2.1117])\n",
      "Read model from ../data/celeba_private/kernel_no_edge_potential.pb\n",
      "Temp: tensor([1.2087, 1.3466, 1.2392, 1.5125, 4.2045, 1.0678, 1.1056, 1.4129, 1.2241,\n",
      "        1.0406, 1.0837, 1.6743])\n"
     ]
    },
    {
     "name": "stdout",
     "output_type": "stream",
     "text": [
      "Using seed: 1 for warm start\n",
      "NS: 1000, seed: 1 53.95640097814587 1439.963160189083\n",
      "Num untouched: 3871/4096\n",
      "Found 398 for acc sigma: 0.000000\n",
      "Found 22 for acc sigma: 0.300000\n",
      "Found 1 for acc sigma: 0.700000\n",
      "Brute force predictor perf.: 0.0183 0.0131 0.0018\n",
      "Loading label attribute models...\n",
      "Loding dataset...\n",
      "Number of arms: 4096 over 202599 instances -- shape: (4096, 12)\n",
      "Size of available unlabeled data: 100000\n",
      "Setting models...\n",
      "Initializing fitter...\n"
     ]
    },
    {
     "name": "stderr",
     "output_type": "stream",
     "text": [
      "Computing per arm accuracy\n",
      "Found 3698 unsupported arms of the total 4096 arms\n",
      "Done\n",
      "Best, worst, mean accuracy: 1.0000, 0.3000 0.9366\n",
      "Acc quantiles: [0.3        0.82324478 0.92873754 0.976      1.         1.\n",
      " 1.        ]\n",
      "Worst arms: [0.3        0.3        0.4        0.42857143 0.5        0.5\n",
      " 0.5        0.525      0.55555556 0.59615385 0.6        0.6\n",
      " 0.66666667 0.66666667 0.70833333 0.72222222 0.72727273 0.72727273\n",
      " 0.73684211 0.75       0.75       0.76923077 0.77777778 0.77837838\n",
      " 0.8        0.8        0.8        0.8        0.8        0.8       ]\n",
      "Read model from ../data/celeba_private/kernel.pb\n",
      "Temp: tensor([1.1824, 1.2758, 1.2325, 1.4758, 4.0888, 1.0795, 1.0934, 1.3858, 1.5746,\n",
      "        1.1410, 1.1148, 2.1117])\n",
      "Read model from ../data/celeba_private/kernel_no_edge_potential.pb\n",
      "Temp: tensor([1.2087, 1.3466, 1.2392, 1.5125, 4.2045, 1.0678, 1.1056, 1.4129, 1.2241,\n",
      "        1.0406, 1.0837, 1.6743])\n"
     ]
    },
    {
     "name": "stdout",
     "output_type": "stream",
     "text": [
      "Using seed: 2 for warm start\n",
      "NS: 1000, seed: 2 53.95640097814587 1439.9631601890828\n",
      "Num untouched: 3866/4096\n",
      "Found 398 for acc sigma: 0.000000\n",
      "Found 20 for acc sigma: 0.300000\n",
      "Found 1 for acc sigma: 0.700000\n",
      "Brute force predictor perf.: 0.0162 0.0111 0.0019\n",
      "Loading label attribute models...\n",
      "Loding dataset...\n",
      "Number of arms: 4096 over 202599 instances -- shape: (4096, 12)\n",
      "Size of available unlabeled data: 100000\n",
      "Setting models...\n",
      "Initializing fitter...\n",
      "Using seed: 0 for warm start\n"
     ]
    },
    {
     "name": "stderr",
     "output_type": "stream",
     "text": [
      "Computing per arm accuracy\n",
      "Found 3698 unsupported arms of the total 4096 arms\n",
      "Done\n",
      "Best, worst, mean accuracy: 1.0000, 0.3000 0.9366\n",
      "Acc quantiles: [0.3        0.82324478 0.92873754 0.976      1.         1.\n",
      " 1.        ]\n",
      "Worst arms: [0.3        0.3        0.4        0.42857143 0.5        0.5\n",
      " 0.5        0.525      0.55555556 0.59615385 0.6        0.6\n",
      " 0.66666667 0.66666667 0.70833333 0.72222222 0.72727273 0.72727273\n",
      " 0.73684211 0.75       0.75       0.76923077 0.77777778 0.77837838\n",
      " 0.8        0.8        0.8        0.8        0.8        0.8       ]\n",
      "Read model from ../data/celeba_private/kernel.pb\n",
      "Temp: tensor([1.1824, 1.2758, 1.2325, 1.4758, 4.0888, 1.0795, 1.0934, 1.3858, 1.5746,\n",
      "        1.1410, 1.1148, 2.1117])\n",
      "Read model from ../data/celeba_private/kernel_no_edge_potential.pb\n",
      "Temp: tensor([1.2087, 1.3466, 1.2392, 1.5125, 4.2045, 1.0678, 1.1056, 1.4129, 1.2241,\n",
      "        1.0406, 1.0837, 1.6743])\n"
     ]
    },
    {
     "name": "stdout",
     "output_type": "stream",
     "text": [
      "NS: 1000, seed: 0 58.0 1442.0\n",
      "Num untouched: 3974/4096\n",
      "Found 398 for acc sigma: 0.000000\n",
      "Found 16 for acc sigma: 0.300000\n",
      "Found 2 for acc sigma: 0.700000\n",
      "Brute force predictor perf.: 0.0155 0.0104 0.0026\n",
      "Loading label attribute models...\n",
      "Loding dataset...\n",
      "Number of arms: 4096 over 202599 instances -- shape: (4096, 12)\n",
      "Size of available unlabeled data: 100000\n",
      "Setting models...\n",
      "Initializing fitter...\n"
     ]
    },
    {
     "name": "stderr",
     "output_type": "stream",
     "text": [
      "Computing per arm accuracy\n",
      "Found 3698 unsupported arms of the total 4096 arms\n",
      "Done\n",
      "Best, worst, mean accuracy: 1.0000, 0.3000 0.9366\n",
      "Acc quantiles: [0.3        0.82324478 0.92873754 0.976      1.         1.\n",
      " 1.        ]\n",
      "Worst arms: [0.3        0.3        0.4        0.42857143 0.5        0.5\n",
      " 0.5        0.525      0.55555556 0.59615385 0.6        0.6\n",
      " 0.66666667 0.66666667 0.70833333 0.72222222 0.72727273 0.72727273\n",
      " 0.73684211 0.75       0.75       0.76923077 0.77777778 0.77837838\n",
      " 0.8        0.8        0.8        0.8        0.8        0.8       ]\n",
      "Read model from ../data/celeba_private/kernel.pb\n",
      "Temp: tensor([1.1824, 1.2758, 1.2325, 1.4758, 4.0888, 1.0795, 1.0934, 1.3858, 1.5746,\n",
      "        1.1410, 1.1148, 2.1117])\n",
      "Read model from ../data/celeba_private/kernel_no_edge_potential.pb\n",
      "Temp: tensor([1.2087, 1.3466, 1.2392, 1.5125, 4.2045, 1.0678, 1.1056, 1.4129, 1.2241,\n",
      "        1.0406, 1.0837, 1.6743])\n"
     ]
    },
    {
     "name": "stdout",
     "output_type": "stream",
     "text": [
      "Using seed: 1 for warm start\n",
      "NS: 1000, seed: 1 54.0 1446.0\n",
      "Num untouched: 3976/4096\n",
      "Found 398 for acc sigma: 0.000000\n",
      "Found 21 for acc sigma: 0.300000\n",
      "Found 3 for acc sigma: 0.700000\n",
      "Brute force predictor perf.: 0.0204 0.0156 0.0056\n",
      "Loading label attribute models...\n",
      "Loding dataset...\n",
      "Number of arms: 4096 over 202599 instances -- shape: (4096, 12)\n",
      "Size of available unlabeled data: 100000\n",
      "Setting models...\n",
      "Initializing fitter...\n"
     ]
    },
    {
     "name": "stderr",
     "output_type": "stream",
     "text": [
      "Computing per arm accuracy\n",
      "Found 3698 unsupported arms of the total 4096 arms\n",
      "Done\n",
      "Best, worst, mean accuracy: 1.0000, 0.3000 0.9366\n",
      "Acc quantiles: [0.3        0.82324478 0.92873754 0.976      1.         1.\n",
      " 1.        ]\n",
      "Worst arms: [0.3        0.3        0.4        0.42857143 0.5        0.5\n",
      " 0.5        0.525      0.55555556 0.59615385 0.6        0.6\n",
      " 0.66666667 0.66666667 0.70833333 0.72222222 0.72727273 0.72727273\n",
      " 0.73684211 0.75       0.75       0.76923077 0.77777778 0.77837838\n",
      " 0.8        0.8        0.8        0.8        0.8        0.8       ]\n",
      "Read model from ../data/celeba_private/kernel.pb\n",
      "Temp: tensor([1.1824, 1.2758, 1.2325, 1.4758, 4.0888, 1.0795, 1.0934, 1.3858, 1.5746,\n",
      "        1.1410, 1.1148, 2.1117])\n",
      "Read model from ../data/celeba_private/kernel_no_edge_potential.pb\n",
      "Temp: tensor([1.2087, 1.3466, 1.2392, 1.5125, 4.2045, 1.0678, 1.1056, 1.4129, 1.2241,\n",
      "        1.0406, 1.0837, 1.6743])\n"
     ]
    },
    {
     "name": "stdout",
     "output_type": "stream",
     "text": [
      "Using seed: 2 for warm start\n",
      "NS: 1000, seed: 2 54.0 1446.0\n",
      "Num untouched: 3970/4096\n",
      "Found 398 for acc sigma: 0.000000\n",
      "Found 16 for acc sigma: 0.300000\n",
      "Found 2 for acc sigma: 0.700000\n",
      "Brute force predictor perf.: 0.0168 0.0117 0.0036\n",
      "Loading label attribute models...\n",
      "Loding dataset...\n",
      "Number of arms: 4096 over 202599 instances -- shape: (4096, 12)\n",
      "Size of available unlabeled data: 100000\n",
      "Setting models...\n",
      "Initializing fitter...\n",
      "Using seed: 0 for warm start\n"
     ]
    },
    {
     "name": "stderr",
     "output_type": "stream",
     "text": [
      "Computing per arm accuracy\n",
      "Found 3698 unsupported arms of the total 4096 arms\n",
      "Done\n",
      "Best, worst, mean accuracy: 1.0000, 0.3000 0.9366\n",
      "Acc quantiles: [0.3        0.82324478 0.92873754 0.976      1.         1.\n",
      " 1.        ]\n",
      "Worst arms: [0.3        0.3        0.4        0.42857143 0.5        0.5\n",
      " 0.5        0.525      0.55555556 0.59615385 0.6        0.6\n",
      " 0.66666667 0.66666667 0.70833333 0.72222222 0.72727273 0.72727273\n",
      " 0.73684211 0.75       0.75       0.76923077 0.77777778 0.77837838\n",
      " 0.8        0.8        0.8        0.8        0.8        0.8       ]\n",
      "Read model from ../data/celeba_private/kernel.pb\n",
      "Temp: tensor([1.1824, 1.2758, 1.2325, 1.4758, 4.0888, 1.0795, 1.0934, 1.3858, 1.5746,\n",
      "        1.1410, 1.1148, 2.1117])\n",
      "Read model from ../data/celeba_private/kernel_no_edge_potential.pb\n",
      "Temp: tensor([1.2087, 1.3466, 1.2392, 1.5125, 4.2045, 1.0678, 1.1056, 1.4129, 1.2241,\n",
      "        1.0406, 1.0837, 1.6743])\n"
     ]
    },
    {
     "name": "stdout",
     "output_type": "stream",
     "text": [
      "NS: 1000, seed: 0 58.0 1442.0\n",
      "Num untouched: 3892/4096\n",
      "Found 398 for acc sigma: 0.000000\n",
      "Found 19 for acc sigma: 0.300000\n",
      "Found 2 for acc sigma: 0.700000\n",
      "Brute force predictor perf.: 0.0180 0.0126 0.0033\n",
      "Loading label attribute models...\n",
      "Loding dataset...\n",
      "Number of arms: 4096 over 202599 instances -- shape: (4096, 12)\n",
      "Size of available unlabeled data: 100000\n",
      "Setting models...\n",
      "Initializing fitter...\n"
     ]
    },
    {
     "name": "stderr",
     "output_type": "stream",
     "text": [
      "Computing per arm accuracy\n",
      "Found 3698 unsupported arms of the total 4096 arms\n",
      "Done\n",
      "Best, worst, mean accuracy: 1.0000, 0.3000 0.9366\n",
      "Acc quantiles: [0.3        0.82324478 0.92873754 0.976      1.         1.\n",
      " 1.        ]\n",
      "Worst arms: [0.3        0.3        0.4        0.42857143 0.5        0.5\n",
      " 0.5        0.525      0.55555556 0.59615385 0.6        0.6\n",
      " 0.66666667 0.66666667 0.70833333 0.72222222 0.72727273 0.72727273\n",
      " 0.73684211 0.75       0.75       0.76923077 0.77777778 0.77837838\n",
      " 0.8        0.8        0.8        0.8        0.8        0.8       ]\n",
      "Read model from ../data/celeba_private/kernel.pb\n",
      "Temp: tensor([1.1824, 1.2758, 1.2325, 1.4758, 4.0888, 1.0795, 1.0934, 1.3858, 1.5746,\n",
      "        1.1410, 1.1148, 2.1117])\n",
      "Read model from ../data/celeba_private/kernel_no_edge_potential.pb\n",
      "Temp: tensor([1.2087, 1.3466, 1.2392, 1.5125, 4.2045, 1.0678, 1.1056, 1.4129, 1.2241,\n",
      "        1.0406, 1.0837, 1.6743])\n"
     ]
    },
    {
     "name": "stdout",
     "output_type": "stream",
     "text": [
      "Using seed: 1 for warm start\n",
      "NS: 1000, seed: 1 54.0 1446.0\n",
      "Num untouched: 3896/4096\n",
      "Found 398 for acc sigma: 0.000000\n",
      "Found 22 for acc sigma: 0.300000\n",
      "Found 2 for acc sigma: 0.700000\n",
      "Brute force predictor perf.: 0.0203 0.0150 0.0037\n",
      "Loading label attribute models...\n",
      "Loding dataset...\n",
      "Number of arms: 4096 over 202599 instances -- shape: (4096, 12)\n",
      "Size of available unlabeled data: 100000\n",
      "Setting models...\n",
      "Initializing fitter...\n"
     ]
    },
    {
     "name": "stderr",
     "output_type": "stream",
     "text": [
      "Computing per arm accuracy\n",
      "Found 3698 unsupported arms of the total 4096 arms\n",
      "Done\n",
      "Best, worst, mean accuracy: 1.0000, 0.3000 0.9366\n",
      "Acc quantiles: [0.3        0.82324478 0.92873754 0.976      1.         1.\n",
      " 1.        ]\n",
      "Worst arms: [0.3        0.3        0.4        0.42857143 0.5        0.5\n",
      " 0.5        0.525      0.55555556 0.59615385 0.6        0.6\n",
      " 0.66666667 0.66666667 0.70833333 0.72222222 0.72727273 0.72727273\n",
      " 0.73684211 0.75       0.75       0.76923077 0.77777778 0.77837838\n",
      " 0.8        0.8        0.8        0.8        0.8        0.8       ]\n",
      "Read model from ../data/celeba_private/kernel.pb\n",
      "Temp: tensor([1.1824, 1.2758, 1.2325, 1.4758, 4.0888, 1.0795, 1.0934, 1.3858, 1.5746,\n",
      "        1.1410, 1.1148, 2.1117])\n",
      "Read model from ../data/celeba_private/kernel_no_edge_potential.pb\n",
      "Temp: tensor([1.2087, 1.3466, 1.2392, 1.5125, 4.2045, 1.0678, 1.1056, 1.4129, 1.2241,\n",
      "        1.0406, 1.0837, 1.6743])\n"
     ]
    },
    {
     "name": "stdout",
     "output_type": "stream",
     "text": [
      "Using seed: 2 for warm start\n",
      "NS: 1000, seed: 2 54.0 1446.0\n",
      "Num untouched: 3892/4096\n",
      "Found 398 for acc sigma: 0.000000\n",
      "Found 19 for acc sigma: 0.300000\n",
      "Found 2 for acc sigma: 0.700000\n",
      "Brute force predictor perf.: 0.0176 0.0124 0.0036\n",
      "Loading label attribute models...\n",
      "Loding dataset...\n",
      "Number of arms: 4096 over 202599 instances -- shape: (4096, 12)\n",
      "Size of available unlabeled data: 100000\n",
      "Setting models...\n",
      "Initializing fitter...\n",
      "Using seed: 0 for warm start\n"
     ]
    },
    {
     "name": "stderr",
     "output_type": "stream",
     "text": [
      "Computing per arm accuracy\n",
      "Found 3698 unsupported arms of the total 4096 arms\n",
      "Done\n",
      "Best, worst, mean accuracy: 1.0000, 0.3000 0.9366\n",
      "Acc quantiles: [0.3        0.82324478 0.92873754 0.976      1.         1.\n",
      " 1.        ]\n",
      "Worst arms: [0.3        0.3        0.4        0.42857143 0.5        0.5\n",
      " 0.5        0.525      0.55555556 0.59615385 0.6        0.6\n",
      " 0.66666667 0.66666667 0.70833333 0.72222222 0.72727273 0.72727273\n",
      " 0.73684211 0.75       0.75       0.76923077 0.77777778 0.77837838\n",
      " 0.8        0.8        0.8        0.8        0.8        0.8       ]\n",
      "Read model from ../data/celeba_private/kernel.pb\n",
      "Temp: tensor([1.1824, 1.2758, 1.2325, 1.4758, 4.0888, 1.0795, 1.0934, 1.3858, 1.5746,\n",
      "        1.1410, 1.1148, 2.1117])\n",
      "Read model from ../data/celeba_private/kernel_no_edge_potential.pb\n",
      "Temp: tensor([1.2087, 1.3466, 1.2392, 1.5125, 4.2045, 1.0678, 1.1056, 1.4129, 1.2241,\n",
      "        1.0406, 1.0837, 1.6743])\n"
     ]
    },
    {
     "name": "stdout",
     "output_type": "stream",
     "text": [
      "NS: 1500, seed: 0 72.9449890768578 1922.6269305540595\n",
      "Num untouched: 3877/4096\n",
      "Found 398 for acc sigma: 0.000000\n",
      "Found 16 for acc sigma: 0.300000\n",
      "Found 1 for acc sigma: 0.700000\n",
      "Brute force predictor perf.: 0.0149 0.0097 0.0013\n",
      "Loading label attribute models...\n",
      "Loding dataset...\n",
      "Number of arms: 4096 over 202599 instances -- shape: (4096, 12)\n",
      "Size of available unlabeled data: 100000\n",
      "Setting models...\n",
      "Initializing fitter...\n"
     ]
    },
    {
     "name": "stderr",
     "output_type": "stream",
     "text": [
      "Computing per arm accuracy\n",
      "Found 3698 unsupported arms of the total 4096 arms\n",
      "Done\n",
      "Best, worst, mean accuracy: 1.0000, 0.3000 0.9366\n",
      "Acc quantiles: [0.3        0.82324478 0.92873754 0.976      1.         1.\n",
      " 1.        ]\n",
      "Worst arms: [0.3        0.3        0.4        0.42857143 0.5        0.5\n",
      " 0.5        0.525      0.55555556 0.59615385 0.6        0.6\n",
      " 0.66666667 0.66666667 0.70833333 0.72222222 0.72727273 0.72727273\n",
      " 0.73684211 0.75       0.75       0.76923077 0.77777778 0.77837838\n",
      " 0.8        0.8        0.8        0.8        0.8        0.8       ]\n",
      "Read model from ../data/celeba_private/kernel.pb\n",
      "Temp: tensor([1.1824, 1.2758, 1.2325, 1.4758, 4.0888, 1.0795, 1.0934, 1.3858, 1.5746,\n",
      "        1.1410, 1.1148, 2.1117])\n",
      "Read model from ../data/celeba_private/kernel_no_edge_potential.pb\n",
      "Temp: tensor([1.2087, 1.3466, 1.2392, 1.5125, 4.2045, 1.0678, 1.1056, 1.4129, 1.2241,\n",
      "        1.0406, 1.0837, 1.6743])\n"
     ]
    },
    {
     "name": "stdout",
     "output_type": "stream",
     "text": [
      "Using seed: 1 for warm start\n",
      "NS: 1500, seed: 1 68.9449890768578 1926.6269305540593\n",
      "Num untouched: 3878/4096\n",
      "Found 398 for acc sigma: 0.000000\n",
      "Found 16 for acc sigma: 0.300000\n",
      "Found 2 for acc sigma: 0.700000\n",
      "Brute force predictor perf.: 0.0172 0.0119 0.0035\n",
      "Loading label attribute models...\n",
      "Loding dataset...\n",
      "Number of arms: 4096 over 202599 instances -- shape: (4096, 12)\n",
      "Size of available unlabeled data: 100000\n",
      "Setting models...\n",
      "Initializing fitter...\n"
     ]
    },
    {
     "name": "stderr",
     "output_type": "stream",
     "text": [
      "Computing per arm accuracy\n",
      "Found 3698 unsupported arms of the total 4096 arms\n",
      "Done\n",
      "Best, worst, mean accuracy: 1.0000, 0.3000 0.9366\n",
      "Acc quantiles: [0.3        0.82324478 0.92873754 0.976      1.         1.\n",
      " 1.        ]\n",
      "Worst arms: [0.3        0.3        0.4        0.42857143 0.5        0.5\n",
      " 0.5        0.525      0.55555556 0.59615385 0.6        0.6\n",
      " 0.66666667 0.66666667 0.70833333 0.72222222 0.72727273 0.72727273\n",
      " 0.73684211 0.75       0.75       0.76923077 0.77777778 0.77837838\n",
      " 0.8        0.8        0.8        0.8        0.8        0.8       ]\n",
      "Read model from ../data/celeba_private/kernel.pb\n",
      "Temp: tensor([1.1824, 1.2758, 1.2325, 1.4758, 4.0888, 1.0795, 1.0934, 1.3858, 1.5746,\n",
      "        1.1410, 1.1148, 2.1117])\n",
      "Read model from ../data/celeba_private/kernel_no_edge_potential.pb\n",
      "Temp: tensor([1.2087, 1.3466, 1.2392, 1.5125, 4.2045, 1.0678, 1.1056, 1.4129, 1.2241,\n",
      "        1.0406, 1.0837, 1.6743])\n"
     ]
    },
    {
     "name": "stdout",
     "output_type": "stream",
     "text": [
      "Using seed: 2 for warm start\n",
      "NS: 1500, seed: 2 68.9449890768578 1926.6269305540593\n",
      "Num untouched: 3869/4096\n",
      "Found 398 for acc sigma: 0.000000\n",
      "Found 13 for acc sigma: 0.300000\n",
      "Found 2 for acc sigma: 0.700000\n",
      "Brute force predictor perf.: 0.0152 0.0097 0.0035\n",
      "Loading label attribute models...\n",
      "Loding dataset...\n",
      "Number of arms: 4096 over 202599 instances -- shape: (4096, 12)\n",
      "Size of available unlabeled data: 100000\n",
      "Setting models...\n",
      "Initializing fitter...\n",
      "Using seed: 0 for warm start\n"
     ]
    },
    {
     "name": "stderr",
     "output_type": "stream",
     "text": [
      "Computing per arm accuracy\n",
      "Found 3698 unsupported arms of the total 4096 arms\n",
      "Done\n",
      "Best, worst, mean accuracy: 1.0000, 0.3000 0.9366\n",
      "Acc quantiles: [0.3        0.82324478 0.92873754 0.976      1.         1.\n",
      " 1.        ]\n",
      "Worst arms: [0.3        0.3        0.4        0.42857143 0.5        0.5\n",
      " 0.5        0.525      0.55555556 0.59615385 0.6        0.6\n",
      " 0.66666667 0.66666667 0.70833333 0.72222222 0.72727273 0.72727273\n",
      " 0.73684211 0.75       0.75       0.76923077 0.77777778 0.77837838\n",
      " 0.8        0.8        0.8        0.8        0.8        0.8       ]\n",
      "Read model from ../data/celeba_private/kernel.pb\n",
      "Temp: tensor([1.1824, 1.2758, 1.2325, 1.4758, 4.0888, 1.0795, 1.0934, 1.3858, 1.5746,\n",
      "        1.1410, 1.1148, 2.1117])\n",
      "Read model from ../data/celeba_private/kernel_no_edge_potential.pb\n",
      "Temp: tensor([1.2087, 1.3466, 1.2392, 1.5125, 4.2045, 1.0678, 1.1056, 1.4129, 1.2241,\n",
      "        1.0406, 1.0837, 1.6743])\n"
     ]
    },
    {
     "name": "stdout",
     "output_type": "stream",
     "text": [
      "NS: 1500, seed: 0 72.93199224460479 1917.5560121479662\n",
      "Num untouched: 3861/4096\n",
      "Found 398 for acc sigma: 0.000000\n",
      "Found 21 for acc sigma: 0.300000\n",
      "Found 1 for acc sigma: 0.700000\n",
      "Brute force predictor perf.: 0.0163 0.0116 0.0014\n",
      "Loading label attribute models...\n",
      "Loding dataset...\n",
      "Number of arms: 4096 over 202599 instances -- shape: (4096, 12)\n",
      "Size of available unlabeled data: 100000\n",
      "Setting models...\n",
      "Initializing fitter...\n"
     ]
    },
    {
     "name": "stderr",
     "output_type": "stream",
     "text": [
      "Computing per arm accuracy\n",
      "Found 3698 unsupported arms of the total 4096 arms\n",
      "Done\n",
      "Best, worst, mean accuracy: 1.0000, 0.3000 0.9366\n",
      "Acc quantiles: [0.3        0.82324478 0.92873754 0.976      1.         1.\n",
      " 1.        ]\n",
      "Worst arms: [0.3        0.3        0.4        0.42857143 0.5        0.5\n",
      " 0.5        0.525      0.55555556 0.59615385 0.6        0.6\n",
      " 0.66666667 0.66666667 0.70833333 0.72222222 0.72727273 0.72727273\n",
      " 0.73684211 0.75       0.75       0.76923077 0.77777778 0.77837838\n",
      " 0.8        0.8        0.8        0.8        0.8        0.8       ]\n",
      "Read model from ../data/celeba_private/kernel.pb\n",
      "Temp: tensor([1.1824, 1.2758, 1.2325, 1.4758, 4.0888, 1.0795, 1.0934, 1.3858, 1.5746,\n",
      "        1.1410, 1.1148, 2.1117])\n",
      "Read model from ../data/celeba_private/kernel_no_edge_potential.pb\n",
      "Temp: tensor([1.2087, 1.3466, 1.2392, 1.5125, 4.2045, 1.0678, 1.1056, 1.4129, 1.2241,\n",
      "        1.0406, 1.0837, 1.6743])\n"
     ]
    },
    {
     "name": "stdout",
     "output_type": "stream",
     "text": [
      "Using seed: 1 for warm start\n",
      "NS: 1500, seed: 1 68.93199224460479 1921.5560121479662\n",
      "Num untouched: 3864/4096\n",
      "Found 398 for acc sigma: 0.000000\n",
      "Found 22 for acc sigma: 0.300000\n",
      "Found 1 for acc sigma: 0.700000\n",
      "Brute force predictor perf.: 0.0178 0.0128 0.0018\n",
      "Loading label attribute models...\n",
      "Loding dataset...\n",
      "Number of arms: 4096 over 202599 instances -- shape: (4096, 12)\n",
      "Size of available unlabeled data: 100000\n",
      "Setting models...\n",
      "Initializing fitter...\n"
     ]
    },
    {
     "name": "stderr",
     "output_type": "stream",
     "text": [
      "Computing per arm accuracy\n",
      "Found 3698 unsupported arms of the total 4096 arms\n",
      "Done\n",
      "Best, worst, mean accuracy: 1.0000, 0.3000 0.9366\n",
      "Acc quantiles: [0.3        0.82324478 0.92873754 0.976      1.         1.\n",
      " 1.        ]\n",
      "Worst arms: [0.3        0.3        0.4        0.42857143 0.5        0.5\n",
      " 0.5        0.525      0.55555556 0.59615385 0.6        0.6\n",
      " 0.66666667 0.66666667 0.70833333 0.72222222 0.72727273 0.72727273\n",
      " 0.73684211 0.75       0.75       0.76923077 0.77777778 0.77837838\n",
      " 0.8        0.8        0.8        0.8        0.8        0.8       ]\n",
      "Read model from ../data/celeba_private/kernel.pb\n",
      "Temp: tensor([1.1824, 1.2758, 1.2325, 1.4758, 4.0888, 1.0795, 1.0934, 1.3858, 1.5746,\n",
      "        1.1410, 1.1148, 2.1117])\n",
      "Read model from ../data/celeba_private/kernel_no_edge_potential.pb\n",
      "Temp: tensor([1.2087, 1.3466, 1.2392, 1.5125, 4.2045, 1.0678, 1.1056, 1.4129, 1.2241,\n",
      "        1.0406, 1.0837, 1.6743])\n"
     ]
    },
    {
     "name": "stdout",
     "output_type": "stream",
     "text": [
      "Using seed: 2 for warm start\n",
      "NS: 1500, seed: 2 68.93199224460479 1921.556012147966\n",
      "Num untouched: 3859/4096\n",
      "Found 398 for acc sigma: 0.000000\n",
      "Found 19 for acc sigma: 0.300000\n",
      "Found 1 for acc sigma: 0.700000\n",
      "Brute force predictor perf.: 0.0158 0.0106 0.0019\n",
      "Loading label attribute models...\n",
      "Loding dataset...\n",
      "Number of arms: 4096 over 202599 instances -- shape: (4096, 12)\n",
      "Size of available unlabeled data: 100000\n",
      "Setting models...\n",
      "Initializing fitter...\n",
      "Using seed: 0 for warm start\n"
     ]
    },
    {
     "name": "stderr",
     "output_type": "stream",
     "text": [
      "Computing per arm accuracy\n",
      "Found 3698 unsupported arms of the total 4096 arms\n",
      "Done\n",
      "Best, worst, mean accuracy: 1.0000, 0.3000 0.9366\n",
      "Acc quantiles: [0.3        0.82324478 0.92873754 0.976      1.         1.\n",
      " 1.        ]\n",
      "Worst arms: [0.3        0.3        0.4        0.42857143 0.5        0.5\n",
      " 0.5        0.525      0.55555556 0.59615385 0.6        0.6\n",
      " 0.66666667 0.66666667 0.70833333 0.72222222 0.72727273 0.72727273\n",
      " 0.73684211 0.75       0.75       0.76923077 0.77777778 0.77837838\n",
      " 0.8        0.8        0.8        0.8        0.8        0.8       ]\n",
      "Read model from ../data/celeba_private/kernel.pb\n",
      "Temp: tensor([1.1824, 1.2758, 1.2325, 1.4758, 4.0888, 1.0795, 1.0934, 1.3858, 1.5746,\n",
      "        1.1410, 1.1148, 2.1117])\n",
      "Read model from ../data/celeba_private/kernel_no_edge_potential.pb\n",
      "Temp: tensor([1.2087, 1.3466, 1.2392, 1.5125, 4.2045, 1.0678, 1.1056, 1.4129, 1.2241,\n",
      "        1.0406, 1.0837, 1.6743])\n"
     ]
    },
    {
     "name": "stdout",
     "output_type": "stream",
     "text": [
      "NS: 1500, seed: 0 73.0 1927.0\n",
      "Num untouched: 3972/4096\n",
      "Found 398 for acc sigma: 0.000000\n",
      "Found 18 for acc sigma: 0.300000\n",
      "Found 2 for acc sigma: 0.700000\n",
      "Brute force predictor perf.: 0.0159 0.0111 0.0026\n",
      "Loading label attribute models...\n",
      "Loding dataset...\n",
      "Number of arms: 4096 over 202599 instances -- shape: (4096, 12)\n",
      "Size of available unlabeled data: 100000\n",
      "Setting models...\n",
      "Initializing fitter...\n"
     ]
    },
    {
     "name": "stderr",
     "output_type": "stream",
     "text": [
      "Computing per arm accuracy\n",
      "Found 3698 unsupported arms of the total 4096 arms\n",
      "Done\n",
      "Best, worst, mean accuracy: 1.0000, 0.3000 0.9366\n",
      "Acc quantiles: [0.3        0.82324478 0.92873754 0.976      1.         1.\n",
      " 1.        ]\n",
      "Worst arms: [0.3        0.3        0.4        0.42857143 0.5        0.5\n",
      " 0.5        0.525      0.55555556 0.59615385 0.6        0.6\n",
      " 0.66666667 0.66666667 0.70833333 0.72222222 0.72727273 0.72727273\n",
      " 0.73684211 0.75       0.75       0.76923077 0.77777778 0.77837838\n",
      " 0.8        0.8        0.8        0.8        0.8        0.8       ]\n",
      "Read model from ../data/celeba_private/kernel.pb\n",
      "Temp: tensor([1.1824, 1.2758, 1.2325, 1.4758, 4.0888, 1.0795, 1.0934, 1.3858, 1.5746,\n",
      "        1.1410, 1.1148, 2.1117])\n",
      "Read model from ../data/celeba_private/kernel_no_edge_potential.pb\n",
      "Temp: tensor([1.2087, 1.3466, 1.2392, 1.5125, 4.2045, 1.0678, 1.1056, 1.4129, 1.2241,\n",
      "        1.0406, 1.0837, 1.6743])\n"
     ]
    },
    {
     "name": "stdout",
     "output_type": "stream",
     "text": [
      "Using seed: 1 for warm start\n",
      "NS: 1500, seed: 1 69.0 1931.0\n",
      "Num untouched: 3974/4096\n",
      "Found 398 for acc sigma: 0.000000\n",
      "Found 21 for acc sigma: 0.300000\n",
      "Found 3 for acc sigma: 0.700000\n",
      "Brute force predictor perf.: 0.0208 0.0159 0.0056\n",
      "Loading label attribute models...\n",
      "Loding dataset...\n",
      "Number of arms: 4096 over 202599 instances -- shape: (4096, 12)\n",
      "Size of available unlabeled data: 100000\n",
      "Setting models...\n",
      "Initializing fitter...\n"
     ]
    },
    {
     "name": "stderr",
     "output_type": "stream",
     "text": [
      "Computing per arm accuracy\n",
      "Found 3698 unsupported arms of the total 4096 arms\n",
      "Done\n",
      "Best, worst, mean accuracy: 1.0000, 0.3000 0.9366\n",
      "Acc quantiles: [0.3        0.82324478 0.92873754 0.976      1.         1.\n",
      " 1.        ]\n",
      "Worst arms: [0.3        0.3        0.4        0.42857143 0.5        0.5\n",
      " 0.5        0.525      0.55555556 0.59615385 0.6        0.6\n",
      " 0.66666667 0.66666667 0.70833333 0.72222222 0.72727273 0.72727273\n",
      " 0.73684211 0.75       0.75       0.76923077 0.77777778 0.77837838\n",
      " 0.8        0.8        0.8        0.8        0.8        0.8       ]\n",
      "Read model from ../data/celeba_private/kernel.pb\n",
      "Temp: tensor([1.1824, 1.2758, 1.2325, 1.4758, 4.0888, 1.0795, 1.0934, 1.3858, 1.5746,\n",
      "        1.1410, 1.1148, 2.1117])\n",
      "Read model from ../data/celeba_private/kernel_no_edge_potential.pb\n",
      "Temp: tensor([1.2087, 1.3466, 1.2392, 1.5125, 4.2045, 1.0678, 1.1056, 1.4129, 1.2241,\n",
      "        1.0406, 1.0837, 1.6743])\n"
     ]
    },
    {
     "name": "stdout",
     "output_type": "stream",
     "text": [
      "Using seed: 2 for warm start\n",
      "NS: 1500, seed: 2 69.0 1931.0\n",
      "Num untouched: 3969/4096\n",
      "Found 398 for acc sigma: 0.000000\n",
      "Found 17 for acc sigma: 0.300000\n",
      "Found 2 for acc sigma: 0.700000\n",
      "Brute force predictor perf.: 0.0174 0.0124 0.0036\n",
      "Loading label attribute models...\n",
      "Loding dataset...\n",
      "Number of arms: 4096 over 202599 instances -- shape: (4096, 12)\n",
      "Size of available unlabeled data: 100000\n",
      "Setting models...\n",
      "Initializing fitter...\n",
      "Using seed: 0 for warm start\n"
     ]
    },
    {
     "name": "stderr",
     "output_type": "stream",
     "text": [
      "Computing per arm accuracy\n",
      "Found 3698 unsupported arms of the total 4096 arms\n",
      "Done\n",
      "Best, worst, mean accuracy: 1.0000, 0.3000 0.9366\n",
      "Acc quantiles: [0.3        0.82324478 0.92873754 0.976      1.         1.\n",
      " 1.        ]\n",
      "Worst arms: [0.3        0.3        0.4        0.42857143 0.5        0.5\n",
      " 0.5        0.525      0.55555556 0.59615385 0.6        0.6\n",
      " 0.66666667 0.66666667 0.70833333 0.72222222 0.72727273 0.72727273\n",
      " 0.73684211 0.75       0.75       0.76923077 0.77777778 0.77837838\n",
      " 0.8        0.8        0.8        0.8        0.8        0.8       ]\n",
      "Read model from ../data/celeba_private/kernel.pb\n",
      "Temp: tensor([1.1824, 1.2758, 1.2325, 1.4758, 4.0888, 1.0795, 1.0934, 1.3858, 1.5746,\n",
      "        1.1410, 1.1148, 2.1117])\n",
      "Read model from ../data/celeba_private/kernel_no_edge_potential.pb\n",
      "Temp: tensor([1.2087, 1.3466, 1.2392, 1.5125, 4.2045, 1.0678, 1.1056, 1.4129, 1.2241,\n",
      "        1.0406, 1.0837, 1.6743])\n"
     ]
    },
    {
     "name": "stdout",
     "output_type": "stream",
     "text": [
      "NS: 1500, seed: 0 73.0 1927.0\n",
      "Num untouched: 3867/4096\n",
      "Found 398 for acc sigma: 0.000000\n",
      "Found 19 for acc sigma: 0.300000\n",
      "Found 3 for acc sigma: 0.700000\n",
      "Brute force predictor perf.: 0.0192 0.0136 0.0050\n",
      "Loading label attribute models...\n",
      "Loding dataset...\n",
      "Number of arms: 4096 over 202599 instances -- shape: (4096, 12)\n",
      "Size of available unlabeled data: 100000\n",
      "Setting models...\n",
      "Initializing fitter...\n"
     ]
    },
    {
     "name": "stderr",
     "output_type": "stream",
     "text": [
      "Computing per arm accuracy\n",
      "Found 3698 unsupported arms of the total 4096 arms\n",
      "Done\n",
      "Best, worst, mean accuracy: 1.0000, 0.3000 0.9366\n",
      "Acc quantiles: [0.3        0.82324478 0.92873754 0.976      1.         1.\n",
      " 1.        ]\n",
      "Worst arms: [0.3        0.3        0.4        0.42857143 0.5        0.5\n",
      " 0.5        0.525      0.55555556 0.59615385 0.6        0.6\n",
      " 0.66666667 0.66666667 0.70833333 0.72222222 0.72727273 0.72727273\n",
      " 0.73684211 0.75       0.75       0.76923077 0.77777778 0.77837838\n",
      " 0.8        0.8        0.8        0.8        0.8        0.8       ]\n",
      "Read model from ../data/celeba_private/kernel.pb\n",
      "Temp: tensor([1.1824, 1.2758, 1.2325, 1.4758, 4.0888, 1.0795, 1.0934, 1.3858, 1.5746,\n",
      "        1.1410, 1.1148, 2.1117])\n",
      "Read model from ../data/celeba_private/kernel_no_edge_potential.pb\n",
      "Temp: tensor([1.2087, 1.3466, 1.2392, 1.5125, 4.2045, 1.0678, 1.1056, 1.4129, 1.2241,\n",
      "        1.0406, 1.0837, 1.6743])\n"
     ]
    },
    {
     "name": "stdout",
     "output_type": "stream",
     "text": [
      "Using seed: 1 for warm start\n",
      "NS: 1500, seed: 1 69.0 1931.0\n",
      "Num untouched: 3867/4096\n",
      "Found 398 for acc sigma: 0.000000\n",
      "Found 21 for acc sigma: 0.300000\n",
      "Found 3 for acc sigma: 0.700000\n",
      "Brute force predictor perf.: 0.0198 0.0144 0.0054\n",
      "Loading label attribute models...\n",
      "Loding dataset...\n",
      "Number of arms: 4096 over 202599 instances -- shape: (4096, 12)\n",
      "Size of available unlabeled data: 100000\n",
      "Setting models...\n",
      "Initializing fitter...\n"
     ]
    },
    {
     "name": "stderr",
     "output_type": "stream",
     "text": [
      "Computing per arm accuracy\n",
      "Found 3698 unsupported arms of the total 4096 arms\n",
      "Done\n",
      "Best, worst, mean accuracy: 1.0000, 0.3000 0.9366\n",
      "Acc quantiles: [0.3        0.82324478 0.92873754 0.976      1.         1.\n",
      " 1.        ]\n",
      "Worst arms: [0.3        0.3        0.4        0.42857143 0.5        0.5\n",
      " 0.5        0.525      0.55555556 0.59615385 0.6        0.6\n",
      " 0.66666667 0.66666667 0.70833333 0.72222222 0.72727273 0.72727273\n",
      " 0.73684211 0.75       0.75       0.76923077 0.77777778 0.77837838\n",
      " 0.8        0.8        0.8        0.8        0.8        0.8       ]\n",
      "Read model from ../data/celeba_private/kernel.pb\n",
      "Temp: tensor([1.1824, 1.2758, 1.2325, 1.4758, 4.0888, 1.0795, 1.0934, 1.3858, 1.5746,\n",
      "        1.1410, 1.1148, 2.1117])\n",
      "Read model from ../data/celeba_private/kernel_no_edge_potential.pb\n",
      "Temp: tensor([1.2087, 1.3466, 1.2392, 1.5125, 4.2045, 1.0678, 1.1056, 1.4129, 1.2241,\n",
      "        1.0406, 1.0837, 1.6743])\n"
     ]
    },
    {
     "name": "stdout",
     "output_type": "stream",
     "text": [
      "Using seed: 2 for warm start\n",
      "NS: 1500, seed: 2 69.0 1931.0\n",
      "Num untouched: 3866/4096\n",
      "Found 398 for acc sigma: 0.000000\n",
      "Found 18 for acc sigma: 0.300000\n",
      "Found 3 for acc sigma: 0.700000\n",
      "Brute force predictor perf.: 0.0178 0.0124 0.0055\n",
      "Loading label attribute models...\n",
      "Loding dataset...\n",
      "Number of arms: 4096 over 202599 instances -- shape: (4096, 12)\n",
      "Size of available unlabeled data: 100000\n",
      "Setting models...\n",
      "Initializing fitter...\n",
      "Using seed: 0 for warm start\n"
     ]
    },
    {
     "name": "stderr",
     "output_type": "stream",
     "text": [
      "Computing per arm accuracy\n",
      "Found 3698 unsupported arms of the total 4096 arms\n",
      "Done\n",
      "Best, worst, mean accuracy: 1.0000, 0.3000 0.9366\n",
      "Acc quantiles: [0.3        0.82324478 0.92873754 0.976      1.         1.\n",
      " 1.        ]\n",
      "Worst arms: [0.3        0.3        0.4        0.42857143 0.5        0.5\n",
      " 0.5        0.525      0.55555556 0.59615385 0.6        0.6\n",
      " 0.66666667 0.66666667 0.70833333 0.72222222 0.72727273 0.72727273\n",
      " 0.73684211 0.75       0.75       0.76923077 0.77777778 0.77837838\n",
      " 0.8        0.8        0.8        0.8        0.8        0.8       ]\n",
      "Read model from ../data/celeba_private/kernel.pb\n",
      "Temp: tensor([1.1824, 1.2758, 1.2325, 1.4758, 4.0888, 1.0795, 1.0934, 1.3858, 1.5746,\n",
      "        1.1410, 1.1148, 2.1117])\n",
      "Read model from ../data/celeba_private/kernel_no_edge_potential.pb\n",
      "Temp: tensor([1.2087, 1.3466, 1.2392, 1.5125, 4.2045, 1.0678, 1.1056, 1.4129, 1.2241,\n",
      "        1.0406, 1.0837, 1.6743])\n"
     ]
    },
    {
     "name": "stdout",
     "output_type": "stream",
     "text": [
      "NS: 2000, seed: 0 86.91118931268589 2407.1717105996536\n",
      "Num untouched: 3875/4096\n",
      "Found 398 for acc sigma: 0.000000\n",
      "Found 15 for acc sigma: 0.300000\n",
      "Found 1 for acc sigma: 0.700000\n",
      "Brute force predictor perf.: 0.0142 0.0093 0.0013\n",
      "Loading label attribute models...\n",
      "Loding dataset...\n",
      "Number of arms: 4096 over 202599 instances -- shape: (4096, 12)\n",
      "Size of available unlabeled data: 100000\n",
      "Setting models...\n",
      "Initializing fitter...\n"
     ]
    },
    {
     "name": "stderr",
     "output_type": "stream",
     "text": [
      "Computing per arm accuracy\n",
      "Found 3698 unsupported arms of the total 4096 arms\n",
      "Done\n",
      "Best, worst, mean accuracy: 1.0000, 0.3000 0.9366\n",
      "Acc quantiles: [0.3        0.82324478 0.92873754 0.976      1.         1.\n",
      " 1.        ]\n",
      "Worst arms: [0.3        0.3        0.4        0.42857143 0.5        0.5\n",
      " 0.5        0.525      0.55555556 0.59615385 0.6        0.6\n",
      " 0.66666667 0.66666667 0.70833333 0.72222222 0.72727273 0.72727273\n",
      " 0.73684211 0.75       0.75       0.76923077 0.77777778 0.77837838\n",
      " 0.8        0.8        0.8        0.8        0.8        0.8       ]\n",
      "Read model from ../data/celeba_private/kernel.pb\n",
      "Temp: tensor([1.1824, 1.2758, 1.2325, 1.4758, 4.0888, 1.0795, 1.0934, 1.3858, 1.5746,\n",
      "        1.1410, 1.1148, 2.1117])\n",
      "Read model from ../data/celeba_private/kernel_no_edge_potential.pb\n",
      "Temp: tensor([1.2087, 1.3466, 1.2392, 1.5125, 4.2045, 1.0678, 1.1056, 1.4129, 1.2241,\n",
      "        1.0406, 1.0837, 1.6743])\n"
     ]
    },
    {
     "name": "stdout",
     "output_type": "stream",
     "text": [
      "Using seed: 1 for warm start\n",
      "NS: 2000, seed: 1 82.91118931268589 2411.1717105996536\n",
      "Num untouched: 3875/4096\n",
      "Found 398 for acc sigma: 0.000000\n",
      "Found 15 for acc sigma: 0.300000\n",
      "Found 1 for acc sigma: 0.700000\n",
      "Brute force predictor perf.: 0.0164 0.0112 0.0021\n",
      "Loading label attribute models...\n",
      "Loding dataset...\n",
      "Number of arms: 4096 over 202599 instances -- shape: (4096, 12)\n",
      "Size of available unlabeled data: 100000\n",
      "Setting models...\n",
      "Initializing fitter...\n"
     ]
    },
    {
     "name": "stderr",
     "output_type": "stream",
     "text": [
      "Computing per arm accuracy\n",
      "Found 3698 unsupported arms of the total 4096 arms\n",
      "Done\n",
      "Best, worst, mean accuracy: 1.0000, 0.3000 0.9366\n",
      "Acc quantiles: [0.3        0.82324478 0.92873754 0.976      1.         1.\n",
      " 1.        ]\n",
      "Worst arms: [0.3        0.3        0.4        0.42857143 0.5        0.5\n",
      " 0.5        0.525      0.55555556 0.59615385 0.6        0.6\n",
      " 0.66666667 0.66666667 0.70833333 0.72222222 0.72727273 0.72727273\n",
      " 0.73684211 0.75       0.75       0.76923077 0.77777778 0.77837838\n",
      " 0.8        0.8        0.8        0.8        0.8        0.8       ]\n",
      "Read model from ../data/celeba_private/kernel.pb\n",
      "Temp: tensor([1.1824, 1.2758, 1.2325, 1.4758, 4.0888, 1.0795, 1.0934, 1.3858, 1.5746,\n",
      "        1.1410, 1.1148, 2.1117])\n",
      "Read model from ../data/celeba_private/kernel_no_edge_potential.pb\n",
      "Temp: tensor([1.2087, 1.3466, 1.2392, 1.5125, 4.2045, 1.0678, 1.1056, 1.4129, 1.2241,\n",
      "        1.0406, 1.0837, 1.6743])\n"
     ]
    },
    {
     "name": "stdout",
     "output_type": "stream",
     "text": [
      "Using seed: 2 for warm start\n",
      "NS: 2000, seed: 2 82.91118931268588 2411.1717105996536\n",
      "Num untouched: 3865/4096\n",
      "Found 398 for acc sigma: 0.000000\n",
      "Found 12 for acc sigma: 0.300000\n",
      "Found 2 for acc sigma: 0.700000\n",
      "Brute force predictor perf.: 0.0146 0.0093 0.0035\n",
      "Loading label attribute models...\n",
      "Loding dataset...\n",
      "Number of arms: 4096 over 202599 instances -- shape: (4096, 12)\n",
      "Size of available unlabeled data: 100000\n",
      "Setting models...\n",
      "Initializing fitter...\n",
      "Using seed: 0 for warm start\n"
     ]
    },
    {
     "name": "stderr",
     "output_type": "stream",
     "text": [
      "Computing per arm accuracy\n",
      "Found 3698 unsupported arms of the total 4096 arms\n",
      "Done\n",
      "Best, worst, mean accuracy: 1.0000, 0.3000 0.9366\n",
      "Acc quantiles: [0.3        0.82324478 0.92873754 0.976      1.         1.\n",
      " 1.        ]\n",
      "Worst arms: [0.3        0.3        0.4        0.42857143 0.5        0.5\n",
      " 0.5        0.525      0.55555556 0.59615385 0.6        0.6\n",
      " 0.66666667 0.66666667 0.70833333 0.72222222 0.72727273 0.72727273\n",
      " 0.73684211 0.75       0.75       0.76923077 0.77777778 0.77837838\n",
      " 0.8        0.8        0.8        0.8        0.8        0.8       ]\n",
      "Read model from ../data/celeba_private/kernel.pb\n",
      "Temp: tensor([1.1824, 1.2758, 1.2325, 1.4758, 4.0888, 1.0795, 1.0934, 1.3858, 1.5746,\n",
      "        1.1410, 1.1148, 2.1117])\n",
      "Read model from ../data/celeba_private/kernel_no_edge_potential.pb\n",
      "Temp: tensor([1.2087, 1.3466, 1.2392, 1.5125, 4.2045, 1.0678, 1.1056, 1.4129, 1.2241,\n",
      "        1.0406, 1.0837, 1.6743])\n"
     ]
    },
    {
     "name": "stdout",
     "output_type": "stream",
     "text": [
      "NS: 2000, seed: 0 86.90457392072364 2400.3779903643876\n",
      "Num untouched: 3856/4096\n",
      "Found 398 for acc sigma: 0.000000\n",
      "Found 18 for acc sigma: 0.300000\n",
      "Found 1 for acc sigma: 0.700000\n",
      "Brute force predictor perf.: 0.0154 0.0105 0.0014\n",
      "Loading label attribute models...\n",
      "Loding dataset...\n",
      "Number of arms: 4096 over 202599 instances -- shape: (4096, 12)\n",
      "Size of available unlabeled data: 100000\n",
      "Setting models...\n",
      "Initializing fitter...\n"
     ]
    },
    {
     "name": "stderr",
     "output_type": "stream",
     "text": [
      "Computing per arm accuracy\n",
      "Found 3698 unsupported arms of the total 4096 arms\n",
      "Done\n",
      "Best, worst, mean accuracy: 1.0000, 0.3000 0.9366\n",
      "Acc quantiles: [0.3        0.82324478 0.92873754 0.976      1.         1.\n",
      " 1.        ]\n",
      "Worst arms: [0.3        0.3        0.4        0.42857143 0.5        0.5\n",
      " 0.5        0.525      0.55555556 0.59615385 0.6        0.6\n",
      " 0.66666667 0.66666667 0.70833333 0.72222222 0.72727273 0.72727273\n",
      " 0.73684211 0.75       0.75       0.76923077 0.77777778 0.77837838\n",
      " 0.8        0.8        0.8        0.8        0.8        0.8       ]\n",
      "Read model from ../data/celeba_private/kernel.pb\n",
      "Temp: tensor([1.1824, 1.2758, 1.2325, 1.4758, 4.0888, 1.0795, 1.0934, 1.3858, 1.5746,\n",
      "        1.1410, 1.1148, 2.1117])\n",
      "Read model from ../data/celeba_private/kernel_no_edge_potential.pb\n",
      "Temp: tensor([1.2087, 1.3466, 1.2392, 1.5125, 4.2045, 1.0678, 1.1056, 1.4129, 1.2241,\n",
      "        1.0406, 1.0837, 1.6743])\n"
     ]
    },
    {
     "name": "stdout",
     "output_type": "stream",
     "text": [
      "Using seed: 1 for warm start\n",
      "NS: 2000, seed: 1 82.90457392072366 2404.377990364388\n",
      "Num untouched: 3859/4096\n",
      "Found 398 for acc sigma: 0.000000\n",
      "Found 19 for acc sigma: 0.300000\n",
      "Found 1 for acc sigma: 0.700000\n",
      "Brute force predictor perf.: 0.0168 0.0115 0.0018\n",
      "Loading label attribute models...\n",
      "Loding dataset...\n",
      "Number of arms: 4096 over 202599 instances -- shape: (4096, 12)\n",
      "Size of available unlabeled data: 100000\n",
      "Setting models...\n",
      "Initializing fitter...\n"
     ]
    },
    {
     "name": "stderr",
     "output_type": "stream",
     "text": [
      "Computing per arm accuracy\n",
      "Found 3698 unsupported arms of the total 4096 arms\n",
      "Done\n",
      "Best, worst, mean accuracy: 1.0000, 0.3000 0.9366\n",
      "Acc quantiles: [0.3        0.82324478 0.92873754 0.976      1.         1.\n",
      " 1.        ]\n",
      "Worst arms: [0.3        0.3        0.4        0.42857143 0.5        0.5\n",
      " 0.5        0.525      0.55555556 0.59615385 0.6        0.6\n",
      " 0.66666667 0.66666667 0.70833333 0.72222222 0.72727273 0.72727273\n",
      " 0.73684211 0.75       0.75       0.76923077 0.77777778 0.77837838\n",
      " 0.8        0.8        0.8        0.8        0.8        0.8       ]\n",
      "Read model from ../data/celeba_private/kernel.pb\n",
      "Temp: tensor([1.1824, 1.2758, 1.2325, 1.4758, 4.0888, 1.0795, 1.0934, 1.3858, 1.5746,\n",
      "        1.1410, 1.1148, 2.1117])\n",
      "Read model from ../data/celeba_private/kernel_no_edge_potential.pb\n",
      "Temp: tensor([1.2087, 1.3466, 1.2392, 1.5125, 4.2045, 1.0678, 1.1056, 1.4129, 1.2241,\n",
      "        1.0406, 1.0837, 1.6743])\n"
     ]
    },
    {
     "name": "stdout",
     "output_type": "stream",
     "text": [
      "Using seed: 2 for warm start\n",
      "NS: 2000, seed: 2 82.90457392072365 2404.377990364388\n",
      "Num untouched: 3853/4096\n",
      "Found 398 for acc sigma: 0.000000\n",
      "Found 16 for acc sigma: 0.300000\n",
      "Found 1 for acc sigma: 0.700000\n",
      "Brute force predictor perf.: 0.0150 0.0094 0.0019\n",
      "Loading label attribute models...\n",
      "Loding dataset...\n",
      "Number of arms: 4096 over 202599 instances -- shape: (4096, 12)\n",
      "Size of available unlabeled data: 100000\n",
      "Setting models...\n",
      "Initializing fitter...\n",
      "Using seed: 0 for warm start\n"
     ]
    },
    {
     "name": "stderr",
     "output_type": "stream",
     "text": [
      "Computing per arm accuracy\n",
      "Found 3698 unsupported arms of the total 4096 arms\n",
      "Done\n",
      "Best, worst, mean accuracy: 1.0000, 0.3000 0.9366\n",
      "Acc quantiles: [0.3        0.82324478 0.92873754 0.976      1.         1.\n",
      " 1.        ]\n",
      "Worst arms: [0.3        0.3        0.4        0.42857143 0.5        0.5\n",
      " 0.5        0.525      0.55555556 0.59615385 0.6        0.6\n",
      " 0.66666667 0.66666667 0.70833333 0.72222222 0.72727273 0.72727273\n",
      " 0.73684211 0.75       0.75       0.76923077 0.77777778 0.77837838\n",
      " 0.8        0.8        0.8        0.8        0.8        0.8       ]\n",
      "Read model from ../data/celeba_private/kernel.pb\n",
      "Temp: tensor([1.1824, 1.2758, 1.2325, 1.4758, 4.0888, 1.0795, 1.0934, 1.3858, 1.5746,\n",
      "        1.1410, 1.1148, 2.1117])\n",
      "Read model from ../data/celeba_private/kernel_no_edge_potential.pb\n",
      "Temp: tensor([1.2087, 1.3466, 1.2392, 1.5125, 4.2045, 1.0678, 1.1056, 1.4129, 1.2241,\n",
      "        1.0406, 1.0837, 1.6743])\n"
     ]
    },
    {
     "name": "stdout",
     "output_type": "stream",
     "text": [
      "NS: 2000, seed: 0 87.0 2413.0\n",
      "Num untouched: 3971/4096\n",
      "Found 398 for acc sigma: 0.000000\n",
      "Found 18 for acc sigma: 0.300000\n",
      "Found 2 for acc sigma: 0.700000\n",
      "Brute force predictor perf.: 0.0156 0.0109 0.0026\n",
      "Loading label attribute models...\n",
      "Loding dataset...\n",
      "Number of arms: 4096 over 202599 instances -- shape: (4096, 12)\n",
      "Size of available unlabeled data: 100000\n",
      "Setting models...\n",
      "Initializing fitter...\n"
     ]
    },
    {
     "name": "stderr",
     "output_type": "stream",
     "text": [
      "Computing per arm accuracy\n",
      "Found 3698 unsupported arms of the total 4096 arms\n",
      "Done\n",
      "Best, worst, mean accuracy: 1.0000, 0.3000 0.9366\n",
      "Acc quantiles: [0.3        0.82324478 0.92873754 0.976      1.         1.\n",
      " 1.        ]\n",
      "Worst arms: [0.3        0.3        0.4        0.42857143 0.5        0.5\n",
      " 0.5        0.525      0.55555556 0.59615385 0.6        0.6\n",
      " 0.66666667 0.66666667 0.70833333 0.72222222 0.72727273 0.72727273\n",
      " 0.73684211 0.75       0.75       0.76923077 0.77777778 0.77837838\n",
      " 0.8        0.8        0.8        0.8        0.8        0.8       ]\n",
      "Read model from ../data/celeba_private/kernel.pb\n",
      "Temp: tensor([1.1824, 1.2758, 1.2325, 1.4758, 4.0888, 1.0795, 1.0934, 1.3858, 1.5746,\n",
      "        1.1410, 1.1148, 2.1117])\n",
      "Read model from ../data/celeba_private/kernel_no_edge_potential.pb\n",
      "Temp: tensor([1.2087, 1.3466, 1.2392, 1.5125, 4.2045, 1.0678, 1.1056, 1.4129, 1.2241,\n",
      "        1.0406, 1.0837, 1.6743])\n"
     ]
    },
    {
     "name": "stdout",
     "output_type": "stream",
     "text": [
      "Using seed: 1 for warm start\n",
      "NS: 2000, seed: 1 83.0 2417.0\n",
      "Num untouched: 3974/4096\n",
      "Found 398 for acc sigma: 0.000000\n",
      "Found 19 for acc sigma: 0.300000\n",
      "Found 3 for acc sigma: 0.700000\n",
      "Brute force predictor perf.: 0.0201 0.0149 0.0056\n",
      "Loading label attribute models...\n",
      "Loding dataset...\n",
      "Number of arms: 4096 over 202599 instances -- shape: (4096, 12)\n",
      "Size of available unlabeled data: 100000\n",
      "Setting models...\n",
      "Initializing fitter...\n"
     ]
    },
    {
     "name": "stderr",
     "output_type": "stream",
     "text": [
      "Computing per arm accuracy\n",
      "Found 3698 unsupported arms of the total 4096 arms\n",
      "Done\n",
      "Best, worst, mean accuracy: 1.0000, 0.3000 0.9366\n",
      "Acc quantiles: [0.3        0.82324478 0.92873754 0.976      1.         1.\n",
      " 1.        ]\n",
      "Worst arms: [0.3        0.3        0.4        0.42857143 0.5        0.5\n",
      " 0.5        0.525      0.55555556 0.59615385 0.6        0.6\n",
      " 0.66666667 0.66666667 0.70833333 0.72222222 0.72727273 0.72727273\n",
      " 0.73684211 0.75       0.75       0.76923077 0.77777778 0.77837838\n",
      " 0.8        0.8        0.8        0.8        0.8        0.8       ]\n",
      "Read model from ../data/celeba_private/kernel.pb\n",
      "Temp: tensor([1.1824, 1.2758, 1.2325, 1.4758, 4.0888, 1.0795, 1.0934, 1.3858, 1.5746,\n",
      "        1.1410, 1.1148, 2.1117])\n",
      "Read model from ../data/celeba_private/kernel_no_edge_potential.pb\n",
      "Temp: tensor([1.2087, 1.3466, 1.2392, 1.5125, 4.2045, 1.0678, 1.1056, 1.4129, 1.2241,\n",
      "        1.0406, 1.0837, 1.6743])\n"
     ]
    },
    {
     "name": "stdout",
     "output_type": "stream",
     "text": [
      "Using seed: 2 for warm start\n",
      "NS: 2000, seed: 2 83.0 2417.0\n",
      "Num untouched: 3969/4096\n",
      "Found 398 for acc sigma: 0.000000\n",
      "Found 17 for acc sigma: 0.300000\n",
      "Found 2 for acc sigma: 0.700000\n",
      "Brute force predictor perf.: 0.0169 0.0120 0.0036\n",
      "Loading label attribute models...\n",
      "Loding dataset...\n",
      "Number of arms: 4096 over 202599 instances -- shape: (4096, 12)\n",
      "Size of available unlabeled data: 100000\n",
      "Setting models...\n",
      "Initializing fitter...\n",
      "Using seed: 0 for warm start\n"
     ]
    },
    {
     "name": "stderr",
     "output_type": "stream",
     "text": [
      "Computing per arm accuracy\n",
      "Found 3698 unsupported arms of the total 4096 arms\n",
      "Done\n",
      "Best, worst, mean accuracy: 1.0000, 0.3000 0.9366\n",
      "Acc quantiles: [0.3        0.82324478 0.92873754 0.976      1.         1.\n",
      " 1.        ]\n",
      "Worst arms: [0.3        0.3        0.4        0.42857143 0.5        0.5\n",
      " 0.5        0.525      0.55555556 0.59615385 0.6        0.6\n",
      " 0.66666667 0.66666667 0.70833333 0.72222222 0.72727273 0.72727273\n",
      " 0.73684211 0.75       0.75       0.76923077 0.77777778 0.77837838\n",
      " 0.8        0.8        0.8        0.8        0.8        0.8       ]\n",
      "Read model from ../data/celeba_private/kernel.pb\n",
      "Temp: tensor([1.1824, 1.2758, 1.2325, 1.4758, 4.0888, 1.0795, 1.0934, 1.3858, 1.5746,\n",
      "        1.1410, 1.1148, 2.1117])\n",
      "Read model from ../data/celeba_private/kernel_no_edge_potential.pb\n",
      "Temp: tensor([1.2087, 1.3466, 1.2392, 1.5125, 4.2045, 1.0678, 1.1056, 1.4129, 1.2241,\n",
      "        1.0406, 1.0837, 1.6743])\n"
     ]
    },
    {
     "name": "stdout",
     "output_type": "stream",
     "text": [
      "NS: 2000, seed: 0 87.0 2413.0\n",
      "Num untouched: 3854/4096\n",
      "Found 398 for acc sigma: 0.000000\n",
      "Found 18 for acc sigma: 0.300000\n",
      "Found 3 for acc sigma: 0.700000\n",
      "Brute force predictor perf.: 0.0190 0.0130 0.0050\n",
      "Loading label attribute models...\n",
      "Loding dataset...\n",
      "Number of arms: 4096 over 202599 instances -- shape: (4096, 12)\n",
      "Size of available unlabeled data: 100000\n",
      "Setting models...\n",
      "Initializing fitter...\n"
     ]
    },
    {
     "name": "stderr",
     "output_type": "stream",
     "text": [
      "Computing per arm accuracy\n",
      "Found 3698 unsupported arms of the total 4096 arms\n",
      "Done\n",
      "Best, worst, mean accuracy: 1.0000, 0.3000 0.9366\n",
      "Acc quantiles: [0.3        0.82324478 0.92873754 0.976      1.         1.\n",
      " 1.        ]\n",
      "Worst arms: [0.3        0.3        0.4        0.42857143 0.5        0.5\n",
      " 0.5        0.525      0.55555556 0.59615385 0.6        0.6\n",
      " 0.66666667 0.66666667 0.70833333 0.72222222 0.72727273 0.72727273\n",
      " 0.73684211 0.75       0.75       0.76923077 0.77777778 0.77837838\n",
      " 0.8        0.8        0.8        0.8        0.8        0.8       ]\n",
      "Read model from ../data/celeba_private/kernel.pb\n",
      "Temp: tensor([1.1824, 1.2758, 1.2325, 1.4758, 4.0888, 1.0795, 1.0934, 1.3858, 1.5746,\n",
      "        1.1410, 1.1148, 2.1117])\n",
      "Read model from ../data/celeba_private/kernel_no_edge_potential.pb\n",
      "Temp: tensor([1.2087, 1.3466, 1.2392, 1.5125, 4.2045, 1.0678, 1.1056, 1.4129, 1.2241,\n",
      "        1.0406, 1.0837, 1.6743])\n"
     ]
    },
    {
     "name": "stdout",
     "output_type": "stream",
     "text": [
      "Using seed: 1 for warm start\n",
      "NS: 2000, seed: 1 83.0 2417.0\n",
      "Num untouched: 3854/4096\n",
      "Found 398 for acc sigma: 0.000000\n",
      "Found 19 for acc sigma: 0.300000\n",
      "Found 3 for acc sigma: 0.700000\n",
      "Brute force predictor perf.: 0.0201 0.0143 0.0054\n",
      "Loading label attribute models...\n",
      "Loding dataset...\n",
      "Number of arms: 4096 over 202599 instances -- shape: (4096, 12)\n",
      "Size of available unlabeled data: 100000\n",
      "Setting models...\n",
      "Initializing fitter...\n"
     ]
    },
    {
     "name": "stderr",
     "output_type": "stream",
     "text": [
      "Computing per arm accuracy\n",
      "Found 3698 unsupported arms of the total 4096 arms\n",
      "Done\n",
      "Best, worst, mean accuracy: 1.0000, 0.3000 0.9366\n",
      "Acc quantiles: [0.3        0.82324478 0.92873754 0.976      1.         1.\n",
      " 1.        ]\n",
      "Worst arms: [0.3        0.3        0.4        0.42857143 0.5        0.5\n",
      " 0.5        0.525      0.55555556 0.59615385 0.6        0.6\n",
      " 0.66666667 0.66666667 0.70833333 0.72222222 0.72727273 0.72727273\n",
      " 0.73684211 0.75       0.75       0.76923077 0.77777778 0.77837838\n",
      " 0.8        0.8        0.8        0.8        0.8        0.8       ]\n",
      "Read model from ../data/celeba_private/kernel.pb\n",
      "Temp: tensor([1.1824, 1.2758, 1.2325, 1.4758, 4.0888, 1.0795, 1.0934, 1.3858, 1.5746,\n",
      "        1.1410, 1.1148, 2.1117])\n",
      "Read model from ../data/celeba_private/kernel_no_edge_potential.pb\n",
      "Temp: tensor([1.2087, 1.3466, 1.2392, 1.5125, 4.2045, 1.0678, 1.1056, 1.4129, 1.2241,\n",
      "        1.0406, 1.0837, 1.6743])\n"
     ]
    },
    {
     "name": "stdout",
     "output_type": "stream",
     "text": [
      "Using seed: 2 for warm start\n",
      "NS: 2000, seed: 2 83.0 2417.0\n",
      "Num untouched: 3855/4096\n",
      "Found 398 for acc sigma: 0.000000\n",
      "Found 18 for acc sigma: 0.300000\n",
      "Found 3 for acc sigma: 0.700000\n",
      "Brute force predictor perf.: 0.0179 0.0122 0.0051\n",
      "Loading label attribute models...\n",
      "Loding dataset...\n",
      "Number of arms: 4096 over 202599 instances -- shape: (4096, 12)\n",
      "Size of available unlabeled data: 100000\n",
      "Setting models...\n",
      "Initializing fitter...\n",
      "Using seed: 0 for warm start\n"
     ]
    },
    {
     "name": "stderr",
     "output_type": "stream",
     "text": [
      "Computing per arm accuracy\n",
      "Found 3698 unsupported arms of the total 4096 arms\n",
      "Done\n",
      "Best, worst, mean accuracy: 1.0000, 0.3000 0.9366\n",
      "Acc quantiles: [0.3        0.82324478 0.92873754 0.976      1.         1.\n",
      " 1.        ]\n",
      "Worst arms: [0.3        0.3        0.4        0.42857143 0.5        0.5\n",
      " 0.5        0.525      0.55555556 0.59615385 0.6        0.6\n",
      " 0.66666667 0.66666667 0.70833333 0.72222222 0.72727273 0.72727273\n",
      " 0.73684211 0.75       0.75       0.76923077 0.77777778 0.77837838\n",
      " 0.8        0.8        0.8        0.8        0.8        0.8       ]\n",
      "Read model from ../data/celeba_private/kernel.pb\n",
      "Temp: tensor([1.1824, 1.2758, 1.2325, 1.4758, 4.0888, 1.0795, 1.0934, 1.3858, 1.5746,\n",
      "        1.1410, 1.1148, 2.1117])\n",
      "Read model from ../data/celeba_private/kernel_no_edge_potential.pb\n",
      "Temp: tensor([1.2087, 1.3466, 1.2392, 1.5125, 4.2045, 1.0678, 1.1056, 1.4129, 1.2241,\n",
      "        1.0406, 1.0837, 1.6743])\n"
     ]
    },
    {
     "name": "stdout",
     "output_type": "stream",
     "text": [
      "NS: 3000, seed: 0 119.8865323361673 3371.0969520523977\n",
      "Num untouched: 3869/4096\n",
      "Found 398 for acc sigma: 0.000000\n",
      "Found 14 for acc sigma: 0.300000\n",
      "Found 1 for acc sigma: 0.700000\n",
      "Brute force predictor perf.: 0.0134 0.0087 0.0014\n",
      "Loading label attribute models...\n",
      "Loding dataset...\n",
      "Number of arms: 4096 over 202599 instances -- shape: (4096, 12)\n",
      "Size of available unlabeled data: 100000\n",
      "Setting models...\n",
      "Initializing fitter...\n"
     ]
    },
    {
     "name": "stderr",
     "output_type": "stream",
     "text": [
      "Computing per arm accuracy\n",
      "Found 3698 unsupported arms of the total 4096 arms\n",
      "Done\n",
      "Best, worst, mean accuracy: 1.0000, 0.3000 0.9366\n",
      "Acc quantiles: [0.3        0.82324478 0.92873754 0.976      1.         1.\n",
      " 1.        ]\n",
      "Worst arms: [0.3        0.3        0.4        0.42857143 0.5        0.5\n",
      " 0.5        0.525      0.55555556 0.59615385 0.6        0.6\n",
      " 0.66666667 0.66666667 0.70833333 0.72222222 0.72727273 0.72727273\n",
      " 0.73684211 0.75       0.75       0.76923077 0.77777778 0.77837838\n",
      " 0.8        0.8        0.8        0.8        0.8        0.8       ]\n",
      "Read model from ../data/celeba_private/kernel.pb\n",
      "Temp: tensor([1.1824, 1.2758, 1.2325, 1.4758, 4.0888, 1.0795, 1.0934, 1.3858, 1.5746,\n",
      "        1.1410, 1.1148, 2.1117])\n",
      "Read model from ../data/celeba_private/kernel_no_edge_potential.pb\n",
      "Temp: tensor([1.2087, 1.3466, 1.2392, 1.5125, 4.2045, 1.0678, 1.1056, 1.4129, 1.2241,\n",
      "        1.0406, 1.0837, 1.6743])\n"
     ]
    },
    {
     "name": "stdout",
     "output_type": "stream",
     "text": [
      "Using seed: 1 for warm start\n",
      "NS: 3000, seed: 1 115.88653233616729 3375.0969520523972\n",
      "Num untouched: 3868/4096\n",
      "Found 398 for acc sigma: 0.000000\n",
      "Found 14 for acc sigma: 0.300000\n",
      "Found 1 for acc sigma: 0.700000\n",
      "Brute force predictor perf.: 0.0151 0.0101 0.0021\n",
      "Loading label attribute models...\n",
      "Loding dataset...\n",
      "Number of arms: 4096 over 202599 instances -- shape: (4096, 12)\n",
      "Size of available unlabeled data: 100000\n",
      "Setting models...\n",
      "Initializing fitter...\n"
     ]
    },
    {
     "name": "stderr",
     "output_type": "stream",
     "text": [
      "Computing per arm accuracy\n",
      "Found 3698 unsupported arms of the total 4096 arms\n",
      "Done\n",
      "Best, worst, mean accuracy: 1.0000, 0.3000 0.9366\n",
      "Acc quantiles: [0.3        0.82324478 0.92873754 0.976      1.         1.\n",
      " 1.        ]\n",
      "Worst arms: [0.3        0.3        0.4        0.42857143 0.5        0.5\n",
      " 0.5        0.525      0.55555556 0.59615385 0.6        0.6\n",
      " 0.66666667 0.66666667 0.70833333 0.72222222 0.72727273 0.72727273\n",
      " 0.73684211 0.75       0.75       0.76923077 0.77777778 0.77837838\n",
      " 0.8        0.8        0.8        0.8        0.8        0.8       ]\n",
      "Read model from ../data/celeba_private/kernel.pb\n",
      "Temp: tensor([1.1824, 1.2758, 1.2325, 1.4758, 4.0888, 1.0795, 1.0934, 1.3858, 1.5746,\n",
      "        1.1410, 1.1148, 2.1117])\n",
      "Read model from ../data/celeba_private/kernel_no_edge_potential.pb\n",
      "Temp: tensor([1.2087, 1.3466, 1.2392, 1.5125, 4.2045, 1.0678, 1.1056, 1.4129, 1.2241,\n",
      "        1.0406, 1.0837, 1.6743])\n"
     ]
    },
    {
     "name": "stdout",
     "output_type": "stream",
     "text": [
      "Using seed: 2 for warm start\n",
      "NS: 3000, seed: 2 115.88653233616729 3375.0969520523977\n",
      "Num untouched: 3858/4096\n",
      "Found 398 for acc sigma: 0.000000\n",
      "Found 11 for acc sigma: 0.300000\n",
      "Found 2 for acc sigma: 0.700000\n",
      "Brute force predictor perf.: 0.0139 0.0088 0.0035\n",
      "Loading label attribute models...\n",
      "Loding dataset...\n",
      "Number of arms: 4096 over 202599 instances -- shape: (4096, 12)\n",
      "Size of available unlabeled data: 100000\n",
      "Setting models...\n",
      "Initializing fitter...\n",
      "Using seed: 0 for warm start\n"
     ]
    },
    {
     "name": "stderr",
     "output_type": "stream",
     "text": [
      "Computing per arm accuracy\n",
      "Found 3698 unsupported arms of the total 4096 arms\n",
      "Done\n",
      "Best, worst, mean accuracy: 1.0000, 0.3000 0.9366\n",
      "Acc quantiles: [0.3        0.82324478 0.92873754 0.976      1.         1.\n",
      " 1.        ]\n",
      "Worst arms: [0.3        0.3        0.4        0.42857143 0.5        0.5\n",
      " 0.5        0.525      0.55555556 0.59615385 0.6        0.6\n",
      " 0.66666667 0.66666667 0.70833333 0.72222222 0.72727273 0.72727273\n",
      " 0.73684211 0.75       0.75       0.76923077 0.77777778 0.77837838\n",
      " 0.8        0.8        0.8        0.8        0.8        0.8       ]\n",
      "Read model from ../data/celeba_private/kernel.pb\n",
      "Temp: tensor([1.1824, 1.2758, 1.2325, 1.4758, 4.0888, 1.0795, 1.0934, 1.3858, 1.5746,\n",
      "        1.1410, 1.1148, 2.1117])\n",
      "Read model from ../data/celeba_private/kernel_no_edge_potential.pb\n",
      "Temp: tensor([1.2087, 1.3466, 1.2392, 1.5125, 4.2045, 1.0678, 1.1056, 1.4129, 1.2241,\n",
      "        1.0406, 1.0837, 1.6743])\n"
     ]
    },
    {
     "name": "stdout",
     "output_type": "stream",
     "text": [
      "NS: 3000, seed: 0 119.87500507762478 3361.2080420475213\n",
      "Num untouched: 3845/4096\n",
      "Found 398 for acc sigma: 0.000000\n",
      "Found 17 for acc sigma: 0.300000\n",
      "Found 1 for acc sigma: 0.700000\n",
      "Brute force predictor perf.: 0.0150 0.0097 0.0014\n",
      "Loading label attribute models...\n",
      "Loding dataset...\n",
      "Number of arms: 4096 over 202599 instances -- shape: (4096, 12)\n",
      "Size of available unlabeled data: 100000\n",
      "Setting models...\n",
      "Initializing fitter...\n"
     ]
    },
    {
     "name": "stderr",
     "output_type": "stream",
     "text": [
      "Computing per arm accuracy\n",
      "Found 3698 unsupported arms of the total 4096 arms\n",
      "Done\n",
      "Best, worst, mean accuracy: 1.0000, 0.3000 0.9366\n",
      "Acc quantiles: [0.3        0.82324478 0.92873754 0.976      1.         1.\n",
      " 1.        ]\n",
      "Worst arms: [0.3        0.3        0.4        0.42857143 0.5        0.5\n",
      " 0.5        0.525      0.55555556 0.59615385 0.6        0.6\n",
      " 0.66666667 0.66666667 0.70833333 0.72222222 0.72727273 0.72727273\n",
      " 0.73684211 0.75       0.75       0.76923077 0.77777778 0.77837838\n",
      " 0.8        0.8        0.8        0.8        0.8        0.8       ]\n",
      "Read model from ../data/celeba_private/kernel.pb\n",
      "Temp: tensor([1.1824, 1.2758, 1.2325, 1.4758, 4.0888, 1.0795, 1.0934, 1.3858, 1.5746,\n",
      "        1.1410, 1.1148, 2.1117])\n",
      "Read model from ../data/celeba_private/kernel_no_edge_potential.pb\n",
      "Temp: tensor([1.2087, 1.3466, 1.2392, 1.5125, 4.2045, 1.0678, 1.1056, 1.4129, 1.2241,\n",
      "        1.0406, 1.0837, 1.6743])\n"
     ]
    },
    {
     "name": "stdout",
     "output_type": "stream",
     "text": [
      "Using seed: 1 for warm start\n",
      "NS: 3000, seed: 1 115.87500507762478 3365.208042047522\n",
      "Num untouched: 3845/4096\n",
      "Found 398 for acc sigma: 0.000000\n",
      "Found 17 for acc sigma: 0.300000\n",
      "Found 1 for acc sigma: 0.700000\n",
      "Brute force predictor perf.: 0.0155 0.0100 0.0016\n",
      "Loading label attribute models...\n",
      "Loding dataset...\n",
      "Number of arms: 4096 over 202599 instances -- shape: (4096, 12)\n",
      "Size of available unlabeled data: 100000\n",
      "Setting models...\n",
      "Initializing fitter...\n"
     ]
    },
    {
     "name": "stderr",
     "output_type": "stream",
     "text": [
      "Computing per arm accuracy\n",
      "Found 3698 unsupported arms of the total 4096 arms\n",
      "Done\n",
      "Best, worst, mean accuracy: 1.0000, 0.3000 0.9366\n",
      "Acc quantiles: [0.3        0.82324478 0.92873754 0.976      1.         1.\n",
      " 1.        ]\n",
      "Worst arms: [0.3        0.3        0.4        0.42857143 0.5        0.5\n",
      " 0.5        0.525      0.55555556 0.59615385 0.6        0.6\n",
      " 0.66666667 0.66666667 0.70833333 0.72222222 0.72727273 0.72727273\n",
      " 0.73684211 0.75       0.75       0.76923077 0.77777778 0.77837838\n",
      " 0.8        0.8        0.8        0.8        0.8        0.8       ]\n",
      "Read model from ../data/celeba_private/kernel.pb\n",
      "Temp: tensor([1.1824, 1.2758, 1.2325, 1.4758, 4.0888, 1.0795, 1.0934, 1.3858, 1.5746,\n",
      "        1.1410, 1.1148, 2.1117])\n",
      "Read model from ../data/celeba_private/kernel_no_edge_potential.pb\n",
      "Temp: tensor([1.2087, 1.3466, 1.2392, 1.5125, 4.2045, 1.0678, 1.1056, 1.4129, 1.2241,\n",
      "        1.0406, 1.0837, 1.6743])\n"
     ]
    },
    {
     "name": "stdout",
     "output_type": "stream",
     "text": [
      "Using seed: 2 for warm start\n",
      "NS: 3000, seed: 2 115.87500507762478 3365.208042047522\n",
      "Num untouched: 3843/4096\n",
      "Found 398 for acc sigma: 0.000000\n",
      "Found 14 for acc sigma: 0.300000\n",
      "Found 1 for acc sigma: 0.700000\n",
      "Brute force predictor perf.: 0.0155 0.0095 0.0019\n",
      "Loading label attribute models...\n",
      "Loding dataset...\n",
      "Number of arms: 4096 over 202599 instances -- shape: (4096, 12)\n",
      "Size of available unlabeled data: 100000\n",
      "Setting models...\n",
      "Initializing fitter...\n",
      "Using seed: 0 for warm start\n"
     ]
    },
    {
     "name": "stderr",
     "output_type": "stream",
     "text": [
      "Computing per arm accuracy\n",
      "Found 3698 unsupported arms of the total 4096 arms\n",
      "Done\n",
      "Best, worst, mean accuracy: 1.0000, 0.3000 0.9366\n",
      "Acc quantiles: [0.3        0.82324478 0.92873754 0.976      1.         1.\n",
      " 1.        ]\n",
      "Worst arms: [0.3        0.3        0.4        0.42857143 0.5        0.5\n",
      " 0.5        0.525      0.55555556 0.59615385 0.6        0.6\n",
      " 0.66666667 0.66666667 0.70833333 0.72222222 0.72727273 0.72727273\n",
      " 0.73684211 0.75       0.75       0.76923077 0.77777778 0.77837838\n",
      " 0.8        0.8        0.8        0.8        0.8        0.8       ]\n",
      "Read model from ../data/celeba_private/kernel.pb\n",
      "Temp: tensor([1.1824, 1.2758, 1.2325, 1.4758, 4.0888, 1.0795, 1.0934, 1.3858, 1.5746,\n",
      "        1.1410, 1.1148, 2.1117])\n",
      "Read model from ../data/celeba_private/kernel_no_edge_potential.pb\n",
      "Temp: tensor([1.2087, 1.3466, 1.2392, 1.5125, 4.2045, 1.0678, 1.1056, 1.4129, 1.2241,\n",
      "        1.0406, 1.0837, 1.6743])\n"
     ]
    },
    {
     "name": "stdout",
     "output_type": "stream",
     "text": [
      "NS: 3000, seed: 0 120.0 3380.0\n",
      "Num untouched: 3970/4096\n",
      "Found 398 for acc sigma: 0.000000\n",
      "Found 18 for acc sigma: 0.300000\n",
      "Found 1 for acc sigma: 0.700000\n",
      "Brute force predictor perf.: 0.0154 0.0108 0.0013\n",
      "Loading label attribute models...\n",
      "Loding dataset...\n",
      "Number of arms: 4096 over 202599 instances -- shape: (4096, 12)\n",
      "Size of available unlabeled data: 100000\n",
      "Setting models...\n",
      "Initializing fitter...\n"
     ]
    },
    {
     "name": "stderr",
     "output_type": "stream",
     "text": [
      "Computing per arm accuracy\n",
      "Found 3698 unsupported arms of the total 4096 arms\n",
      "Done\n",
      "Best, worst, mean accuracy: 1.0000, 0.3000 0.9366\n",
      "Acc quantiles: [0.3        0.82324478 0.92873754 0.976      1.         1.\n",
      " 1.        ]\n",
      "Worst arms: [0.3        0.3        0.4        0.42857143 0.5        0.5\n",
      " 0.5        0.525      0.55555556 0.59615385 0.6        0.6\n",
      " 0.66666667 0.66666667 0.70833333 0.72222222 0.72727273 0.72727273\n",
      " 0.73684211 0.75       0.75       0.76923077 0.77777778 0.77837838\n",
      " 0.8        0.8        0.8        0.8        0.8        0.8       ]\n",
      "Read model from ../data/celeba_private/kernel.pb\n",
      "Temp: tensor([1.1824, 1.2758, 1.2325, 1.4758, 4.0888, 1.0795, 1.0934, 1.3858, 1.5746,\n",
      "        1.1410, 1.1148, 2.1117])\n",
      "Read model from ../data/celeba_private/kernel_no_edge_potential.pb\n",
      "Temp: tensor([1.2087, 1.3466, 1.2392, 1.5125, 4.2045, 1.0678, 1.1056, 1.4129, 1.2241,\n",
      "        1.0406, 1.0837, 1.6743])\n"
     ]
    },
    {
     "name": "stdout",
     "output_type": "stream",
     "text": [
      "Using seed: 1 for warm start\n",
      "NS: 3000, seed: 1 116.0 3384.0\n",
      "Num untouched: 3971/4096\n",
      "Found 398 for acc sigma: 0.000000\n",
      "Found 19 for acc sigma: 0.300000\n",
      "Found 3 for acc sigma: 0.700000\n",
      "Brute force predictor perf.: 0.0203 0.0151 0.0056\n",
      "Loading label attribute models...\n",
      "Loding dataset...\n",
      "Number of arms: 4096 over 202599 instances -- shape: (4096, 12)\n",
      "Size of available unlabeled data: 100000\n",
      "Setting models...\n",
      "Initializing fitter...\n"
     ]
    },
    {
     "name": "stderr",
     "output_type": "stream",
     "text": [
      "Computing per arm accuracy\n",
      "Found 3698 unsupported arms of the total 4096 arms\n",
      "Done\n",
      "Best, worst, mean accuracy: 1.0000, 0.3000 0.9366\n",
      "Acc quantiles: [0.3        0.82324478 0.92873754 0.976      1.         1.\n",
      " 1.        ]\n",
      "Worst arms: [0.3        0.3        0.4        0.42857143 0.5        0.5\n",
      " 0.5        0.525      0.55555556 0.59615385 0.6        0.6\n",
      " 0.66666667 0.66666667 0.70833333 0.72222222 0.72727273 0.72727273\n",
      " 0.73684211 0.75       0.75       0.76923077 0.77777778 0.77837838\n",
      " 0.8        0.8        0.8        0.8        0.8        0.8       ]\n",
      "Read model from ../data/celeba_private/kernel.pb\n",
      "Temp: tensor([1.1824, 1.2758, 1.2325, 1.4758, 4.0888, 1.0795, 1.0934, 1.3858, 1.5746,\n",
      "        1.1410, 1.1148, 2.1117])\n",
      "Read model from ../data/celeba_private/kernel_no_edge_potential.pb\n",
      "Temp: tensor([1.2087, 1.3466, 1.2392, 1.5125, 4.2045, 1.0678, 1.1056, 1.4129, 1.2241,\n",
      "        1.0406, 1.0837, 1.6743])\n"
     ]
    },
    {
     "name": "stdout",
     "output_type": "stream",
     "text": [
      "Using seed: 2 for warm start\n",
      "NS: 3000, seed: 2 116.0 3384.0\n",
      "Num untouched: 3968/4096\n",
      "Found 398 for acc sigma: 0.000000\n",
      "Found 17 for acc sigma: 0.300000\n",
      "Found 2 for acc sigma: 0.700000\n",
      "Brute force predictor perf.: 0.0169 0.0119 0.0036\n",
      "Loading label attribute models...\n",
      "Loding dataset...\n",
      "Number of arms: 4096 over 202599 instances -- shape: (4096, 12)\n",
      "Size of available unlabeled data: 100000\n",
      "Setting models...\n",
      "Initializing fitter...\n",
      "Using seed: 0 for warm start\n"
     ]
    },
    {
     "name": "stderr",
     "output_type": "stream",
     "text": [
      "Computing per arm accuracy\n",
      "Found 3698 unsupported arms of the total 4096 arms\n",
      "Done\n",
      "Best, worst, mean accuracy: 1.0000, 0.3000 0.9366\n",
      "Acc quantiles: [0.3        0.82324478 0.92873754 0.976      1.         1.\n",
      " 1.        ]\n",
      "Worst arms: [0.3        0.3        0.4        0.42857143 0.5        0.5\n",
      " 0.5        0.525      0.55555556 0.59615385 0.6        0.6\n",
      " 0.66666667 0.66666667 0.70833333 0.72222222 0.72727273 0.72727273\n",
      " 0.73684211 0.75       0.75       0.76923077 0.77777778 0.77837838\n",
      " 0.8        0.8        0.8        0.8        0.8        0.8       ]\n",
      "Read model from ../data/celeba_private/kernel.pb\n",
      "Temp: tensor([1.1824, 1.2758, 1.2325, 1.4758, 4.0888, 1.0795, 1.0934, 1.3858, 1.5746,\n",
      "        1.1410, 1.1148, 2.1117])\n",
      "Read model from ../data/celeba_private/kernel_no_edge_potential.pb\n",
      "Temp: tensor([1.2087, 1.3466, 1.2392, 1.5125, 4.2045, 1.0678, 1.1056, 1.4129, 1.2241,\n",
      "        1.0406, 1.0837, 1.6743])\n"
     ]
    },
    {
     "name": "stdout",
     "output_type": "stream",
     "text": [
      "NS: 3000, seed: 0 120.0 3380.0\n",
      "Num untouched: 3824/4096\n",
      "Found 398 for acc sigma: 0.000000\n",
      "Found 20 for acc sigma: 0.300000\n",
      "Found 2 for acc sigma: 0.700000\n",
      "Brute force predictor perf.: 0.0178 0.0122 0.0031\n",
      "Loading label attribute models...\n",
      "Loding dataset...\n",
      "Number of arms: 4096 over 202599 instances -- shape: (4096, 12)\n",
      "Size of available unlabeled data: 100000\n",
      "Setting models...\n",
      "Initializing fitter...\n"
     ]
    },
    {
     "name": "stderr",
     "output_type": "stream",
     "text": [
      "Computing per arm accuracy\n",
      "Found 3698 unsupported arms of the total 4096 arms\n",
      "Done\n",
      "Best, worst, mean accuracy: 1.0000, 0.3000 0.9366\n",
      "Acc quantiles: [0.3        0.82324478 0.92873754 0.976      1.         1.\n",
      " 1.        ]\n",
      "Worst arms: [0.3        0.3        0.4        0.42857143 0.5        0.5\n",
      " 0.5        0.525      0.55555556 0.59615385 0.6        0.6\n",
      " 0.66666667 0.66666667 0.70833333 0.72222222 0.72727273 0.72727273\n",
      " 0.73684211 0.75       0.75       0.76923077 0.77777778 0.77837838\n",
      " 0.8        0.8        0.8        0.8        0.8        0.8       ]\n",
      "Read model from ../data/celeba_private/kernel.pb\n",
      "Temp: tensor([1.1824, 1.2758, 1.2325, 1.4758, 4.0888, 1.0795, 1.0934, 1.3858, 1.5746,\n",
      "        1.1410, 1.1148, 2.1117])\n",
      "Read model from ../data/celeba_private/kernel_no_edge_potential.pb\n",
      "Temp: tensor([1.2087, 1.3466, 1.2392, 1.5125, 4.2045, 1.0678, 1.1056, 1.4129, 1.2241,\n",
      "        1.0406, 1.0837, 1.6743])\n"
     ]
    },
    {
     "name": "stdout",
     "output_type": "stream",
     "text": [
      "Using seed: 1 for warm start\n",
      "NS: 3000, seed: 1 116.0 3384.0\n",
      "Num untouched: 3822/4096\n",
      "Found 398 for acc sigma: 0.000000\n",
      "Found 21 for acc sigma: 0.300000\n",
      "Found 1 for acc sigma: 0.700000\n",
      "Brute force predictor perf.: 0.0180 0.0122 0.0017\n",
      "Loading label attribute models...\n",
      "Loding dataset...\n",
      "Number of arms: 4096 over 202599 instances -- shape: (4096, 12)\n",
      "Size of available unlabeled data: 100000\n",
      "Setting models...\n",
      "Initializing fitter...\n"
     ]
    },
    {
     "name": "stderr",
     "output_type": "stream",
     "text": [
      "Computing per arm accuracy\n",
      "Found 3698 unsupported arms of the total 4096 arms\n",
      "Done\n",
      "Best, worst, mean accuracy: 1.0000, 0.3000 0.9366\n",
      "Acc quantiles: [0.3        0.82324478 0.92873754 0.976      1.         1.\n",
      " 1.        ]\n",
      "Worst arms: [0.3        0.3        0.4        0.42857143 0.5        0.5\n",
      " 0.5        0.525      0.55555556 0.59615385 0.6        0.6\n",
      " 0.66666667 0.66666667 0.70833333 0.72222222 0.72727273 0.72727273\n",
      " 0.73684211 0.75       0.75       0.76923077 0.77777778 0.77837838\n",
      " 0.8        0.8        0.8        0.8        0.8        0.8       ]\n",
      "Read model from ../data/celeba_private/kernel.pb\n",
      "Temp: tensor([1.1824, 1.2758, 1.2325, 1.4758, 4.0888, 1.0795, 1.0934, 1.3858, 1.5746,\n",
      "        1.1410, 1.1148, 2.1117])\n",
      "Read model from ../data/celeba_private/kernel_no_edge_potential.pb\n",
      "Temp: tensor([1.2087, 1.3466, 1.2392, 1.5125, 4.2045, 1.0678, 1.1056, 1.4129, 1.2241,\n",
      "        1.0406, 1.0837, 1.6743])\n"
     ]
    },
    {
     "name": "stdout",
     "output_type": "stream",
     "text": [
      "Using seed: 2 for warm start\n",
      "NS: 3000, seed: 2 116.0 3384.0\n",
      "Num untouched: 3824/4096\n",
      "Found 398 for acc sigma: 0.000000\n",
      "Found 21 for acc sigma: 0.300000\n",
      "Found 0 for acc sigma: 0.700000\n",
      "Brute force predictor perf.: 0.0152 0.0096 0.0000\n",
      "Loading label attribute models...\n",
      "Loding dataset...\n",
      "Number of arms: 4096 over 202599 instances -- shape: (4096, 12)\n",
      "Size of available unlabeled data: 100000\n",
      "Setting models...\n",
      "Initializing fitter...\n",
      "Using seed: 0 for warm start\n"
     ]
    },
    {
     "name": "stderr",
     "output_type": "stream",
     "text": [
      "Computing per arm accuracy\n",
      "Found 3698 unsupported arms of the total 4096 arms\n",
      "Done\n",
      "Best, worst, mean accuracy: 1.0000, 0.3000 0.9366\n",
      "Acc quantiles: [0.3        0.82324478 0.92873754 0.976      1.         1.\n",
      " 1.        ]\n",
      "Worst arms: [0.3        0.3        0.4        0.42857143 0.5        0.5\n",
      " 0.5        0.525      0.55555556 0.59615385 0.6        0.6\n",
      " 0.66666667 0.66666667 0.70833333 0.72222222 0.72727273 0.72727273\n",
      " 0.73684211 0.75       0.75       0.76923077 0.77777778 0.77837838\n",
      " 0.8        0.8        0.8        0.8        0.8        0.8       ]\n",
      "Read model from ../data/celeba_private/kernel.pb\n",
      "Temp: tensor([1.1824, 1.2758, 1.2325, 1.4758, 4.0888, 1.0795, 1.0934, 1.3858, 1.5746,\n",
      "        1.1410, 1.1148, 2.1117])\n",
      "Read model from ../data/celeba_private/kernel_no_edge_potential.pb\n",
      "Temp: tensor([1.2087, 1.3466, 1.2392, 1.5125, 4.2045, 1.0678, 1.1056, 1.4129, 1.2241,\n",
      "        1.0406, 1.0837, 1.6743])\n"
     ]
    },
    {
     "name": "stdout",
     "output_type": "stream",
     "text": [
      "NS: 4000, seed: 0 149.85418566593071 4338.072603635987\n",
      "Num untouched: 3861/4096\n",
      "Found 398 for acc sigma: 0.000000\n",
      "Found 14 for acc sigma: 0.300000\n",
      "Found 1 for acc sigma: 0.700000\n",
      "Brute force predictor perf.: 0.0135 0.0084 0.0014\n",
      "Loading label attribute models...\n",
      "Loding dataset...\n",
      "Number of arms: 4096 over 202599 instances -- shape: (4096, 12)\n",
      "Size of available unlabeled data: 100000\n",
      "Setting models...\n",
      "Initializing fitter...\n"
     ]
    },
    {
     "name": "stderr",
     "output_type": "stream",
     "text": [
      "Computing per arm accuracy\n",
      "Found 3698 unsupported arms of the total 4096 arms\n",
      "Done\n",
      "Best, worst, mean accuracy: 1.0000, 0.3000 0.9366\n",
      "Acc quantiles: [0.3        0.82324478 0.92873754 0.976      1.         1.\n",
      " 1.        ]\n",
      "Worst arms: [0.3        0.3        0.4        0.42857143 0.5        0.5\n",
      " 0.5        0.525      0.55555556 0.59615385 0.6        0.6\n",
      " 0.66666667 0.66666667 0.70833333 0.72222222 0.72727273 0.72727273\n",
      " 0.73684211 0.75       0.75       0.76923077 0.77777778 0.77837838\n",
      " 0.8        0.8        0.8        0.8        0.8        0.8       ]\n",
      "Read model from ../data/celeba_private/kernel.pb\n",
      "Temp: tensor([1.1824, 1.2758, 1.2325, 1.4758, 4.0888, 1.0795, 1.0934, 1.3858, 1.5746,\n",
      "        1.1410, 1.1148, 2.1117])\n",
      "Read model from ../data/celeba_private/kernel_no_edge_potential.pb\n",
      "Temp: tensor([1.2087, 1.3466, 1.2392, 1.5125, 4.2045, 1.0678, 1.1056, 1.4129, 1.2241,\n",
      "        1.0406, 1.0837, 1.6743])\n"
     ]
    },
    {
     "name": "stdout",
     "output_type": "stream",
     "text": [
      "Using seed: 1 for warm start\n",
      "NS: 4000, seed: 1 145.8541856659307 4342.072603635987\n",
      "Num untouched: 3860/4096\n",
      "Found 398 for acc sigma: 0.000000\n",
      "Found 12 for acc sigma: 0.300000\n",
      "Found 1 for acc sigma: 0.700000\n",
      "Brute force predictor perf.: 0.0146 0.0091 0.0021\n",
      "Loading label attribute models...\n",
      "Loding dataset...\n",
      "Number of arms: 4096 over 202599 instances -- shape: (4096, 12)\n",
      "Size of available unlabeled data: 100000\n",
      "Setting models...\n",
      "Initializing fitter...\n"
     ]
    },
    {
     "name": "stderr",
     "output_type": "stream",
     "text": [
      "Computing per arm accuracy\n",
      "Found 3698 unsupported arms of the total 4096 arms\n",
      "Done\n",
      "Best, worst, mean accuracy: 1.0000, 0.3000 0.9366\n",
      "Acc quantiles: [0.3        0.82324478 0.92873754 0.976      1.         1.\n",
      " 1.        ]\n",
      "Worst arms: [0.3        0.3        0.4        0.42857143 0.5        0.5\n",
      " 0.5        0.525      0.55555556 0.59615385 0.6        0.6\n",
      " 0.66666667 0.66666667 0.70833333 0.72222222 0.72727273 0.72727273\n",
      " 0.73684211 0.75       0.75       0.76923077 0.77777778 0.77837838\n",
      " 0.8        0.8        0.8        0.8        0.8        0.8       ]\n",
      "Read model from ../data/celeba_private/kernel.pb\n",
      "Temp: tensor([1.1824, 1.2758, 1.2325, 1.4758, 4.0888, 1.0795, 1.0934, 1.3858, 1.5746,\n",
      "        1.1410, 1.1148, 2.1117])\n",
      "Read model from ../data/celeba_private/kernel_no_edge_potential.pb\n",
      "Temp: tensor([1.2087, 1.3466, 1.2392, 1.5125, 4.2045, 1.0678, 1.1056, 1.4129, 1.2241,\n",
      "        1.0406, 1.0837, 1.6743])\n"
     ]
    },
    {
     "name": "stdout",
     "output_type": "stream",
     "text": [
      "Using seed: 2 for warm start\n",
      "NS: 4000, seed: 2 145.8541856659307 4342.072603635988\n",
      "Num untouched: 3852/4096\n",
      "Found 398 for acc sigma: 0.000000\n",
      "Found 10 for acc sigma: 0.300000\n",
      "Found 2 for acc sigma: 0.700000\n",
      "Brute force predictor perf.: 0.0138 0.0083 0.0035\n",
      "Loading label attribute models...\n",
      "Loding dataset...\n",
      "Number of arms: 4096 over 202599 instances -- shape: (4096, 12)\n",
      "Size of available unlabeled data: 100000\n",
      "Setting models...\n",
      "Initializing fitter...\n",
      "Using seed: 0 for warm start\n"
     ]
    },
    {
     "name": "stderr",
     "output_type": "stream",
     "text": [
      "Computing per arm accuracy\n",
      "Found 3698 unsupported arms of the total 4096 arms\n",
      "Done\n",
      "Best, worst, mean accuracy: 1.0000, 0.3000 0.9366\n",
      "Acc quantiles: [0.3        0.82324478 0.92873754 0.976      1.         1.\n",
      " 1.        ]\n",
      "Worst arms: [0.3        0.3        0.4        0.42857143 0.5        0.5\n",
      " 0.5        0.525      0.55555556 0.59615385 0.6        0.6\n",
      " 0.66666667 0.66666667 0.70833333 0.72222222 0.72727273 0.72727273\n",
      " 0.73684211 0.75       0.75       0.76923077 0.77777778 0.77837838\n",
      " 0.8        0.8        0.8        0.8        0.8        0.8       ]\n",
      "Read model from ../data/celeba_private/kernel.pb\n",
      "Temp: tensor([1.1824, 1.2758, 1.2325, 1.4758, 4.0888, 1.0795, 1.0934, 1.3858, 1.5746,\n",
      "        1.1410, 1.1148, 2.1117])\n",
      "Read model from ../data/celeba_private/kernel_no_edge_potential.pb\n",
      "Temp: tensor([1.2087, 1.3466, 1.2392, 1.5125, 4.2045, 1.0678, 1.1056, 1.4129, 1.2241,\n",
      "        1.0406, 1.0837, 1.6743])\n"
     ]
    },
    {
     "name": "stdout",
     "output_type": "stream",
     "text": [
      "NS: 4000, seed: 0 149.82705411000887 4324.828215867479\n",
      "Num untouched: 3832/4096\n",
      "Found 398 for acc sigma: 0.000000\n",
      "Found 18 for acc sigma: 0.300000\n",
      "Found 1 for acc sigma: 0.700000\n",
      "Brute force predictor perf.: 0.0153 0.0100 0.0014\n",
      "Loading label attribute models...\n",
      "Loding dataset...\n",
      "Number of arms: 4096 over 202599 instances -- shape: (4096, 12)\n",
      "Size of available unlabeled data: 100000\n",
      "Setting models...\n",
      "Initializing fitter...\n"
     ]
    },
    {
     "name": "stderr",
     "output_type": "stream",
     "text": [
      "Computing per arm accuracy\n",
      "Found 3698 unsupported arms of the total 4096 arms\n",
      "Done\n",
      "Best, worst, mean accuracy: 1.0000, 0.3000 0.9366\n",
      "Acc quantiles: [0.3        0.82324478 0.92873754 0.976      1.         1.\n",
      " 1.        ]\n",
      "Worst arms: [0.3        0.3        0.4        0.42857143 0.5        0.5\n",
      " 0.5        0.525      0.55555556 0.59615385 0.6        0.6\n",
      " 0.66666667 0.66666667 0.70833333 0.72222222 0.72727273 0.72727273\n",
      " 0.73684211 0.75       0.75       0.76923077 0.77777778 0.77837838\n",
      " 0.8        0.8        0.8        0.8        0.8        0.8       ]\n",
      "Read model from ../data/celeba_private/kernel.pb\n",
      "Temp: tensor([1.1824, 1.2758, 1.2325, 1.4758, 4.0888, 1.0795, 1.0934, 1.3858, 1.5746,\n",
      "        1.1410, 1.1148, 2.1117])\n",
      "Read model from ../data/celeba_private/kernel_no_edge_potential.pb\n",
      "Temp: tensor([1.2087, 1.3466, 1.2392, 1.5125, 4.2045, 1.0678, 1.1056, 1.4129, 1.2241,\n",
      "        1.0406, 1.0837, 1.6743])\n"
     ]
    },
    {
     "name": "stdout",
     "output_type": "stream",
     "text": [
      "Using seed: 1 for warm start\n",
      "NS: 4000, seed: 1 145.8270541100089 4328.828215867479\n",
      "Num untouched: 3831/4096\n",
      "Found 398 for acc sigma: 0.000000\n",
      "Found 16 for acc sigma: 0.300000\n",
      "Found 1 for acc sigma: 0.700000\n",
      "Brute force predictor perf.: 0.0155 0.0096 0.0016\n",
      "Loading label attribute models...\n",
      "Loding dataset...\n",
      "Number of arms: 4096 over 202599 instances -- shape: (4096, 12)\n",
      "Size of available unlabeled data: 100000\n",
      "Setting models...\n",
      "Initializing fitter...\n"
     ]
    },
    {
     "name": "stderr",
     "output_type": "stream",
     "text": [
      "Computing per arm accuracy\n",
      "Found 3698 unsupported arms of the total 4096 arms\n",
      "Done\n",
      "Best, worst, mean accuracy: 1.0000, 0.3000 0.9366\n",
      "Acc quantiles: [0.3        0.82324478 0.92873754 0.976      1.         1.\n",
      " 1.        ]\n",
      "Worst arms: [0.3        0.3        0.4        0.42857143 0.5        0.5\n",
      " 0.5        0.525      0.55555556 0.59615385 0.6        0.6\n",
      " 0.66666667 0.66666667 0.70833333 0.72222222 0.72727273 0.72727273\n",
      " 0.73684211 0.75       0.75       0.76923077 0.77777778 0.77837838\n",
      " 0.8        0.8        0.8        0.8        0.8        0.8       ]\n",
      "Read model from ../data/celeba_private/kernel.pb\n",
      "Temp: tensor([1.1824, 1.2758, 1.2325, 1.4758, 4.0888, 1.0795, 1.0934, 1.3858, 1.5746,\n",
      "        1.1410, 1.1148, 2.1117])\n",
      "Read model from ../data/celeba_private/kernel_no_edge_potential.pb\n",
      "Temp: tensor([1.2087, 1.3466, 1.2392, 1.5125, 4.2045, 1.0678, 1.1056, 1.4129, 1.2241,\n",
      "        1.0406, 1.0837, 1.6743])\n"
     ]
    },
    {
     "name": "stdout",
     "output_type": "stream",
     "text": [
      "Using seed: 2 for warm start\n",
      "NS: 4000, seed: 2 145.8270541100089 4328.828215867479\n",
      "Num untouched: 3831/4096\n",
      "Found 398 for acc sigma: 0.000000\n",
      "Found 14 for acc sigma: 0.300000\n",
      "Found 1 for acc sigma: 0.700000\n",
      "Brute force predictor perf.: 0.0155 0.0096 0.0019\n",
      "Loading label attribute models...\n",
      "Loding dataset...\n",
      "Number of arms: 4096 over 202599 instances -- shape: (4096, 12)\n",
      "Size of available unlabeled data: 100000\n",
      "Setting models...\n",
      "Initializing fitter...\n",
      "Using seed: 0 for warm start\n"
     ]
    },
    {
     "name": "stderr",
     "output_type": "stream",
     "text": [
      "Computing per arm accuracy\n",
      "Found 3698 unsupported arms of the total 4096 arms\n",
      "Done\n",
      "Best, worst, mean accuracy: 1.0000, 0.3000 0.9366\n",
      "Acc quantiles: [0.3        0.82324478 0.92873754 0.976      1.         1.\n",
      " 1.        ]\n",
      "Worst arms: [0.3        0.3        0.4        0.42857143 0.5        0.5\n",
      " 0.5        0.525      0.55555556 0.59615385 0.6        0.6\n",
      " 0.66666667 0.66666667 0.70833333 0.72222222 0.72727273 0.72727273\n",
      " 0.73684211 0.75       0.75       0.76923077 0.77777778 0.77837838\n",
      " 0.8        0.8        0.8        0.8        0.8        0.8       ]\n",
      "Read model from ../data/celeba_private/kernel.pb\n",
      "Temp: tensor([1.1824, 1.2758, 1.2325, 1.4758, 4.0888, 1.0795, 1.0934, 1.3858, 1.5746,\n",
      "        1.1410, 1.1148, 2.1117])\n",
      "Read model from ../data/celeba_private/kernel_no_edge_potential.pb\n",
      "Temp: tensor([1.2087, 1.3466, 1.2392, 1.5125, 4.2045, 1.0678, 1.1056, 1.4129, 1.2241,\n",
      "        1.0406, 1.0837, 1.6743])\n"
     ]
    },
    {
     "name": "stdout",
     "output_type": "stream",
     "text": [
      "NS: 4000, seed: 0 150.0 4350.0\n",
      "Num untouched: 3968/4096\n",
      "Found 398 for acc sigma: 0.000000\n",
      "Found 21 for acc sigma: 0.300000\n",
      "Found 2 for acc sigma: 0.700000\n",
      "Brute force predictor perf.: 0.0186 0.0138 0.0028\n",
      "Loading label attribute models...\n",
      "Loding dataset...\n",
      "Number of arms: 4096 over 202599 instances -- shape: (4096, 12)\n",
      "Size of available unlabeled data: 100000\n",
      "Setting models...\n",
      "Initializing fitter...\n"
     ]
    },
    {
     "name": "stderr",
     "output_type": "stream",
     "text": [
      "Computing per arm accuracy\n",
      "Found 3698 unsupported arms of the total 4096 arms\n",
      "Done\n",
      "Best, worst, mean accuracy: 1.0000, 0.3000 0.9366\n",
      "Acc quantiles: [0.3        0.82324478 0.92873754 0.976      1.         1.\n",
      " 1.        ]\n",
      "Worst arms: [0.3        0.3        0.4        0.42857143 0.5        0.5\n",
      " 0.5        0.525      0.55555556 0.59615385 0.6        0.6\n",
      " 0.66666667 0.66666667 0.70833333 0.72222222 0.72727273 0.72727273\n",
      " 0.73684211 0.75       0.75       0.76923077 0.77777778 0.77837838\n",
      " 0.8        0.8        0.8        0.8        0.8        0.8       ]\n",
      "Read model from ../data/celeba_private/kernel.pb\n",
      "Temp: tensor([1.1824, 1.2758, 1.2325, 1.4758, 4.0888, 1.0795, 1.0934, 1.3858, 1.5746,\n",
      "        1.1410, 1.1148, 2.1117])\n",
      "Read model from ../data/celeba_private/kernel_no_edge_potential.pb\n",
      "Temp: tensor([1.2087, 1.3466, 1.2392, 1.5125, 4.2045, 1.0678, 1.1056, 1.4129, 1.2241,\n",
      "        1.0406, 1.0837, 1.6743])\n"
     ]
    },
    {
     "name": "stdout",
     "output_type": "stream",
     "text": [
      "Using seed: 1 for warm start\n",
      "NS: 4000, seed: 1 146.0 4354.0\n",
      "Num untouched: 3969/4096\n",
      "Found 398 for acc sigma: 0.000000\n",
      "Found 23 for acc sigma: 0.300000\n",
      "Found 4 for acc sigma: 0.700000\n",
      "Brute force predictor perf.: 0.0231 0.0183 0.0071\n",
      "Loading label attribute models...\n",
      "Loding dataset...\n",
      "Number of arms: 4096 over 202599 instances -- shape: (4096, 12)\n",
      "Size of available unlabeled data: 100000\n",
      "Setting models...\n",
      "Initializing fitter...\n"
     ]
    },
    {
     "name": "stderr",
     "output_type": "stream",
     "text": [
      "Computing per arm accuracy\n",
      "Found 3698 unsupported arms of the total 4096 arms\n",
      "Done\n",
      "Best, worst, mean accuracy: 1.0000, 0.3000 0.9366\n",
      "Acc quantiles: [0.3        0.82324478 0.92873754 0.976      1.         1.\n",
      " 1.        ]\n",
      "Worst arms: [0.3        0.3        0.4        0.42857143 0.5        0.5\n",
      " 0.5        0.525      0.55555556 0.59615385 0.6        0.6\n",
      " 0.66666667 0.66666667 0.70833333 0.72222222 0.72727273 0.72727273\n",
      " 0.73684211 0.75       0.75       0.76923077 0.77777778 0.77837838\n",
      " 0.8        0.8        0.8        0.8        0.8        0.8       ]\n",
      "Read model from ../data/celeba_private/kernel.pb\n",
      "Temp: tensor([1.1824, 1.2758, 1.2325, 1.4758, 4.0888, 1.0795, 1.0934, 1.3858, 1.5746,\n",
      "        1.1410, 1.1148, 2.1117])\n",
      "Read model from ../data/celeba_private/kernel_no_edge_potential.pb\n",
      "Temp: tensor([1.2087, 1.3466, 1.2392, 1.5125, 4.2045, 1.0678, 1.1056, 1.4129, 1.2241,\n",
      "        1.0406, 1.0837, 1.6743])\n"
     ]
    },
    {
     "name": "stdout",
     "output_type": "stream",
     "text": [
      "Using seed: 2 for warm start\n",
      "NS: 4000, seed: 2 146.0 4354.0\n",
      "Num untouched: 3965/4096\n",
      "Found 398 for acc sigma: 0.000000\n",
      "Found 20 for acc sigma: 0.300000\n",
      "Found 3 for acc sigma: 0.700000\n",
      "Brute force predictor perf.: 0.0197 0.0147 0.0051\n",
      "Loading label attribute models...\n",
      "Loding dataset...\n",
      "Number of arms: 4096 over 202599 instances -- shape: (4096, 12)\n",
      "Size of available unlabeled data: 100000\n",
      "Setting models...\n",
      "Initializing fitter...\n",
      "Using seed: 0 for warm start\n"
     ]
    },
    {
     "name": "stderr",
     "output_type": "stream",
     "text": [
      "Computing per arm accuracy\n",
      "Found 3698 unsupported arms of the total 4096 arms\n",
      "Done\n",
      "Best, worst, mean accuracy: 1.0000, 0.3000 0.9366\n",
      "Acc quantiles: [0.3        0.82324478 0.92873754 0.976      1.         1.\n",
      " 1.        ]\n",
      "Worst arms: [0.3        0.3        0.4        0.42857143 0.5        0.5\n",
      " 0.5        0.525      0.55555556 0.59615385 0.6        0.6\n",
      " 0.66666667 0.66666667 0.70833333 0.72222222 0.72727273 0.72727273\n",
      " 0.73684211 0.75       0.75       0.76923077 0.77777778 0.77837838\n",
      " 0.8        0.8        0.8        0.8        0.8        0.8       ]\n",
      "Read model from ../data/celeba_private/kernel.pb\n",
      "Temp: tensor([1.1824, 1.2758, 1.2325, 1.4758, 4.0888, 1.0795, 1.0934, 1.3858, 1.5746,\n",
      "        1.1410, 1.1148, 2.1117])\n",
      "Read model from ../data/celeba_private/kernel_no_edge_potential.pb\n",
      "Temp: tensor([1.2087, 1.3466, 1.2392, 1.5125, 4.2045, 1.0678, 1.1056, 1.4129, 1.2241,\n",
      "        1.0406, 1.0837, 1.6743])\n"
     ]
    },
    {
     "name": "stdout",
     "output_type": "stream",
     "text": [
      "NS: 4000, seed: 0 150.0 4350.0\n",
      "Num untouched: 3800/4096\n",
      "Found 398 for acc sigma: 0.000000\n",
      "Found 19 for acc sigma: 0.300000\n",
      "Found 3 for acc sigma: 0.700000\n",
      "Brute force predictor perf.: 0.0181 0.0121 0.0041\n",
      "Loading label attribute models...\n",
      "Loding dataset...\n",
      "Number of arms: 4096 over 202599 instances -- shape: (4096, 12)\n",
      "Size of available unlabeled data: 100000\n",
      "Setting models...\n",
      "Initializing fitter...\n"
     ]
    },
    {
     "name": "stderr",
     "output_type": "stream",
     "text": [
      "Computing per arm accuracy\n",
      "Found 3698 unsupported arms of the total 4096 arms\n",
      "Done\n",
      "Best, worst, mean accuracy: 1.0000, 0.3000 0.9366\n",
      "Acc quantiles: [0.3        0.82324478 0.92873754 0.976      1.         1.\n",
      " 1.        ]\n",
      "Worst arms: [0.3        0.3        0.4        0.42857143 0.5        0.5\n",
      " 0.5        0.525      0.55555556 0.59615385 0.6        0.6\n",
      " 0.66666667 0.66666667 0.70833333 0.72222222 0.72727273 0.72727273\n",
      " 0.73684211 0.75       0.75       0.76923077 0.77777778 0.77837838\n",
      " 0.8        0.8        0.8        0.8        0.8        0.8       ]\n",
      "Read model from ../data/celeba_private/kernel.pb\n",
      "Temp: tensor([1.1824, 1.2758, 1.2325, 1.4758, 4.0888, 1.0795, 1.0934, 1.3858, 1.5746,\n",
      "        1.1410, 1.1148, 2.1117])\n",
      "Read model from ../data/celeba_private/kernel_no_edge_potential.pb\n",
      "Temp: tensor([1.2087, 1.3466, 1.2392, 1.5125, 4.2045, 1.0678, 1.1056, 1.4129, 1.2241,\n",
      "        1.0406, 1.0837, 1.6743])\n"
     ]
    },
    {
     "name": "stdout",
     "output_type": "stream",
     "text": [
      "Using seed: 1 for warm start\n",
      "NS: 4000, seed: 1 146.0 4354.0\n",
      "Num untouched: 3795/4096\n",
      "Found 398 for acc sigma: 0.000000\n",
      "Found 21 for acc sigma: 0.300000\n",
      "Found 1 for acc sigma: 0.700000\n",
      "Brute force predictor perf.: 0.0185 0.0124 0.0015\n",
      "Loading label attribute models...\n",
      "Loding dataset...\n",
      "Number of arms: 4096 over 202599 instances -- shape: (4096, 12)\n",
      "Size of available unlabeled data: 100000\n",
      "Setting models...\n",
      "Initializing fitter...\n"
     ]
    },
    {
     "name": "stderr",
     "output_type": "stream",
     "text": [
      "Computing per arm accuracy\n",
      "Found 3698 unsupported arms of the total 4096 arms\n",
      "Done\n",
      "Best, worst, mean accuracy: 1.0000, 0.3000 0.9366\n",
      "Acc quantiles: [0.3        0.82324478 0.92873754 0.976      1.         1.\n",
      " 1.        ]\n",
      "Worst arms: [0.3        0.3        0.4        0.42857143 0.5        0.5\n",
      " 0.5        0.525      0.55555556 0.59615385 0.6        0.6\n",
      " 0.66666667 0.66666667 0.70833333 0.72222222 0.72727273 0.72727273\n",
      " 0.73684211 0.75       0.75       0.76923077 0.77777778 0.77837838\n",
      " 0.8        0.8        0.8        0.8        0.8        0.8       ]\n",
      "Read model from ../data/celeba_private/kernel.pb\n",
      "Temp: tensor([1.1824, 1.2758, 1.2325, 1.4758, 4.0888, 1.0795, 1.0934, 1.3858, 1.5746,\n",
      "        1.1410, 1.1148, 2.1117])\n",
      "Read model from ../data/celeba_private/kernel_no_edge_potential.pb\n",
      "Temp: tensor([1.2087, 1.3466, 1.2392, 1.5125, 4.2045, 1.0678, 1.1056, 1.4129, 1.2241,\n",
      "        1.0406, 1.0837, 1.6743])\n"
     ]
    },
    {
     "name": "stdout",
     "output_type": "stream",
     "text": [
      "Using seed: 2 for warm start\n",
      "NS: 4000, seed: 2 146.0 4354.0\n",
      "Num untouched: 3799/4096\n",
      "Found 398 for acc sigma: 0.000000\n",
      "Found 17 for acc sigma: 0.300000\n",
      "Found 1 for acc sigma: 0.700000\n",
      "Brute force predictor perf.: 0.0154 0.0089 0.0015\n",
      "Loading label attribute models...\n",
      "Loding dataset...\n",
      "Number of arms: 4096 over 202599 instances -- shape: (4096, 12)\n",
      "Size of available unlabeled data: 100000\n",
      "Setting models...\n",
      "Initializing fitter...\n",
      "Using seed: 0 for warm start\n"
     ]
    },
    {
     "name": "stderr",
     "output_type": "stream",
     "text": [
      "Computing per arm accuracy\n",
      "Found 3698 unsupported arms of the total 4096 arms\n",
      "Done\n",
      "Best, worst, mean accuracy: 1.0000, 0.3000 0.9366\n",
      "Acc quantiles: [0.3        0.82324478 0.92873754 0.976      1.         1.\n",
      " 1.        ]\n",
      "Worst arms: [0.3        0.3        0.4        0.42857143 0.5        0.5\n",
      " 0.5        0.525      0.55555556 0.59615385 0.6        0.6\n",
      " 0.66666667 0.66666667 0.70833333 0.72222222 0.72727273 0.72727273\n",
      " 0.73684211 0.75       0.75       0.76923077 0.77777778 0.77837838\n",
      " 0.8        0.8        0.8        0.8        0.8        0.8       ]\n",
      "Read model from ../data/celeba_private/kernel.pb\n",
      "Temp: tensor([1.1824, 1.2758, 1.2325, 1.4758, 4.0888, 1.0795, 1.0934, 1.3858, 1.5746,\n",
      "        1.1410, 1.1148, 2.1117])\n",
      "Read model from ../data/celeba_private/kernel_no_edge_potential.pb\n",
      "Temp: tensor([1.2087, 1.3466, 1.2392, 1.5125, 4.2045, 1.0678, 1.1056, 1.4129, 1.2241,\n",
      "        1.0406, 1.0837, 1.6743])\n"
     ]
    },
    {
     "name": "stdout",
     "output_type": "stream",
     "text": [
      "NS: 5000, seed: 0 184.8242527804247 5300.142437371667\n",
      "Num untouched: 3858/4096\n",
      "Found 398 for acc sigma: 0.000000\n",
      "Found 14 for acc sigma: 0.300000\n",
      "Found 1 for acc sigma: 0.700000\n",
      "Brute force predictor perf.: 0.0132 0.0084 0.0014\n",
      "Loading label attribute models...\n",
      "Loding dataset...\n",
      "Number of arms: 4096 over 202599 instances -- shape: (4096, 12)\n",
      "Size of available unlabeled data: 100000\n",
      "Setting models...\n",
      "Initializing fitter...\n"
     ]
    },
    {
     "name": "stderr",
     "output_type": "stream",
     "text": [
      "Computing per arm accuracy\n",
      "Found 3698 unsupported arms of the total 4096 arms\n",
      "Done\n",
      "Best, worst, mean accuracy: 1.0000, 0.3000 0.9366\n",
      "Acc quantiles: [0.3        0.82324478 0.92873754 0.976      1.         1.\n",
      " 1.        ]\n",
      "Worst arms: [0.3        0.3        0.4        0.42857143 0.5        0.5\n",
      " 0.5        0.525      0.55555556 0.59615385 0.6        0.6\n",
      " 0.66666667 0.66666667 0.70833333 0.72222222 0.72727273 0.72727273\n",
      " 0.73684211 0.75       0.75       0.76923077 0.77777778 0.77837838\n",
      " 0.8        0.8        0.8        0.8        0.8        0.8       ]\n",
      "Read model from ../data/celeba_private/kernel.pb\n",
      "Temp: tensor([1.1824, 1.2758, 1.2325, 1.4758, 4.0888, 1.0795, 1.0934, 1.3858, 1.5746,\n",
      "        1.1410, 1.1148, 2.1117])\n",
      "Read model from ../data/celeba_private/kernel_no_edge_potential.pb\n",
      "Temp: tensor([1.2087, 1.3466, 1.2392, 1.5125, 4.2045, 1.0678, 1.1056, 1.4129, 1.2241,\n",
      "        1.0406, 1.0837, 1.6743])\n"
     ]
    },
    {
     "name": "stdout",
     "output_type": "stream",
     "text": [
      "Using seed: 1 for warm start\n",
      "NS: 5000, seed: 1 180.8242527804247 5304.142437371666\n",
      "Num untouched: 3857/4096\n",
      "Found 398 for acc sigma: 0.000000\n",
      "Found 12 for acc sigma: 0.300000\n",
      "Found 1 for acc sigma: 0.700000\n",
      "Brute force predictor perf.: 0.0142 0.0090 0.0021\n",
      "Loading label attribute models...\n",
      "Loding dataset...\n",
      "Number of arms: 4096 over 202599 instances -- shape: (4096, 12)\n",
      "Size of available unlabeled data: 100000\n",
      "Setting models...\n",
      "Initializing fitter...\n"
     ]
    },
    {
     "name": "stderr",
     "output_type": "stream",
     "text": [
      "Computing per arm accuracy\n",
      "Found 3698 unsupported arms of the total 4096 arms\n",
      "Done\n",
      "Best, worst, mean accuracy: 1.0000, 0.3000 0.9366\n",
      "Acc quantiles: [0.3        0.82324478 0.92873754 0.976      1.         1.\n",
      " 1.        ]\n",
      "Worst arms: [0.3        0.3        0.4        0.42857143 0.5        0.5\n",
      " 0.5        0.525      0.55555556 0.59615385 0.6        0.6\n",
      " 0.66666667 0.66666667 0.70833333 0.72222222 0.72727273 0.72727273\n",
      " 0.73684211 0.75       0.75       0.76923077 0.77777778 0.77837838\n",
      " 0.8        0.8        0.8        0.8        0.8        0.8       ]\n",
      "Read model from ../data/celeba_private/kernel.pb\n",
      "Temp: tensor([1.1824, 1.2758, 1.2325, 1.4758, 4.0888, 1.0795, 1.0934, 1.3858, 1.5746,\n",
      "        1.1410, 1.1148, 2.1117])\n",
      "Read model from ../data/celeba_private/kernel_no_edge_potential.pb\n",
      "Temp: tensor([1.2087, 1.3466, 1.2392, 1.5125, 4.2045, 1.0678, 1.1056, 1.4129, 1.2241,\n",
      "        1.0406, 1.0837, 1.6743])\n"
     ]
    },
    {
     "name": "stdout",
     "output_type": "stream",
     "text": [
      "Using seed: 2 for warm start\n",
      "NS: 5000, seed: 2 180.8242527804247 5304.142437371665\n",
      "Num untouched: 3849/4096\n",
      "Found 398 for acc sigma: 0.000000\n",
      "Found 10 for acc sigma: 0.300000\n",
      "Found 2 for acc sigma: 0.700000\n",
      "Brute force predictor perf.: 0.0134 0.0083 0.0035\n",
      "Loading label attribute models...\n",
      "Loding dataset...\n",
      "Number of arms: 4096 over 202599 instances -- shape: (4096, 12)\n",
      "Size of available unlabeled data: 100000\n",
      "Setting models...\n",
      "Initializing fitter...\n",
      "Using seed: 0 for warm start\n"
     ]
    },
    {
     "name": "stderr",
     "output_type": "stream",
     "text": [
      "Computing per arm accuracy\n",
      "Found 3698 unsupported arms of the total 4096 arms\n",
      "Done\n",
      "Best, worst, mean accuracy: 1.0000, 0.3000 0.9366\n",
      "Acc quantiles: [0.3        0.82324478 0.92873754 0.976      1.         1.\n",
      " 1.        ]\n",
      "Worst arms: [0.3        0.3        0.4        0.42857143 0.5        0.5\n",
      " 0.5        0.525      0.55555556 0.59615385 0.6        0.6\n",
      " 0.66666667 0.66666667 0.70833333 0.72222222 0.72727273 0.72727273\n",
      " 0.73684211 0.75       0.75       0.76923077 0.77777778 0.77837838\n",
      " 0.8        0.8        0.8        0.8        0.8        0.8       ]\n",
      "Read model from ../data/celeba_private/kernel.pb\n",
      "Temp: tensor([1.1824, 1.2758, 1.2325, 1.4758, 4.0888, 1.0795, 1.0934, 1.3858, 1.5746,\n",
      "        1.1410, 1.1148, 2.1117])\n",
      "Read model from ../data/celeba_private/kernel_no_edge_potential.pb\n",
      "Temp: tensor([1.2087, 1.3466, 1.2392, 1.5125, 4.2045, 1.0678, 1.1056, 1.4129, 1.2241,\n",
      "        1.0406, 1.0837, 1.6743])\n"
     ]
    },
    {
     "name": "stdout",
     "output_type": "stream",
     "text": [
      "NS: 5000, seed: 0 184.72501408800215 5284.05594268432\n",
      "Num untouched: 3822/4096\n",
      "Found 398 for acc sigma: 0.000000\n",
      "Found 16 for acc sigma: 0.300000\n",
      "Found 1 for acc sigma: 0.700000\n",
      "Brute force predictor perf.: 0.0146 0.0090 0.0014\n",
      "Loading label attribute models...\n",
      "Loding dataset...\n",
      "Number of arms: 4096 over 202599 instances -- shape: (4096, 12)\n",
      "Size of available unlabeled data: 100000\n",
      "Setting models...\n",
      "Initializing fitter...\n"
     ]
    },
    {
     "name": "stderr",
     "output_type": "stream",
     "text": [
      "Computing per arm accuracy\n",
      "Found 3698 unsupported arms of the total 4096 arms\n",
      "Done\n",
      "Best, worst, mean accuracy: 1.0000, 0.3000 0.9366\n",
      "Acc quantiles: [0.3        0.82324478 0.92873754 0.976      1.         1.\n",
      " 1.        ]\n",
      "Worst arms: [0.3        0.3        0.4        0.42857143 0.5        0.5\n",
      " 0.5        0.525      0.55555556 0.59615385 0.6        0.6\n",
      " 0.66666667 0.66666667 0.70833333 0.72222222 0.72727273 0.72727273\n",
      " 0.73684211 0.75       0.75       0.76923077 0.77777778 0.77837838\n",
      " 0.8        0.8        0.8        0.8        0.8        0.8       ]\n",
      "Read model from ../data/celeba_private/kernel.pb\n",
      "Temp: tensor([1.1824, 1.2758, 1.2325, 1.4758, 4.0888, 1.0795, 1.0934, 1.3858, 1.5746,\n",
      "        1.1410, 1.1148, 2.1117])\n",
      "Read model from ../data/celeba_private/kernel_no_edge_potential.pb\n",
      "Temp: tensor([1.2087, 1.3466, 1.2392, 1.5125, 4.2045, 1.0678, 1.1056, 1.4129, 1.2241,\n",
      "        1.0406, 1.0837, 1.6743])\n"
     ]
    },
    {
     "name": "stdout",
     "output_type": "stream",
     "text": [
      "Using seed: 1 for warm start\n",
      "NS: 5000, seed: 1 180.72501408800215 5288.05594268432\n",
      "Num untouched: 3821/4096\n",
      "Found 398 for acc sigma: 0.000000\n",
      "Found 13 for acc sigma: 0.300000\n",
      "Found 1 for acc sigma: 0.700000\n",
      "Brute force predictor perf.: 0.0146 0.0082 0.0016\n",
      "Loading label attribute models...\n",
      "Loding dataset...\n",
      "Number of arms: 4096 over 202599 instances -- shape: (4096, 12)\n",
      "Size of available unlabeled data: 100000\n",
      "Setting models...\n",
      "Initializing fitter...\n"
     ]
    },
    {
     "name": "stderr",
     "output_type": "stream",
     "text": [
      "Computing per arm accuracy\n",
      "Found 3698 unsupported arms of the total 4096 arms\n",
      "Done\n",
      "Best, worst, mean accuracy: 1.0000, 0.3000 0.9366\n",
      "Acc quantiles: [0.3        0.82324478 0.92873754 0.976      1.         1.\n",
      " 1.        ]\n",
      "Worst arms: [0.3        0.3        0.4        0.42857143 0.5        0.5\n",
      " 0.5        0.525      0.55555556 0.59615385 0.6        0.6\n",
      " 0.66666667 0.66666667 0.70833333 0.72222222 0.72727273 0.72727273\n",
      " 0.73684211 0.75       0.75       0.76923077 0.77777778 0.77837838\n",
      " 0.8        0.8        0.8        0.8        0.8        0.8       ]\n",
      "Read model from ../data/celeba_private/kernel.pb\n",
      "Temp: tensor([1.1824, 1.2758, 1.2325, 1.4758, 4.0888, 1.0795, 1.0934, 1.3858, 1.5746,\n",
      "        1.1410, 1.1148, 2.1117])\n",
      "Read model from ../data/celeba_private/kernel_no_edge_potential.pb\n",
      "Temp: tensor([1.2087, 1.3466, 1.2392, 1.5125, 4.2045, 1.0678, 1.1056, 1.4129, 1.2241,\n",
      "        1.0406, 1.0837, 1.6743])\n"
     ]
    },
    {
     "name": "stdout",
     "output_type": "stream",
     "text": [
      "Using seed: 2 for warm start\n",
      "NS: 5000, seed: 2 180.72501408800215 5288.055942684321\n",
      "Num untouched: 3822/4096\n",
      "Found 398 for acc sigma: 0.000000\n",
      "Found 12 for acc sigma: 0.300000\n",
      "Found 1 for acc sigma: 0.700000\n",
      "Brute force predictor perf.: 0.0147 0.0086 0.0019\n",
      "Loading label attribute models...\n",
      "Loding dataset...\n",
      "Number of arms: 4096 over 202599 instances -- shape: (4096, 12)\n",
      "Size of available unlabeled data: 100000\n",
      "Setting models...\n",
      "Initializing fitter...\n",
      "Using seed: 0 for warm start\n"
     ]
    },
    {
     "name": "stderr",
     "output_type": "stream",
     "text": [
      "Computing per arm accuracy\n",
      "Found 3698 unsupported arms of the total 4096 arms\n",
      "Done\n",
      "Best, worst, mean accuracy: 1.0000, 0.3000 0.9366\n",
      "Acc quantiles: [0.3        0.82324478 0.92873754 0.976      1.         1.\n",
      " 1.        ]\n",
      "Worst arms: [0.3        0.3        0.4        0.42857143 0.5        0.5\n",
      " 0.5        0.525      0.55555556 0.59615385 0.6        0.6\n",
      " 0.66666667 0.66666667 0.70833333 0.72222222 0.72727273 0.72727273\n",
      " 0.73684211 0.75       0.75       0.76923077 0.77777778 0.77837838\n",
      " 0.8        0.8        0.8        0.8        0.8        0.8       ]\n",
      "Read model from ../data/celeba_private/kernel.pb\n",
      "Temp: tensor([1.1824, 1.2758, 1.2325, 1.4758, 4.0888, 1.0795, 1.0934, 1.3858, 1.5746,\n",
      "        1.1410, 1.1148, 2.1117])\n",
      "Read model from ../data/celeba_private/kernel_no_edge_potential.pb\n",
      "Temp: tensor([1.2087, 1.3466, 1.2392, 1.5125, 4.2045, 1.0678, 1.1056, 1.4129, 1.2241,\n",
      "        1.0406, 1.0837, 1.6743])\n"
     ]
    },
    {
     "name": "stdout",
     "output_type": "stream",
     "text": [
      "NS: 5000, seed: 0 185.0 5315.0\n",
      "Num untouched: 3968/4096\n",
      "Found 398 for acc sigma: 0.000000\n",
      "Found 21 for acc sigma: 0.300000\n",
      "Found 1 for acc sigma: 0.700000\n",
      "Brute force predictor perf.: 0.0173 0.0125 0.0013\n",
      "Loading label attribute models...\n",
      "Loding dataset...\n",
      "Number of arms: 4096 over 202599 instances -- shape: (4096, 12)\n",
      "Size of available unlabeled data: 100000\n",
      "Setting models...\n",
      "Initializing fitter...\n"
     ]
    },
    {
     "name": "stderr",
     "output_type": "stream",
     "text": [
      "Computing per arm accuracy\n",
      "Found 3698 unsupported arms of the total 4096 arms\n",
      "Done\n",
      "Best, worst, mean accuracy: 1.0000, 0.3000 0.9366\n",
      "Acc quantiles: [0.3        0.82324478 0.92873754 0.976      1.         1.\n",
      " 1.        ]\n",
      "Worst arms: [0.3        0.3        0.4        0.42857143 0.5        0.5\n",
      " 0.5        0.525      0.55555556 0.59615385 0.6        0.6\n",
      " 0.66666667 0.66666667 0.70833333 0.72222222 0.72727273 0.72727273\n",
      " 0.73684211 0.75       0.75       0.76923077 0.77777778 0.77837838\n",
      " 0.8        0.8        0.8        0.8        0.8        0.8       ]\n",
      "Read model from ../data/celeba_private/kernel.pb\n",
      "Temp: tensor([1.1824, 1.2758, 1.2325, 1.4758, 4.0888, 1.0795, 1.0934, 1.3858, 1.5746,\n",
      "        1.1410, 1.1148, 2.1117])\n",
      "Read model from ../data/celeba_private/kernel_no_edge_potential.pb\n",
      "Temp: tensor([1.2087, 1.3466, 1.2392, 1.5125, 4.2045, 1.0678, 1.1056, 1.4129, 1.2241,\n",
      "        1.0406, 1.0837, 1.6743])\n"
     ]
    },
    {
     "name": "stdout",
     "output_type": "stream",
     "text": [
      "Using seed: 1 for warm start\n",
      "NS: 5000, seed: 1 181.0 5319.0\n",
      "Num untouched: 3969/4096\n",
      "Found 398 for acc sigma: 0.000000\n",
      "Found 23 for acc sigma: 0.300000\n",
      "Found 3 for acc sigma: 0.700000\n",
      "Brute force predictor perf.: 0.0218 0.0169 0.0056\n",
      "Loading label attribute models...\n",
      "Loding dataset...\n",
      "Number of arms: 4096 over 202599 instances -- shape: (4096, 12)\n",
      "Size of available unlabeled data: 100000\n",
      "Setting models...\n",
      "Initializing fitter...\n"
     ]
    },
    {
     "name": "stderr",
     "output_type": "stream",
     "text": [
      "Computing per arm accuracy\n",
      "Found 3698 unsupported arms of the total 4096 arms\n",
      "Done\n",
      "Best, worst, mean accuracy: 1.0000, 0.3000 0.9366\n",
      "Acc quantiles: [0.3        0.82324478 0.92873754 0.976      1.         1.\n",
      " 1.        ]\n",
      "Worst arms: [0.3        0.3        0.4        0.42857143 0.5        0.5\n",
      " 0.5        0.525      0.55555556 0.59615385 0.6        0.6\n",
      " 0.66666667 0.66666667 0.70833333 0.72222222 0.72727273 0.72727273\n",
      " 0.73684211 0.75       0.75       0.76923077 0.77777778 0.77837838\n",
      " 0.8        0.8        0.8        0.8        0.8        0.8       ]\n",
      "Read model from ../data/celeba_private/kernel.pb\n",
      "Temp: tensor([1.1824, 1.2758, 1.2325, 1.4758, 4.0888, 1.0795, 1.0934, 1.3858, 1.5746,\n",
      "        1.1410, 1.1148, 2.1117])\n",
      "Read model from ../data/celeba_private/kernel_no_edge_potential.pb\n",
      "Temp: tensor([1.2087, 1.3466, 1.2392, 1.5125, 4.2045, 1.0678, 1.1056, 1.4129, 1.2241,\n",
      "        1.0406, 1.0837, 1.6743])\n"
     ]
    },
    {
     "name": "stdout",
     "output_type": "stream",
     "text": [
      "Using seed: 2 for warm start\n",
      "NS: 5000, seed: 2 181.0 5319.0\n",
      "Num untouched: 3965/4096\n",
      "Found 398 for acc sigma: 0.000000\n",
      "Found 20 for acc sigma: 0.300000\n",
      "Found 2 for acc sigma: 0.700000\n",
      "Brute force predictor perf.: 0.0184 0.0134 0.0036\n",
      "Loading label attribute models...\n",
      "Loding dataset...\n",
      "Number of arms: 4096 over 202599 instances -- shape: (4096, 12)\n",
      "Size of available unlabeled data: 100000\n",
      "Setting models...\n",
      "Initializing fitter...\n",
      "Using seed: 0 for warm start\n"
     ]
    },
    {
     "name": "stderr",
     "output_type": "stream",
     "text": [
      "Computing per arm accuracy\n",
      "Found 3698 unsupported arms of the total 4096 arms\n",
      "Done\n",
      "Best, worst, mean accuracy: 1.0000, 0.3000 0.9366\n",
      "Acc quantiles: [0.3        0.82324478 0.92873754 0.976      1.         1.\n",
      " 1.        ]\n",
      "Worst arms: [0.3        0.3        0.4        0.42857143 0.5        0.5\n",
      " 0.5        0.525      0.55555556 0.59615385 0.6        0.6\n",
      " 0.66666667 0.66666667 0.70833333 0.72222222 0.72727273 0.72727273\n",
      " 0.73684211 0.75       0.75       0.76923077 0.77777778 0.77837838\n",
      " 0.8        0.8        0.8        0.8        0.8        0.8       ]\n",
      "Read model from ../data/celeba_private/kernel.pb\n",
      "Temp: tensor([1.1824, 1.2758, 1.2325, 1.4758, 4.0888, 1.0795, 1.0934, 1.3858, 1.5746,\n",
      "        1.1410, 1.1148, 2.1117])\n",
      "Read model from ../data/celeba_private/kernel_no_edge_potential.pb\n",
      "Temp: tensor([1.2087, 1.3466, 1.2392, 1.5125, 4.2045, 1.0678, 1.1056, 1.4129, 1.2241,\n",
      "        1.0406, 1.0837, 1.6743])\n"
     ]
    },
    {
     "name": "stdout",
     "output_type": "stream",
     "text": [
      "NS: 5000, seed: 0 185.0 5315.0\n",
      "Num untouched: 3776/4096\n",
      "Found 398 for acc sigma: 0.000000\n",
      "Found 20 for acc sigma: 0.300000\n",
      "Found 3 for acc sigma: 0.700000\n",
      "Brute force predictor perf.: 0.0180 0.0123 0.0041\n",
      "Loading label attribute models...\n",
      "Loding dataset...\n",
      "Number of arms: 4096 over 202599 instances -- shape: (4096, 12)\n",
      "Size of available unlabeled data: 100000\n",
      "Setting models...\n",
      "Initializing fitter...\n"
     ]
    },
    {
     "name": "stderr",
     "output_type": "stream",
     "text": [
      "Computing per arm accuracy\n",
      "Found 3698 unsupported arms of the total 4096 arms\n",
      "Done\n",
      "Best, worst, mean accuracy: 1.0000, 0.3000 0.9366\n",
      "Acc quantiles: [0.3        0.82324478 0.92873754 0.976      1.         1.\n",
      " 1.        ]\n",
      "Worst arms: [0.3        0.3        0.4        0.42857143 0.5        0.5\n",
      " 0.5        0.525      0.55555556 0.59615385 0.6        0.6\n",
      " 0.66666667 0.66666667 0.70833333 0.72222222 0.72727273 0.72727273\n",
      " 0.73684211 0.75       0.75       0.76923077 0.77777778 0.77837838\n",
      " 0.8        0.8        0.8        0.8        0.8        0.8       ]\n",
      "Read model from ../data/celeba_private/kernel.pb\n",
      "Temp: tensor([1.1824, 1.2758, 1.2325, 1.4758, 4.0888, 1.0795, 1.0934, 1.3858, 1.5746,\n",
      "        1.1410, 1.1148, 2.1117])\n",
      "Read model from ../data/celeba_private/kernel_no_edge_potential.pb\n",
      "Temp: tensor([1.2087, 1.3466, 1.2392, 1.5125, 4.2045, 1.0678, 1.1056, 1.4129, 1.2241,\n",
      "        1.0406, 1.0837, 1.6743])\n"
     ]
    },
    {
     "name": "stdout",
     "output_type": "stream",
     "text": [
      "Using seed: 1 for warm start\n",
      "NS: 5000, seed: 1 181.0 5319.0\n",
      "Num untouched: 3772/4096\n",
      "Found 398 for acc sigma: 0.000000\n",
      "Found 20 for acc sigma: 0.300000\n",
      "Found 1 for acc sigma: 0.700000\n",
      "Brute force predictor perf.: 0.0173 0.0113 0.0015\n",
      "Loading label attribute models...\n",
      "Loding dataset...\n",
      "Number of arms: 4096 over 202599 instances -- shape: (4096, 12)\n",
      "Size of available unlabeled data: 100000\n",
      "Setting models...\n",
      "Initializing fitter...\n"
     ]
    },
    {
     "name": "stderr",
     "output_type": "stream",
     "text": [
      "Computing per arm accuracy\n",
      "Found 3698 unsupported arms of the total 4096 arms\n",
      "Done\n",
      "Best, worst, mean accuracy: 1.0000, 0.3000 0.9366\n",
      "Acc quantiles: [0.3        0.82324478 0.92873754 0.976      1.         1.\n",
      " 1.        ]\n",
      "Worst arms: [0.3        0.3        0.4        0.42857143 0.5        0.5\n",
      " 0.5        0.525      0.55555556 0.59615385 0.6        0.6\n",
      " 0.66666667 0.66666667 0.70833333 0.72222222 0.72727273 0.72727273\n",
      " 0.73684211 0.75       0.75       0.76923077 0.77777778 0.77837838\n",
      " 0.8        0.8        0.8        0.8        0.8        0.8       ]\n",
      "Read model from ../data/celeba_private/kernel.pb\n",
      "Temp: tensor([1.1824, 1.2758, 1.2325, 1.4758, 4.0888, 1.0795, 1.0934, 1.3858, 1.5746,\n",
      "        1.1410, 1.1148, 2.1117])\n",
      "Read model from ../data/celeba_private/kernel_no_edge_potential.pb\n",
      "Temp: tensor([1.2087, 1.3466, 1.2392, 1.5125, 4.2045, 1.0678, 1.1056, 1.4129, 1.2241,\n",
      "        1.0406, 1.0837, 1.6743])\n"
     ]
    },
    {
     "name": "stdout",
     "output_type": "stream",
     "text": [
      "Using seed: 2 for warm start\n",
      "NS: 5000, seed: 2 181.0 5319.0\n",
      "Num untouched: 3774/4096\n",
      "Found 398 for acc sigma: 0.000000\n",
      "Found 19 for acc sigma: 0.300000\n",
      "Found 1 for acc sigma: 0.700000\n",
      "Brute force predictor perf.: 0.0153 0.0092 0.0015\n"
     ]
    }
   ],
   "source": [
    "import celeba_private\n",
    "dev = torch.device(\"cpu\")\n",
    "\n",
    "celeba_private.root_dir = \"../data/celeba_private\"\n",
    "celeba_private.celeba_root_dir = \"../data/celeba\"\n",
    "celeba_private.private_celeba_root_dir = \"../../age-gender-estimation\"\n",
    "calibrated_perfs, noep_calibrated_perfs, uncalibrated_perfs, gt_perfs = [], [], [], []\n",
    "debug_objs = []\n",
    "err_ns = [0., 0.3, 0.7]\n",
    "# err_ns = [0.1, 0.3, 0.5]\n",
    "sts = [\"correctedwep\", \"correctednoep\", \"raw\", \"gt\"]\n",
    "\n",
    "def perf(num_sample, sample_type):\n",
    "    err1s, err2s, err3s = [], [], []\n",
    "    for seed in range(3):\n",
    "        celeba_dataset, celeba_data_fitter = celeba_private.prepare(seed)\n",
    "        explorer = beta_explorer.BetaExplorer(celeba_dataset, celeba_data_fitter, celeba_data_fitter.cache_dir, dev, \n",
    "                                              explore_strategy='variance', err_ns=err_ns)\n",
    "        err_1, err_2, err_3, all_err = explorer.brute_predictor(num_sample, sample_type=sample_type)\n",
    "        err1s.append(err_1)\n",
    "        err2s.append(err_2)\n",
    "        err3s.append(err_3)\n",
    "    return np.mean(err1s), np.mean(err2s), np.mean(err3s)\n",
    "\n",
    "for num_sample in [0, 500, 1000, 1500, 2000, 3000, 4000, 5000]:\n",
    "    for sti, st in enumerate(sts):\n",
    "        err_1, err_2, err_3 = perf(num_sample, st)\n",
    "        if sti == 0:        \n",
    "            calibrated_perfs.append((num_sample, err_1, err_2, err_3))\n",
    "        elif sti == 1:\n",
    "            noep_calibrated_perfs.append((num_sample, err_1, err_2, err_3))\n",
    "        elif sti == 2:\n",
    "            uncalibrated_perfs.append((num_sample, err_1, err_2, err_3))   \n",
    "        elif sti == 3:\n",
    "            gt_perfs.append((num_sample, err_1, err_2, err_3))   \n",
    "    \n",
    "write([(calibrated_perfs, \"cal:full\"), (noep_calibrated_perfs, \"cal:temp\"), \n",
    "      (uncalibrated_perfs, \"cal:raw\"), (gt_perfs, \"cal:gold\")], \"celeba_private\")"
   ]
  },
  {
   "cell_type": "code",
   "execution_count": 15,
   "metadata": {},
   "outputs": [
    {
     "name": "stdout",
     "output_type": "stream",
     "text": [
      "Arms shape:  (4096, 12) [0 0 0 0 0 0 0 0 0 0 0 0] [1 1 1 1 1 1 1 1 1 1 1 1]\n"
     ]
    },
    {
     "data": {
      "text/plain": [
       "([(0, 0.017911492980598954, 0.013070481133240245, 0.004911587965217034),\n",
       "  (500, 0.01778918111937835, 0.012474145277793294, 0.0034757095063294996),\n",
       "  (1000, 0.01666415726126147, 0.011729628955399302, 0.0028610680586953277),\n",
       "  (1500, 0.01572862363916502, 0.010416694905780904, 0.002800467877843526),\n",
       "  (2000, 0.015074321544533373, 0.009923780806330213, 0.002311424212397056),\n",
       "  (3000, 0.014115615472079067, 0.009207481971460927, 0.0023154995030753894),\n",
       "  (4000, 0.013946224613422353, 0.008598606800961202, 0.0023154995030753894),\n",
       "  (5000, 0.013612520803512504, 0.008561376501577955, 0.0023154995030753894)],\n",
       " [(0, 0.017911492980598954, 0.013070481133240245, 0.004911587965217034),\n",
       "  (500, 0.01817736765130093, 0.013104740540291052, 0.0021778216404448286),\n",
       "  (1000, 0.017084500186890148, 0.012185828978247076, 0.0017059496853607285),\n",
       "  (1500, 0.016650289863163463, 0.011643574031576029, 0.0017059496853607285),\n",
       "  (2000, 0.015725500877682177, 0.01046667959535484, 0.0017059496853607285),\n",
       "  (3000, 0.015344708002978782, 0.009744256993791785, 0.001621882897843756),\n",
       "  (4000, 0.015437420599411979, 0.009711370782003998, 0.001621882897843756),\n",
       "  (5000, 0.014598811093227797, 0.008584794147258096, 0.001621882897843756)],\n",
       " [(0, 0.017911492980598954, 0.013070481133240245, 0.004911587965217034),\n",
       "  (500, 0.018385259679969138, 0.013573518690861168, 0.004961300833827364),\n",
       "  (1000, 0.01757522312494175, 0.012597744729701566, 0.0039256126936927085),\n",
       "  (1500, 0.018035001344319786, 0.013153541355769884, 0.0039256126936927085),\n",
       "  (2000, 0.01753472426187939, 0.01260616733717869, 0.0039256126936927085),\n",
       "  (3000, 0.017522886033244606, 0.012611760047142331, 0.003514671886105753),\n",
       "  (4000, 0.020456087836695284, 0.0156059337554064, 0.005008945057108427),\n",
       "  (5000, 0.01916750745414428, 0.014298704180998883, 0.003514671886105753)],\n",
       " [(0, 0.017911492980598954, 0.013070481133240245, 0.004911587965217034),\n",
       "  (500, 0.02091367920195601, 0.0158680122145228, 0.0053029298665107074),\n",
       "  (1000, 0.018623346760376792, 0.013353216240510722, 0.0035404488317647407),\n",
       "  (1500, 0.018919909861544546, 0.013508422571706535, 0.005292035975579063),\n",
       "  (2000, 0.01899835466210856, 0.013209901840729898, 0.005133519886611499),\n",
       "  (3000, 0.017007658796312906, 0.011346562167157832, 0.0016064223614415992),\n",
       "  (4000, 0.01729375300439587, 0.011154005344023101, 0.0023530523732909515),\n",
       "  (5000, 0.01687373780865922, 0.01095648283246315, 0.0023530523732909515)])"
      ]
     },
     "execution_count": 15,
     "metadata": {},
     "output_type": "execute_result"
    }
   ],
   "source": [
    "calibrated_perfs, noep_calibrated_perfs, uncalibrated_perfs, gt_perfs"
   ]
  },
  {
   "cell_type": "code",
   "execution_count": 8,
   "metadata": {},
   "outputs": [
    {
     "data": {
      "image/png": "[encoded data removed]",
      "text/plain": [
       "<Figure size 432x288 with 1 Axes>"
      ]
     },
     "metadata": {
      "needs_background": "light"
     },
     "output_type": "display_data"
    }
   ],
   "source": [
    "plot(\"celeba_private\", \"IMDB:MF\", \"../plots/celebap_calibration.png\")"
   ]
  },
  {
   "cell_type": "markdown",
   "metadata": {},
   "source": [
    "# COCOS"
   ]
  },
  {
   "cell_type": "code",
   "execution_count": null,
   "metadata": {
    "scrolled": true
   },
   "outputs": [],
   "source": [
    "import cocos3\n",
    "dev = torch.device(\"cpu\")\n",
    "\n",
    "cocos3.CACHE_DIR = \"../data/cocos3\"\n",
    "calibrated_perfs, noep_calibrated_perfs, uncalibrated_perfs, gt_perfs = [], [], [], []\n",
    "debug_objs = []\n",
    "err_ns = [0., 0.3, 0.7]\n",
    "# err_ns = [0.1, 0.3, 0.5]\n",
    "sts = [\"correctedwep\", \"correctednoep\", \"raw\", \"gt\"]\n",
    "\n",
    "def perf(num_sample, sample_type):\n",
    "    err1s, err2s, err3s = [], [], []\n",
    "    for seed in range(3):\n",
    "        dataset, data_fitter = cocos3.prepare(seed)\n",
    "        explorer = beta_explorer.BetaExplorer(dataset, data_fitter, data_fitter.cache_dir, dev, \n",
    "                                              explore_strategy='variance', err_ns=err_ns)\n",
    "        err_1, err_2, err_3, all_err = explorer.brute_predictor(num_sample, sample_type=sample_type)\n",
    "        err1s.append(err_1)\n",
    "        err2s.append(err_2)\n",
    "        err3s.append(err_3)\n",
    "    return np.mean(err1s), np.mean(err2s), np.mean(err3s)\n",
    "\n",
    "for num_sample in [0, 500, 1000, 1500, 2000, 3000, 4000, 5000]:\n",
    "    for sti, st in enumerate(sts):\n",
    "        err_1, err_2, err_3 = perf(num_sample, st)\n",
    "        if sti == 0:        \n",
    "            calibrated_perfs.append((num_sample, err_1, err_2, err_3))\n",
    "        elif sti == 1:\n",
    "            noep_calibrated_perfs.append((num_sample, err_1, err_2, err_3))\n",
    "        elif sti == 2:\n",
    "            uncalibrated_perfs.append((num_sample, err_1, err_2, err_3))   \n",
    "        elif sti == 3:\n",
    "            gt_perfs.append((num_sample, err_1, err_2, err_3))   \n",
    "    \n",
    "write([(calibrated_perfs, \"cal:full\"), (noep_calibrated_perfs, \"cal:temp\"), \n",
    "      (uncalibrated_perfs, \"cal:raw\"), (gt_perfs, \"cal:gold\")], \"cocos3\")"
   ]
  },
  {
   "cell_type": "code",
   "execution_count": 34,
   "metadata": {},
   "outputs": [
    {
     "data": {
      "text/plain": [
       "([(0, 0.17723458437144188, 0.08586281120634572, 0.012984876242192765),\n",
       "  (500, 0.16292215116950237, 0.07065073056482254, 0.0014408761369041527),\n",
       "  (1000, 0.1508398458496735, 0.0629225557237192, 0.0061535751083895375),\n",
       "  (1500, 0.1496131703587408, 0.05568698689111149, 0.0055786858443329325),\n",
       "  (2000, 0.1500986808304475, 0.060823544761119556, 0.0),\n",
       "  (3000, 0.14506936860383812, 0.051393606720556144, 0.0),\n",
       "  (4000, 0.14483450463338055, 0.04737657766982447, 0.0),\n",
       "  (5000, 0.14654367118909883, 0.04700961317894523, 0.0)],\n",
       " [(0, 0.17723458437144188, 0.08586281120634572, 0.012984876242192765),\n",
       "  (500, 0.1760794649995894, 0.07468318328139766, 0.0029314454230962984),\n",
       "  (1000, 0.1588245185007204, 0.06384436296328445, 0.0029314454230962984),\n",
       "  (1500, 0.15326659321422206, 0.05074255977101145, 0.002959944353084445),\n",
       "  (2000, 0.1540163035249107, 0.049998484603039926, 0.002981261196517027),\n",
       "  (3000, 0.15232666482686938, 0.04180026956637342, 0.0030384097572646097),\n",
       "  (4000, 0.15645381486062712, 0.04395037633235394, 0.003063696031832895),\n",
       "  (5000, 0.15928857549456224, 0.046746193776320444, 0.0030756254422578204)],\n",
       " [(0, 0.17723458437144188, 0.08586281120634572, 0.012984876242192765),\n",
       "  (500, 0.190872915463948, 0.09639651670472872, 0.015102110923895845),\n",
       "  (1000, 0.18814920406352822, 0.09297087216207615, 0.014642346970053831),\n",
       "  (1500, 0.1779805618396387, 0.08027314012142112, 0.0068536282740828194),\n",
       "  (2000, 0.18146093639081226, 0.08634408570789043, 0.001608104858104858),\n",
       "  (3000, 0.17706090540401975, 0.0734903315911367, 0.0),\n",
       "  (4000, 0.181282209933275, 0.07637009454336877, 0.0),\n",
       "  (5000, 0.18016778217947219, 0.07219466744606894, 0.004178954175905396)],\n",
       " [(0, 0.17723458437144188, 0.08586281120634572, 0.012984876242192765),\n",
       "  (500, 0.16289738401418782, 0.07040055860705645, 0.010246653839800782),\n",
       "  (1000, 0.14913347573410007, 0.06298941177370654, 0.007175658096112641),\n",
       "  (1500, 0.1364716530561541, 0.056336896269393234, 0.005777990948445495),\n",
       "  (2000, 0.1307335154774922, 0.055749994068614826, 0.005777990948445495),\n",
       "  (3000, 0.12405024523244575, 0.054504327512488404, 0.005777990948445495),\n",
       "  (4000, 0.10694232191056317, 0.03733546875420209, 0.0014794372294372295),\n",
       "  (5000, 0.09987892028612926, 0.0339082502369274, 0.0014794372294372295)])"
      ]
     },
     "execution_count": 34,
     "metadata": {},
     "output_type": "execute_result"
    }
   ],
   "source": [
    "calibrated_perfs, noep_calibrated_perfs, uncalibrated_perfs, gt_perfs"
   ]
  },
  {
   "cell_type": "code",
   "execution_count": 87,
   "metadata": {},
   "outputs": [
    {
     "data": {
      "image/png": "[encoded data removed]",
      "text/plain": [
       "<Figure size 432x288 with 1 Axes>"
      ]
     },
     "metadata": {
      "needs_background": "light"
     },
     "output_type": "display_data"
    }
   ],
   "source": [
    "plot(\"cocos3\", \"COCOS\", \"../plots/cocos_calibration.png\")"
   ]
  },
  {
   "cell_type": "markdown",
   "metadata": {},
   "source": [
    "# COCOS on 10K"
   ]
  },
  {
   "cell_type": "code",
   "execution_count": 5,
   "metadata": {
    "scrolled": true
   },
   "outputs": [
    {
     "name": "stdout",
     "output_type": "stream",
     "text": [
      "Arms shape:  (320, 6) [0 0 0 0 0 0] [9 1 1 1 1 1]\n",
      "{154: 177, 147: 177, 125: 125, 144: 125, 143: 125, 146: 125, 139: 125, 148: 125, 124: 125, 135: 125, 110: 125, 158: 125, 153: 125, 159: 125, 126: 125, 134: 125, 161: 125, 149: 125, 181: 125, 141: 125, 162: 125, 133: 125, 93: 125, 118: 125, 128: 125, 96: 125, 168: 125, 123: 125, 156: 156, 105: 156, 163: 163, 98: 163, 112: 163, 145: 163, 137: 163, 95: 163, 127: 163, 150: 163, 165: 163, 157: 163, 94: 163, 122: 122, 160: 122, 129: 122, 106: 122, 132: 122, 107: 122, 155: 122, 97: 122, 164: 122, 109: 122, 111: 122, 180: 122, 179: 122, 131: 122, 142: 122, 99: 122, 138: 122, 114: 122, 115: 122, 113: 122, 117: 122, 116: 122, 100: 122, 101: 122, 102: 122, 172: 122, 171: 122, 174: 122, 170: 122, 175: 122, 173: 122}\n",
      "Num train, val: 118287 5000\n",
      "Found 21833 good ones in train\n",
      "Found 921 good ones in val\n",
      "Per scene label acc:\n",
      "[0.92647447 0.87443966 0.88832733 0.73323372 0.79304738]\n",
      "Found 242 unique arms and 94.02 average number of examples per arm\n",
      "Shape of p: (22754, 10), scene: (22754, 5, 2)\n",
      "Found 78/320 empty arms\n",
      "Found 320 unique arms and 66.42 average number of examples per arm\n",
      "Using seed: 0 for warm start\n"
     ]
    },
    {
     "name": "stderr",
     "output_type": "stream",
     "text": [
      "Using joint model.\n",
      "Computing per arm accuracy\n",
      "Found 144 unsupported arms of the total 320 arms\n",
      "Done\n",
      "Best, worst, mean accuracy: 1.0000, 0.0400 0.6387\n",
      "Acc quantiles: [0.04       0.31203008 0.53690732 0.67107084 0.78273292 0.87867647\n",
      " 1.        ]\n",
      "Worst arms: [0.04       0.05555556 0.08695652 0.11111111 0.16666667 0.1875\n",
      " 0.1875     0.2        0.2        0.22222222 0.24242424 0.25\n",
      " 0.25       0.25287356 0.27272727 0.28571429 0.28571429 0.30263158\n",
      " 0.32142857 0.33823529 0.36397059 0.375      0.38095238 0.38461538\n",
      " 0.39130435 0.4        0.40625    0.41176471 0.41666667 0.42857143]\n",
      "Read model from ../data/cocos3_10k/kernel.pb\n",
      "Temp: tensor([1.6048, 1.1647, 0.8773, 1.1408, 0.6534, 0.6062])\n",
      "Read model from ../data/cocos3_10k/kernel_no_edge_potential.pb\n",
      "Temp: tensor([1.6343, 1.2952, 1.0454, 1.1590, 0.5719, 0.6520])\n"
     ]
    },
    {
     "name": "stdout",
     "output_type": "stream",
     "text": [
      "Num untouched: 219/320\n",
      "Found 176 for acc sigma: 0.000000\n",
      "Found 44 for acc sigma: 0.300000\n",
      "Found 1 for acc sigma: 0.700000\n",
      "Brute force predictor perf.: 0.0696 0.0521 0.0036\n",
      "Num train, val: 118287 5000\n",
      "Found 21833 good ones in train\n",
      "Found 921 good ones in val\n"
     ]
    },
    {
     "name": "stderr",
     "output_type": "stream",
     "text": [
      "Empirical accuracy: 0.7360\n"
     ]
    },
    {
     "name": "stdout",
     "output_type": "stream",
     "text": [
      "Per scene label acc:\n",
      "[0.92647447 0.87443966 0.88832733 0.73323372 0.79304738]\n",
      "Found 242 unique arms and 94.02 average number of examples per arm\n",
      "Shape of p: (22754, 10), scene: (22754, 5, 2)\n",
      "Found 78/320 empty arms\n",
      "Found 320 unique arms and 66.42 average number of examples per arm\n",
      "Using seed: 1 for warm start\n"
     ]
    },
    {
     "name": "stderr",
     "output_type": "stream",
     "text": [
      "Using joint model.\n",
      "Computing per arm accuracy\n",
      "Found 144 unsupported arms of the total 320 arms\n",
      "Done\n",
      "Best, worst, mean accuracy: 1.0000, 0.0400 0.6387\n",
      "Acc quantiles: [0.04       0.31203008 0.53690732 0.67107084 0.78273292 0.87867647\n",
      " 1.        ]\n",
      "Worst arms: [0.04       0.05555556 0.08695652 0.11111111 0.16666667 0.1875\n",
      " 0.1875     0.2        0.2        0.22222222 0.24242424 0.25\n",
      " 0.25       0.25287356 0.27272727 0.28571429 0.28571429 0.30263158\n",
      " 0.32142857 0.33823529 0.36397059 0.375      0.38095238 0.38461538\n",
      " 0.39130435 0.4        0.40625    0.41176471 0.41666667 0.42857143]\n",
      "Read model from ../data/cocos3_10k/kernel.pb\n",
      "Temp: tensor([1.6048, 1.1647, 0.8773, 1.1408, 0.6534, 0.6062])\n",
      "Read model from ../data/cocos3_10k/kernel_no_edge_potential.pb\n",
      "Temp: tensor([1.6343, 1.2952, 1.0454, 1.1590, 0.5719, 0.6520])\n"
     ]
    },
    {
     "name": "stdout",
     "output_type": "stream",
     "text": [
      "Num untouched: 215/320\n",
      "Found 176 for acc sigma: 0.000000\n",
      "Found 50 for acc sigma: 0.300000\n",
      "Found 3 for acc sigma: 0.700000\n",
      "Brute force predictor perf.: 0.0848 0.0670 0.0098\n",
      "Num train, val: 118287 5000\n",
      "Found 21833 good ones in train\n",
      "Found 921 good ones in val\n"
     ]
    },
    {
     "name": "stderr",
     "output_type": "stream",
     "text": [
      "Empirical accuracy: 0.7080\n"
     ]
    },
    {
     "name": "stdout",
     "output_type": "stream",
     "text": [
      "Per scene label acc:\n",
      "[0.92647447 0.87443966 0.88832733 0.73323372 0.79304738]\n",
      "Found 242 unique arms and 94.02 average number of examples per arm\n",
      "Shape of p: (22754, 10), scene: (22754, 5, 2)\n",
      "Found 78/320 empty arms\n",
      "Found 320 unique arms and 66.42 average number of examples per arm\n",
      "Using seed: 2 for warm start\n",
      "Num untouched: 223/320\n",
      "Found 176 for acc sigma: 0.000000\n",
      "Found 51 for acc sigma: 0.300000\n",
      "Found 0 for acc sigma: 0.700000\n",
      "Brute force predictor perf.: 0.0746 0.0574 0.0000\n"
     ]
    },
    {
     "name": "stderr",
     "output_type": "stream",
     "text": [
      "Using joint model.\n",
      "Computing per arm accuracy\n",
      "Found 144 unsupported arms of the total 320 arms\n",
      "Done\n",
      "Best, worst, mean accuracy: 1.0000, 0.0400 0.6387\n",
      "Acc quantiles: [0.04       0.31203008 0.53690732 0.67107084 0.78273292 0.87867647\n",
      " 1.        ]\n",
      "Worst arms: [0.04       0.05555556 0.08695652 0.11111111 0.16666667 0.1875\n",
      " 0.1875     0.2        0.2        0.22222222 0.24242424 0.25\n",
      " 0.25       0.25287356 0.27272727 0.28571429 0.28571429 0.30263158\n",
      " 0.32142857 0.33823529 0.36397059 0.375      0.38095238 0.38461538\n",
      " 0.39130435 0.4        0.40625    0.41176471 0.41666667 0.42857143]\n",
      "Read model from ../data/cocos3_10k/kernel.pb\n",
      "Temp: tensor([1.6048, 1.1647, 0.8773, 1.1408, 0.6534, 0.6062])\n",
      "Read model from ../data/cocos3_10k/kernel_no_edge_potential.pb\n",
      "Temp: tensor([1.6343, 1.2952, 1.0454, 1.1590, 0.5719, 0.6520])\n",
      "Empirical accuracy: 0.7240\n"
     ]
    },
    {
     "name": "stdout",
     "output_type": "stream",
     "text": [
      "Num train, val: 118287 5000\n",
      "Found 21833 good ones in train\n",
      "Found 921 good ones in val\n",
      "Per scene label acc:\n",
      "[0.92647447 0.87443966 0.88832733 0.73323372 0.79304738]\n",
      "Found 242 unique arms and 94.02 average number of examples per arm\n",
      "Shape of p: (22754, 10), scene: (22754, 5, 2)\n",
      "Found 78/320 empty arms\n",
      "Found 320 unique arms and 66.42 average number of examples per arm\n",
      "Using seed: 0 for warm start\n"
     ]
    },
    {
     "name": "stderr",
     "output_type": "stream",
     "text": [
      "Using joint model.\n",
      "Computing per arm accuracy\n",
      "Found 144 unsupported arms of the total 320 arms\n",
      "Done\n",
      "Best, worst, mean accuracy: 1.0000, 0.0400 0.6387\n",
      "Acc quantiles: [0.04       0.31203008 0.53690732 0.67107084 0.78273292 0.87867647\n",
      " 1.        ]\n",
      "Worst arms: [0.04       0.05555556 0.08695652 0.11111111 0.16666667 0.1875\n",
      " 0.1875     0.2        0.2        0.22222222 0.24242424 0.25\n",
      " 0.25       0.25287356 0.27272727 0.28571429 0.28571429 0.30263158\n",
      " 0.32142857 0.33823529 0.36397059 0.375      0.38095238 0.38461538\n",
      " 0.39130435 0.4        0.40625    0.41176471 0.41666667 0.42857143]\n",
      "Read model from ../data/cocos3_10k/kernel.pb\n",
      "Temp: tensor([1.6048, 1.1647, 0.8773, 1.1408, 0.6534, 0.6062])\n",
      "Read model from ../data/cocos3_10k/kernel_no_edge_potential.pb\n",
      "Temp: tensor([1.6343, 1.2952, 1.0454, 1.1590, 0.5719, 0.6520])\n"
     ]
    },
    {
     "name": "stdout",
     "output_type": "stream",
     "text": [
      "Num untouched: 219/320\n",
      "Found 176 for acc sigma: 0.000000\n",
      "Found 44 for acc sigma: 0.300000\n",
      "Found 1 for acc sigma: 0.700000\n",
      "Brute force predictor perf.: 0.0696 0.0521 0.0036\n",
      "Num train, val: 118287 5000\n",
      "Found 21833 good ones in train\n",
      "Found 921 good ones in val\n"
     ]
    },
    {
     "name": "stderr",
     "output_type": "stream",
     "text": [
      "Empirical accuracy: 0.7360\n"
     ]
    },
    {
     "name": "stdout",
     "output_type": "stream",
     "text": [
      "Per scene label acc:\n",
      "[0.92647447 0.87443966 0.88832733 0.73323372 0.79304738]\n",
      "Found 242 unique arms and 94.02 average number of examples per arm\n",
      "Shape of p: (22754, 10), scene: (22754, 5, 2)\n",
      "Found 78/320 empty arms\n",
      "Found 320 unique arms and 66.42 average number of examples per arm\n",
      "Using seed: 1 for warm start\n",
      "Num untouched: 215/320\n",
      "Found 176 for acc sigma: 0.000000\n",
      "Found 50 for acc sigma: 0.300000\n",
      "Found 3 for acc sigma: 0.700000\n",
      "Brute force predictor perf.: 0.0848 0.0670 0.0098\n"
     ]
    },
    {
     "name": "stderr",
     "output_type": "stream",
     "text": [
      "Using joint model.\n",
      "Computing per arm accuracy\n",
      "Found 144 unsupported arms of the total 320 arms\n",
      "Done\n",
      "Best, worst, mean accuracy: 1.0000, 0.0400 0.6387\n",
      "Acc quantiles: [0.04       0.31203008 0.53690732 0.67107084 0.78273292 0.87867647\n",
      " 1.        ]\n",
      "Worst arms: [0.04       0.05555556 0.08695652 0.11111111 0.16666667 0.1875\n",
      " 0.1875     0.2        0.2        0.22222222 0.24242424 0.25\n",
      " 0.25       0.25287356 0.27272727 0.28571429 0.28571429 0.30263158\n",
      " 0.32142857 0.33823529 0.36397059 0.375      0.38095238 0.38461538\n",
      " 0.39130435 0.4        0.40625    0.41176471 0.41666667 0.42857143]\n",
      "Read model from ../data/cocos3_10k/kernel.pb\n",
      "Temp: tensor([1.6048, 1.1647, 0.8773, 1.1408, 0.6534, 0.6062])\n",
      "Read model from ../data/cocos3_10k/kernel_no_edge_potential.pb\n",
      "Temp: tensor([1.6343, 1.2952, 1.0454, 1.1590, 0.5719, 0.6520])\n",
      "Empirical accuracy: 0.7080\n"
     ]
    },
    {
     "name": "stdout",
     "output_type": "stream",
     "text": [
      "Num train, val: 118287 5000\n",
      "Found 21833 good ones in train\n",
      "Found 921 good ones in val\n",
      "Per scene label acc:\n",
      "[0.92647447 0.87443966 0.88832733 0.73323372 0.79304738]\n",
      "Found 242 unique arms and 94.02 average number of examples per arm\n",
      "Shape of p: (22754, 10), scene: (22754, 5, 2)\n",
      "Found 78/320 empty arms\n",
      "Found 320 unique arms and 66.42 average number of examples per arm\n",
      "Using seed: 2 for warm start\n"
     ]
    },
    {
     "name": "stderr",
     "output_type": "stream",
     "text": [
      "Using joint model.\n",
      "Computing per arm accuracy\n",
      "Found 144 unsupported arms of the total 320 arms\n",
      "Done\n",
      "Best, worst, mean accuracy: 1.0000, 0.0400 0.6387\n",
      "Acc quantiles: [0.04       0.31203008 0.53690732 0.67107084 0.78273292 0.87867647\n",
      " 1.        ]\n",
      "Worst arms: [0.04       0.05555556 0.08695652 0.11111111 0.16666667 0.1875\n",
      " 0.1875     0.2        0.2        0.22222222 0.24242424 0.25\n",
      " 0.25       0.25287356 0.27272727 0.28571429 0.28571429 0.30263158\n",
      " 0.32142857 0.33823529 0.36397059 0.375      0.38095238 0.38461538\n",
      " 0.39130435 0.4        0.40625    0.41176471 0.41666667 0.42857143]\n",
      "Read model from ../data/cocos3_10k/kernel.pb\n",
      "Temp: tensor([1.6048, 1.1647, 0.8773, 1.1408, 0.6534, 0.6062])\n",
      "Read model from ../data/cocos3_10k/kernel_no_edge_potential.pb\n",
      "Temp: tensor([1.6343, 1.2952, 1.0454, 1.1590, 0.5719, 0.6520])\n"
     ]
    },
    {
     "name": "stdout",
     "output_type": "stream",
     "text": [
      "Num untouched: 223/320\n",
      "Found 176 for acc sigma: 0.000000\n",
      "Found 51 for acc sigma: 0.300000\n",
      "Found 0 for acc sigma: 0.700000\n",
      "Brute force predictor perf.: 0.0746 0.0574 0.0000\n",
      "Num train, val: 118287 5000\n",
      "Found 21833 good ones in train\n",
      "Found 921 good ones in val\n"
     ]
    },
    {
     "name": "stderr",
     "output_type": "stream",
     "text": [
      "Empirical accuracy: 0.7240\n"
     ]
    },
    {
     "name": "stdout",
     "output_type": "stream",
     "text": [
      "Per scene label acc:\n",
      "[0.92647447 0.87443966 0.88832733 0.73323372 0.79304738]\n",
      "Found 242 unique arms and 94.02 average number of examples per arm\n",
      "Shape of p: (22754, 10), scene: (22754, 5, 2)\n",
      "Found 78/320 empty arms\n",
      "Found 320 unique arms and 66.42 average number of examples per arm\n",
      "Using seed: 0 for warm start\n",
      "Num untouched: 219/320\n",
      "Found 176 for acc sigma: 0.000000\n",
      "Found 44 for acc sigma: 0.300000\n",
      "Found 1 for acc sigma: 0.700000\n",
      "Brute force predictor perf.: 0.0696 0.0521 0.0036\n"
     ]
    },
    {
     "name": "stderr",
     "output_type": "stream",
     "text": [
      "Using joint model.\n",
      "Computing per arm accuracy\n",
      "Found 144 unsupported arms of the total 320 arms\n",
      "Done\n",
      "Best, worst, mean accuracy: 1.0000, 0.0400 0.6387\n",
      "Acc quantiles: [0.04       0.31203008 0.53690732 0.67107084 0.78273292 0.87867647\n",
      " 1.        ]\n",
      "Worst arms: [0.04       0.05555556 0.08695652 0.11111111 0.16666667 0.1875\n",
      " 0.1875     0.2        0.2        0.22222222 0.24242424 0.25\n",
      " 0.25       0.25287356 0.27272727 0.28571429 0.28571429 0.30263158\n",
      " 0.32142857 0.33823529 0.36397059 0.375      0.38095238 0.38461538\n",
      " 0.39130435 0.4        0.40625    0.41176471 0.41666667 0.42857143]\n",
      "Read model from ../data/cocos3_10k/kernel.pb\n",
      "Temp: tensor([1.6048, 1.1647, 0.8773, 1.1408, 0.6534, 0.6062])\n",
      "Read model from ../data/cocos3_10k/kernel_no_edge_potential.pb\n",
      "Temp: tensor([1.6343, 1.2952, 1.0454, 1.1590, 0.5719, 0.6520])\n",
      "Empirical accuracy: 0.7360\n"
     ]
    },
    {
     "name": "stdout",
     "output_type": "stream",
     "text": [
      "Num train, val: 118287 5000\n",
      "Found 21833 good ones in train\n",
      "Found 921 good ones in val\n",
      "Per scene label acc:\n",
      "[0.92647447 0.87443966 0.88832733 0.73323372 0.79304738]\n",
      "Found 242 unique arms and 94.02 average number of examples per arm\n",
      "Shape of p: (22754, 10), scene: (22754, 5, 2)\n",
      "Found 78/320 empty arms\n",
      "Found 320 unique arms and 66.42 average number of examples per arm\n",
      "Using seed: 1 for warm start\n",
      "Num untouched: 215/320\n",
      "Found 176 for acc sigma: 0.000000\n",
      "Found 50 for acc sigma: 0.300000\n",
      "Found 3 for acc sigma: 0.700000\n",
      "Brute force predictor perf.: 0.0848 0.0670 0.0098\n"
     ]
    },
    {
     "name": "stderr",
     "output_type": "stream",
     "text": [
      "Using joint model.\n",
      "Computing per arm accuracy\n",
      "Found 144 unsupported arms of the total 320 arms\n",
      "Done\n",
      "Best, worst, mean accuracy: 1.0000, 0.0400 0.6387\n",
      "Acc quantiles: [0.04       0.31203008 0.53690732 0.67107084 0.78273292 0.87867647\n",
      " 1.        ]\n",
      "Worst arms: [0.04       0.05555556 0.08695652 0.11111111 0.16666667 0.1875\n",
      " 0.1875     0.2        0.2        0.22222222 0.24242424 0.25\n",
      " 0.25       0.25287356 0.27272727 0.28571429 0.28571429 0.30263158\n",
      " 0.32142857 0.33823529 0.36397059 0.375      0.38095238 0.38461538\n",
      " 0.39130435 0.4        0.40625    0.41176471 0.41666667 0.42857143]\n",
      "Read model from ../data/cocos3_10k/kernel.pb\n",
      "Temp: tensor([1.6048, 1.1647, 0.8773, 1.1408, 0.6534, 0.6062])\n",
      "Read model from ../data/cocos3_10k/kernel_no_edge_potential.pb\n",
      "Temp: tensor([1.6343, 1.2952, 1.0454, 1.1590, 0.5719, 0.6520])\n",
      "Empirical accuracy: 0.7080\n"
     ]
    },
    {
     "name": "stdout",
     "output_type": "stream",
     "text": [
      "Num train, val: 118287 5000\n",
      "Found 21833 good ones in train\n",
      "Found 921 good ones in val\n",
      "Per scene label acc:\n",
      "[0.92647447 0.87443966 0.88832733 0.73323372 0.79304738]\n",
      "Found 242 unique arms and 94.02 average number of examples per arm\n",
      "Shape of p: (22754, 10), scene: (22754, 5, 2)\n",
      "Found 78/320 empty arms\n",
      "Found 320 unique arms and 66.42 average number of examples per arm\n",
      "Using seed: 2 for warm start\n"
     ]
    },
    {
     "name": "stderr",
     "output_type": "stream",
     "text": [
      "Using joint model.\n",
      "Computing per arm accuracy\n",
      "Found 144 unsupported arms of the total 320 arms\n",
      "Done\n",
      "Best, worst, mean accuracy: 1.0000, 0.0400 0.6387\n",
      "Acc quantiles: [0.04       0.31203008 0.53690732 0.67107084 0.78273292 0.87867647\n",
      " 1.        ]\n",
      "Worst arms: [0.04       0.05555556 0.08695652 0.11111111 0.16666667 0.1875\n",
      " 0.1875     0.2        0.2        0.22222222 0.24242424 0.25\n",
      " 0.25       0.25287356 0.27272727 0.28571429 0.28571429 0.30263158\n",
      " 0.32142857 0.33823529 0.36397059 0.375      0.38095238 0.38461538\n",
      " 0.39130435 0.4        0.40625    0.41176471 0.41666667 0.42857143]\n",
      "Read model from ../data/cocos3_10k/kernel.pb\n",
      "Temp: tensor([1.6048, 1.1647, 0.8773, 1.1408, 0.6534, 0.6062])\n",
      "Read model from ../data/cocos3_10k/kernel_no_edge_potential.pb\n",
      "Temp: tensor([1.6343, 1.2952, 1.0454, 1.1590, 0.5719, 0.6520])\n"
     ]
    },
    {
     "name": "stdout",
     "output_type": "stream",
     "text": [
      "Num untouched: 223/320\n",
      "Found 176 for acc sigma: 0.000000\n",
      "Found 51 for acc sigma: 0.300000\n",
      "Found 0 for acc sigma: 0.700000\n",
      "Brute force predictor perf.: 0.0746 0.0574 0.0000\n",
      "Num train, val: 118287 5000\n",
      "Found 21833 good ones in train\n",
      "Found 921 good ones in val\n"
     ]
    },
    {
     "name": "stderr",
     "output_type": "stream",
     "text": [
      "Empirical accuracy: 0.7240\n"
     ]
    },
    {
     "name": "stdout",
     "output_type": "stream",
     "text": [
      "Per scene label acc:\n",
      "[0.92647447 0.87443966 0.88832733 0.73323372 0.79304738]\n",
      "Found 242 unique arms and 94.02 average number of examples per arm\n",
      "Shape of p: (22754, 10), scene: (22754, 5, 2)\n",
      "Found 78/320 empty arms\n",
      "Found 320 unique arms and 66.42 average number of examples per arm\n",
      "Using seed: 0 for warm start\n"
     ]
    },
    {
     "name": "stderr",
     "output_type": "stream",
     "text": [
      "Using joint model.\n",
      "Computing per arm accuracy\n",
      "Found 144 unsupported arms of the total 320 arms\n",
      "Done\n",
      "Best, worst, mean accuracy: 1.0000, 0.0400 0.6387\n",
      "Acc quantiles: [0.04       0.31203008 0.53690732 0.67107084 0.78273292 0.87867647\n",
      " 1.        ]\n",
      "Worst arms: [0.04       0.05555556 0.08695652 0.11111111 0.16666667 0.1875\n",
      " 0.1875     0.2        0.2        0.22222222 0.24242424 0.25\n",
      " 0.25       0.25287356 0.27272727 0.28571429 0.28571429 0.30263158\n",
      " 0.32142857 0.33823529 0.36397059 0.375      0.38095238 0.38461538\n",
      " 0.39130435 0.4        0.40625    0.41176471 0.41666667 0.42857143]\n",
      "Read model from ../data/cocos3_10k/kernel.pb\n",
      "Temp: tensor([1.6048, 1.1647, 0.8773, 1.1408, 0.6534, 0.6062])\n",
      "Read model from ../data/cocos3_10k/kernel_no_edge_potential.pb\n",
      "Temp: tensor([1.6343, 1.2952, 1.0454, 1.1590, 0.5719, 0.6520])\n"
     ]
    },
    {
     "name": "stdout",
     "output_type": "stream",
     "text": [
      "Num untouched: 219/320\n",
      "Found 176 for acc sigma: 0.000000\n",
      "Found 44 for acc sigma: 0.300000\n",
      "Found 1 for acc sigma: 0.700000\n",
      "Brute force predictor perf.: 0.0696 0.0521 0.0036\n",
      "Num train, val: 118287 5000\n",
      "Found 21833 good ones in train\n",
      "Found 921 good ones in val\n"
     ]
    },
    {
     "name": "stderr",
     "output_type": "stream",
     "text": [
      "Empirical accuracy: 0.7360\n"
     ]
    },
    {
     "name": "stdout",
     "output_type": "stream",
     "text": [
      "Per scene label acc:\n",
      "[0.92647447 0.87443966 0.88832733 0.73323372 0.79304738]\n",
      "Found 242 unique arms and 94.02 average number of examples per arm\n",
      "Shape of p: (22754, 10), scene: (22754, 5, 2)\n",
      "Found 78/320 empty arms\n",
      "Found 320 unique arms and 66.42 average number of examples per arm\n",
      "Using seed: 1 for warm start\n"
     ]
    },
    {
     "name": "stderr",
     "output_type": "stream",
     "text": [
      "Using joint model.\n",
      "Computing per arm accuracy\n",
      "Found 144 unsupported arms of the total 320 arms\n",
      "Done\n",
      "Best, worst, mean accuracy: 1.0000, 0.0400 0.6387\n",
      "Acc quantiles: [0.04       0.31203008 0.53690732 0.67107084 0.78273292 0.87867647\n",
      " 1.        ]\n",
      "Worst arms: [0.04       0.05555556 0.08695652 0.11111111 0.16666667 0.1875\n",
      " 0.1875     0.2        0.2        0.22222222 0.24242424 0.25\n",
      " 0.25       0.25287356 0.27272727 0.28571429 0.28571429 0.30263158\n",
      " 0.32142857 0.33823529 0.36397059 0.375      0.38095238 0.38461538\n",
      " 0.39130435 0.4        0.40625    0.41176471 0.41666667 0.42857143]\n",
      "Read model from ../data/cocos3_10k/kernel.pb\n",
      "Temp: tensor([1.6048, 1.1647, 0.8773, 1.1408, 0.6534, 0.6062])\n",
      "Read model from ../data/cocos3_10k/kernel_no_edge_potential.pb\n",
      "Temp: tensor([1.6343, 1.2952, 1.0454, 1.1590, 0.5719, 0.6520])\n"
     ]
    },
    {
     "name": "stdout",
     "output_type": "stream",
     "text": [
      "Num untouched: 215/320\n",
      "Found 176 for acc sigma: 0.000000\n",
      "Found 50 for acc sigma: 0.300000\n",
      "Found 3 for acc sigma: 0.700000\n",
      "Brute force predictor perf.: 0.0848 0.0670 0.0098\n",
      "Num train, val: 118287 5000\n",
      "Found 21833 good ones in train\n",
      "Found 921 good ones in val\n",
      "Per scene label acc:\n",
      "[0.92647447 0.87443966 0.88832733 0.73323372 0.79304738]\n",
      "Found 242 unique arms and 94.02 average number of examples per arm\n",
      "Shape of p: (22754, 10), scene: (22754, 5, 2)\n",
      "Found 78/320 empty arms\n",
      "Found 320 unique arms and 66.42 average number of examples per arm\n",
      "Using seed: 2 for warm start\n"
     ]
    },
    {
     "name": "stderr",
     "output_type": "stream",
     "text": [
      "Empirical accuracy: 0.7080\n",
      "Using joint model.\n",
      "Computing per arm accuracy\n",
      "Found 144 unsupported arms of the total 320 arms\n",
      "Done\n",
      "Best, worst, mean accuracy: 1.0000, 0.0400 0.6387\n",
      "Acc quantiles: [0.04       0.31203008 0.53690732 0.67107084 0.78273292 0.87867647\n",
      " 1.        ]\n",
      "Worst arms: [0.04       0.05555556 0.08695652 0.11111111 0.16666667 0.1875\n",
      " 0.1875     0.2        0.2        0.22222222 0.24242424 0.25\n",
      " 0.25       0.25287356 0.27272727 0.28571429 0.28571429 0.30263158\n",
      " 0.32142857 0.33823529 0.36397059 0.375      0.38095238 0.38461538\n",
      " 0.39130435 0.4        0.40625    0.41176471 0.41666667 0.42857143]\n",
      "Read model from ../data/cocos3_10k/kernel.pb\n",
      "Temp: tensor([1.6048, 1.1647, 0.8773, 1.1408, 0.6534, 0.6062])\n",
      "Read model from ../data/cocos3_10k/kernel_no_edge_potential.pb\n",
      "Temp: tensor([1.6343, 1.2952, 1.0454, 1.1590, 0.5719, 0.6520])\n"
     ]
    },
    {
     "name": "stdout",
     "output_type": "stream",
     "text": [
      "Num untouched: 223/320\n",
      "Found 176 for acc sigma: 0.000000\n",
      "Found 51 for acc sigma: 0.300000\n",
      "Found 0 for acc sigma: 0.700000\n",
      "Brute force predictor perf.: 0.0746 0.0574 0.0000\n",
      "Num train, val: 118287 5000\n",
      "Found 21833 good ones in train\n",
      "Found 921 good ones in val\n"
     ]
    },
    {
     "name": "stderr",
     "output_type": "stream",
     "text": [
      "Empirical accuracy: 0.7240\n"
     ]
    },
    {
     "name": "stdout",
     "output_type": "stream",
     "text": [
      "Per scene label acc:\n",
      "[0.92647447 0.87443966 0.88832733 0.73323372 0.79304738]\n",
      "Found 242 unique arms and 94.02 average number of examples per arm\n",
      "Shape of p: (22754, 10), scene: (22754, 5, 2)\n",
      "Found 78/320 empty arms\n",
      "Found 320 unique arms and 66.42 average number of examples per arm\n",
      "Using seed: 0 for warm start\n"
     ]
    },
    {
     "name": "stderr",
     "output_type": "stream",
     "text": [
      "Using joint model.\n",
      "Computing per arm accuracy\n",
      "Found 144 unsupported arms of the total 320 arms\n",
      "Done\n",
      "Best, worst, mean accuracy: 1.0000, 0.0400 0.6387\n",
      "Acc quantiles: [0.04       0.31203008 0.53690732 0.67107084 0.78273292 0.87867647\n",
      " 1.        ]\n",
      "Worst arms: [0.04       0.05555556 0.08695652 0.11111111 0.16666667 0.1875\n",
      " 0.1875     0.2        0.2        0.22222222 0.24242424 0.25\n",
      " 0.25       0.25287356 0.27272727 0.28571429 0.28571429 0.30263158\n",
      " 0.32142857 0.33823529 0.36397059 0.375      0.38095238 0.38461538\n",
      " 0.39130435 0.4        0.40625    0.41176471 0.41666667 0.42857143]\n",
      "Read model from ../data/cocos3_10k/kernel.pb\n",
      "Temp: tensor([1.6048, 1.1647, 0.8773, 1.1408, 0.6534, 0.6062])\n",
      "Read model from ../data/cocos3_10k/kernel_no_edge_potential.pb\n",
      "Temp: tensor([1.6343, 1.2952, 1.0454, 1.1590, 0.5719, 0.6520])\n"
     ]
    },
    {
     "name": "stdout",
     "output_type": "stream",
     "text": [
      "Num untouched: 177/320\n",
      "Found 176 for acc sigma: 0.000000\n",
      "Found 37 for acc sigma: 0.300000\n",
      "Found 3 for acc sigma: 0.700000\n",
      "Brute force predictor perf.: 0.0645 0.0487 0.0091\n",
      "Num train, val: 118287 5000\n",
      "Found 21833 good ones in train\n",
      "Found 921 good ones in val\n"
     ]
    },
    {
     "name": "stderr",
     "output_type": "stream",
     "text": [
      "Empirical accuracy: 0.7470\n"
     ]
    },
    {
     "name": "stdout",
     "output_type": "stream",
     "text": [
      "Per scene label acc:\n",
      "[0.92647447 0.87443966 0.88832733 0.73323372 0.79304738]\n",
      "Found 242 unique arms and 94.02 average number of examples per arm\n",
      "Shape of p: (22754, 10), scene: (22754, 5, 2)\n",
      "Found 78/320 empty arms\n",
      "Found 320 unique arms and 66.42 average number of examples per arm\n",
      "Using seed: 1 for warm start\n"
     ]
    },
    {
     "name": "stderr",
     "output_type": "stream",
     "text": [
      "Using joint model.\n",
      "Computing per arm accuracy\n",
      "Found 144 unsupported arms of the total 320 arms\n",
      "Done\n",
      "Best, worst, mean accuracy: 1.0000, 0.0400 0.6387\n",
      "Acc quantiles: [0.04       0.31203008 0.53690732 0.67107084 0.78273292 0.87867647\n",
      " 1.        ]\n",
      "Worst arms: [0.04       0.05555556 0.08695652 0.11111111 0.16666667 0.1875\n",
      " 0.1875     0.2        0.2        0.22222222 0.24242424 0.25\n",
      " 0.25       0.25287356 0.27272727 0.28571429 0.28571429 0.30263158\n",
      " 0.32142857 0.33823529 0.36397059 0.375      0.38095238 0.38461538\n",
      " 0.39130435 0.4        0.40625    0.41176471 0.41666667 0.42857143]\n",
      "Read model from ../data/cocos3_10k/kernel.pb\n",
      "Temp: tensor([1.6048, 1.1647, 0.8773, 1.1408, 0.6534, 0.6062])\n",
      "Read model from ../data/cocos3_10k/kernel_no_edge_potential.pb\n",
      "Temp: tensor([1.6343, 1.2952, 1.0454, 1.1590, 0.5719, 0.6520])\n",
      "Empirical accuracy: 0.7330\n"
     ]
    },
    {
     "name": "stdout",
     "output_type": "stream",
     "text": [
      "Num untouched: 173/320\n",
      "Found 176 for acc sigma: 0.000000\n",
      "Found 40 for acc sigma: 0.300000\n",
      "Found 3 for acc sigma: 0.700000\n",
      "Brute force predictor perf.: 0.0722 0.0553 0.0097\n",
      "Num train, val: 118287 5000\n",
      "Found 21833 good ones in train\n",
      "Found 921 good ones in val\n",
      "Per scene label acc:\n",
      "[0.92647447 0.87443966 0.88832733 0.73323372 0.79304738]\n",
      "Found 242 unique arms and 94.02 average number of examples per arm\n",
      "Shape of p: (22754, 10), scene: (22754, 5, 2)\n",
      "Found 78/320 empty arms\n",
      "Found 320 unique arms and 66.42 average number of examples per arm\n",
      "Using seed: 2 for warm start\n",
      "Num untouched: 173/320\n",
      "Found 176 for acc sigma: 0.000000\n",
      "Found 43 for acc sigma: 0.300000\n",
      "Found 2 for acc sigma: 0.700000\n",
      "Brute force predictor perf.: 0.0742 0.0563 0.0062\n"
     ]
    },
    {
     "name": "stderr",
     "output_type": "stream",
     "text": [
      "Using joint model.\n",
      "Computing per arm accuracy\n",
      "Found 144 unsupported arms of the total 320 arms\n",
      "Done\n",
      "Best, worst, mean accuracy: 1.0000, 0.0400 0.6387\n",
      "Acc quantiles: [0.04       0.31203008 0.53690732 0.67107084 0.78273292 0.87867647\n",
      " 1.        ]\n",
      "Worst arms: [0.04       0.05555556 0.08695652 0.11111111 0.16666667 0.1875\n",
      " 0.1875     0.2        0.2        0.22222222 0.24242424 0.25\n",
      " 0.25       0.25287356 0.27272727 0.28571429 0.28571429 0.30263158\n",
      " 0.32142857 0.33823529 0.36397059 0.375      0.38095238 0.38461538\n",
      " 0.39130435 0.4        0.40625    0.41176471 0.41666667 0.42857143]\n",
      "Read model from ../data/cocos3_10k/kernel.pb\n",
      "Temp: tensor([1.6048, 1.1647, 0.8773, 1.1408, 0.6534, 0.6062])\n",
      "Read model from ../data/cocos3_10k/kernel_no_edge_potential.pb\n",
      "Temp: tensor([1.6343, 1.2952, 1.0454, 1.1590, 0.5719, 0.6520])\n",
      "Empirical accuracy: 0.7410\n"
     ]
    },
    {
     "name": "stdout",
     "output_type": "stream",
     "text": [
      "Num train, val: 118287 5000\n",
      "Found 21833 good ones in train\n",
      "Found 921 good ones in val\n",
      "Per scene label acc:\n",
      "[0.92647447 0.87443966 0.88832733 0.73323372 0.79304738]\n",
      "Found 242 unique arms and 94.02 average number of examples per arm\n",
      "Shape of p: (22754, 10), scene: (22754, 5, 2)\n",
      "Found 78/320 empty arms\n",
      "Found 320 unique arms and 66.42 average number of examples per arm\n",
      "Using seed: 0 for warm start\n"
     ]
    },
    {
     "name": "stderr",
     "output_type": "stream",
     "text": [
      "Using joint model.\n",
      "Computing per arm accuracy\n",
      "Found 144 unsupported arms of the total 320 arms\n",
      "Done\n",
      "Best, worst, mean accuracy: 1.0000, 0.0400 0.6387\n",
      "Acc quantiles: [0.04       0.31203008 0.53690732 0.67107084 0.78273292 0.87867647\n",
      " 1.        ]\n",
      "Worst arms: [0.04       0.05555556 0.08695652 0.11111111 0.16666667 0.1875\n",
      " 0.1875     0.2        0.2        0.22222222 0.24242424 0.25\n",
      " 0.25       0.25287356 0.27272727 0.28571429 0.28571429 0.30263158\n",
      " 0.32142857 0.33823529 0.36397059 0.375      0.38095238 0.38461538\n",
      " 0.39130435 0.4        0.40625    0.41176471 0.41666667 0.42857143]\n",
      "Read model from ../data/cocos3_10k/kernel.pb\n",
      "Temp: tensor([1.6048, 1.1647, 0.8773, 1.1408, 0.6534, 0.6062])\n",
      "Read model from ../data/cocos3_10k/kernel_no_edge_potential.pb\n",
      "Temp: tensor([1.6343, 1.2952, 1.0454, 1.1590, 0.5719, 0.6520])\n"
     ]
    },
    {
     "name": "stdout",
     "output_type": "stream",
     "text": [
      "Num untouched: 77/320\n",
      "Found 176 for acc sigma: 0.000000\n",
      "Found 46 for acc sigma: 0.300000\n",
      "Found 4 for acc sigma: 0.700000\n",
      "Brute force predictor perf.: 0.0817 0.0668 0.0134\n",
      "Num train, val: 118287 5000\n",
      "Found 21833 good ones in train\n",
      "Found 921 good ones in val\n"
     ]
    },
    {
     "name": "stderr",
     "output_type": "stream",
     "text": [
      "Empirical accuracy: 0.7470\n"
     ]
    },
    {
     "name": "stdout",
     "output_type": "stream",
     "text": [
      "Per scene label acc:\n",
      "[0.92647447 0.87443966 0.88832733 0.73323372 0.79304738]\n",
      "Found 242 unique arms and 94.02 average number of examples per arm\n",
      "Shape of p: (22754, 10), scene: (22754, 5, 2)\n",
      "Found 78/320 empty arms\n",
      "Found 320 unique arms and 66.42 average number of examples per arm\n",
      "Using seed: 1 for warm start\n"
     ]
    },
    {
     "name": "stderr",
     "output_type": "stream",
     "text": [
      "Using joint model.\n",
      "Computing per arm accuracy\n",
      "Found 144 unsupported arms of the total 320 arms\n",
      "Done\n",
      "Best, worst, mean accuracy: 1.0000, 0.0400 0.6387\n",
      "Acc quantiles: [0.04       0.31203008 0.53690732 0.67107084 0.78273292 0.87867647\n",
      " 1.        ]\n",
      "Worst arms: [0.04       0.05555556 0.08695652 0.11111111 0.16666667 0.1875\n",
      " 0.1875     0.2        0.2        0.22222222 0.24242424 0.25\n",
      " 0.25       0.25287356 0.27272727 0.28571429 0.28571429 0.30263158\n",
      " 0.32142857 0.33823529 0.36397059 0.375      0.38095238 0.38461538\n",
      " 0.39130435 0.4        0.40625    0.41176471 0.41666667 0.42857143]\n",
      "Read model from ../data/cocos3_10k/kernel.pb\n",
      "Temp: tensor([1.6048, 1.1647, 0.8773, 1.1408, 0.6534, 0.6062])\n",
      "Read model from ../data/cocos3_10k/kernel_no_edge_potential.pb\n",
      "Temp: tensor([1.6343, 1.2952, 1.0454, 1.1590, 0.5719, 0.6520])\n"
     ]
    },
    {
     "name": "stdout",
     "output_type": "stream",
     "text": [
      "Num untouched: 79/320\n",
      "Found 176 for acc sigma: 0.000000\n",
      "Found 52 for acc sigma: 0.300000\n",
      "Found 2 for acc sigma: 0.700000\n",
      "Brute force predictor perf.: 0.0804 0.0665 0.0062\n",
      "Num train, val: 118287 5000\n",
      "Found 21833 good ones in train\n",
      "Found 921 good ones in val\n"
     ]
    },
    {
     "name": "stderr",
     "output_type": "stream",
     "text": [
      "Empirical accuracy: 0.7330\n"
     ]
    },
    {
     "name": "stdout",
     "output_type": "stream",
     "text": [
      "Per scene label acc:\n",
      "[0.92647447 0.87443966 0.88832733 0.73323372 0.79304738]\n",
      "Found 242 unique arms and 94.02 average number of examples per arm\n",
      "Shape of p: (22754, 10), scene: (22754, 5, 2)\n",
      "Found 78/320 empty arms\n",
      "Found 320 unique arms and 66.42 average number of examples per arm\n",
      "Using seed: 2 for warm start\n"
     ]
    },
    {
     "name": "stderr",
     "output_type": "stream",
     "text": [
      "Using joint model.\n",
      "Computing per arm accuracy\n",
      "Found 144 unsupported arms of the total 320 arms\n",
      "Done\n",
      "Best, worst, mean accuracy: 1.0000, 0.0400 0.6387\n",
      "Acc quantiles: [0.04       0.31203008 0.53690732 0.67107084 0.78273292 0.87867647\n",
      " 1.        ]\n",
      "Worst arms: [0.04       0.05555556 0.08695652 0.11111111 0.16666667 0.1875\n",
      " 0.1875     0.2        0.2        0.22222222 0.24242424 0.25\n",
      " 0.25       0.25287356 0.27272727 0.28571429 0.28571429 0.30263158\n",
      " 0.32142857 0.33823529 0.36397059 0.375      0.38095238 0.38461538\n",
      " 0.39130435 0.4        0.40625    0.41176471 0.41666667 0.42857143]\n",
      "Read model from ../data/cocos3_10k/kernel.pb\n",
      "Temp: tensor([1.6048, 1.1647, 0.8773, 1.1408, 0.6534, 0.6062])\n",
      "Read model from ../data/cocos3_10k/kernel_no_edge_potential.pb\n",
      "Temp: tensor([1.6343, 1.2952, 1.0454, 1.1590, 0.5719, 0.6520])\n"
     ]
    },
    {
     "name": "stdout",
     "output_type": "stream",
     "text": [
      "Num untouched: 79/320\n",
      "Found 176 for acc sigma: 0.000000\n",
      "Found 51 for acc sigma: 0.300000\n",
      "Found 3 for acc sigma: 0.700000\n",
      "Brute force predictor perf.: 0.0876 0.0714 0.0097\n",
      "Num train, val: 118287 5000\n",
      "Found 21833 good ones in train\n",
      "Found 921 good ones in val\n"
     ]
    },
    {
     "name": "stderr",
     "output_type": "stream",
     "text": [
      "Empirical accuracy: 0.7410\n"
     ]
    },
    {
     "name": "stdout",
     "output_type": "stream",
     "text": [
      "Per scene label acc:\n",
      "[0.92647447 0.87443966 0.88832733 0.73323372 0.79304738]\n",
      "Found 242 unique arms and 94.02 average number of examples per arm\n",
      "Shape of p: (22754, 10), scene: (22754, 5, 2)\n",
      "Found 78/320 empty arms\n",
      "Found 320 unique arms and 66.42 average number of examples per arm\n",
      "Using seed: 0 for warm start\n",
      "Num untouched: 187/320\n",
      "Found 176 for acc sigma: 0.000000\n",
      "Found 41 for acc sigma: 0.300000\n",
      "Found 5 for acc sigma: 0.700000\n",
      "Brute force predictor perf.: 0.0761 0.0603 0.0176\n"
     ]
    },
    {
     "name": "stderr",
     "output_type": "stream",
     "text": [
      "Using joint model.\n",
      "Computing per arm accuracy\n",
      "Found 144 unsupported arms of the total 320 arms\n",
      "Done\n",
      "Best, worst, mean accuracy: 1.0000, 0.0400 0.6387\n",
      "Acc quantiles: [0.04       0.31203008 0.53690732 0.67107084 0.78273292 0.87867647\n",
      " 1.        ]\n",
      "Worst arms: [0.04       0.05555556 0.08695652 0.11111111 0.16666667 0.1875\n",
      " 0.1875     0.2        0.2        0.22222222 0.24242424 0.25\n",
      " 0.25       0.25287356 0.27272727 0.28571429 0.28571429 0.30263158\n",
      " 0.32142857 0.33823529 0.36397059 0.375      0.38095238 0.38461538\n",
      " 0.39130435 0.4        0.40625    0.41176471 0.41666667 0.42857143]\n",
      "Read model from ../data/cocos3_10k/kernel.pb\n",
      "Temp: tensor([1.6048, 1.1647, 0.8773, 1.1408, 0.6534, 0.6062])\n",
      "Read model from ../data/cocos3_10k/kernel_no_edge_potential.pb\n",
      "Temp: tensor([1.6343, 1.2952, 1.0454, 1.1590, 0.5719, 0.6520])\n",
      "Empirical accuracy: 0.7470\n"
     ]
    },
    {
     "name": "stdout",
     "output_type": "stream",
     "text": [
      "Num train, val: 118287 5000\n",
      "Found 21833 good ones in train\n",
      "Found 921 good ones in val\n",
      "Per scene label acc:\n",
      "[0.92647447 0.87443966 0.88832733 0.73323372 0.79304738]\n",
      "Found 242 unique arms and 94.02 average number of examples per arm\n",
      "Shape of p: (22754, 10), scene: (22754, 5, 2)\n",
      "Found 78/320 empty arms\n",
      "Found 320 unique arms and 66.42 average number of examples per arm\n",
      "Using seed: 1 for warm start\n"
     ]
    },
    {
     "name": "stderr",
     "output_type": "stream",
     "text": [
      "Using joint model.\n",
      "Computing per arm accuracy\n",
      "Found 144 unsupported arms of the total 320 arms\n",
      "Done\n",
      "Best, worst, mean accuracy: 1.0000, 0.0400 0.6387\n",
      "Acc quantiles: [0.04       0.31203008 0.53690732 0.67107084 0.78273292 0.87867647\n",
      " 1.        ]\n",
      "Worst arms: [0.04       0.05555556 0.08695652 0.11111111 0.16666667 0.1875\n",
      " 0.1875     0.2        0.2        0.22222222 0.24242424 0.25\n",
      " 0.25       0.25287356 0.27272727 0.28571429 0.28571429 0.30263158\n",
      " 0.32142857 0.33823529 0.36397059 0.375      0.38095238 0.38461538\n",
      " 0.39130435 0.4        0.40625    0.41176471 0.41666667 0.42857143]\n",
      "Read model from ../data/cocos3_10k/kernel.pb\n",
      "Temp: tensor([1.6048, 1.1647, 0.8773, 1.1408, 0.6534, 0.6062])\n",
      "Read model from ../data/cocos3_10k/kernel_no_edge_potential.pb\n",
      "Temp: tensor([1.6343, 1.2952, 1.0454, 1.1590, 0.5719, 0.6520])\n"
     ]
    },
    {
     "name": "stdout",
     "output_type": "stream",
     "text": [
      "Num untouched: 183/320\n",
      "Found 176 for acc sigma: 0.000000\n",
      "Found 51 for acc sigma: 0.300000\n",
      "Found 5 for acc sigma: 0.700000\n",
      "Brute force predictor perf.: 0.0866 0.0716 0.0172\n",
      "Num train, val: 118287 5000\n",
      "Found 21833 good ones in train\n",
      "Found 921 good ones in val\n"
     ]
    },
    {
     "name": "stderr",
     "output_type": "stream",
     "text": [
      "Empirical accuracy: 0.7330\n"
     ]
    },
    {
     "name": "stdout",
     "output_type": "stream",
     "text": [
      "Per scene label acc:\n",
      "[0.92647447 0.87443966 0.88832733 0.73323372 0.79304738]\n",
      "Found 242 unique arms and 94.02 average number of examples per arm\n",
      "Shape of p: (22754, 10), scene: (22754, 5, 2)\n",
      "Found 78/320 empty arms\n",
      "Found 320 unique arms and 66.42 average number of examples per arm\n",
      "Using seed: 2 for warm start\n"
     ]
    },
    {
     "name": "stderr",
     "output_type": "stream",
     "text": [
      "Using joint model.\n",
      "Computing per arm accuracy\n",
      "Found 144 unsupported arms of the total 320 arms\n",
      "Done\n",
      "Best, worst, mean accuracy: 1.0000, 0.0400 0.6387\n",
      "Acc quantiles: [0.04       0.31203008 0.53690732 0.67107084 0.78273292 0.87867647\n",
      " 1.        ]\n",
      "Worst arms: [0.04       0.05555556 0.08695652 0.11111111 0.16666667 0.1875\n",
      " 0.1875     0.2        0.2        0.22222222 0.24242424 0.25\n",
      " 0.25       0.25287356 0.27272727 0.28571429 0.28571429 0.30263158\n",
      " 0.32142857 0.33823529 0.36397059 0.375      0.38095238 0.38461538\n",
      " 0.39130435 0.4        0.40625    0.41176471 0.41666667 0.42857143]\n",
      "Read model from ../data/cocos3_10k/kernel.pb\n",
      "Temp: tensor([1.6048, 1.1647, 0.8773, 1.1408, 0.6534, 0.6062])\n",
      "Read model from ../data/cocos3_10k/kernel_no_edge_potential.pb\n",
      "Temp: tensor([1.6343, 1.2952, 1.0454, 1.1590, 0.5719, 0.6520])\n"
     ]
    },
    {
     "name": "stdout",
     "output_type": "stream",
     "text": [
      "Num untouched: 186/320\n",
      "Found 176 for acc sigma: 0.000000\n",
      "Found 52 for acc sigma: 0.300000\n",
      "Found 5 for acc sigma: 0.700000\n",
      "Brute force predictor perf.: 0.0928 0.0760 0.0177\n",
      "Num train, val: 118287 5000\n",
      "Found 21833 good ones in train\n",
      "Found 921 good ones in val\n"
     ]
    },
    {
     "name": "stderr",
     "output_type": "stream",
     "text": [
      "Empirical accuracy: 0.7410\n"
     ]
    },
    {
     "name": "stdout",
     "output_type": "stream",
     "text": [
      "Per scene label acc:\n",
      "[0.92647447 0.87443966 0.88832733 0.73323372 0.79304738]\n",
      "Found 242 unique arms and 94.02 average number of examples per arm\n",
      "Shape of p: (22754, 10), scene: (22754, 5, 2)\n",
      "Found 78/320 empty arms\n",
      "Found 320 unique arms and 66.42 average number of examples per arm\n",
      "Using seed: 0 for warm start\n",
      "Num untouched: 186/320\n",
      "Found 176 for acc sigma: 0.000000\n",
      "Found 38 for acc sigma: 0.300000\n",
      "Found 2 for acc sigma: 0.700000\n",
      "Brute force predictor perf.: 0.0669 0.0488 0.0070\n"
     ]
    },
    {
     "name": "stderr",
     "output_type": "stream",
     "text": [
      "Using joint model.\n",
      "Computing per arm accuracy\n",
      "Found 144 unsupported arms of the total 320 arms\n",
      "Done\n",
      "Best, worst, mean accuracy: 1.0000, 0.0400 0.6387\n",
      "Acc quantiles: [0.04       0.31203008 0.53690732 0.67107084 0.78273292 0.87867647\n",
      " 1.        ]\n",
      "Worst arms: [0.04       0.05555556 0.08695652 0.11111111 0.16666667 0.1875\n",
      " 0.1875     0.2        0.2        0.22222222 0.24242424 0.25\n",
      " 0.25       0.25287356 0.27272727 0.28571429 0.28571429 0.30263158\n",
      " 0.32142857 0.33823529 0.36397059 0.375      0.38095238 0.38461538\n",
      " 0.39130435 0.4        0.40625    0.41176471 0.41666667 0.42857143]\n",
      "Read model from ../data/cocos3_10k/kernel.pb\n",
      "Temp: tensor([1.6048, 1.1647, 0.8773, 1.1408, 0.6534, 0.6062])\n",
      "Read model from ../data/cocos3_10k/kernel_no_edge_potential.pb\n",
      "Temp: tensor([1.6343, 1.2952, 1.0454, 1.1590, 0.5719, 0.6520])\n",
      "Empirical accuracy: 0.7470\n"
     ]
    },
    {
     "name": "stdout",
     "output_type": "stream",
     "text": [
      "Num train, val: 118287 5000\n",
      "Found 21833 good ones in train\n",
      "Found 921 good ones in val\n",
      "Per scene label acc:\n",
      "[0.92647447 0.87443966 0.88832733 0.73323372 0.79304738]\n",
      "Found 242 unique arms and 94.02 average number of examples per arm\n",
      "Shape of p: (22754, 10), scene: (22754, 5, 2)\n",
      "Found 78/320 empty arms\n",
      "Found 320 unique arms and 66.42 average number of examples per arm\n",
      "Using seed: 1 for warm start\n"
     ]
    },
    {
     "name": "stderr",
     "output_type": "stream",
     "text": [
      "Using joint model.\n",
      "Computing per arm accuracy\n",
      "Found 144 unsupported arms of the total 320 arms\n",
      "Done\n",
      "Best, worst, mean accuracy: 1.0000, 0.0400 0.6387\n",
      "Acc quantiles: [0.04       0.31203008 0.53690732 0.67107084 0.78273292 0.87867647\n",
      " 1.        ]\n",
      "Worst arms: [0.04       0.05555556 0.08695652 0.11111111 0.16666667 0.1875\n",
      " 0.1875     0.2        0.2        0.22222222 0.24242424 0.25\n",
      " 0.25       0.25287356 0.27272727 0.28571429 0.28571429 0.30263158\n",
      " 0.32142857 0.33823529 0.36397059 0.375      0.38095238 0.38461538\n",
      " 0.39130435 0.4        0.40625    0.41176471 0.41666667 0.42857143]\n",
      "Read model from ../data/cocos3_10k/kernel.pb\n",
      "Temp: tensor([1.6048, 1.1647, 0.8773, 1.1408, 0.6534, 0.6062])\n",
      "Read model from ../data/cocos3_10k/kernel_no_edge_potential.pb\n",
      "Temp: tensor([1.6343, 1.2952, 1.0454, 1.1590, 0.5719, 0.6520])\n"
     ]
    },
    {
     "name": "stdout",
     "output_type": "stream",
     "text": [
      "Num untouched: 187/320\n",
      "Found 176 for acc sigma: 0.000000\n",
      "Found 45 for acc sigma: 0.300000\n",
      "Found 5 for acc sigma: 0.700000\n",
      "Brute force predictor perf.: 0.0800 0.0649 0.0167\n",
      "Num train, val: 118287 5000\n",
      "Found 21833 good ones in train\n",
      "Found 921 good ones in val\n"
     ]
    },
    {
     "name": "stderr",
     "output_type": "stream",
     "text": [
      "Empirical accuracy: 0.7330\n"
     ]
    },
    {
     "name": "stdout",
     "output_type": "stream",
     "text": [
      "Per scene label acc:\n",
      "[0.92647447 0.87443966 0.88832733 0.73323372 0.79304738]\n",
      "Found 242 unique arms and 94.02 average number of examples per arm\n",
      "Shape of p: (22754, 10), scene: (22754, 5, 2)\n",
      "Found 78/320 empty arms\n",
      "Found 320 unique arms and 66.42 average number of examples per arm\n",
      "Using seed: 2 for warm start\n"
     ]
    },
    {
     "name": "stderr",
     "output_type": "stream",
     "text": [
      "Using joint model.\n",
      "Computing per arm accuracy\n",
      "Found 144 unsupported arms of the total 320 arms\n",
      "Done\n",
      "Best, worst, mean accuracy: 1.0000, 0.0400 0.6387\n",
      "Acc quantiles: [0.04       0.31203008 0.53690732 0.67107084 0.78273292 0.87867647\n",
      " 1.        ]\n",
      "Worst arms: [0.04       0.05555556 0.08695652 0.11111111 0.16666667 0.1875\n",
      " 0.1875     0.2        0.2        0.22222222 0.24242424 0.25\n",
      " 0.25       0.25287356 0.27272727 0.28571429 0.28571429 0.30263158\n",
      " 0.32142857 0.33823529 0.36397059 0.375      0.38095238 0.38461538\n",
      " 0.39130435 0.4        0.40625    0.41176471 0.41666667 0.42857143]\n",
      "Read model from ../data/cocos3_10k/kernel.pb\n",
      "Temp: tensor([1.6048, 1.1647, 0.8773, 1.1408, 0.6534, 0.6062])\n",
      "Read model from ../data/cocos3_10k/kernel_no_edge_potential.pb\n",
      "Temp: tensor([1.6343, 1.2952, 1.0454, 1.1590, 0.5719, 0.6520])\n"
     ]
    },
    {
     "name": "stdout",
     "output_type": "stream",
     "text": [
      "Num untouched: 190/320\n",
      "Found 176 for acc sigma: 0.000000\n",
      "Found 39 for acc sigma: 0.300000\n",
      "Found 2 for acc sigma: 0.700000\n",
      "Brute force predictor perf.: 0.0705 0.0513 0.0069\n",
      "Num train, val: 118287 5000\n",
      "Found 21833 good ones in train\n",
      "Found 921 good ones in val\n"
     ]
    },
    {
     "name": "stderr",
     "output_type": "stream",
     "text": [
      "Empirical accuracy: 0.7410\n"
     ]
    },
    {
     "name": "stdout",
     "output_type": "stream",
     "text": [
      "Per scene label acc:\n",
      "[0.92647447 0.87443966 0.88832733 0.73323372 0.79304738]\n",
      "Found 242 unique arms and 94.02 average number of examples per arm\n",
      "Shape of p: (22754, 10), scene: (22754, 5, 2)\n",
      "Found 78/320 empty arms\n",
      "Found 320 unique arms and 66.42 average number of examples per arm\n",
      "Using seed: 0 for warm start\n"
     ]
    },
    {
     "name": "stderr",
     "output_type": "stream",
     "text": [
      "Using joint model.\n",
      "Computing per arm accuracy\n",
      "Found 144 unsupported arms of the total 320 arms\n",
      "Done\n",
      "Best, worst, mean accuracy: 1.0000, 0.0400 0.6387\n",
      "Acc quantiles: [0.04       0.31203008 0.53690732 0.67107084 0.78273292 0.87867647\n",
      " 1.        ]\n",
      "Worst arms: [0.04       0.05555556 0.08695652 0.11111111 0.16666667 0.1875\n",
      " 0.1875     0.2        0.2        0.22222222 0.24242424 0.25\n",
      " 0.25       0.25287356 0.27272727 0.28571429 0.28571429 0.30263158\n",
      " 0.32142857 0.33823529 0.36397059 0.375      0.38095238 0.38461538\n",
      " 0.39130435 0.4        0.40625    0.41176471 0.41666667 0.42857143]\n",
      "Read model from ../data/cocos3_10k/kernel.pb\n",
      "Temp: tensor([1.6048, 1.1647, 0.8773, 1.1408, 0.6534, 0.6062])\n",
      "Read model from ../data/cocos3_10k/kernel_no_edge_potential.pb\n",
      "Temp: tensor([1.6343, 1.2952, 1.0454, 1.1590, 0.5719, 0.6520])\n"
     ]
    },
    {
     "name": "stdout",
     "output_type": "stream",
     "text": [
      "Num untouched: 166/320\n",
      "Found 176 for acc sigma: 0.000000\n",
      "Found 37 for acc sigma: 0.300000\n",
      "Found 1 for acc sigma: 0.700000\n",
      "Brute force predictor perf.: 0.0582 0.0421 0.0033\n",
      "Num train, val: 118287 5000\n",
      "Found 21833 good ones in train\n",
      "Found 921 good ones in val\n"
     ]
    },
    {
     "name": "stderr",
     "output_type": "stream",
     "text": [
      "Empirical accuracy: 0.7427\n"
     ]
    },
    {
     "name": "stdout",
     "output_type": "stream",
     "text": [
      "Per scene label acc:\n",
      "[0.92647447 0.87443966 0.88832733 0.73323372 0.79304738]\n",
      "Found 242 unique arms and 94.02 average number of examples per arm\n",
      "Shape of p: (22754, 10), scene: (22754, 5, 2)\n",
      "Found 78/320 empty arms\n",
      "Found 320 unique arms and 66.42 average number of examples per arm\n",
      "Using seed: 1 for warm start\n"
     ]
    },
    {
     "name": "stderr",
     "output_type": "stream",
     "text": [
      "Using joint model.\n",
      "Computing per arm accuracy\n",
      "Found 144 unsupported arms of the total 320 arms\n",
      "Done\n",
      "Best, worst, mean accuracy: 1.0000, 0.0400 0.6387\n",
      "Acc quantiles: [0.04       0.31203008 0.53690732 0.67107084 0.78273292 0.87867647\n",
      " 1.        ]\n",
      "Worst arms: [0.04       0.05555556 0.08695652 0.11111111 0.16666667 0.1875\n",
      " 0.1875     0.2        0.2        0.22222222 0.24242424 0.25\n",
      " 0.25       0.25287356 0.27272727 0.28571429 0.28571429 0.30263158\n",
      " 0.32142857 0.33823529 0.36397059 0.375      0.38095238 0.38461538\n",
      " 0.39130435 0.4        0.40625    0.41176471 0.41666667 0.42857143]\n",
      "Read model from ../data/cocos3_10k/kernel.pb\n",
      "Temp: tensor([1.6048, 1.1647, 0.8773, 1.1408, 0.6534, 0.6062])\n",
      "Read model from ../data/cocos3_10k/kernel_no_edge_potential.pb\n",
      "Temp: tensor([1.6343, 1.2952, 1.0454, 1.1590, 0.5719, 0.6520])\n"
     ]
    },
    {
     "name": "stdout",
     "output_type": "stream",
     "text": [
      "Num untouched: 163/320\n",
      "Found 176 for acc sigma: 0.000000\n",
      "Found 40 for acc sigma: 0.300000\n",
      "Found 3 for acc sigma: 0.700000\n",
      "Brute force predictor perf.: 0.0678 0.0504 0.0097\n",
      "Num train, val: 118287 5000\n",
      "Found 21833 good ones in train\n",
      "Found 921 good ones in val\n"
     ]
    },
    {
     "name": "stderr",
     "output_type": "stream",
     "text": [
      "Empirical accuracy: 0.7333\n"
     ]
    },
    {
     "name": "stdout",
     "output_type": "stream",
     "text": [
      "Per scene label acc:\n",
      "[0.92647447 0.87443966 0.88832733 0.73323372 0.79304738]\n",
      "Found 242 unique arms and 94.02 average number of examples per arm\n",
      "Shape of p: (22754, 10), scene: (22754, 5, 2)\n",
      "Found 78/320 empty arms\n",
      "Found 320 unique arms and 66.42 average number of examples per arm\n",
      "Using seed: 2 for warm start\n"
     ]
    },
    {
     "name": "stderr",
     "output_type": "stream",
     "text": [
      "Using joint model.\n",
      "Computing per arm accuracy\n",
      "Found 144 unsupported arms of the total 320 arms\n",
      "Done\n",
      "Best, worst, mean accuracy: 1.0000, 0.0400 0.6387\n",
      "Acc quantiles: [0.04       0.31203008 0.53690732 0.67107084 0.78273292 0.87867647\n",
      " 1.        ]\n",
      "Worst arms: [0.04       0.05555556 0.08695652 0.11111111 0.16666667 0.1875\n",
      " 0.1875     0.2        0.2        0.22222222 0.24242424 0.25\n",
      " 0.25       0.25287356 0.27272727 0.28571429 0.28571429 0.30263158\n",
      " 0.32142857 0.33823529 0.36397059 0.375      0.38095238 0.38461538\n",
      " 0.39130435 0.4        0.40625    0.41176471 0.41666667 0.42857143]\n",
      "Read model from ../data/cocos3_10k/kernel.pb\n",
      "Temp: tensor([1.6048, 1.1647, 0.8773, 1.1408, 0.6534, 0.6062])\n",
      "Read model from ../data/cocos3_10k/kernel_no_edge_potential.pb\n",
      "Temp: tensor([1.6343, 1.2952, 1.0454, 1.1590, 0.5719, 0.6520])\n"
     ]
    },
    {
     "name": "stdout",
     "output_type": "stream",
     "text": [
      "Num untouched: 163/320\n",
      "Found 176 for acc sigma: 0.000000\n",
      "Found 40 for acc sigma: 0.300000\n",
      "Found 1 for acc sigma: 0.700000\n",
      "Brute force predictor perf.: 0.0653 0.0466 0.0032\n",
      "Num train, val: 118287 5000\n",
      "Found 21833 good ones in train\n",
      "Found 921 good ones in val\n"
     ]
    },
    {
     "name": "stderr",
     "output_type": "stream",
     "text": [
      "Empirical accuracy: 0.7387\n"
     ]
    },
    {
     "name": "stdout",
     "output_type": "stream",
     "text": [
      "Per scene label acc:\n",
      "[0.92647447 0.87443966 0.88832733 0.73323372 0.79304738]\n",
      "Found 242 unique arms and 94.02 average number of examples per arm\n",
      "Shape of p: (22754, 10), scene: (22754, 5, 2)\n",
      "Found 78/320 empty arms\n",
      "Found 320 unique arms and 66.42 average number of examples per arm\n",
      "Using seed: 0 for warm start\n"
     ]
    },
    {
     "name": "stderr",
     "output_type": "stream",
     "text": [
      "Using joint model.\n",
      "Computing per arm accuracy\n",
      "Found 144 unsupported arms of the total 320 arms\n",
      "Done\n",
      "Best, worst, mean accuracy: 1.0000, 0.0400 0.6387\n",
      "Acc quantiles: [0.04       0.31203008 0.53690732 0.67107084 0.78273292 0.87867647\n",
      " 1.        ]\n",
      "Worst arms: [0.04       0.05555556 0.08695652 0.11111111 0.16666667 0.1875\n",
      " 0.1875     0.2        0.2        0.22222222 0.24242424 0.25\n",
      " 0.25       0.25287356 0.27272727 0.28571429 0.28571429 0.30263158\n",
      " 0.32142857 0.33823529 0.36397059 0.375      0.38095238 0.38461538\n",
      " 0.39130435 0.4        0.40625    0.41176471 0.41666667 0.42857143]\n",
      "Read model from ../data/cocos3_10k/kernel.pb\n",
      "Temp: tensor([1.6048, 1.1647, 0.8773, 1.1408, 0.6534, 0.6062])\n",
      "Read model from ../data/cocos3_10k/kernel_no_edge_potential.pb\n",
      "Temp: tensor([1.6343, 1.2952, 1.0454, 1.1590, 0.5719, 0.6520])\n"
     ]
    },
    {
     "name": "stdout",
     "output_type": "stream",
     "text": [
      "Num untouched: 55/320\n",
      "Found 176 for acc sigma: 0.000000\n",
      "Found 38 for acc sigma: 0.300000\n",
      "Found 1 for acc sigma: 0.700000\n",
      "Brute force predictor perf.: 0.0732 0.0545 0.0034\n",
      "Num train, val: 118287 5000\n",
      "Found 21833 good ones in train\n",
      "Found 921 good ones in val\n"
     ]
    },
    {
     "name": "stderr",
     "output_type": "stream",
     "text": [
      "Empirical accuracy: 0.7427\n"
     ]
    },
    {
     "name": "stdout",
     "output_type": "stream",
     "text": [
      "Per scene label acc:\n",
      "[0.92647447 0.87443966 0.88832733 0.73323372 0.79304738]\n",
      "Found 242 unique arms and 94.02 average number of examples per arm\n",
      "Shape of p: (22754, 10), scene: (22754, 5, 2)\n",
      "Found 78/320 empty arms\n",
      "Found 320 unique arms and 66.42 average number of examples per arm\n",
      "Using seed: 1 for warm start\n"
     ]
    },
    {
     "name": "stderr",
     "output_type": "stream",
     "text": [
      "Using joint model.\n",
      "Computing per arm accuracy\n",
      "Found 144 unsupported arms of the total 320 arms\n",
      "Done\n",
      "Best, worst, mean accuracy: 1.0000, 0.0400 0.6387\n",
      "Acc quantiles: [0.04       0.31203008 0.53690732 0.67107084 0.78273292 0.87867647\n",
      " 1.        ]\n",
      "Worst arms: [0.04       0.05555556 0.08695652 0.11111111 0.16666667 0.1875\n",
      " 0.1875     0.2        0.2        0.22222222 0.24242424 0.25\n",
      " 0.25       0.25287356 0.27272727 0.28571429 0.28571429 0.30263158\n",
      " 0.32142857 0.33823529 0.36397059 0.375      0.38095238 0.38461538\n",
      " 0.39130435 0.4        0.40625    0.41176471 0.41666667 0.42857143]\n",
      "Read model from ../data/cocos3_10k/kernel.pb\n",
      "Temp: tensor([1.6048, 1.1647, 0.8773, 1.1408, 0.6534, 0.6062])\n",
      "Read model from ../data/cocos3_10k/kernel_no_edge_potential.pb\n",
      "Temp: tensor([1.6343, 1.2952, 1.0454, 1.1590, 0.5719, 0.6520])\n"
     ]
    },
    {
     "name": "stdout",
     "output_type": "stream",
     "text": [
      "Num untouched: 56/320\n",
      "Found 176 for acc sigma: 0.000000\n",
      "Found 40 for acc sigma: 0.300000\n",
      "Found 0 for acc sigma: 0.700000\n",
      "Brute force predictor perf.: 0.0710 0.0524 0.0000\n",
      "Num train, val: 118287 5000\n",
      "Found 21833 good ones in train\n",
      "Found 921 good ones in val\n"
     ]
    },
    {
     "name": "stderr",
     "output_type": "stream",
     "text": [
      "Empirical accuracy: 0.7333\n"
     ]
    },
    {
     "name": "stdout",
     "output_type": "stream",
     "text": [
      "Per scene label acc:\n",
      "[0.92647447 0.87443966 0.88832733 0.73323372 0.79304738]\n",
      "Found 242 unique arms and 94.02 average number of examples per arm\n",
      "Shape of p: (22754, 10), scene: (22754, 5, 2)\n",
      "Found 78/320 empty arms\n",
      "Found 320 unique arms and 66.42 average number of examples per arm\n",
      "Using seed: 2 for warm start\n"
     ]
    },
    {
     "name": "stderr",
     "output_type": "stream",
     "text": [
      "Using joint model.\n",
      "Computing per arm accuracy\n",
      "Found 144 unsupported arms of the total 320 arms\n",
      "Done\n",
      "Best, worst, mean accuracy: 1.0000, 0.0400 0.6387\n",
      "Acc quantiles: [0.04       0.31203008 0.53690732 0.67107084 0.78273292 0.87867647\n",
      " 1.        ]\n",
      "Worst arms: [0.04       0.05555556 0.08695652 0.11111111 0.16666667 0.1875\n",
      " 0.1875     0.2        0.2        0.22222222 0.24242424 0.25\n",
      " 0.25       0.25287356 0.27272727 0.28571429 0.28571429 0.30263158\n",
      " 0.32142857 0.33823529 0.36397059 0.375      0.38095238 0.38461538\n",
      " 0.39130435 0.4        0.40625    0.41176471 0.41666667 0.42857143]\n",
      "Read model from ../data/cocos3_10k/kernel.pb\n",
      "Temp: tensor([1.6048, 1.1647, 0.8773, 1.1408, 0.6534, 0.6062])\n",
      "Read model from ../data/cocos3_10k/kernel_no_edge_potential.pb\n",
      "Temp: tensor([1.6343, 1.2952, 1.0454, 1.1590, 0.5719, 0.6520])\n"
     ]
    },
    {
     "name": "stdout",
     "output_type": "stream",
     "text": [
      "Num untouched: 56/320\n",
      "Found 176 for acc sigma: 0.000000\n",
      "Found 42 for acc sigma: 0.300000\n",
      "Found 0 for acc sigma: 0.700000\n",
      "Brute force predictor perf.: 0.0768 0.0573 0.0000\n",
      "Num train, val: 118287 5000\n",
      "Found 21833 good ones in train\n",
      "Found 921 good ones in val\n"
     ]
    },
    {
     "name": "stderr",
     "output_type": "stream",
     "text": [
      "Empirical accuracy: 0.7387\n"
     ]
    },
    {
     "name": "stdout",
     "output_type": "stream",
     "text": [
      "Per scene label acc:\n",
      "[0.92647447 0.87443966 0.88832733 0.73323372 0.79304738]\n",
      "Found 242 unique arms and 94.02 average number of examples per arm\n",
      "Shape of p: (22754, 10), scene: (22754, 5, 2)\n",
      "Found 78/320 empty arms\n",
      "Found 320 unique arms and 66.42 average number of examples per arm\n",
      "Using seed: 0 for warm start\n"
     ]
    },
    {
     "name": "stderr",
     "output_type": "stream",
     "text": [
      "Using joint model.\n",
      "Computing per arm accuracy\n",
      "Found 144 unsupported arms of the total 320 arms\n",
      "Done\n",
      "Best, worst, mean accuracy: 1.0000, 0.0400 0.6387\n",
      "Acc quantiles: [0.04       0.31203008 0.53690732 0.67107084 0.78273292 0.87867647\n",
      " 1.        ]\n",
      "Worst arms: [0.04       0.05555556 0.08695652 0.11111111 0.16666667 0.1875\n",
      " 0.1875     0.2        0.2        0.22222222 0.24242424 0.25\n",
      " 0.25       0.25287356 0.27272727 0.28571429 0.28571429 0.30263158\n",
      " 0.32142857 0.33823529 0.36397059 0.375      0.38095238 0.38461538\n",
      " 0.39130435 0.4        0.40625    0.41176471 0.41666667 0.42857143]\n",
      "Read model from ../data/cocos3_10k/kernel.pb\n",
      "Temp: tensor([1.6048, 1.1647, 0.8773, 1.1408, 0.6534, 0.6062])\n",
      "Read model from ../data/cocos3_10k/kernel_no_edge_potential.pb\n",
      "Temp: tensor([1.6343, 1.2952, 1.0454, 1.1590, 0.5719, 0.6520])\n"
     ]
    },
    {
     "name": "stdout",
     "output_type": "stream",
     "text": [
      "Num untouched: 174/320\n",
      "Found 176 for acc sigma: 0.000000\n",
      "Found 47 for acc sigma: 0.300000\n",
      "Found 6 for acc sigma: 0.700000\n",
      "Brute force predictor perf.: 0.0801 0.0662 0.0200\n",
      "Num train, val: 118287 5000\n",
      "Found 21833 good ones in train\n",
      "Found 921 good ones in val\n"
     ]
    },
    {
     "name": "stderr",
     "output_type": "stream",
     "text": [
      "Empirical accuracy: 0.7427\n"
     ]
    },
    {
     "name": "stdout",
     "output_type": "stream",
     "text": [
      "Per scene label acc:\n",
      "[0.92647447 0.87443966 0.88832733 0.73323372 0.79304738]\n",
      "Found 242 unique arms and 94.02 average number of examples per arm\n",
      "Shape of p: (22754, 10), scene: (22754, 5, 2)\n",
      "Found 78/320 empty arms\n",
      "Found 320 unique arms and 66.42 average number of examples per arm\n",
      "Using seed: 1 for warm start\n"
     ]
    },
    {
     "name": "stderr",
     "output_type": "stream",
     "text": [
      "Using joint model.\n",
      "Computing per arm accuracy\n",
      "Found 144 unsupported arms of the total 320 arms\n",
      "Done\n",
      "Best, worst, mean accuracy: 1.0000, 0.0400 0.6387\n",
      "Acc quantiles: [0.04       0.31203008 0.53690732 0.67107084 0.78273292 0.87867647\n",
      " 1.        ]\n",
      "Worst arms: [0.04       0.05555556 0.08695652 0.11111111 0.16666667 0.1875\n",
      " 0.1875     0.2        0.2        0.22222222 0.24242424 0.25\n",
      " 0.25       0.25287356 0.27272727 0.28571429 0.28571429 0.30263158\n",
      " 0.32142857 0.33823529 0.36397059 0.375      0.38095238 0.38461538\n",
      " 0.39130435 0.4        0.40625    0.41176471 0.41666667 0.42857143]\n",
      "Read model from ../data/cocos3_10k/kernel.pb\n",
      "Temp: tensor([1.6048, 1.1647, 0.8773, 1.1408, 0.6534, 0.6062])\n",
      "Read model from ../data/cocos3_10k/kernel_no_edge_potential.pb\n",
      "Temp: tensor([1.6343, 1.2952, 1.0454, 1.1590, 0.5719, 0.6520])\n"
     ]
    },
    {
     "name": "stdout",
     "output_type": "stream",
     "text": [
      "Num untouched: 172/320\n",
      "Found 176 for acc sigma: 0.000000\n",
      "Found 52 for acc sigma: 0.300000\n",
      "Found 7 for acc sigma: 0.700000\n",
      "Brute force predictor perf.: 0.0886 0.0738 0.0230\n",
      "Num train, val: 118287 5000\n",
      "Found 21833 good ones in train\n",
      "Found 921 good ones in val\n"
     ]
    },
    {
     "name": "stderr",
     "output_type": "stream",
     "text": [
      "Empirical accuracy: 0.7333\n"
     ]
    },
    {
     "name": "stdout",
     "output_type": "stream",
     "text": [
      "Per scene label acc:\n",
      "[0.92647447 0.87443966 0.88832733 0.73323372 0.79304738]\n",
      "Found 242 unique arms and 94.02 average number of examples per arm\n",
      "Shape of p: (22754, 10), scene: (22754, 5, 2)\n",
      "Found 78/320 empty arms\n",
      "Found 320 unique arms and 66.42 average number of examples per arm\n",
      "Using seed: 2 for warm start\n"
     ]
    },
    {
     "name": "stderr",
     "output_type": "stream",
     "text": [
      "Using joint model.\n",
      "Computing per arm accuracy\n",
      "Found 144 unsupported arms of the total 320 arms\n",
      "Done\n",
      "Best, worst, mean accuracy: 1.0000, 0.0400 0.6387\n",
      "Acc quantiles: [0.04       0.31203008 0.53690732 0.67107084 0.78273292 0.87867647\n",
      " 1.        ]\n",
      "Worst arms: [0.04       0.05555556 0.08695652 0.11111111 0.16666667 0.1875\n",
      " 0.1875     0.2        0.2        0.22222222 0.24242424 0.25\n",
      " 0.25       0.25287356 0.27272727 0.28571429 0.28571429 0.30263158\n",
      " 0.32142857 0.33823529 0.36397059 0.375      0.38095238 0.38461538\n",
      " 0.39130435 0.4        0.40625    0.41176471 0.41666667 0.42857143]\n",
      "Read model from ../data/cocos3_10k/kernel.pb\n",
      "Temp: tensor([1.6048, 1.1647, 0.8773, 1.1408, 0.6534, 0.6062])\n",
      "Read model from ../data/cocos3_10k/kernel_no_edge_potential.pb\n",
      "Temp: tensor([1.6343, 1.2952, 1.0454, 1.1590, 0.5719, 0.6520])\n"
     ]
    },
    {
     "name": "stdout",
     "output_type": "stream",
     "text": [
      "Num untouched: 176/320\n",
      "Found 176 for acc sigma: 0.000000\n",
      "Found 49 for acc sigma: 0.300000\n",
      "Found 5 for acc sigma: 0.700000\n",
      "Brute force predictor perf.: 0.0851 0.0680 0.0163\n",
      "Num train, val: 118287 5000\n",
      "Found 21833 good ones in train\n",
      "Found 921 good ones in val\n"
     ]
    },
    {
     "name": "stderr",
     "output_type": "stream",
     "text": [
      "Empirical accuracy: 0.7387\n"
     ]
    },
    {
     "name": "stdout",
     "output_type": "stream",
     "text": [
      "Per scene label acc:\n",
      "[0.92647447 0.87443966 0.88832733 0.73323372 0.79304738]\n",
      "Found 242 unique arms and 94.02 average number of examples per arm\n",
      "Shape of p: (22754, 10), scene: (22754, 5, 2)\n",
      "Found 78/320 empty arms\n",
      "Found 320 unique arms and 66.42 average number of examples per arm\n",
      "Using seed: 0 for warm start\n"
     ]
    },
    {
     "name": "stderr",
     "output_type": "stream",
     "text": [
      "Using joint model.\n",
      "Computing per arm accuracy\n",
      "Found 144 unsupported arms of the total 320 arms\n",
      "Done\n",
      "Best, worst, mean accuracy: 1.0000, 0.0400 0.6387\n",
      "Acc quantiles: [0.04       0.31203008 0.53690732 0.67107084 0.78273292 0.87867647\n",
      " 1.        ]\n",
      "Worst arms: [0.04       0.05555556 0.08695652 0.11111111 0.16666667 0.1875\n",
      " 0.1875     0.2        0.2        0.22222222 0.24242424 0.25\n",
      " 0.25       0.25287356 0.27272727 0.28571429 0.28571429 0.30263158\n",
      " 0.32142857 0.33823529 0.36397059 0.375      0.38095238 0.38461538\n",
      " 0.39130435 0.4        0.40625    0.41176471 0.41666667 0.42857143]\n",
      "Read model from ../data/cocos3_10k/kernel.pb\n",
      "Temp: tensor([1.6048, 1.1647, 0.8773, 1.1408, 0.6534, 0.6062])\n",
      "Read model from ../data/cocos3_10k/kernel_no_edge_potential.pb\n",
      "Temp: tensor([1.6343, 1.2952, 1.0454, 1.1590, 0.5719, 0.6520])\n"
     ]
    },
    {
     "name": "stdout",
     "output_type": "stream",
     "text": [
      "Num untouched: 167/320\n",
      "Found 176 for acc sigma: 0.000000\n",
      "Found 32 for acc sigma: 0.300000\n",
      "Found 3 for acc sigma: 0.700000\n",
      "Brute force predictor perf.: 0.0585 0.0421 0.0095\n",
      "Num train, val: 118287 5000\n",
      "Found 21833 good ones in train\n",
      "Found 921 good ones in val\n"
     ]
    },
    {
     "name": "stderr",
     "output_type": "stream",
     "text": [
      "Empirical accuracy: 0.7427\n"
     ]
    },
    {
     "name": "stdout",
     "output_type": "stream",
     "text": [
      "Per scene label acc:\n",
      "[0.92647447 0.87443966 0.88832733 0.73323372 0.79304738]\n",
      "Found 242 unique arms and 94.02 average number of examples per arm\n",
      "Shape of p: (22754, 10), scene: (22754, 5, 2)\n",
      "Found 78/320 empty arms\n",
      "Found 320 unique arms and 66.42 average number of examples per arm\n",
      "Using seed: 1 for warm start\n"
     ]
    },
    {
     "name": "stderr",
     "output_type": "stream",
     "text": [
      "Using joint model.\n",
      "Computing per arm accuracy\n",
      "Found 144 unsupported arms of the total 320 arms\n",
      "Done\n",
      "Best, worst, mean accuracy: 1.0000, 0.0400 0.6387\n",
      "Acc quantiles: [0.04       0.31203008 0.53690732 0.67107084 0.78273292 0.87867647\n",
      " 1.        ]\n",
      "Worst arms: [0.04       0.05555556 0.08695652 0.11111111 0.16666667 0.1875\n",
      " 0.1875     0.2        0.2        0.22222222 0.24242424 0.25\n",
      " 0.25       0.25287356 0.27272727 0.28571429 0.28571429 0.30263158\n",
      " 0.32142857 0.33823529 0.36397059 0.375      0.38095238 0.38461538\n",
      " 0.39130435 0.4        0.40625    0.41176471 0.41666667 0.42857143]\n",
      "Read model from ../data/cocos3_10k/kernel.pb\n",
      "Temp: tensor([1.6048, 1.1647, 0.8773, 1.1408, 0.6534, 0.6062])\n",
      "Read model from ../data/cocos3_10k/kernel_no_edge_potential.pb\n",
      "Temp: tensor([1.6343, 1.2952, 1.0454, 1.1590, 0.5719, 0.6520])\n"
     ]
    },
    {
     "name": "stdout",
     "output_type": "stream",
     "text": [
      "Num untouched: 167/320\n",
      "Found 176 for acc sigma: 0.000000\n",
      "Found 38 for acc sigma: 0.300000\n",
      "Found 5 for acc sigma: 0.700000\n",
      "Brute force predictor perf.: 0.0693 0.0538 0.0164\n",
      "Num train, val: 118287 5000\n",
      "Found 21833 good ones in train\n",
      "Found 921 good ones in val\n"
     ]
    },
    {
     "name": "stderr",
     "output_type": "stream",
     "text": [
      "Empirical accuracy: 0.7333\n"
     ]
    },
    {
     "name": "stdout",
     "output_type": "stream",
     "text": [
      "Per scene label acc:\n",
      "[0.92647447 0.87443966 0.88832733 0.73323372 0.79304738]\n",
      "Found 242 unique arms and 94.02 average number of examples per arm\n",
      "Shape of p: (22754, 10), scene: (22754, 5, 2)\n",
      "Found 78/320 empty arms\n",
      "Found 320 unique arms and 66.42 average number of examples per arm\n",
      "Using seed: 2 for warm start\n"
     ]
    },
    {
     "name": "stderr",
     "output_type": "stream",
     "text": [
      "Using joint model.\n",
      "Computing per arm accuracy\n",
      "Found 144 unsupported arms of the total 320 arms\n",
      "Done\n",
      "Best, worst, mean accuracy: 1.0000, 0.0400 0.6387\n",
      "Acc quantiles: [0.04       0.31203008 0.53690732 0.67107084 0.78273292 0.87867647\n",
      " 1.        ]\n",
      "Worst arms: [0.04       0.05555556 0.08695652 0.11111111 0.16666667 0.1875\n",
      " 0.1875     0.2        0.2        0.22222222 0.24242424 0.25\n",
      " 0.25       0.25287356 0.27272727 0.28571429 0.28571429 0.30263158\n",
      " 0.32142857 0.33823529 0.36397059 0.375      0.38095238 0.38461538\n",
      " 0.39130435 0.4        0.40625    0.41176471 0.41666667 0.42857143]\n",
      "Read model from ../data/cocos3_10k/kernel.pb\n",
      "Temp: tensor([1.6048, 1.1647, 0.8773, 1.1408, 0.6534, 0.6062])\n",
      "Read model from ../data/cocos3_10k/kernel_no_edge_potential.pb\n",
      "Temp: tensor([1.6343, 1.2952, 1.0454, 1.1590, 0.5719, 0.6520])\n"
     ]
    },
    {
     "name": "stdout",
     "output_type": "stream",
     "text": [
      "Num untouched: 167/320\n",
      "Found 176 for acc sigma: 0.000000\n",
      "Found 34 for acc sigma: 0.300000\n",
      "Found 2 for acc sigma: 0.700000\n",
      "Brute force predictor perf.: 0.0572 0.0419 0.0063\n",
      "Num train, val: 118287 5000\n",
      "Found 21833 good ones in train\n",
      "Found 921 good ones in val\n"
     ]
    },
    {
     "name": "stderr",
     "output_type": "stream",
     "text": [
      "Empirical accuracy: 0.7387\n"
     ]
    },
    {
     "name": "stdout",
     "output_type": "stream",
     "text": [
      "Per scene label acc:\n",
      "[0.92647447 0.87443966 0.88832733 0.73323372 0.79304738]\n",
      "Found 242 unique arms and 94.02 average number of examples per arm\n",
      "Shape of p: (22754, 10), scene: (22754, 5, 2)\n",
      "Found 78/320 empty arms\n",
      "Found 320 unique arms and 66.42 average number of examples per arm\n",
      "Using seed: 0 for warm start\n"
     ]
    },
    {
     "name": "stderr",
     "output_type": "stream",
     "text": [
      "Using joint model.\n",
      "Computing per arm accuracy\n",
      "Found 144 unsupported arms of the total 320 arms\n",
      "Done\n",
      "Best, worst, mean accuracy: 1.0000, 0.0400 0.6387\n",
      "Acc quantiles: [0.04       0.31203008 0.53690732 0.67107084 0.78273292 0.87867647\n",
      " 1.        ]\n",
      "Worst arms: [0.04       0.05555556 0.08695652 0.11111111 0.16666667 0.1875\n",
      " 0.1875     0.2        0.2        0.22222222 0.24242424 0.25\n",
      " 0.25       0.25287356 0.27272727 0.28571429 0.28571429 0.30263158\n",
      " 0.32142857 0.33823529 0.36397059 0.375      0.38095238 0.38461538\n",
      " 0.39130435 0.4        0.40625    0.41176471 0.41666667 0.42857143]\n",
      "Read model from ../data/cocos3_10k/kernel.pb\n",
      "Temp: tensor([1.6048, 1.1647, 0.8773, 1.1408, 0.6534, 0.6062])\n",
      "Read model from ../data/cocos3_10k/kernel_no_edge_potential.pb\n",
      "Temp: tensor([1.6343, 1.2952, 1.0454, 1.1590, 0.5719, 0.6520])\n"
     ]
    },
    {
     "name": "stdout",
     "output_type": "stream",
     "text": [
      "Num untouched: 160/320\n",
      "Found 176 for acc sigma: 0.000000\n",
      "Found 40 for acc sigma: 0.300000\n",
      "Found 2 for acc sigma: 0.700000\n",
      "Brute force predictor perf.: 0.0628 0.0473 0.0072\n",
      "Num train, val: 118287 5000\n",
      "Found 21833 good ones in train\n",
      "Found 921 good ones in val\n"
     ]
    },
    {
     "name": "stderr",
     "output_type": "stream",
     "text": [
      "Empirical accuracy: 0.7330\n"
     ]
    },
    {
     "name": "stdout",
     "output_type": "stream",
     "text": [
      "Per scene label acc:\n",
      "[0.92647447 0.87443966 0.88832733 0.73323372 0.79304738]\n",
      "Found 242 unique arms and 94.02 average number of examples per arm\n",
      "Shape of p: (22754, 10), scene: (22754, 5, 2)\n",
      "Found 78/320 empty arms\n",
      "Found 320 unique arms and 66.42 average number of examples per arm\n",
      "Using seed: 1 for warm start\n"
     ]
    },
    {
     "name": "stderr",
     "output_type": "stream",
     "text": [
      "Using joint model.\n",
      "Computing per arm accuracy\n",
      "Found 144 unsupported arms of the total 320 arms\n",
      "Done\n",
      "Best, worst, mean accuracy: 1.0000, 0.0400 0.6387\n",
      "Acc quantiles: [0.04       0.31203008 0.53690732 0.67107084 0.78273292 0.87867647\n",
      " 1.        ]\n",
      "Worst arms: [0.04       0.05555556 0.08695652 0.11111111 0.16666667 0.1875\n",
      " 0.1875     0.2        0.2        0.22222222 0.24242424 0.25\n",
      " 0.25       0.25287356 0.27272727 0.28571429 0.28571429 0.30263158\n",
      " 0.32142857 0.33823529 0.36397059 0.375      0.38095238 0.38461538\n",
      " 0.39130435 0.4        0.40625    0.41176471 0.41666667 0.42857143]\n",
      "Read model from ../data/cocos3_10k/kernel.pb\n",
      "Temp: tensor([1.6048, 1.1647, 0.8773, 1.1408, 0.6534, 0.6062])\n",
      "Read model from ../data/cocos3_10k/kernel_no_edge_potential.pb\n",
      "Temp: tensor([1.6343, 1.2952, 1.0454, 1.1590, 0.5719, 0.6520])\n"
     ]
    },
    {
     "name": "stdout",
     "output_type": "stream",
     "text": [
      "Num untouched: 157/320\n",
      "Found 176 for acc sigma: 0.000000\n",
      "Found 42 for acc sigma: 0.300000\n",
      "Found 4 for acc sigma: 0.700000\n",
      "Brute force predictor perf.: 0.0714 0.0542 0.0137\n",
      "Num train, val: 118287 5000\n",
      "Found 21833 good ones in train\n",
      "Found 921 good ones in val\n"
     ]
    },
    {
     "name": "stderr",
     "output_type": "stream",
     "text": [
      "Empirical accuracy: 0.7260\n"
     ]
    },
    {
     "name": "stdout",
     "output_type": "stream",
     "text": [
      "Per scene label acc:\n",
      "[0.92647447 0.87443966 0.88832733 0.73323372 0.79304738]\n",
      "Found 242 unique arms and 94.02 average number of examples per arm\n",
      "Shape of p: (22754, 10), scene: (22754, 5, 2)\n",
      "Found 78/320 empty arms\n",
      "Found 320 unique arms and 66.42 average number of examples per arm\n",
      "Using seed: 2 for warm start\n"
     ]
    },
    {
     "name": "stderr",
     "output_type": "stream",
     "text": [
      "Using joint model.\n",
      "Computing per arm accuracy\n",
      "Found 144 unsupported arms of the total 320 arms\n",
      "Done\n",
      "Best, worst, mean accuracy: 1.0000, 0.0400 0.6387\n",
      "Acc quantiles: [0.04       0.31203008 0.53690732 0.67107084 0.78273292 0.87867647\n",
      " 1.        ]\n",
      "Worst arms: [0.04       0.05555556 0.08695652 0.11111111 0.16666667 0.1875\n",
      " 0.1875     0.2        0.2        0.22222222 0.24242424 0.25\n",
      " 0.25       0.25287356 0.27272727 0.28571429 0.28571429 0.30263158\n",
      " 0.32142857 0.33823529 0.36397059 0.375      0.38095238 0.38461538\n",
      " 0.39130435 0.4        0.40625    0.41176471 0.41666667 0.42857143]\n",
      "Read model from ../data/cocos3_10k/kernel.pb\n",
      "Temp: tensor([1.6048, 1.1647, 0.8773, 1.1408, 0.6534, 0.6062])\n",
      "Read model from ../data/cocos3_10k/kernel_no_edge_potential.pb\n",
      "Temp: tensor([1.6343, 1.2952, 1.0454, 1.1590, 0.5719, 0.6520])\n"
     ]
    },
    {
     "name": "stdout",
     "output_type": "stream",
     "text": [
      "Num untouched: 157/320\n",
      "Found 176 for acc sigma: 0.000000\n",
      "Found 44 for acc sigma: 0.300000\n",
      "Found 2 for acc sigma: 0.700000\n",
      "Brute force predictor perf.: 0.0692 0.0517 0.0071\n",
      "Num train, val: 118287 5000\n",
      "Found 21833 good ones in train\n",
      "Found 921 good ones in val\n"
     ]
    },
    {
     "name": "stderr",
     "output_type": "stream",
     "text": [
      "Empirical accuracy: 0.7300\n"
     ]
    },
    {
     "name": "stdout",
     "output_type": "stream",
     "text": [
      "Per scene label acc:\n",
      "[0.92647447 0.87443966 0.88832733 0.73323372 0.79304738]\n",
      "Found 242 unique arms and 94.02 average number of examples per arm\n",
      "Shape of p: (22754, 10), scene: (22754, 5, 2)\n",
      "Found 78/320 empty arms\n",
      "Found 320 unique arms and 66.42 average number of examples per arm\n",
      "Using seed: 0 for warm start\n"
     ]
    },
    {
     "name": "stderr",
     "output_type": "stream",
     "text": [
      "Using joint model.\n",
      "Computing per arm accuracy\n",
      "Found 144 unsupported arms of the total 320 arms\n",
      "Done\n",
      "Best, worst, mean accuracy: 1.0000, 0.0400 0.6387\n",
      "Acc quantiles: [0.04       0.31203008 0.53690732 0.67107084 0.78273292 0.87867647\n",
      " 1.        ]\n",
      "Worst arms: [0.04       0.05555556 0.08695652 0.11111111 0.16666667 0.1875\n",
      " 0.1875     0.2        0.2        0.22222222 0.24242424 0.25\n",
      " 0.25       0.25287356 0.27272727 0.28571429 0.28571429 0.30263158\n",
      " 0.32142857 0.33823529 0.36397059 0.375      0.38095238 0.38461538\n",
      " 0.39130435 0.4        0.40625    0.41176471 0.41666667 0.42857143]\n",
      "Read model from ../data/cocos3_10k/kernel.pb\n",
      "Temp: tensor([1.6048, 1.1647, 0.8773, 1.1408, 0.6534, 0.6062])\n",
      "Read model from ../data/cocos3_10k/kernel_no_edge_potential.pb\n",
      "Temp: tensor([1.6343, 1.2952, 1.0454, 1.1590, 0.5719, 0.6520])\n"
     ]
    },
    {
     "name": "stdout",
     "output_type": "stream",
     "text": [
      "Num untouched: 44/320\n",
      "Found 176 for acc sigma: 0.000000\n",
      "Found 42 for acc sigma: 0.300000\n",
      "Found 3 for acc sigma: 0.700000\n",
      "Brute force predictor perf.: 0.0738 0.0569 0.0093\n",
      "Num train, val: 118287 5000\n",
      "Found 21833 good ones in train\n",
      "Found 921 good ones in val\n"
     ]
    },
    {
     "name": "stderr",
     "output_type": "stream",
     "text": [
      "Empirical accuracy: 0.7330\n"
     ]
    },
    {
     "name": "stdout",
     "output_type": "stream",
     "text": [
      "Per scene label acc:\n",
      "[0.92647447 0.87443966 0.88832733 0.73323372 0.79304738]\n",
      "Found 242 unique arms and 94.02 average number of examples per arm\n",
      "Shape of p: (22754, 10), scene: (22754, 5, 2)\n",
      "Found 78/320 empty arms\n",
      "Found 320 unique arms and 66.42 average number of examples per arm\n",
      "Using seed: 1 for warm start\n"
     ]
    },
    {
     "name": "stderr",
     "output_type": "stream",
     "text": [
      "Using joint model.\n",
      "Computing per arm accuracy\n",
      "Found 144 unsupported arms of the total 320 arms\n",
      "Done\n",
      "Best, worst, mean accuracy: 1.0000, 0.0400 0.6387\n",
      "Acc quantiles: [0.04       0.31203008 0.53690732 0.67107084 0.78273292 0.87867647\n",
      " 1.        ]\n",
      "Worst arms: [0.04       0.05555556 0.08695652 0.11111111 0.16666667 0.1875\n",
      " 0.1875     0.2        0.2        0.22222222 0.24242424 0.25\n",
      " 0.25       0.25287356 0.27272727 0.28571429 0.28571429 0.30263158\n",
      " 0.32142857 0.33823529 0.36397059 0.375      0.38095238 0.38461538\n",
      " 0.39130435 0.4        0.40625    0.41176471 0.41666667 0.42857143]\n",
      "Read model from ../data/cocos3_10k/kernel.pb\n",
      "Temp: tensor([1.6048, 1.1647, 0.8773, 1.1408, 0.6534, 0.6062])\n",
      "Read model from ../data/cocos3_10k/kernel_no_edge_potential.pb\n",
      "Temp: tensor([1.6343, 1.2952, 1.0454, 1.1590, 0.5719, 0.6520])\n"
     ]
    },
    {
     "name": "stdout",
     "output_type": "stream",
     "text": [
      "Num untouched: 45/320\n",
      "Found 176 for acc sigma: 0.000000\n",
      "Found 38 for acc sigma: 0.300000\n",
      "Found 1 for acc sigma: 0.700000\n",
      "Brute force predictor perf.: 0.0692 0.0499 0.0031\n",
      "Num train, val: 118287 5000\n",
      "Found 21833 good ones in train\n",
      "Found 921 good ones in val\n"
     ]
    },
    {
     "name": "stderr",
     "output_type": "stream",
     "text": [
      "Empirical accuracy: 0.7260\n"
     ]
    },
    {
     "name": "stdout",
     "output_type": "stream",
     "text": [
      "Per scene label acc:\n",
      "[0.92647447 0.87443966 0.88832733 0.73323372 0.79304738]\n",
      "Found 242 unique arms and 94.02 average number of examples per arm\n",
      "Shape of p: (22754, 10), scene: (22754, 5, 2)\n",
      "Found 78/320 empty arms\n",
      "Found 320 unique arms and 66.42 average number of examples per arm\n",
      "Using seed: 2 for warm start\n"
     ]
    },
    {
     "name": "stderr",
     "output_type": "stream",
     "text": [
      "Using joint model.\n",
      "Computing per arm accuracy\n",
      "Found 144 unsupported arms of the total 320 arms\n",
      "Done\n",
      "Best, worst, mean accuracy: 1.0000, 0.0400 0.6387\n",
      "Acc quantiles: [0.04       0.31203008 0.53690732 0.67107084 0.78273292 0.87867647\n",
      " 1.        ]\n",
      "Worst arms: [0.04       0.05555556 0.08695652 0.11111111 0.16666667 0.1875\n",
      " 0.1875     0.2        0.2        0.22222222 0.24242424 0.25\n",
      " 0.25       0.25287356 0.27272727 0.28571429 0.28571429 0.30263158\n",
      " 0.32142857 0.33823529 0.36397059 0.375      0.38095238 0.38461538\n",
      " 0.39130435 0.4        0.40625    0.41176471 0.41666667 0.42857143]\n",
      "Read model from ../data/cocos3_10k/kernel.pb\n",
      "Temp: tensor([1.6048, 1.1647, 0.8773, 1.1408, 0.6534, 0.6062])\n",
      "Read model from ../data/cocos3_10k/kernel_no_edge_potential.pb\n",
      "Temp: tensor([1.6343, 1.2952, 1.0454, 1.1590, 0.5719, 0.6520])\n"
     ]
    },
    {
     "name": "stdout",
     "output_type": "stream",
     "text": [
      "Num untouched: 45/320\n",
      "Found 176 for acc sigma: 0.000000\n",
      "Found 41 for acc sigma: 0.300000\n",
      "Found 2 for acc sigma: 0.700000\n",
      "Brute force predictor perf.: 0.0764 0.0567 0.0059\n",
      "Num train, val: 118287 5000\n",
      "Found 21833 good ones in train\n",
      "Found 921 good ones in val\n"
     ]
    },
    {
     "name": "stderr",
     "output_type": "stream",
     "text": [
      "Empirical accuracy: 0.7300\n"
     ]
    },
    {
     "name": "stdout",
     "output_type": "stream",
     "text": [
      "Per scene label acc:\n",
      "[0.92647447 0.87443966 0.88832733 0.73323372 0.79304738]\n",
      "Found 242 unique arms and 94.02 average number of examples per arm\n",
      "Shape of p: (22754, 10), scene: (22754, 5, 2)\n",
      "Found 78/320 empty arms\n",
      "Found 320 unique arms and 66.42 average number of examples per arm\n",
      "Using seed: 0 for warm start\n",
      "Num untouched: 166/320\n",
      "Found 176 for acc sigma: 0.000000\n",
      "Found 46 for acc sigma: 0.300000\n",
      "Found 5 for acc sigma: 0.700000\n",
      "Brute force predictor perf.: 0.0811 0.0649 0.0158\n"
     ]
    },
    {
     "name": "stderr",
     "output_type": "stream",
     "text": [
      "Using joint model.\n",
      "Computing per arm accuracy\n",
      "Found 144 unsupported arms of the total 320 arms\n",
      "Done\n",
      "Best, worst, mean accuracy: 1.0000, 0.0400 0.6387\n",
      "Acc quantiles: [0.04       0.31203008 0.53690732 0.67107084 0.78273292 0.87867647\n",
      " 1.        ]\n",
      "Worst arms: [0.04       0.05555556 0.08695652 0.11111111 0.16666667 0.1875\n",
      " 0.1875     0.2        0.2        0.22222222 0.24242424 0.25\n",
      " 0.25       0.25287356 0.27272727 0.28571429 0.28571429 0.30263158\n",
      " 0.32142857 0.33823529 0.36397059 0.375      0.38095238 0.38461538\n",
      " 0.39130435 0.4        0.40625    0.41176471 0.41666667 0.42857143]\n",
      "Read model from ../data/cocos3_10k/kernel.pb\n",
      "Temp: tensor([1.6048, 1.1647, 0.8773, 1.1408, 0.6534, 0.6062])\n",
      "Read model from ../data/cocos3_10k/kernel_no_edge_potential.pb\n",
      "Temp: tensor([1.6343, 1.2952, 1.0454, 1.1590, 0.5719, 0.6520])\n",
      "Empirical accuracy: 0.7330\n"
     ]
    },
    {
     "name": "stdout",
     "output_type": "stream",
     "text": [
      "Num train, val: 118287 5000\n",
      "Found 21833 good ones in train\n",
      "Found 921 good ones in val\n",
      "Per scene label acc:\n",
      "[0.92647447 0.87443966 0.88832733 0.73323372 0.79304738]\n",
      "Found 242 unique arms and 94.02 average number of examples per arm\n",
      "Shape of p: (22754, 10), scene: (22754, 5, 2)\n",
      "Found 78/320 empty arms\n",
      "Found 320 unique arms and 66.42 average number of examples per arm\n",
      "Using seed: 1 for warm start\n"
     ]
    },
    {
     "name": "stderr",
     "output_type": "stream",
     "text": [
      "Using joint model.\n",
      "Computing per arm accuracy\n",
      "Found 144 unsupported arms of the total 320 arms\n",
      "Done\n",
      "Best, worst, mean accuracy: 1.0000, 0.0400 0.6387\n",
      "Acc quantiles: [0.04       0.31203008 0.53690732 0.67107084 0.78273292 0.87867647\n",
      " 1.        ]\n",
      "Worst arms: [0.04       0.05555556 0.08695652 0.11111111 0.16666667 0.1875\n",
      " 0.1875     0.2        0.2        0.22222222 0.24242424 0.25\n",
      " 0.25       0.25287356 0.27272727 0.28571429 0.28571429 0.30263158\n",
      " 0.32142857 0.33823529 0.36397059 0.375      0.38095238 0.38461538\n",
      " 0.39130435 0.4        0.40625    0.41176471 0.41666667 0.42857143]\n",
      "Read model from ../data/cocos3_10k/kernel.pb\n",
      "Temp: tensor([1.6048, 1.1647, 0.8773, 1.1408, 0.6534, 0.6062])\n",
      "Read model from ../data/cocos3_10k/kernel_no_edge_potential.pb\n",
      "Temp: tensor([1.6343, 1.2952, 1.0454, 1.1590, 0.5719, 0.6520])\n"
     ]
    },
    {
     "name": "stdout",
     "output_type": "stream",
     "text": [
      "Num untouched: 164/320\n",
      "Found 176 for acc sigma: 0.000000\n",
      "Found 47 for acc sigma: 0.300000\n",
      "Found 6 for acc sigma: 0.700000\n",
      "Brute force predictor perf.: 0.0857 0.0682 0.0188\n",
      "Num train, val: 118287 5000\n",
      "Found 21833 good ones in train\n",
      "Found 921 good ones in val\n"
     ]
    },
    {
     "name": "stderr",
     "output_type": "stream",
     "text": [
      "Empirical accuracy: 0.7260\n"
     ]
    },
    {
     "name": "stdout",
     "output_type": "stream",
     "text": [
      "Per scene label acc:\n",
      "[0.92647447 0.87443966 0.88832733 0.73323372 0.79304738]\n",
      "Found 242 unique arms and 94.02 average number of examples per arm\n",
      "Shape of p: (22754, 10), scene: (22754, 5, 2)\n",
      "Found 78/320 empty arms\n",
      "Found 320 unique arms and 66.42 average number of examples per arm\n",
      "Using seed: 2 for warm start\n"
     ]
    },
    {
     "name": "stderr",
     "output_type": "stream",
     "text": [
      "Using joint model.\n",
      "Computing per arm accuracy\n",
      "Found 144 unsupported arms of the total 320 arms\n",
      "Done\n",
      "Best, worst, mean accuracy: 1.0000, 0.0400 0.6387\n",
      "Acc quantiles: [0.04       0.31203008 0.53690732 0.67107084 0.78273292 0.87867647\n",
      " 1.        ]\n",
      "Worst arms: [0.04       0.05555556 0.08695652 0.11111111 0.16666667 0.1875\n",
      " 0.1875     0.2        0.2        0.22222222 0.24242424 0.25\n",
      " 0.25       0.25287356 0.27272727 0.28571429 0.28571429 0.30263158\n",
      " 0.32142857 0.33823529 0.36397059 0.375      0.38095238 0.38461538\n",
      " 0.39130435 0.4        0.40625    0.41176471 0.41666667 0.42857143]\n",
      "Read model from ../data/cocos3_10k/kernel.pb\n",
      "Temp: tensor([1.6048, 1.1647, 0.8773, 1.1408, 0.6534, 0.6062])\n",
      "Read model from ../data/cocos3_10k/kernel_no_edge_potential.pb\n",
      "Temp: tensor([1.6343, 1.2952, 1.0454, 1.1590, 0.5719, 0.6520])\n"
     ]
    },
    {
     "name": "stdout",
     "output_type": "stream",
     "text": [
      "Num untouched: 167/320\n",
      "Found 176 for acc sigma: 0.000000\n",
      "Found 50 for acc sigma: 0.300000\n",
      "Found 4 for acc sigma: 0.700000\n",
      "Brute force predictor perf.: 0.0849 0.0673 0.0122\n",
      "Num train, val: 118287 5000\n",
      "Found 21833 good ones in train\n",
      "Found 921 good ones in val\n",
      "Per scene label acc:\n",
      "[0.92647447 0.87443966 0.88832733 0.73323372 0.79304738]\n",
      "Found 242 unique arms and 94.02 average number of examples per arm\n",
      "Shape of p: (22754, 10), scene: (22754, 5, 2)\n",
      "Found 78/320 empty arms\n",
      "Found 320 unique arms and 66.42 average number of examples per arm\n",
      "Using seed: 0 for warm start\n"
     ]
    },
    {
     "name": "stderr",
     "output_type": "stream",
     "text": [
      "Empirical accuracy: 0.7300\n",
      "Using joint model.\n",
      "Computing per arm accuracy\n",
      "Found 144 unsupported arms of the total 320 arms\n",
      "Done\n",
      "Best, worst, mean accuracy: 1.0000, 0.0400 0.6387\n",
      "Acc quantiles: [0.04       0.31203008 0.53690732 0.67107084 0.78273292 0.87867647\n",
      " 1.        ]\n",
      "Worst arms: [0.04       0.05555556 0.08695652 0.11111111 0.16666667 0.1875\n",
      " 0.1875     0.2        0.2        0.22222222 0.24242424 0.25\n",
      " 0.25       0.25287356 0.27272727 0.28571429 0.28571429 0.30263158\n",
      " 0.32142857 0.33823529 0.36397059 0.375      0.38095238 0.38461538\n",
      " 0.39130435 0.4        0.40625    0.41176471 0.41666667 0.42857143]\n",
      "Read model from ../data/cocos3_10k/kernel.pb\n",
      "Temp: tensor([1.6048, 1.1647, 0.8773, 1.1408, 0.6534, 0.6062])\n",
      "Read model from ../data/cocos3_10k/kernel_no_edge_potential.pb\n",
      "Temp: tensor([1.6343, 1.2952, 1.0454, 1.1590, 0.5719, 0.6520])\n"
     ]
    },
    {
     "name": "stdout",
     "output_type": "stream",
     "text": [
      "Num untouched: 157/320\n",
      "Found 176 for acc sigma: 0.000000\n",
      "Found 34 for acc sigma: 0.300000\n",
      "Found 2 for acc sigma: 0.700000\n",
      "Brute force predictor perf.: 0.0539 0.0410 0.0063\n",
      "Num train, val: 118287 5000\n",
      "Found 21833 good ones in train\n",
      "Found 921 good ones in val\n"
     ]
    },
    {
     "name": "stderr",
     "output_type": "stream",
     "text": [
      "Empirical accuracy: 0.7330\n"
     ]
    },
    {
     "name": "stdout",
     "output_type": "stream",
     "text": [
      "Per scene label acc:\n",
      "[0.92647447 0.87443966 0.88832733 0.73323372 0.79304738]\n",
      "Found 242 unique arms and 94.02 average number of examples per arm\n",
      "Shape of p: (22754, 10), scene: (22754, 5, 2)\n",
      "Found 78/320 empty arms\n",
      "Found 320 unique arms and 66.42 average number of examples per arm\n",
      "Using seed: 1 for warm start\n"
     ]
    },
    {
     "name": "stderr",
     "output_type": "stream",
     "text": [
      "Using joint model.\n",
      "Computing per arm accuracy\n",
      "Found 144 unsupported arms of the total 320 arms\n",
      "Done\n",
      "Best, worst, mean accuracy: 1.0000, 0.0400 0.6387\n",
      "Acc quantiles: [0.04       0.31203008 0.53690732 0.67107084 0.78273292 0.87867647\n",
      " 1.        ]\n",
      "Worst arms: [0.04       0.05555556 0.08695652 0.11111111 0.16666667 0.1875\n",
      " 0.1875     0.2        0.2        0.22222222 0.24242424 0.25\n",
      " 0.25       0.25287356 0.27272727 0.28571429 0.28571429 0.30263158\n",
      " 0.32142857 0.33823529 0.36397059 0.375      0.38095238 0.38461538\n",
      " 0.39130435 0.4        0.40625    0.41176471 0.41666667 0.42857143]\n",
      "Read model from ../data/cocos3_10k/kernel.pb\n",
      "Temp: tensor([1.6048, 1.1647, 0.8773, 1.1408, 0.6534, 0.6062])\n",
      "Read model from ../data/cocos3_10k/kernel_no_edge_potential.pb\n",
      "Temp: tensor([1.6343, 1.2952, 1.0454, 1.1590, 0.5719, 0.6520])\n"
     ]
    },
    {
     "name": "stdout",
     "output_type": "stream",
     "text": [
      "Num untouched: 156/320\n",
      "Found 176 for acc sigma: 0.000000\n",
      "Found 38 for acc sigma: 0.300000\n",
      "Found 4 for acc sigma: 0.700000\n",
      "Brute force predictor perf.: 0.0629 0.0513 0.0130\n",
      "Num train, val: 118287 5000\n",
      "Found 21833 good ones in train\n",
      "Found 921 good ones in val\n"
     ]
    },
    {
     "name": "stderr",
     "output_type": "stream",
     "text": [
      "Empirical accuracy: 0.7260\n"
     ]
    },
    {
     "name": "stdout",
     "output_type": "stream",
     "text": [
      "Per scene label acc:\n",
      "[0.92647447 0.87443966 0.88832733 0.73323372 0.79304738]\n",
      "Found 242 unique arms and 94.02 average number of examples per arm\n",
      "Shape of p: (22754, 10), scene: (22754, 5, 2)\n",
      "Found 78/320 empty arms\n",
      "Found 320 unique arms and 66.42 average number of examples per arm\n",
      "Using seed: 2 for warm start\n"
     ]
    },
    {
     "name": "stderr",
     "output_type": "stream",
     "text": [
      "Using joint model.\n",
      "Computing per arm accuracy\n",
      "Found 144 unsupported arms of the total 320 arms\n",
      "Done\n",
      "Best, worst, mean accuracy: 1.0000, 0.0400 0.6387\n",
      "Acc quantiles: [0.04       0.31203008 0.53690732 0.67107084 0.78273292 0.87867647\n",
      " 1.        ]\n",
      "Worst arms: [0.04       0.05555556 0.08695652 0.11111111 0.16666667 0.1875\n",
      " 0.1875     0.2        0.2        0.22222222 0.24242424 0.25\n",
      " 0.25       0.25287356 0.27272727 0.28571429 0.28571429 0.30263158\n",
      " 0.32142857 0.33823529 0.36397059 0.375      0.38095238 0.38461538\n",
      " 0.39130435 0.4        0.40625    0.41176471 0.41666667 0.42857143]\n",
      "Read model from ../data/cocos3_10k/kernel.pb\n",
      "Temp: tensor([1.6048, 1.1647, 0.8773, 1.1408, 0.6534, 0.6062])\n",
      "Read model from ../data/cocos3_10k/kernel_no_edge_potential.pb\n",
      "Temp: tensor([1.6343, 1.2952, 1.0454, 1.1590, 0.5719, 0.6520])\n"
     ]
    },
    {
     "name": "stdout",
     "output_type": "stream",
     "text": [
      "Num untouched: 156/320\n",
      "Found 176 for acc sigma: 0.000000\n",
      "Found 35 for acc sigma: 0.300000\n",
      "Found 2 for acc sigma: 0.700000\n",
      "Brute force predictor perf.: 0.0547 0.0418 0.0063\n",
      "Num train, val: 118287 5000\n",
      "Found 21833 good ones in train\n",
      "Found 921 good ones in val\n"
     ]
    },
    {
     "name": "stderr",
     "output_type": "stream",
     "text": [
      "Empirical accuracy: 0.7300\n"
     ]
    },
    {
     "name": "stdout",
     "output_type": "stream",
     "text": [
      "Per scene label acc:\n",
      "[0.92647447 0.87443966 0.88832733 0.73323372 0.79304738]\n",
      "Found 242 unique arms and 94.02 average number of examples per arm\n",
      "Shape of p: (22754, 10), scene: (22754, 5, 2)\n",
      "Found 78/320 empty arms\n",
      "Found 320 unique arms and 66.42 average number of examples per arm\n",
      "Using seed: 0 for warm start\n"
     ]
    },
    {
     "name": "stderr",
     "output_type": "stream",
     "text": [
      "Using joint model.\n",
      "Computing per arm accuracy\n",
      "Found 144 unsupported arms of the total 320 arms\n",
      "Done\n",
      "Best, worst, mean accuracy: 1.0000, 0.0400 0.6387\n",
      "Acc quantiles: [0.04       0.31203008 0.53690732 0.67107084 0.78273292 0.87867647\n",
      " 1.        ]\n",
      "Worst arms: [0.04       0.05555556 0.08695652 0.11111111 0.16666667 0.1875\n",
      " 0.1875     0.2        0.2        0.22222222 0.24242424 0.25\n",
      " 0.25       0.25287356 0.27272727 0.28571429 0.28571429 0.30263158\n",
      " 0.32142857 0.33823529 0.36397059 0.375      0.38095238 0.38461538\n",
      " 0.39130435 0.4        0.40625    0.41176471 0.41666667 0.42857143]\n",
      "Read model from ../data/cocos3_10k/kernel.pb\n",
      "Temp: tensor([1.6048, 1.1647, 0.8773, 1.1408, 0.6534, 0.6062])\n",
      "Read model from ../data/cocos3_10k/kernel_no_edge_potential.pb\n",
      "Temp: tensor([1.6343, 1.2952, 1.0454, 1.1590, 0.5719, 0.6520])\n"
     ]
    },
    {
     "name": "stdout",
     "output_type": "stream",
     "text": [
      "Num untouched: 151/320\n",
      "Found 176 for acc sigma: 0.000000\n",
      "Found 37 for acc sigma: 0.300000\n",
      "Found 2 for acc sigma: 0.700000\n",
      "Brute force predictor perf.: 0.0639 0.0465 0.0072\n",
      "Num train, val: 118287 5000\n",
      "Found 21833 good ones in train\n",
      "Found 921 good ones in val\n"
     ]
    },
    {
     "name": "stderr",
     "output_type": "stream",
     "text": [
      "Empirical accuracy: 0.7324\n"
     ]
    },
    {
     "name": "stdout",
     "output_type": "stream",
     "text": [
      "Per scene label acc:\n",
      "[0.92647447 0.87443966 0.88832733 0.73323372 0.79304738]\n",
      "Found 242 unique arms and 94.02 average number of examples per arm\n",
      "Shape of p: (22754, 10), scene: (22754, 5, 2)\n",
      "Found 78/320 empty arms\n",
      "Found 320 unique arms and 66.42 average number of examples per arm\n",
      "Using seed: 1 for warm start\n"
     ]
    },
    {
     "name": "stderr",
     "output_type": "stream",
     "text": [
      "Using joint model.\n",
      "Computing per arm accuracy\n",
      "Found 144 unsupported arms of the total 320 arms\n",
      "Done\n",
      "Best, worst, mean accuracy: 1.0000, 0.0400 0.6387\n",
      "Acc quantiles: [0.04       0.31203008 0.53690732 0.67107084 0.78273292 0.87867647\n",
      " 1.        ]\n",
      "Worst arms: [0.04       0.05555556 0.08695652 0.11111111 0.16666667 0.1875\n",
      " 0.1875     0.2        0.2        0.22222222 0.24242424 0.25\n",
      " 0.25       0.25287356 0.27272727 0.28571429 0.28571429 0.30263158\n",
      " 0.32142857 0.33823529 0.36397059 0.375      0.38095238 0.38461538\n",
      " 0.39130435 0.4        0.40625    0.41176471 0.41666667 0.42857143]\n",
      "Read model from ../data/cocos3_10k/kernel.pb\n",
      "Temp: tensor([1.6048, 1.1647, 0.8773, 1.1408, 0.6534, 0.6062])\n",
      "Read model from ../data/cocos3_10k/kernel_no_edge_potential.pb\n",
      "Temp: tensor([1.6343, 1.2952, 1.0454, 1.1590, 0.5719, 0.6520])\n"
     ]
    },
    {
     "name": "stdout",
     "output_type": "stream",
     "text": [
      "Num untouched: 149/320\n",
      "Found 176 for acc sigma: 0.000000\n",
      "Found 43 for acc sigma: 0.300000\n",
      "Found 4 for acc sigma: 0.700000\n",
      "Brute force predictor perf.: 0.0706 0.0541 0.0137\n",
      "Num train, val: 118287 5000\n",
      "Found 21833 good ones in train\n",
      "Found 921 good ones in val\n"
     ]
    },
    {
     "name": "stderr",
     "output_type": "stream",
     "text": [
      "Empirical accuracy: 0.7268\n"
     ]
    },
    {
     "name": "stdout",
     "output_type": "stream",
     "text": [
      "Per scene label acc:\n",
      "[0.92647447 0.87443966 0.88832733 0.73323372 0.79304738]\n",
      "Found 242 unique arms and 94.02 average number of examples per arm\n",
      "Shape of p: (22754, 10), scene: (22754, 5, 2)\n",
      "Found 78/320 empty arms\n",
      "Found 320 unique arms and 66.42 average number of examples per arm\n",
      "Using seed: 2 for warm start\n"
     ]
    },
    {
     "name": "stderr",
     "output_type": "stream",
     "text": [
      "Using joint model.\n",
      "Computing per arm accuracy\n",
      "Found 144 unsupported arms of the total 320 arms\n",
      "Done\n",
      "Best, worst, mean accuracy: 1.0000, 0.0400 0.6387\n",
      "Acc quantiles: [0.04       0.31203008 0.53690732 0.67107084 0.78273292 0.87867647\n",
      " 1.        ]\n",
      "Worst arms: [0.04       0.05555556 0.08695652 0.11111111 0.16666667 0.1875\n",
      " 0.1875     0.2        0.2        0.22222222 0.24242424 0.25\n",
      " 0.25       0.25287356 0.27272727 0.28571429 0.28571429 0.30263158\n",
      " 0.32142857 0.33823529 0.36397059 0.375      0.38095238 0.38461538\n",
      " 0.39130435 0.4        0.40625    0.41176471 0.41666667 0.42857143]\n",
      "Read model from ../data/cocos3_10k/kernel.pb\n",
      "Temp: tensor([1.6048, 1.1647, 0.8773, 1.1408, 0.6534, 0.6062])\n",
      "Read model from ../data/cocos3_10k/kernel_no_edge_potential.pb\n",
      "Temp: tensor([1.6343, 1.2952, 1.0454, 1.1590, 0.5719, 0.6520])\n"
     ]
    },
    {
     "name": "stdout",
     "output_type": "stream",
     "text": [
      "Num untouched: 149/320\n",
      "Found 176 for acc sigma: 0.000000\n",
      "Found 43 for acc sigma: 0.300000\n",
      "Found 2 for acc sigma: 0.700000\n",
      "Brute force predictor perf.: 0.0707 0.0528 0.0071\n",
      "Num train, val: 118287 5000\n",
      "Found 21833 good ones in train\n",
      "Found 921 good ones in val\n"
     ]
    },
    {
     "name": "stderr",
     "output_type": "stream",
     "text": [
      "Empirical accuracy: 0.7300\n"
     ]
    },
    {
     "name": "stdout",
     "output_type": "stream",
     "text": [
      "Per scene label acc:\n",
      "[0.92647447 0.87443966 0.88832733 0.73323372 0.79304738]\n",
      "Found 242 unique arms and 94.02 average number of examples per arm\n",
      "Shape of p: (22754, 10), scene: (22754, 5, 2)\n",
      "Found 78/320 empty arms\n",
      "Found 320 unique arms and 66.42 average number of examples per arm\n",
      "Using seed: 0 for warm start\n"
     ]
    },
    {
     "name": "stderr",
     "output_type": "stream",
     "text": [
      "Using joint model.\n",
      "Computing per arm accuracy\n",
      "Found 144 unsupported arms of the total 320 arms\n",
      "Done\n",
      "Best, worst, mean accuracy: 1.0000, 0.0400 0.6387\n",
      "Acc quantiles: [0.04       0.31203008 0.53690732 0.67107084 0.78273292 0.87867647\n",
      " 1.        ]\n",
      "Worst arms: [0.04       0.05555556 0.08695652 0.11111111 0.16666667 0.1875\n",
      " 0.1875     0.2        0.2        0.22222222 0.24242424 0.25\n",
      " 0.25       0.25287356 0.27272727 0.28571429 0.28571429 0.30263158\n",
      " 0.32142857 0.33823529 0.36397059 0.375      0.38095238 0.38461538\n",
      " 0.39130435 0.4        0.40625    0.41176471 0.41666667 0.42857143]\n",
      "Read model from ../data/cocos3_10k/kernel.pb\n",
      "Temp: tensor([1.6048, 1.1647, 0.8773, 1.1408, 0.6534, 0.6062])\n",
      "Read model from ../data/cocos3_10k/kernel_no_edge_potential.pb\n",
      "Temp: tensor([1.6343, 1.2952, 1.0454, 1.1590, 0.5719, 0.6520])\n"
     ]
    },
    {
     "name": "stdout",
     "output_type": "stream",
     "text": [
      "Num untouched: 35/320\n",
      "Found 176 for acc sigma: 0.000000\n",
      "Found 40 for acc sigma: 0.300000\n",
      "Found 3 for acc sigma: 0.700000\n",
      "Brute force predictor perf.: 0.0732 0.0556 0.0094\n",
      "Num train, val: 118287 5000\n",
      "Found 21833 good ones in train\n",
      "Found 921 good ones in val\n"
     ]
    },
    {
     "name": "stderr",
     "output_type": "stream",
     "text": [
      "Empirical accuracy: 0.7324\n"
     ]
    },
    {
     "name": "stdout",
     "output_type": "stream",
     "text": [
      "Per scene label acc:\n",
      "[0.92647447 0.87443966 0.88832733 0.73323372 0.79304738]\n",
      "Found 242 unique arms and 94.02 average number of examples per arm\n",
      "Shape of p: (22754, 10), scene: (22754, 5, 2)\n",
      "Found 78/320 empty arms\n",
      "Found 320 unique arms and 66.42 average number of examples per arm\n",
      "Using seed: 1 for warm start\n"
     ]
    },
    {
     "name": "stderr",
     "output_type": "stream",
     "text": [
      "Using joint model.\n",
      "Computing per arm accuracy\n",
      "Found 144 unsupported arms of the total 320 arms\n",
      "Done\n",
      "Best, worst, mean accuracy: 1.0000, 0.0400 0.6387\n",
      "Acc quantiles: [0.04       0.31203008 0.53690732 0.67107084 0.78273292 0.87867647\n",
      " 1.        ]\n",
      "Worst arms: [0.04       0.05555556 0.08695652 0.11111111 0.16666667 0.1875\n",
      " 0.1875     0.2        0.2        0.22222222 0.24242424 0.25\n",
      " 0.25       0.25287356 0.27272727 0.28571429 0.28571429 0.30263158\n",
      " 0.32142857 0.33823529 0.36397059 0.375      0.38095238 0.38461538\n",
      " 0.39130435 0.4        0.40625    0.41176471 0.41666667 0.42857143]\n",
      "Read model from ../data/cocos3_10k/kernel.pb\n",
      "Temp: tensor([1.6048, 1.1647, 0.8773, 1.1408, 0.6534, 0.6062])\n",
      "Read model from ../data/cocos3_10k/kernel_no_edge_potential.pb\n",
      "Temp: tensor([1.6343, 1.2952, 1.0454, 1.1590, 0.5719, 0.6520])\n"
     ]
    },
    {
     "name": "stdout",
     "output_type": "stream",
     "text": [
      "Num untouched: 36/320\n",
      "Found 176 for acc sigma: 0.000000\n",
      "Found 38 for acc sigma: 0.300000\n",
      "Found 2 for acc sigma: 0.700000\n",
      "Brute force predictor perf.: 0.0675 0.0484 0.0059\n",
      "Num train, val: 118287 5000\n",
      "Found 21833 good ones in train\n",
      "Found 921 good ones in val\n"
     ]
    },
    {
     "name": "stderr",
     "output_type": "stream",
     "text": [
      "Empirical accuracy: 0.7268\n"
     ]
    },
    {
     "name": "stdout",
     "output_type": "stream",
     "text": [
      "Per scene label acc:\n",
      "[0.92647447 0.87443966 0.88832733 0.73323372 0.79304738]\n",
      "Found 242 unique arms and 94.02 average number of examples per arm\n",
      "Shape of p: (22754, 10), scene: (22754, 5, 2)\n",
      "Found 78/320 empty arms\n",
      "Found 320 unique arms and 66.42 average number of examples per arm\n",
      "Using seed: 2 for warm start\n"
     ]
    },
    {
     "name": "stderr",
     "output_type": "stream",
     "text": [
      "Using joint model.\n",
      "Computing per arm accuracy\n",
      "Found 144 unsupported arms of the total 320 arms\n",
      "Done\n",
      "Best, worst, mean accuracy: 1.0000, 0.0400 0.6387\n",
      "Acc quantiles: [0.04       0.31203008 0.53690732 0.67107084 0.78273292 0.87867647\n",
      " 1.        ]\n",
      "Worst arms: [0.04       0.05555556 0.08695652 0.11111111 0.16666667 0.1875\n",
      " 0.1875     0.2        0.2        0.22222222 0.24242424 0.25\n",
      " 0.25       0.25287356 0.27272727 0.28571429 0.28571429 0.30263158\n",
      " 0.32142857 0.33823529 0.36397059 0.375      0.38095238 0.38461538\n",
      " 0.39130435 0.4        0.40625    0.41176471 0.41666667 0.42857143]\n",
      "Read model from ../data/cocos3_10k/kernel.pb\n",
      "Temp: tensor([1.6048, 1.1647, 0.8773, 1.1408, 0.6534, 0.6062])\n",
      "Read model from ../data/cocos3_10k/kernel_no_edge_potential.pb\n",
      "Temp: tensor([1.6343, 1.2952, 1.0454, 1.1590, 0.5719, 0.6520])\n"
     ]
    },
    {
     "name": "stdout",
     "output_type": "stream",
     "text": [
      "Num untouched: 36/320\n",
      "Found 176 for acc sigma: 0.000000\n",
      "Found 40 for acc sigma: 0.300000\n",
      "Found 2 for acc sigma: 0.700000\n",
      "Brute force predictor perf.: 0.0754 0.0560 0.0060\n",
      "Num train, val: 118287 5000\n",
      "Found 21833 good ones in train\n",
      "Found 921 good ones in val\n"
     ]
    },
    {
     "name": "stderr",
     "output_type": "stream",
     "text": [
      "Empirical accuracy: 0.7300\n"
     ]
    },
    {
     "name": "stdout",
     "output_type": "stream",
     "text": [
      "Per scene label acc:\n",
      "[0.92647447 0.87443966 0.88832733 0.73323372 0.79304738]\n",
      "Found 242 unique arms and 94.02 average number of examples per arm\n",
      "Shape of p: (22754, 10), scene: (22754, 5, 2)\n",
      "Found 78/320 empty arms\n",
      "Found 320 unique arms and 66.42 average number of examples per arm\n",
      "Using seed: 0 for warm start\n",
      "Num untouched: 155/320\n",
      "Found 176 for acc sigma: 0.000000\n",
      "Found 48 for acc sigma: 0.300000\n",
      "Found 5 for acc sigma: 0.700000\n",
      "Brute force predictor perf.: 0.0849 0.0691 0.0158\n"
     ]
    },
    {
     "name": "stderr",
     "output_type": "stream",
     "text": [
      "Using joint model.\n",
      "Computing per arm accuracy\n",
      "Found 144 unsupported arms of the total 320 arms\n",
      "Done\n",
      "Best, worst, mean accuracy: 1.0000, 0.0400 0.6387\n",
      "Acc quantiles: [0.04       0.31203008 0.53690732 0.67107084 0.78273292 0.87867647\n",
      " 1.        ]\n",
      "Worst arms: [0.04       0.05555556 0.08695652 0.11111111 0.16666667 0.1875\n",
      " 0.1875     0.2        0.2        0.22222222 0.24242424 0.25\n",
      " 0.25       0.25287356 0.27272727 0.28571429 0.28571429 0.30263158\n",
      " 0.32142857 0.33823529 0.36397059 0.375      0.38095238 0.38461538\n",
      " 0.39130435 0.4        0.40625    0.41176471 0.41666667 0.42857143]\n",
      "Read model from ../data/cocos3_10k/kernel.pb\n",
      "Temp: tensor([1.6048, 1.1647, 0.8773, 1.1408, 0.6534, 0.6062])\n",
      "Read model from ../data/cocos3_10k/kernel_no_edge_potential.pb\n",
      "Temp: tensor([1.6343, 1.2952, 1.0454, 1.1590, 0.5719, 0.6520])\n",
      "Empirical accuracy: 0.7324\n"
     ]
    },
    {
     "name": "stdout",
     "output_type": "stream",
     "text": [
      "Num train, val: 118287 5000\n",
      "Found 21833 good ones in train\n",
      "Found 921 good ones in val\n",
      "Per scene label acc:\n",
      "[0.92647447 0.87443966 0.88832733 0.73323372 0.79304738]\n",
      "Found 242 unique arms and 94.02 average number of examples per arm\n",
      "Shape of p: (22754, 10), scene: (22754, 5, 2)\n",
      "Found 78/320 empty arms\n",
      "Found 320 unique arms and 66.42 average number of examples per arm\n",
      "Using seed: 1 for warm start\n"
     ]
    },
    {
     "name": "stderr",
     "output_type": "stream",
     "text": [
      "Using joint model.\n",
      "Computing per arm accuracy\n",
      "Found 144 unsupported arms of the total 320 arms\n",
      "Done\n",
      "Best, worst, mean accuracy: 1.0000, 0.0400 0.6387\n",
      "Acc quantiles: [0.04       0.31203008 0.53690732 0.67107084 0.78273292 0.87867647\n",
      " 1.        ]\n",
      "Worst arms: [0.04       0.05555556 0.08695652 0.11111111 0.16666667 0.1875\n",
      " 0.1875     0.2        0.2        0.22222222 0.24242424 0.25\n",
      " 0.25       0.25287356 0.27272727 0.28571429 0.28571429 0.30263158\n",
      " 0.32142857 0.33823529 0.36397059 0.375      0.38095238 0.38461538\n",
      " 0.39130435 0.4        0.40625    0.41176471 0.41666667 0.42857143]\n",
      "Read model from ../data/cocos3_10k/kernel.pb\n",
      "Temp: tensor([1.6048, 1.1647, 0.8773, 1.1408, 0.6534, 0.6062])\n",
      "Read model from ../data/cocos3_10k/kernel_no_edge_potential.pb\n",
      "Temp: tensor([1.6343, 1.2952, 1.0454, 1.1590, 0.5719, 0.6520])\n"
     ]
    },
    {
     "name": "stdout",
     "output_type": "stream",
     "text": [
      "Num untouched: 154/320\n",
      "Found 176 for acc sigma: 0.000000\n",
      "Found 46 for acc sigma: 0.300000\n",
      "Found 6 for acc sigma: 0.700000\n",
      "Brute force predictor perf.: 0.0823 0.0654 0.0188\n",
      "Num train, val: 118287 5000\n",
      "Found 21833 good ones in train\n",
      "Found 921 good ones in val\n"
     ]
    },
    {
     "name": "stderr",
     "output_type": "stream",
     "text": [
      "Empirical accuracy: 0.7268\n"
     ]
    },
    {
     "name": "stdout",
     "output_type": "stream",
     "text": [
      "Per scene label acc:\n",
      "[0.92647447 0.87443966 0.88832733 0.73323372 0.79304738]\n",
      "Found 242 unique arms and 94.02 average number of examples per arm\n",
      "Shape of p: (22754, 10), scene: (22754, 5, 2)\n",
      "Found 78/320 empty arms\n",
      "Found 320 unique arms and 66.42 average number of examples per arm\n",
      "Using seed: 2 for warm start\n"
     ]
    },
    {
     "name": "stderr",
     "output_type": "stream",
     "text": [
      "Using joint model.\n",
      "Computing per arm accuracy\n",
      "Found 144 unsupported arms of the total 320 arms\n",
      "Done\n",
      "Best, worst, mean accuracy: 1.0000, 0.0400 0.6387\n",
      "Acc quantiles: [0.04       0.31203008 0.53690732 0.67107084 0.78273292 0.87867647\n",
      " 1.        ]\n",
      "Worst arms: [0.04       0.05555556 0.08695652 0.11111111 0.16666667 0.1875\n",
      " 0.1875     0.2        0.2        0.22222222 0.24242424 0.25\n",
      " 0.25       0.25287356 0.27272727 0.28571429 0.28571429 0.30263158\n",
      " 0.32142857 0.33823529 0.36397059 0.375      0.38095238 0.38461538\n",
      " 0.39130435 0.4        0.40625    0.41176471 0.41666667 0.42857143]\n",
      "Read model from ../data/cocos3_10k/kernel.pb\n",
      "Temp: tensor([1.6048, 1.1647, 0.8773, 1.1408, 0.6534, 0.6062])\n",
      "Read model from ../data/cocos3_10k/kernel_no_edge_potential.pb\n",
      "Temp: tensor([1.6343, 1.2952, 1.0454, 1.1590, 0.5719, 0.6520])\n"
     ]
    },
    {
     "name": "stdout",
     "output_type": "stream",
     "text": [
      "Num untouched: 156/320\n",
      "Found 176 for acc sigma: 0.000000\n",
      "Found 52 for acc sigma: 0.300000\n",
      "Found 4 for acc sigma: 0.700000\n",
      "Brute force predictor perf.: 0.0858 0.0706 0.0122\n",
      "Num train, val: 118287 5000\n",
      "Found 21833 good ones in train\n",
      "Found 921 good ones in val\n"
     ]
    },
    {
     "name": "stderr",
     "output_type": "stream",
     "text": [
      "Empirical accuracy: 0.7300\n"
     ]
    },
    {
     "name": "stdout",
     "output_type": "stream",
     "text": [
      "Per scene label acc:\n",
      "[0.92647447 0.87443966 0.88832733 0.73323372 0.79304738]\n",
      "Found 242 unique arms and 94.02 average number of examples per arm\n",
      "Shape of p: (22754, 10), scene: (22754, 5, 2)\n",
      "Found 78/320 empty arms\n",
      "Found 320 unique arms and 66.42 average number of examples per arm\n",
      "Using seed: 0 for warm start\n",
      "Num untouched: 153/320\n",
      "Found 176 for acc sigma: 0.000000\n",
      "Found 30 for acc sigma: 0.300000\n",
      "Found 2 for acc sigma: 0.700000\n",
      "Brute force predictor perf.: 0.0502 0.0368 0.0063\n"
     ]
    },
    {
     "name": "stderr",
     "output_type": "stream",
     "text": [
      "Using joint model.\n",
      "Computing per arm accuracy\n",
      "Found 144 unsupported arms of the total 320 arms\n",
      "Done\n",
      "Best, worst, mean accuracy: 1.0000, 0.0400 0.6387\n",
      "Acc quantiles: [0.04       0.31203008 0.53690732 0.67107084 0.78273292 0.87867647\n",
      " 1.        ]\n",
      "Worst arms: [0.04       0.05555556 0.08695652 0.11111111 0.16666667 0.1875\n",
      " 0.1875     0.2        0.2        0.22222222 0.24242424 0.25\n",
      " 0.25       0.25287356 0.27272727 0.28571429 0.28571429 0.30263158\n",
      " 0.32142857 0.33823529 0.36397059 0.375      0.38095238 0.38461538\n",
      " 0.39130435 0.4        0.40625    0.41176471 0.41666667 0.42857143]\n",
      "Read model from ../data/cocos3_10k/kernel.pb\n",
      "Temp: tensor([1.6048, 1.1647, 0.8773, 1.1408, 0.6534, 0.6062])\n",
      "Read model from ../data/cocos3_10k/kernel_no_edge_potential.pb\n",
      "Temp: tensor([1.6343, 1.2952, 1.0454, 1.1590, 0.5719, 0.6520])\n",
      "Empirical accuracy: 0.7324\n"
     ]
    },
    {
     "name": "stdout",
     "output_type": "stream",
     "text": [
      "Num train, val: 118287 5000\n",
      "Found 21833 good ones in train\n",
      "Found 921 good ones in val\n",
      "Per scene label acc:\n",
      "[0.92647447 0.87443966 0.88832733 0.73323372 0.79304738]\n",
      "Found 242 unique arms and 94.02 average number of examples per arm\n",
      "Shape of p: (22754, 10), scene: (22754, 5, 2)\n",
      "Found 78/320 empty arms\n",
      "Found 320 unique arms and 66.42 average number of examples per arm\n",
      "Using seed: 1 for warm start\n"
     ]
    },
    {
     "name": "stderr",
     "output_type": "stream",
     "text": [
      "Using joint model.\n",
      "Computing per arm accuracy\n",
      "Found 144 unsupported arms of the total 320 arms\n",
      "Done\n",
      "Best, worst, mean accuracy: 1.0000, 0.0400 0.6387\n",
      "Acc quantiles: [0.04       0.31203008 0.53690732 0.67107084 0.78273292 0.87867647\n",
      " 1.        ]\n",
      "Worst arms: [0.04       0.05555556 0.08695652 0.11111111 0.16666667 0.1875\n",
      " 0.1875     0.2        0.2        0.22222222 0.24242424 0.25\n",
      " 0.25       0.25287356 0.27272727 0.28571429 0.28571429 0.30263158\n",
      " 0.32142857 0.33823529 0.36397059 0.375      0.38095238 0.38461538\n",
      " 0.39130435 0.4        0.40625    0.41176471 0.41666667 0.42857143]\n",
      "Read model from ../data/cocos3_10k/kernel.pb\n",
      "Temp: tensor([1.6048, 1.1647, 0.8773, 1.1408, 0.6534, 0.6062])\n",
      "Read model from ../data/cocos3_10k/kernel_no_edge_potential.pb\n",
      "Temp: tensor([1.6343, 1.2952, 1.0454, 1.1590, 0.5719, 0.6520])\n"
     ]
    },
    {
     "name": "stdout",
     "output_type": "stream",
     "text": [
      "Num untouched: 151/320\n",
      "Found 176 for acc sigma: 0.000000\n",
      "Found 34 for acc sigma: 0.300000\n",
      "Found 4 for acc sigma: 0.700000\n",
      "Brute force predictor perf.: 0.0589 0.0462 0.0130\n",
      "Num train, val: 118287 5000\n",
      "Found 21833 good ones in train\n",
      "Found 921 good ones in val\n"
     ]
    },
    {
     "name": "stderr",
     "output_type": "stream",
     "text": [
      "Empirical accuracy: 0.7268\n"
     ]
    },
    {
     "name": "stdout",
     "output_type": "stream",
     "text": [
      "Per scene label acc:\n",
      "[0.92647447 0.87443966 0.88832733 0.73323372 0.79304738]\n",
      "Found 242 unique arms and 94.02 average number of examples per arm\n",
      "Shape of p: (22754, 10), scene: (22754, 5, 2)\n",
      "Found 78/320 empty arms\n",
      "Found 320 unique arms and 66.42 average number of examples per arm\n",
      "Using seed: 2 for warm start\n"
     ]
    },
    {
     "name": "stderr",
     "output_type": "stream",
     "text": [
      "Using joint model.\n",
      "Computing per arm accuracy\n",
      "Found 144 unsupported arms of the total 320 arms\n",
      "Done\n",
      "Best, worst, mean accuracy: 1.0000, 0.0400 0.6387\n",
      "Acc quantiles: [0.04       0.31203008 0.53690732 0.67107084 0.78273292 0.87867647\n",
      " 1.        ]\n",
      "Worst arms: [0.04       0.05555556 0.08695652 0.11111111 0.16666667 0.1875\n",
      " 0.1875     0.2        0.2        0.22222222 0.24242424 0.25\n",
      " 0.25       0.25287356 0.27272727 0.28571429 0.28571429 0.30263158\n",
      " 0.32142857 0.33823529 0.36397059 0.375      0.38095238 0.38461538\n",
      " 0.39130435 0.4        0.40625    0.41176471 0.41666667 0.42857143]\n",
      "Read model from ../data/cocos3_10k/kernel.pb\n",
      "Temp: tensor([1.6048, 1.1647, 0.8773, 1.1408, 0.6534, 0.6062])\n",
      "Read model from ../data/cocos3_10k/kernel_no_edge_potential.pb\n",
      "Temp: tensor([1.6343, 1.2952, 1.0454, 1.1590, 0.5719, 0.6520])\n"
     ]
    },
    {
     "name": "stdout",
     "output_type": "stream",
     "text": [
      "Num untouched: 152/320\n",
      "Found 176 for acc sigma: 0.000000\n",
      "Found 32 for acc sigma: 0.300000\n",
      "Found 2 for acc sigma: 0.700000\n",
      "Brute force predictor perf.: 0.0516 0.0385 0.0063\n",
      "Num train, val: 118287 5000\n",
      "Found 21833 good ones in train\n",
      "Found 921 good ones in val\n"
     ]
    },
    {
     "name": "stderr",
     "output_type": "stream",
     "text": [
      "Empirical accuracy: 0.7300\n"
     ]
    },
    {
     "name": "stdout",
     "output_type": "stream",
     "text": [
      "Per scene label acc:\n",
      "[0.92647447 0.87443966 0.88832733 0.73323372 0.79304738]\n",
      "Found 242 unique arms and 94.02 average number of examples per arm\n",
      "Shape of p: (22754, 10), scene: (22754, 5, 2)\n",
      "Found 78/320 empty arms\n",
      "Found 320 unique arms and 66.42 average number of examples per arm\n",
      "Using seed: 0 for warm start\n"
     ]
    },
    {
     "name": "stderr",
     "output_type": "stream",
     "text": [
      "Using joint model.\n",
      "Computing per arm accuracy\n",
      "Found 144 unsupported arms of the total 320 arms\n",
      "Done\n",
      "Best, worst, mean accuracy: 1.0000, 0.0400 0.6387\n",
      "Acc quantiles: [0.04       0.31203008 0.53690732 0.67107084 0.78273292 0.87867647\n",
      " 1.        ]\n",
      "Worst arms: [0.04       0.05555556 0.08695652 0.11111111 0.16666667 0.1875\n",
      " 0.1875     0.2        0.2        0.22222222 0.24242424 0.25\n",
      " 0.25       0.25287356 0.27272727 0.28571429 0.28571429 0.30263158\n",
      " 0.32142857 0.33823529 0.36397059 0.375      0.38095238 0.38461538\n",
      " 0.39130435 0.4        0.40625    0.41176471 0.41666667 0.42857143]\n",
      "Read model from ../data/cocos3_10k/kernel.pb\n",
      "Temp: tensor([1.6048, 1.1647, 0.8773, 1.1408, 0.6534, 0.6062])\n",
      "Read model from ../data/cocos3_10k/kernel_no_edge_potential.pb\n",
      "Temp: tensor([1.6343, 1.2952, 1.0454, 1.1590, 0.5719, 0.6520])\n"
     ]
    },
    {
     "name": "stdout",
     "output_type": "stream",
     "text": [
      "Num untouched: 144/320\n",
      "Found 176 for acc sigma: 0.000000\n",
      "Found 37 for acc sigma: 0.300000\n",
      "Found 1 for acc sigma: 0.700000\n",
      "Brute force predictor perf.: 0.0646 0.0453 0.0046\n",
      "Num train, val: 118287 5000\n",
      "Found 21833 good ones in train\n",
      "Found 921 good ones in val\n"
     ]
    },
    {
     "name": "stderr",
     "output_type": "stream",
     "text": [
      "Empirical accuracy: 0.7337\n"
     ]
    },
    {
     "name": "stdout",
     "output_type": "stream",
     "text": [
      "Per scene label acc:\n",
      "[0.92647447 0.87443966 0.88832733 0.73323372 0.79304738]\n",
      "Found 242 unique arms and 94.02 average number of examples per arm\n",
      "Shape of p: (22754, 10), scene: (22754, 5, 2)\n",
      "Found 78/320 empty arms\n",
      "Found 320 unique arms and 66.42 average number of examples per arm\n",
      "Using seed: 1 for warm start\n"
     ]
    },
    {
     "name": "stderr",
     "output_type": "stream",
     "text": [
      "Using joint model.\n",
      "Computing per arm accuracy\n",
      "Found 144 unsupported arms of the total 320 arms\n",
      "Done\n",
      "Best, worst, mean accuracy: 1.0000, 0.0400 0.6387\n",
      "Acc quantiles: [0.04       0.31203008 0.53690732 0.67107084 0.78273292 0.87867647\n",
      " 1.        ]\n",
      "Worst arms: [0.04       0.05555556 0.08695652 0.11111111 0.16666667 0.1875\n",
      " 0.1875     0.2        0.2        0.22222222 0.24242424 0.25\n",
      " 0.25       0.25287356 0.27272727 0.28571429 0.28571429 0.30263158\n",
      " 0.32142857 0.33823529 0.36397059 0.375      0.38095238 0.38461538\n",
      " 0.39130435 0.4        0.40625    0.41176471 0.41666667 0.42857143]\n",
      "Read model from ../data/cocos3_10k/kernel.pb\n",
      "Temp: tensor([1.6048, 1.1647, 0.8773, 1.1408, 0.6534, 0.6062])\n",
      "Read model from ../data/cocos3_10k/kernel_no_edge_potential.pb\n",
      "Temp: tensor([1.6343, 1.2952, 1.0454, 1.1590, 0.5719, 0.6520])\n"
     ]
    },
    {
     "name": "stdout",
     "output_type": "stream",
     "text": [
      "Num untouched: 140/320\n",
      "Found 176 for acc sigma: 0.000000\n",
      "Found 45 for acc sigma: 0.300000\n",
      "Found 3 for acc sigma: 0.700000\n",
      "Brute force predictor perf.: 0.0684 0.0516 0.0112\n",
      "Num train, val: 118287 5000\n",
      "Found 21833 good ones in train\n",
      "Found 921 good ones in val\n"
     ]
    },
    {
     "name": "stderr",
     "output_type": "stream",
     "text": [
      "Empirical accuracy: 0.7297\n"
     ]
    },
    {
     "name": "stdout",
     "output_type": "stream",
     "text": [
      "Per scene label acc:\n",
      "[0.92647447 0.87443966 0.88832733 0.73323372 0.79304738]\n",
      "Found 242 unique arms and 94.02 average number of examples per arm\n",
      "Shape of p: (22754, 10), scene: (22754, 5, 2)\n",
      "Found 78/320 empty arms\n",
      "Found 320 unique arms and 66.42 average number of examples per arm\n",
      "Using seed: 2 for warm start\n"
     ]
    },
    {
     "name": "stderr",
     "output_type": "stream",
     "text": [
      "Using joint model.\n",
      "Computing per arm accuracy\n",
      "Found 144 unsupported arms of the total 320 arms\n",
      "Done\n",
      "Best, worst, mean accuracy: 1.0000, 0.0400 0.6387\n",
      "Acc quantiles: [0.04       0.31203008 0.53690732 0.67107084 0.78273292 0.87867647\n",
      " 1.        ]\n",
      "Worst arms: [0.04       0.05555556 0.08695652 0.11111111 0.16666667 0.1875\n",
      " 0.1875     0.2        0.2        0.22222222 0.24242424 0.25\n",
      " 0.25       0.25287356 0.27272727 0.28571429 0.28571429 0.30263158\n",
      " 0.32142857 0.33823529 0.36397059 0.375      0.38095238 0.38461538\n",
      " 0.39130435 0.4        0.40625    0.41176471 0.41666667 0.42857143]\n",
      "Read model from ../data/cocos3_10k/kernel.pb\n",
      "Temp: tensor([1.6048, 1.1647, 0.8773, 1.1408, 0.6534, 0.6062])\n",
      "Read model from ../data/cocos3_10k/kernel_no_edge_potential.pb\n",
      "Temp: tensor([1.6343, 1.2952, 1.0454, 1.1590, 0.5719, 0.6520])\n"
     ]
    },
    {
     "name": "stdout",
     "output_type": "stream",
     "text": [
      "Num untouched: 142/320\n",
      "Found 176 for acc sigma: 0.000000\n",
      "Found 40 for acc sigma: 0.300000\n",
      "Found 1 for acc sigma: 0.700000\n",
      "Brute force predictor perf.: 0.0677 0.0481 0.0046\n",
      "Num train, val: 118287 5000\n",
      "Found 21833 good ones in train\n",
      "Found 921 good ones in val\n"
     ]
    },
    {
     "name": "stderr",
     "output_type": "stream",
     "text": [
      "Empirical accuracy: 0.7320\n"
     ]
    },
    {
     "name": "stdout",
     "output_type": "stream",
     "text": [
      "Per scene label acc:\n",
      "[0.92647447 0.87443966 0.88832733 0.73323372 0.79304738]\n",
      "Found 242 unique arms and 94.02 average number of examples per arm\n",
      "Shape of p: (22754, 10), scene: (22754, 5, 2)\n",
      "Found 78/320 empty arms\n",
      "Found 320 unique arms and 66.42 average number of examples per arm\n",
      "Using seed: 0 for warm start\n"
     ]
    },
    {
     "name": "stderr",
     "output_type": "stream",
     "text": [
      "Using joint model.\n",
      "Computing per arm accuracy\n",
      "Found 144 unsupported arms of the total 320 arms\n",
      "Done\n",
      "Best, worst, mean accuracy: 1.0000, 0.0400 0.6387\n",
      "Acc quantiles: [0.04       0.31203008 0.53690732 0.67107084 0.78273292 0.87867647\n",
      " 1.        ]\n",
      "Worst arms: [0.04       0.05555556 0.08695652 0.11111111 0.16666667 0.1875\n",
      " 0.1875     0.2        0.2        0.22222222 0.24242424 0.25\n",
      " 0.25       0.25287356 0.27272727 0.28571429 0.28571429 0.30263158\n",
      " 0.32142857 0.33823529 0.36397059 0.375      0.38095238 0.38461538\n",
      " 0.39130435 0.4        0.40625    0.41176471 0.41666667 0.42857143]\n",
      "Read model from ../data/cocos3_10k/kernel.pb\n",
      "Temp: tensor([1.6048, 1.1647, 0.8773, 1.1408, 0.6534, 0.6062])\n",
      "Read model from ../data/cocos3_10k/kernel_no_edge_potential.pb\n",
      "Temp: tensor([1.6343, 1.2952, 1.0454, 1.1590, 0.5719, 0.6520])\n"
     ]
    },
    {
     "name": "stdout",
     "output_type": "stream",
     "text": [
      "Num untouched: 24/320\n",
      "Found 176 for acc sigma: 0.000000\n",
      "Found 39 for acc sigma: 0.300000\n",
      "Found 2 for acc sigma: 0.700000\n",
      "Brute force predictor perf.: 0.0733 0.0545 0.0065\n",
      "Num train, val: 118287 5000\n",
      "Found 21833 good ones in train\n",
      "Found 921 good ones in val\n"
     ]
    },
    {
     "name": "stderr",
     "output_type": "stream",
     "text": [
      "Empirical accuracy: 0.7337\n"
     ]
    },
    {
     "name": "stdout",
     "output_type": "stream",
     "text": [
      "Per scene label acc:\n",
      "[0.92647447 0.87443966 0.88832733 0.73323372 0.79304738]\n",
      "Found 242 unique arms and 94.02 average number of examples per arm\n",
      "Shape of p: (22754, 10), scene: (22754, 5, 2)\n",
      "Found 78/320 empty arms\n",
      "Found 320 unique arms and 66.42 average number of examples per arm\n",
      "Using seed: 1 for warm start\n"
     ]
    },
    {
     "name": "stderr",
     "output_type": "stream",
     "text": [
      "Using joint model.\n",
      "Computing per arm accuracy\n",
      "Found 144 unsupported arms of the total 320 arms\n",
      "Done\n",
      "Best, worst, mean accuracy: 1.0000, 0.0400 0.6387\n",
      "Acc quantiles: [0.04       0.31203008 0.53690732 0.67107084 0.78273292 0.87867647\n",
      " 1.        ]\n",
      "Worst arms: [0.04       0.05555556 0.08695652 0.11111111 0.16666667 0.1875\n",
      " 0.1875     0.2        0.2        0.22222222 0.24242424 0.25\n",
      " 0.25       0.25287356 0.27272727 0.28571429 0.28571429 0.30263158\n",
      " 0.32142857 0.33823529 0.36397059 0.375      0.38095238 0.38461538\n",
      " 0.39130435 0.4        0.40625    0.41176471 0.41666667 0.42857143]\n",
      "Read model from ../data/cocos3_10k/kernel.pb\n",
      "Temp: tensor([1.6048, 1.1647, 0.8773, 1.1408, 0.6534, 0.6062])\n",
      "Read model from ../data/cocos3_10k/kernel_no_edge_potential.pb\n",
      "Temp: tensor([1.6343, 1.2952, 1.0454, 1.1590, 0.5719, 0.6520])\n"
     ]
    },
    {
     "name": "stdout",
     "output_type": "stream",
     "text": [
      "Num untouched: 24/320\n",
      "Found 176 for acc sigma: 0.000000\n",
      "Found 37 for acc sigma: 0.300000\n",
      "Found 1 for acc sigma: 0.700000\n",
      "Brute force predictor perf.: 0.0648 0.0450 0.0033\n",
      "Num train, val: 118287 5000\n",
      "Found 21833 good ones in train\n",
      "Found 921 good ones in val\n"
     ]
    },
    {
     "name": "stderr",
     "output_type": "stream",
     "text": [
      "Empirical accuracy: 0.7297\n"
     ]
    },
    {
     "name": "stdout",
     "output_type": "stream",
     "text": [
      "Per scene label acc:\n",
      "[0.92647447 0.87443966 0.88832733 0.73323372 0.79304738]\n",
      "Found 242 unique arms and 94.02 average number of examples per arm\n",
      "Shape of p: (22754, 10), scene: (22754, 5, 2)\n",
      "Found 78/320 empty arms\n",
      "Found 320 unique arms and 66.42 average number of examples per arm\n",
      "Using seed: 2 for warm start\n"
     ]
    },
    {
     "name": "stderr",
     "output_type": "stream",
     "text": [
      "Using joint model.\n",
      "Computing per arm accuracy\n",
      "Found 144 unsupported arms of the total 320 arms\n",
      "Done\n",
      "Best, worst, mean accuracy: 1.0000, 0.0400 0.6387\n",
      "Acc quantiles: [0.04       0.31203008 0.53690732 0.67107084 0.78273292 0.87867647\n",
      " 1.        ]\n",
      "Worst arms: [0.04       0.05555556 0.08695652 0.11111111 0.16666667 0.1875\n",
      " 0.1875     0.2        0.2        0.22222222 0.24242424 0.25\n",
      " 0.25       0.25287356 0.27272727 0.28571429 0.28571429 0.30263158\n",
      " 0.32142857 0.33823529 0.36397059 0.375      0.38095238 0.38461538\n",
      " 0.39130435 0.4        0.40625    0.41176471 0.41666667 0.42857143]\n",
      "Read model from ../data/cocos3_10k/kernel.pb\n",
      "Temp: tensor([1.6048, 1.1647, 0.8773, 1.1408, 0.6534, 0.6062])\n",
      "Read model from ../data/cocos3_10k/kernel_no_edge_potential.pb\n",
      "Temp: tensor([1.6343, 1.2952, 1.0454, 1.1590, 0.5719, 0.6520])\n"
     ]
    },
    {
     "name": "stdout",
     "output_type": "stream",
     "text": [
      "Num untouched: 24/320\n",
      "Found 176 for acc sigma: 0.000000\n",
      "Found 37 for acc sigma: 0.300000\n",
      "Found 1 for acc sigma: 0.700000\n",
      "Brute force predictor perf.: 0.0728 0.0512 0.0033\n",
      "Num train, val: 118287 5000\n",
      "Found 21833 good ones in train\n",
      "Found 921 good ones in val\n"
     ]
    },
    {
     "name": "stderr",
     "output_type": "stream",
     "text": [
      "Empirical accuracy: 0.7320\n"
     ]
    },
    {
     "name": "stdout",
     "output_type": "stream",
     "text": [
      "Per scene label acc:\n",
      "[0.92647447 0.87443966 0.88832733 0.73323372 0.79304738]\n",
      "Found 242 unique arms and 94.02 average number of examples per arm\n",
      "Shape of p: (22754, 10), scene: (22754, 5, 2)\n",
      "Found 78/320 empty arms\n",
      "Found 320 unique arms and 66.42 average number of examples per arm\n",
      "Using seed: 0 for warm start\n"
     ]
    },
    {
     "name": "stderr",
     "output_type": "stream",
     "text": [
      "Using joint model.\n",
      "Computing per arm accuracy\n",
      "Found 144 unsupported arms of the total 320 arms\n",
      "Done\n",
      "Best, worst, mean accuracy: 1.0000, 0.0400 0.6387\n",
      "Acc quantiles: [0.04       0.31203008 0.53690732 0.67107084 0.78273292 0.87867647\n",
      " 1.        ]\n",
      "Worst arms: [0.04       0.05555556 0.08695652 0.11111111 0.16666667 0.1875\n",
      " 0.1875     0.2        0.2        0.22222222 0.24242424 0.25\n",
      " 0.25       0.25287356 0.27272727 0.28571429 0.28571429 0.30263158\n",
      " 0.32142857 0.33823529 0.36397059 0.375      0.38095238 0.38461538\n",
      " 0.39130435 0.4        0.40625    0.41176471 0.41666667 0.42857143]\n",
      "Read model from ../data/cocos3_10k/kernel.pb\n",
      "Temp: tensor([1.6048, 1.1647, 0.8773, 1.1408, 0.6534, 0.6062])\n",
      "Read model from ../data/cocos3_10k/kernel_no_edge_potential.pb\n",
      "Temp: tensor([1.6343, 1.2952, 1.0454, 1.1590, 0.5719, 0.6520])\n"
     ]
    },
    {
     "name": "stdout",
     "output_type": "stream",
     "text": [
      "Num untouched: 144/320\n",
      "Found 176 for acc sigma: 0.000000\n",
      "Found 50 for acc sigma: 0.300000\n",
      "Found 4 for acc sigma: 0.700000\n",
      "Brute force predictor perf.: 0.0880 0.0707 0.0128\n",
      "Num train, val: 118287 5000\n",
      "Found 21833 good ones in train\n",
      "Found 921 good ones in val\n"
     ]
    },
    {
     "name": "stderr",
     "output_type": "stream",
     "text": [
      "Empirical accuracy: 0.7337\n"
     ]
    },
    {
     "name": "stdout",
     "output_type": "stream",
     "text": [
      "Per scene label acc:\n",
      "[0.92647447 0.87443966 0.88832733 0.73323372 0.79304738]\n",
      "Found 242 unique arms and 94.02 average number of examples per arm\n",
      "Shape of p: (22754, 10), scene: (22754, 5, 2)\n",
      "Found 78/320 empty arms\n",
      "Found 320 unique arms and 66.42 average number of examples per arm\n",
      "Using seed: 1 for warm start\n"
     ]
    },
    {
     "name": "stderr",
     "output_type": "stream",
     "text": [
      "Using joint model.\n",
      "Computing per arm accuracy\n",
      "Found 144 unsupported arms of the total 320 arms\n",
      "Done\n",
      "Best, worst, mean accuracy: 1.0000, 0.0400 0.6387\n",
      "Acc quantiles: [0.04       0.31203008 0.53690732 0.67107084 0.78273292 0.87867647\n",
      " 1.        ]\n",
      "Worst arms: [0.04       0.05555556 0.08695652 0.11111111 0.16666667 0.1875\n",
      " 0.1875     0.2        0.2        0.22222222 0.24242424 0.25\n",
      " 0.25       0.25287356 0.27272727 0.28571429 0.28571429 0.30263158\n",
      " 0.32142857 0.33823529 0.36397059 0.375      0.38095238 0.38461538\n",
      " 0.39130435 0.4        0.40625    0.41176471 0.41666667 0.42857143]\n",
      "Read model from ../data/cocos3_10k/kernel.pb\n",
      "Temp: tensor([1.6048, 1.1647, 0.8773, 1.1408, 0.6534, 0.6062])\n",
      "Read model from ../data/cocos3_10k/kernel_no_edge_potential.pb\n",
      "Temp: tensor([1.6343, 1.2952, 1.0454, 1.1590, 0.5719, 0.6520])\n"
     ]
    },
    {
     "name": "stdout",
     "output_type": "stream",
     "text": [
      "Num untouched: 142/320\n",
      "Found 176 for acc sigma: 0.000000\n",
      "Found 49 for acc sigma: 0.300000\n",
      "Found 5 for acc sigma: 0.700000\n",
      "Brute force predictor perf.: 0.0826 0.0659 0.0157\n",
      "Num train, val: 118287 5000\n",
      "Found 21833 good ones in train\n",
      "Found 921 good ones in val\n"
     ]
    },
    {
     "name": "stderr",
     "output_type": "stream",
     "text": [
      "Empirical accuracy: 0.7297\n"
     ]
    },
    {
     "name": "stdout",
     "output_type": "stream",
     "text": [
      "Per scene label acc:\n",
      "[0.92647447 0.87443966 0.88832733 0.73323372 0.79304738]\n",
      "Found 242 unique arms and 94.02 average number of examples per arm\n",
      "Shape of p: (22754, 10), scene: (22754, 5, 2)\n",
      "Found 78/320 empty arms\n",
      "Found 320 unique arms and 66.42 average number of examples per arm\n",
      "Using seed: 2 for warm start\n"
     ]
    },
    {
     "name": "stderr",
     "output_type": "stream",
     "text": [
      "Using joint model.\n",
      "Computing per arm accuracy\n",
      "Found 144 unsupported arms of the total 320 arms\n",
      "Done\n",
      "Best, worst, mean accuracy: 1.0000, 0.0400 0.6387\n",
      "Acc quantiles: [0.04       0.31203008 0.53690732 0.67107084 0.78273292 0.87867647\n",
      " 1.        ]\n",
      "Worst arms: [0.04       0.05555556 0.08695652 0.11111111 0.16666667 0.1875\n",
      " 0.1875     0.2        0.2        0.22222222 0.24242424 0.25\n",
      " 0.25       0.25287356 0.27272727 0.28571429 0.28571429 0.30263158\n",
      " 0.32142857 0.33823529 0.36397059 0.375      0.38095238 0.38461538\n",
      " 0.39130435 0.4        0.40625    0.41176471 0.41666667 0.42857143]\n",
      "Read model from ../data/cocos3_10k/kernel.pb\n",
      "Temp: tensor([1.6048, 1.1647, 0.8773, 1.1408, 0.6534, 0.6062])\n",
      "Read model from ../data/cocos3_10k/kernel_no_edge_potential.pb\n",
      "Temp: tensor([1.6343, 1.2952, 1.0454, 1.1590, 0.5719, 0.6520])\n"
     ]
    },
    {
     "name": "stdout",
     "output_type": "stream",
     "text": [
      "Num untouched: 144/320\n",
      "Found 176 for acc sigma: 0.000000\n",
      "Found 53 for acc sigma: 0.300000\n",
      "Found 3 for acc sigma: 0.700000\n",
      "Brute force predictor perf.: 0.0857 0.0685 0.0091\n",
      "Num train, val: 118287 5000\n",
      "Found 21833 good ones in train\n",
      "Found 921 good ones in val\n"
     ]
    },
    {
     "name": "stderr",
     "output_type": "stream",
     "text": [
      "Empirical accuracy: 0.7320\n"
     ]
    },
    {
     "name": "stdout",
     "output_type": "stream",
     "text": [
      "Per scene label acc:\n",
      "[0.92647447 0.87443966 0.88832733 0.73323372 0.79304738]\n",
      "Found 242 unique arms and 94.02 average number of examples per arm\n",
      "Shape of p: (22754, 10), scene: (22754, 5, 2)\n",
      "Found 78/320 empty arms\n",
      "Found 320 unique arms and 66.42 average number of examples per arm\n",
      "Using seed: 0 for warm start\n"
     ]
    },
    {
     "name": "stderr",
     "output_type": "stream",
     "text": [
      "Using joint model.\n",
      "Computing per arm accuracy\n",
      "Found 144 unsupported arms of the total 320 arms\n",
      "Done\n",
      "Best, worst, mean accuracy: 1.0000, 0.0400 0.6387\n",
      "Acc quantiles: [0.04       0.31203008 0.53690732 0.67107084 0.78273292 0.87867647\n",
      " 1.        ]\n",
      "Worst arms: [0.04       0.05555556 0.08695652 0.11111111 0.16666667 0.1875\n",
      " 0.1875     0.2        0.2        0.22222222 0.24242424 0.25\n",
      " 0.25       0.25287356 0.27272727 0.28571429 0.28571429 0.30263158\n",
      " 0.32142857 0.33823529 0.36397059 0.375      0.38095238 0.38461538\n",
      " 0.39130435 0.4        0.40625    0.41176471 0.41666667 0.42857143]\n",
      "Read model from ../data/cocos3_10k/kernel.pb\n",
      "Temp: tensor([1.6048, 1.1647, 0.8773, 1.1408, 0.6534, 0.6062])\n",
      "Read model from ../data/cocos3_10k/kernel_no_edge_potential.pb\n",
      "Temp: tensor([1.6343, 1.2952, 1.0454, 1.1590, 0.5719, 0.6520])\n"
     ]
    },
    {
     "name": "stdout",
     "output_type": "stream",
     "text": [
      "Num untouched: 133/320\n",
      "Found 176 for acc sigma: 0.000000\n",
      "Found 27 for acc sigma: 0.300000\n",
      "Found 5 for acc sigma: 0.700000\n",
      "Brute force predictor perf.: 0.0492 0.0387 0.0180\n",
      "Num train, val: 118287 5000\n",
      "Found 21833 good ones in train\n",
      "Found 921 good ones in val\n"
     ]
    },
    {
     "name": "stderr",
     "output_type": "stream",
     "text": [
      "Empirical accuracy: 0.7337\n"
     ]
    },
    {
     "name": "stdout",
     "output_type": "stream",
     "text": [
      "Per scene label acc:\n",
      "[0.92647447 0.87443966 0.88832733 0.73323372 0.79304738]\n",
      "Found 242 unique arms and 94.02 average number of examples per arm\n",
      "Shape of p: (22754, 10), scene: (22754, 5, 2)\n",
      "Found 78/320 empty arms\n",
      "Found 320 unique arms and 66.42 average number of examples per arm\n",
      "Using seed: 1 for warm start\n"
     ]
    },
    {
     "name": "stderr",
     "output_type": "stream",
     "text": [
      "Using joint model.\n",
      "Computing per arm accuracy\n",
      "Found 144 unsupported arms of the total 320 arms\n",
      "Done\n",
      "Best, worst, mean accuracy: 1.0000, 0.0400 0.6387\n",
      "Acc quantiles: [0.04       0.31203008 0.53690732 0.67107084 0.78273292 0.87867647\n",
      " 1.        ]\n",
      "Worst arms: [0.04       0.05555556 0.08695652 0.11111111 0.16666667 0.1875\n",
      " 0.1875     0.2        0.2        0.22222222 0.24242424 0.25\n",
      " 0.25       0.25287356 0.27272727 0.28571429 0.28571429 0.30263158\n",
      " 0.32142857 0.33823529 0.36397059 0.375      0.38095238 0.38461538\n",
      " 0.39130435 0.4        0.40625    0.41176471 0.41666667 0.42857143]\n",
      "Read model from ../data/cocos3_10k/kernel.pb\n",
      "Temp: tensor([1.6048, 1.1647, 0.8773, 1.1408, 0.6534, 0.6062])\n",
      "Read model from ../data/cocos3_10k/kernel_no_edge_potential.pb\n",
      "Temp: tensor([1.6343, 1.2952, 1.0454, 1.1590, 0.5719, 0.6520])\n"
     ]
    },
    {
     "name": "stdout",
     "output_type": "stream",
     "text": [
      "Num untouched: 130/320\n",
      "Found 176 for acc sigma: 0.000000\n",
      "Found 29 for acc sigma: 0.300000\n",
      "Found 6 for acc sigma: 0.700000\n",
      "Brute force predictor perf.: 0.0538 0.0443 0.0219\n",
      "Num train, val: 118287 5000\n",
      "Found 21833 good ones in train\n",
      "Found 921 good ones in val\n"
     ]
    },
    {
     "name": "stderr",
     "output_type": "stream",
     "text": [
      "Empirical accuracy: 0.7297\n"
     ]
    },
    {
     "name": "stdout",
     "output_type": "stream",
     "text": [
      "Per scene label acc:\n",
      "[0.92647447 0.87443966 0.88832733 0.73323372 0.79304738]\n",
      "Found 242 unique arms and 94.02 average number of examples per arm\n",
      "Shape of p: (22754, 10), scene: (22754, 5, 2)\n",
      "Found 78/320 empty arms\n",
      "Found 320 unique arms and 66.42 average number of examples per arm\n",
      "Using seed: 2 for warm start\n"
     ]
    },
    {
     "name": "stderr",
     "output_type": "stream",
     "text": [
      "Using joint model.\n",
      "Computing per arm accuracy\n",
      "Found 144 unsupported arms of the total 320 arms\n",
      "Done\n",
      "Best, worst, mean accuracy: 1.0000, 0.0400 0.6387\n",
      "Acc quantiles: [0.04       0.31203008 0.53690732 0.67107084 0.78273292 0.87867647\n",
      " 1.        ]\n",
      "Worst arms: [0.04       0.05555556 0.08695652 0.11111111 0.16666667 0.1875\n",
      " 0.1875     0.2        0.2        0.22222222 0.24242424 0.25\n",
      " 0.25       0.25287356 0.27272727 0.28571429 0.28571429 0.30263158\n",
      " 0.32142857 0.33823529 0.36397059 0.375      0.38095238 0.38461538\n",
      " 0.39130435 0.4        0.40625    0.41176471 0.41666667 0.42857143]\n",
      "Read model from ../data/cocos3_10k/kernel.pb\n",
      "Temp: tensor([1.6048, 1.1647, 0.8773, 1.1408, 0.6534, 0.6062])\n",
      "Read model from ../data/cocos3_10k/kernel_no_edge_potential.pb\n",
      "Temp: tensor([1.6343, 1.2952, 1.0454, 1.1590, 0.5719, 0.6520])\n"
     ]
    },
    {
     "name": "stdout",
     "output_type": "stream",
     "text": [
      "Num untouched: 131/320\n",
      "Found 176 for acc sigma: 0.000000\n",
      "Found 28 for acc sigma: 0.300000\n",
      "Found 5 for acc sigma: 0.700000\n",
      "Brute force predictor perf.: 0.0510 0.0402 0.0180\n",
      "Num train, val: 118287 5000\n",
      "Found 21833 good ones in train\n",
      "Found 921 good ones in val\n"
     ]
    },
    {
     "name": "stderr",
     "output_type": "stream",
     "text": [
      "Empirical accuracy: 0.7320\n"
     ]
    },
    {
     "name": "stdout",
     "output_type": "stream",
     "text": [
      "Per scene label acc:\n",
      "[0.92647447 0.87443966 0.88832733 0.73323372 0.79304738]\n",
      "Found 242 unique arms and 94.02 average number of examples per arm\n",
      "Shape of p: (22754, 10), scene: (22754, 5, 2)\n",
      "Found 78/320 empty arms\n",
      "Found 320 unique arms and 66.42 average number of examples per arm\n",
      "Using seed: 0 for warm start\n"
     ]
    },
    {
     "name": "stderr",
     "output_type": "stream",
     "text": [
      "Using joint model.\n",
      "Computing per arm accuracy\n",
      "Found 144 unsupported arms of the total 320 arms\n",
      "Done\n",
      "Best, worst, mean accuracy: 1.0000, 0.0400 0.6387\n",
      "Acc quantiles: [0.04       0.31203008 0.53690732 0.67107084 0.78273292 0.87867647\n",
      " 1.        ]\n",
      "Worst arms: [0.04       0.05555556 0.08695652 0.11111111 0.16666667 0.1875\n",
      " 0.1875     0.2        0.2        0.22222222 0.24242424 0.25\n",
      " 0.25       0.25287356 0.27272727 0.28571429 0.28571429 0.30263158\n",
      " 0.32142857 0.33823529 0.36397059 0.375      0.38095238 0.38461538\n",
      " 0.39130435 0.4        0.40625    0.41176471 0.41666667 0.42857143]\n",
      "Read model from ../data/cocos3_10k/kernel.pb\n",
      "Temp: tensor([1.6048, 1.1647, 0.8773, 1.1408, 0.6534, 0.6062])\n",
      "Read model from ../data/cocos3_10k/kernel_no_edge_potential.pb\n",
      "Temp: tensor([1.6343, 1.2952, 1.0454, 1.1590, 0.5719, 0.6520])\n"
     ]
    },
    {
     "name": "stdout",
     "output_type": "stream",
     "text": [
      "Num untouched: 138/320\n",
      "Found 176 for acc sigma: 0.000000\n",
      "Found 40 for acc sigma: 0.300000\n",
      "Found 1 for acc sigma: 0.700000\n",
      "Brute force predictor perf.: 0.0675 0.0490 0.0048\n",
      "Num train, val: 118287 5000\n",
      "Found 21833 good ones in train\n",
      "Found 921 good ones in val\n"
     ]
    },
    {
     "name": "stderr",
     "output_type": "stream",
     "text": [
      "Empirical accuracy: 0.7316\n"
     ]
    },
    {
     "name": "stdout",
     "output_type": "stream",
     "text": [
      "Per scene label acc:\n",
      "[0.92647447 0.87443966 0.88832733 0.73323372 0.79304738]\n",
      "Found 242 unique arms and 94.02 average number of examples per arm\n",
      "Shape of p: (22754, 10), scene: (22754, 5, 2)\n",
      "Found 78/320 empty arms\n",
      "Found 320 unique arms and 66.42 average number of examples per arm\n",
      "Using seed: 1 for warm start\n"
     ]
    },
    {
     "name": "stderr",
     "output_type": "stream",
     "text": [
      "Using joint model.\n",
      "Computing per arm accuracy\n",
      "Found 144 unsupported arms of the total 320 arms\n",
      "Done\n",
      "Best, worst, mean accuracy: 1.0000, 0.0400 0.6387\n",
      "Acc quantiles: [0.04       0.31203008 0.53690732 0.67107084 0.78273292 0.87867647\n",
      " 1.        ]\n",
      "Worst arms: [0.04       0.05555556 0.08695652 0.11111111 0.16666667 0.1875\n",
      " 0.1875     0.2        0.2        0.22222222 0.24242424 0.25\n",
      " 0.25       0.25287356 0.27272727 0.28571429 0.28571429 0.30263158\n",
      " 0.32142857 0.33823529 0.36397059 0.375      0.38095238 0.38461538\n",
      " 0.39130435 0.4        0.40625    0.41176471 0.41666667 0.42857143]\n",
      "Read model from ../data/cocos3_10k/kernel.pb\n",
      "Temp: tensor([1.6048, 1.1647, 0.8773, 1.1408, 0.6534, 0.6062])\n",
      "Read model from ../data/cocos3_10k/kernel_no_edge_potential.pb\n",
      "Temp: tensor([1.6343, 1.2952, 1.0454, 1.1590, 0.5719, 0.6520])\n"
     ]
    },
    {
     "name": "stdout",
     "output_type": "stream",
     "text": [
      "Num untouched: 134/320\n",
      "Found 176 for acc sigma: 0.000000\n",
      "Found 44 for acc sigma: 0.300000\n",
      "Found 3 for acc sigma: 0.700000\n",
      "Brute force predictor perf.: 0.0724 0.0536 0.0114\n",
      "Num train, val: 118287 5000\n",
      "Found 21833 good ones in train\n",
      "Found 921 good ones in val\n"
     ]
    },
    {
     "name": "stderr",
     "output_type": "stream",
     "text": [
      "Empirical accuracy: 0.7284\n"
     ]
    },
    {
     "name": "stdout",
     "output_type": "stream",
     "text": [
      "Per scene label acc:\n",
      "[0.92647447 0.87443966 0.88832733 0.73323372 0.79304738]\n",
      "Found 242 unique arms and 94.02 average number of examples per arm\n",
      "Shape of p: (22754, 10), scene: (22754, 5, 2)\n",
      "Found 78/320 empty arms\n",
      "Found 320 unique arms and 66.42 average number of examples per arm\n",
      "Using seed: 2 for warm start\n"
     ]
    },
    {
     "name": "stderr",
     "output_type": "stream",
     "text": [
      "Using joint model.\n",
      "Computing per arm accuracy\n",
      "Found 144 unsupported arms of the total 320 arms\n",
      "Done\n",
      "Best, worst, mean accuracy: 1.0000, 0.0400 0.6387\n",
      "Acc quantiles: [0.04       0.31203008 0.53690732 0.67107084 0.78273292 0.87867647\n",
      " 1.        ]\n",
      "Worst arms: [0.04       0.05555556 0.08695652 0.11111111 0.16666667 0.1875\n",
      " 0.1875     0.2        0.2        0.22222222 0.24242424 0.25\n",
      " 0.25       0.25287356 0.27272727 0.28571429 0.28571429 0.30263158\n",
      " 0.32142857 0.33823529 0.36397059 0.375      0.38095238 0.38461538\n",
      " 0.39130435 0.4        0.40625    0.41176471 0.41666667 0.42857143]\n",
      "Read model from ../data/cocos3_10k/kernel.pb\n",
      "Temp: tensor([1.6048, 1.1647, 0.8773, 1.1408, 0.6534, 0.6062])\n",
      "Read model from ../data/cocos3_10k/kernel_no_edge_potential.pb\n",
      "Temp: tensor([1.6343, 1.2952, 1.0454, 1.1590, 0.5719, 0.6520])\n"
     ]
    },
    {
     "name": "stdout",
     "output_type": "stream",
     "text": [
      "Num untouched: 136/320\n",
      "Found 176 for acc sigma: 0.000000\n",
      "Found 44 for acc sigma: 0.300000\n",
      "Found 1 for acc sigma: 0.700000\n",
      "Brute force predictor perf.: 0.0710 0.0517 0.0048\n",
      "Num train, val: 118287 5000\n",
      "Found 21833 good ones in train\n",
      "Found 921 good ones in val\n"
     ]
    },
    {
     "name": "stderr",
     "output_type": "stream",
     "text": [
      "Empirical accuracy: 0.7302\n"
     ]
    },
    {
     "name": "stdout",
     "output_type": "stream",
     "text": [
      "Per scene label acc:\n",
      "[0.92647447 0.87443966 0.88832733 0.73323372 0.79304738]\n",
      "Found 242 unique arms and 94.02 average number of examples per arm\n",
      "Shape of p: (22754, 10), scene: (22754, 5, 2)\n",
      "Found 78/320 empty arms\n",
      "Found 320 unique arms and 66.42 average number of examples per arm\n",
      "Using seed: 0 for warm start\n"
     ]
    },
    {
     "name": "stderr",
     "output_type": "stream",
     "text": [
      "Using joint model.\n",
      "Computing per arm accuracy\n",
      "Found 144 unsupported arms of the total 320 arms\n",
      "Done\n",
      "Best, worst, mean accuracy: 1.0000, 0.0400 0.6387\n",
      "Acc quantiles: [0.04       0.31203008 0.53690732 0.67107084 0.78273292 0.87867647\n",
      " 1.        ]\n",
      "Worst arms: [0.04       0.05555556 0.08695652 0.11111111 0.16666667 0.1875\n",
      " 0.1875     0.2        0.2        0.22222222 0.24242424 0.25\n",
      " 0.25       0.25287356 0.27272727 0.28571429 0.28571429 0.30263158\n",
      " 0.32142857 0.33823529 0.36397059 0.375      0.38095238 0.38461538\n",
      " 0.39130435 0.4        0.40625    0.41176471 0.41666667 0.42857143]\n",
      "Read model from ../data/cocos3_10k/kernel.pb\n",
      "Temp: tensor([1.6048, 1.1647, 0.8773, 1.1408, 0.6534, 0.6062])\n",
      "Read model from ../data/cocos3_10k/kernel_no_edge_potential.pb\n",
      "Temp: tensor([1.6343, 1.2952, 1.0454, 1.1590, 0.5719, 0.6520])\n"
     ]
    },
    {
     "name": "stdout",
     "output_type": "stream",
     "text": [
      "Num untouched: 18/320\n",
      "Found 176 for acc sigma: 0.000000\n",
      "Found 40 for acc sigma: 0.300000\n",
      "Found 3 for acc sigma: 0.700000\n",
      "Brute force predictor perf.: 0.0735 0.0538 0.0094\n",
      "Num train, val: 118287 5000\n",
      "Found 21833 good ones in train\n",
      "Found 921 good ones in val\n"
     ]
    },
    {
     "name": "stderr",
     "output_type": "stream",
     "text": [
      "Empirical accuracy: 0.7316\n"
     ]
    },
    {
     "name": "stdout",
     "output_type": "stream",
     "text": [
      "Per scene label acc:\n",
      "[0.92647447 0.87443966 0.88832733 0.73323372 0.79304738]\n",
      "Found 242 unique arms and 94.02 average number of examples per arm\n",
      "Shape of p: (22754, 10), scene: (22754, 5, 2)\n",
      "Found 78/320 empty arms\n",
      "Found 320 unique arms and 66.42 average number of examples per arm\n",
      "Using seed: 1 for warm start\n"
     ]
    },
    {
     "name": "stderr",
     "output_type": "stream",
     "text": [
      "Using joint model.\n",
      "Computing per arm accuracy\n",
      "Found 144 unsupported arms of the total 320 arms\n",
      "Done\n",
      "Best, worst, mean accuracy: 1.0000, 0.0400 0.6387\n",
      "Acc quantiles: [0.04       0.31203008 0.53690732 0.67107084 0.78273292 0.87867647\n",
      " 1.        ]\n",
      "Worst arms: [0.04       0.05555556 0.08695652 0.11111111 0.16666667 0.1875\n",
      " 0.1875     0.2        0.2        0.22222222 0.24242424 0.25\n",
      " 0.25       0.25287356 0.27272727 0.28571429 0.28571429 0.30263158\n",
      " 0.32142857 0.33823529 0.36397059 0.375      0.38095238 0.38461538\n",
      " 0.39130435 0.4        0.40625    0.41176471 0.41666667 0.42857143]\n",
      "Read model from ../data/cocos3_10k/kernel.pb\n",
      "Temp: tensor([1.6048, 1.1647, 0.8773, 1.1408, 0.6534, 0.6062])\n",
      "Read model from ../data/cocos3_10k/kernel_no_edge_potential.pb\n",
      "Temp: tensor([1.6343, 1.2952, 1.0454, 1.1590, 0.5719, 0.6520])\n"
     ]
    },
    {
     "name": "stdout",
     "output_type": "stream",
     "text": [
      "Num untouched: 18/320\n",
      "Found 176 for acc sigma: 0.000000\n",
      "Found 36 for acc sigma: 0.300000\n",
      "Found 1 for acc sigma: 0.700000\n",
      "Brute force predictor perf.: 0.0670 0.0453 0.0034\n",
      "Num train, val: 118287 5000\n",
      "Found 21833 good ones in train\n",
      "Found 921 good ones in val\n"
     ]
    },
    {
     "name": "stderr",
     "output_type": "stream",
     "text": [
      "Empirical accuracy: 0.7284\n"
     ]
    },
    {
     "name": "stdout",
     "output_type": "stream",
     "text": [
      "Per scene label acc:\n",
      "[0.92647447 0.87443966 0.88832733 0.73323372 0.79304738]\n",
      "Found 242 unique arms and 94.02 average number of examples per arm\n",
      "Shape of p: (22754, 10), scene: (22754, 5, 2)\n",
      "Found 78/320 empty arms\n",
      "Found 320 unique arms and 66.42 average number of examples per arm\n",
      "Using seed: 2 for warm start\n"
     ]
    },
    {
     "name": "stderr",
     "output_type": "stream",
     "text": [
      "Using joint model.\n",
      "Computing per arm accuracy\n",
      "Found 144 unsupported arms of the total 320 arms\n",
      "Done\n",
      "Best, worst, mean accuracy: 1.0000, 0.0400 0.6387\n",
      "Acc quantiles: [0.04       0.31203008 0.53690732 0.67107084 0.78273292 0.87867647\n",
      " 1.        ]\n",
      "Worst arms: [0.04       0.05555556 0.08695652 0.11111111 0.16666667 0.1875\n",
      " 0.1875     0.2        0.2        0.22222222 0.24242424 0.25\n",
      " 0.25       0.25287356 0.27272727 0.28571429 0.28571429 0.30263158\n",
      " 0.32142857 0.33823529 0.36397059 0.375      0.38095238 0.38461538\n",
      " 0.39130435 0.4        0.40625    0.41176471 0.41666667 0.42857143]\n",
      "Read model from ../data/cocos3_10k/kernel.pb\n",
      "Temp: tensor([1.6048, 1.1647, 0.8773, 1.1408, 0.6534, 0.6062])\n",
      "Read model from ../data/cocos3_10k/kernel_no_edge_potential.pb\n",
      "Temp: tensor([1.6343, 1.2952, 1.0454, 1.1590, 0.5719, 0.6520])\n"
     ]
    },
    {
     "name": "stdout",
     "output_type": "stream",
     "text": [
      "Num untouched: 18/320\n",
      "Found 176 for acc sigma: 0.000000\n",
      "Found 40 for acc sigma: 0.300000\n",
      "Found 1 for acc sigma: 0.700000\n",
      "Brute force predictor perf.: 0.0737 0.0519 0.0034\n",
      "Num train, val: 118287 5000\n",
      "Found 21833 good ones in train\n",
      "Found 921 good ones in val\n"
     ]
    },
    {
     "name": "stderr",
     "output_type": "stream",
     "text": [
      "Empirical accuracy: 0.7302\n"
     ]
    },
    {
     "name": "stdout",
     "output_type": "stream",
     "text": [
      "Per scene label acc:\n",
      "[0.92647447 0.87443966 0.88832733 0.73323372 0.79304738]\n",
      "Found 242 unique arms and 94.02 average number of examples per arm\n",
      "Shape of p: (22754, 10), scene: (22754, 5, 2)\n",
      "Found 78/320 empty arms\n",
      "Found 320 unique arms and 66.42 average number of examples per arm\n",
      "Using seed: 0 for warm start\n"
     ]
    },
    {
     "name": "stderr",
     "output_type": "stream",
     "text": [
      "Using joint model.\n",
      "Computing per arm accuracy\n",
      "Found 144 unsupported arms of the total 320 arms\n",
      "Done\n",
      "Best, worst, mean accuracy: 1.0000, 0.0400 0.6387\n",
      "Acc quantiles: [0.04       0.31203008 0.53690732 0.67107084 0.78273292 0.87867647\n",
      " 1.        ]\n",
      "Worst arms: [0.04       0.05555556 0.08695652 0.11111111 0.16666667 0.1875\n",
      " 0.1875     0.2        0.2        0.22222222 0.24242424 0.25\n",
      " 0.25       0.25287356 0.27272727 0.28571429 0.28571429 0.30263158\n",
      " 0.32142857 0.33823529 0.36397059 0.375      0.38095238 0.38461538\n",
      " 0.39130435 0.4        0.40625    0.41176471 0.41666667 0.42857143]\n",
      "Read model from ../data/cocos3_10k/kernel.pb\n",
      "Temp: tensor([1.6048, 1.1647, 0.8773, 1.1408, 0.6534, 0.6062])\n",
      "Read model from ../data/cocos3_10k/kernel_no_edge_potential.pb\n",
      "Temp: tensor([1.6343, 1.2952, 1.0454, 1.1590, 0.5719, 0.6520])\n"
     ]
    },
    {
     "name": "stdout",
     "output_type": "stream",
     "text": [
      "Num untouched: 133/320\n",
      "Found 176 for acc sigma: 0.000000\n",
      "Found 50 for acc sigma: 0.300000\n",
      "Found 5 for acc sigma: 0.700000\n",
      "Brute force predictor perf.: 0.0858 0.0685 0.0163\n",
      "Num train, val: 118287 5000\n",
      "Found 21833 good ones in train\n",
      "Found 921 good ones in val\n",
      "Per scene label acc:\n",
      "[0.92647447 0.87443966 0.88832733 0.73323372 0.79304738]\n",
      "Found 242 unique arms and 94.02 average number of examples per arm\n",
      "Shape of p: (22754, 10), scene: (22754, 5, 2)\n",
      "Found 78/320 empty arms\n",
      "Found 320 unique arms and 66.42 average number of examples per arm\n",
      "Using seed: 1 for warm start\n"
     ]
    },
    {
     "name": "stderr",
     "output_type": "stream",
     "text": [
      "Empirical accuracy: 0.7316\n",
      "Using joint model.\n",
      "Computing per arm accuracy\n",
      "Found 144 unsupported arms of the total 320 arms\n",
      "Done\n",
      "Best, worst, mean accuracy: 1.0000, 0.0400 0.6387\n",
      "Acc quantiles: [0.04       0.31203008 0.53690732 0.67107084 0.78273292 0.87867647\n",
      " 1.        ]\n",
      "Worst arms: [0.04       0.05555556 0.08695652 0.11111111 0.16666667 0.1875\n",
      " 0.1875     0.2        0.2        0.22222222 0.24242424 0.25\n",
      " 0.25       0.25287356 0.27272727 0.28571429 0.28571429 0.30263158\n",
      " 0.32142857 0.33823529 0.36397059 0.375      0.38095238 0.38461538\n",
      " 0.39130435 0.4        0.40625    0.41176471 0.41666667 0.42857143]\n",
      "Read model from ../data/cocos3_10k/kernel.pb\n",
      "Temp: tensor([1.6048, 1.1647, 0.8773, 1.1408, 0.6534, 0.6062])\n",
      "Read model from ../data/cocos3_10k/kernel_no_edge_potential.pb\n",
      "Temp: tensor([1.6343, 1.2952, 1.0454, 1.1590, 0.5719, 0.6520])\n"
     ]
    },
    {
     "name": "stdout",
     "output_type": "stream",
     "text": [
      "Num untouched: 131/320\n",
      "Found 176 for acc sigma: 0.000000\n",
      "Found 48 for acc sigma: 0.300000\n",
      "Found 6 for acc sigma: 0.700000\n",
      "Brute force predictor perf.: 0.0816 0.0640 0.0192\n",
      "Num train, val: 118287 5000\n",
      "Found 21833 good ones in train\n",
      "Found 921 good ones in val\n"
     ]
    },
    {
     "name": "stderr",
     "output_type": "stream",
     "text": [
      "Empirical accuracy: 0.7284\n"
     ]
    },
    {
     "name": "stdout",
     "output_type": "stream",
     "text": [
      "Per scene label acc:\n",
      "[0.92647447 0.87443966 0.88832733 0.73323372 0.79304738]\n",
      "Found 242 unique arms and 94.02 average number of examples per arm\n",
      "Shape of p: (22754, 10), scene: (22754, 5, 2)\n",
      "Found 78/320 empty arms\n",
      "Found 320 unique arms and 66.42 average number of examples per arm\n",
      "Using seed: 2 for warm start\n"
     ]
    },
    {
     "name": "stderr",
     "output_type": "stream",
     "text": [
      "Using joint model.\n",
      "Computing per arm accuracy\n",
      "Found 144 unsupported arms of the total 320 arms\n",
      "Done\n",
      "Best, worst, mean accuracy: 1.0000, 0.0400 0.6387\n",
      "Acc quantiles: [0.04       0.31203008 0.53690732 0.67107084 0.78273292 0.87867647\n",
      " 1.        ]\n",
      "Worst arms: [0.04       0.05555556 0.08695652 0.11111111 0.16666667 0.1875\n",
      " 0.1875     0.2        0.2        0.22222222 0.24242424 0.25\n",
      " 0.25       0.25287356 0.27272727 0.28571429 0.28571429 0.30263158\n",
      " 0.32142857 0.33823529 0.36397059 0.375      0.38095238 0.38461538\n",
      " 0.39130435 0.4        0.40625    0.41176471 0.41666667 0.42857143]\n",
      "Read model from ../data/cocos3_10k/kernel.pb\n",
      "Temp: tensor([1.6048, 1.1647, 0.8773, 1.1408, 0.6534, 0.6062])\n",
      "Read model from ../data/cocos3_10k/kernel_no_edge_potential.pb\n",
      "Temp: tensor([1.6343, 1.2952, 1.0454, 1.1590, 0.5719, 0.6520])\n"
     ]
    },
    {
     "name": "stdout",
     "output_type": "stream",
     "text": [
      "Num untouched: 133/320\n",
      "Found 176 for acc sigma: 0.000000\n",
      "Found 53 for acc sigma: 0.300000\n",
      "Found 4 for acc sigma: 0.700000\n",
      "Brute force predictor perf.: 0.0851 0.0676 0.0126\n",
      "Num train, val: 118287 5000\n",
      "Found 21833 good ones in train\n",
      "Found 921 good ones in val\n"
     ]
    },
    {
     "name": "stderr",
     "output_type": "stream",
     "text": [
      "Empirical accuracy: 0.7302\n"
     ]
    },
    {
     "name": "stdout",
     "output_type": "stream",
     "text": [
      "Per scene label acc:\n",
      "[0.92647447 0.87443966 0.88832733 0.73323372 0.79304738]\n",
      "Found 242 unique arms and 94.02 average number of examples per arm\n",
      "Shape of p: (22754, 10), scene: (22754, 5, 2)\n",
      "Found 78/320 empty arms\n",
      "Found 320 unique arms and 66.42 average number of examples per arm\n",
      "Using seed: 0 for warm start\n"
     ]
    },
    {
     "name": "stderr",
     "output_type": "stream",
     "text": [
      "Using joint model.\n",
      "Computing per arm accuracy\n",
      "Found 144 unsupported arms of the total 320 arms\n",
      "Done\n",
      "Best, worst, mean accuracy: 1.0000, 0.0400 0.6387\n",
      "Acc quantiles: [0.04       0.31203008 0.53690732 0.67107084 0.78273292 0.87867647\n",
      " 1.        ]\n",
      "Worst arms: [0.04       0.05555556 0.08695652 0.11111111 0.16666667 0.1875\n",
      " 0.1875     0.2        0.2        0.22222222 0.24242424 0.25\n",
      " 0.25       0.25287356 0.27272727 0.28571429 0.28571429 0.30263158\n",
      " 0.32142857 0.33823529 0.36397059 0.375      0.38095238 0.38461538\n",
      " 0.39130435 0.4        0.40625    0.41176471 0.41666667 0.42857143]\n",
      "Read model from ../data/cocos3_10k/kernel.pb\n",
      "Temp: tensor([1.6048, 1.1647, 0.8773, 1.1408, 0.6534, 0.6062])\n",
      "Read model from ../data/cocos3_10k/kernel_no_edge_potential.pb\n",
      "Temp: tensor([1.6343, 1.2952, 1.0454, 1.1590, 0.5719, 0.6520])\n"
     ]
    },
    {
     "name": "stdout",
     "output_type": "stream",
     "text": [
      "Num untouched: 125/320\n",
      "Found 176 for acc sigma: 0.000000\n",
      "Found 24 for acc sigma: 0.300000\n",
      "Found 2 for acc sigma: 0.700000\n",
      "Brute force predictor perf.: 0.0360 0.0267 0.0067\n",
      "Num train, val: 118287 5000\n",
      "Found 21833 good ones in train\n",
      "Found 921 good ones in val\n"
     ]
    },
    {
     "name": "stderr",
     "output_type": "stream",
     "text": [
      "Empirical accuracy: 0.7316\n"
     ]
    },
    {
     "name": "stdout",
     "output_type": "stream",
     "text": [
      "Per scene label acc:\n",
      "[0.92647447 0.87443966 0.88832733 0.73323372 0.79304738]\n",
      "Found 242 unique arms and 94.02 average number of examples per arm\n",
      "Shape of p: (22754, 10), scene: (22754, 5, 2)\n",
      "Found 78/320 empty arms\n",
      "Found 320 unique arms and 66.42 average number of examples per arm\n",
      "Using seed: 1 for warm start\n"
     ]
    },
    {
     "name": "stderr",
     "output_type": "stream",
     "text": [
      "Using joint model.\n",
      "Computing per arm accuracy\n",
      "Found 144 unsupported arms of the total 320 arms\n",
      "Done\n",
      "Best, worst, mean accuracy: 1.0000, 0.0400 0.6387\n",
      "Acc quantiles: [0.04       0.31203008 0.53690732 0.67107084 0.78273292 0.87867647\n",
      " 1.        ]\n",
      "Worst arms: [0.04       0.05555556 0.08695652 0.11111111 0.16666667 0.1875\n",
      " 0.1875     0.2        0.2        0.22222222 0.24242424 0.25\n",
      " 0.25       0.25287356 0.27272727 0.28571429 0.28571429 0.30263158\n",
      " 0.32142857 0.33823529 0.36397059 0.375      0.38095238 0.38461538\n",
      " 0.39130435 0.4        0.40625    0.41176471 0.41666667 0.42857143]\n",
      "Read model from ../data/cocos3_10k/kernel.pb\n",
      "Temp: tensor([1.6048, 1.1647, 0.8773, 1.1408, 0.6534, 0.6062])\n",
      "Read model from ../data/cocos3_10k/kernel_no_edge_potential.pb\n",
      "Temp: tensor([1.6343, 1.2952, 1.0454, 1.1590, 0.5719, 0.6520])\n"
     ]
    },
    {
     "name": "stdout",
     "output_type": "stream",
     "text": [
      "Num untouched: 123/320\n",
      "Found 176 for acc sigma: 0.000000\n",
      "Found 22 for acc sigma: 0.300000\n",
      "Found 3 for acc sigma: 0.700000\n",
      "Brute force predictor perf.: 0.0383 0.0291 0.0106\n",
      "Num train, val: 118287 5000\n",
      "Found 21833 good ones in train\n",
      "Found 921 good ones in val\n"
     ]
    },
    {
     "name": "stderr",
     "output_type": "stream",
     "text": [
      "Empirical accuracy: 0.7284\n"
     ]
    },
    {
     "name": "stdout",
     "output_type": "stream",
     "text": [
      "Per scene label acc:\n",
      "[0.92647447 0.87443966 0.88832733 0.73323372 0.79304738]\n",
      "Found 242 unique arms and 94.02 average number of examples per arm\n",
      "Shape of p: (22754, 10), scene: (22754, 5, 2)\n",
      "Found 78/320 empty arms\n",
      "Found 320 unique arms and 66.42 average number of examples per arm\n",
      "Using seed: 2 for warm start\n"
     ]
    },
    {
     "name": "stderr",
     "output_type": "stream",
     "text": [
      "Using joint model.\n",
      "Computing per arm accuracy\n",
      "Found 144 unsupported arms of the total 320 arms\n",
      "Done\n",
      "Best, worst, mean accuracy: 1.0000, 0.0400 0.6387\n",
      "Acc quantiles: [0.04       0.31203008 0.53690732 0.67107084 0.78273292 0.87867647\n",
      " 1.        ]\n",
      "Worst arms: [0.04       0.05555556 0.08695652 0.11111111 0.16666667 0.1875\n",
      " 0.1875     0.2        0.2        0.22222222 0.24242424 0.25\n",
      " 0.25       0.25287356 0.27272727 0.28571429 0.28571429 0.30263158\n",
      " 0.32142857 0.33823529 0.36397059 0.375      0.38095238 0.38461538\n",
      " 0.39130435 0.4        0.40625    0.41176471 0.41666667 0.42857143]\n",
      "Read model from ../data/cocos3_10k/kernel.pb\n",
      "Temp: tensor([1.6048, 1.1647, 0.8773, 1.1408, 0.6534, 0.6062])\n",
      "Read model from ../data/cocos3_10k/kernel_no_edge_potential.pb\n",
      "Temp: tensor([1.6343, 1.2952, 1.0454, 1.1590, 0.5719, 0.6520])\n"
     ]
    },
    {
     "name": "stdout",
     "output_type": "stream",
     "text": [
      "Num untouched: 124/320\n",
      "Found 176 for acc sigma: 0.000000\n",
      "Found 22 for acc sigma: 0.300000\n",
      "Found 2 for acc sigma: 0.700000\n",
      "Brute force predictor perf.: 0.0363 0.0261 0.0067\n",
      "Num train, val: 118287 5000\n",
      "Found 21833 good ones in train\n",
      "Found 921 good ones in val\n"
     ]
    },
    {
     "name": "stderr",
     "output_type": "stream",
     "text": [
      "Empirical accuracy: 0.7302\n"
     ]
    },
    {
     "name": "stdout",
     "output_type": "stream",
     "text": [
      "Per scene label acc:\n",
      "[0.92647447 0.87443966 0.88832733 0.73323372 0.79304738]\n",
      "Found 242 unique arms and 94.02 average number of examples per arm\n",
      "Shape of p: (22754, 10), scene: (22754, 5, 2)\n",
      "Found 78/320 empty arms\n",
      "Found 320 unique arms and 66.42 average number of examples per arm\n",
      "Using seed: 0 for warm start\n"
     ]
    },
    {
     "name": "stderr",
     "output_type": "stream",
     "text": [
      "Using joint model.\n",
      "Computing per arm accuracy\n",
      "Found 144 unsupported arms of the total 320 arms\n",
      "Done\n",
      "Best, worst, mean accuracy: 1.0000, 0.0400 0.6387\n",
      "Acc quantiles: [0.04       0.31203008 0.53690732 0.67107084 0.78273292 0.87867647\n",
      " 1.        ]\n",
      "Worst arms: [0.04       0.05555556 0.08695652 0.11111111 0.16666667 0.1875\n",
      " 0.1875     0.2        0.2        0.22222222 0.24242424 0.25\n",
      " 0.25       0.25287356 0.27272727 0.28571429 0.28571429 0.30263158\n",
      " 0.32142857 0.33823529 0.36397059 0.375      0.38095238 0.38461538\n",
      " 0.39130435 0.4        0.40625    0.41176471 0.41666667 0.42857143]\n",
      "Read model from ../data/cocos3_10k/kernel.pb\n",
      "Temp: tensor([1.6048, 1.1647, 0.8773, 1.1408, 0.6534, 0.6062])\n",
      "Read model from ../data/cocos3_10k/kernel_no_edge_potential.pb\n",
      "Temp: tensor([1.6343, 1.2952, 1.0454, 1.1590, 0.5719, 0.6520])\n"
     ]
    },
    {
     "name": "stdout",
     "output_type": "stream",
     "text": [
      "Num untouched: 135/320\n",
      "Found 176 for acc sigma: 0.000000\n",
      "Found 43 for acc sigma: 0.300000\n",
      "Found 1 for acc sigma: 0.700000\n",
      "Brute force predictor perf.: 0.0704 0.0518 0.0041\n",
      "Num train, val: 118287 5000\n",
      "Found 21833 good ones in train\n",
      "Found 921 good ones in val\n"
     ]
    },
    {
     "name": "stderr",
     "output_type": "stream",
     "text": [
      "Empirical accuracy: 0.7322\n"
     ]
    },
    {
     "name": "stdout",
     "output_type": "stream",
     "text": [
      "Per scene label acc:\n",
      "[0.92647447 0.87443966 0.88832733 0.73323372 0.79304738]\n",
      "Found 242 unique arms and 94.02 average number of examples per arm\n",
      "Shape of p: (22754, 10), scene: (22754, 5, 2)\n",
      "Found 78/320 empty arms\n",
      "Found 320 unique arms and 66.42 average number of examples per arm\n",
      "Using seed: 1 for warm start\n"
     ]
    },
    {
     "name": "stderr",
     "output_type": "stream",
     "text": [
      "Using joint model.\n",
      "Computing per arm accuracy\n",
      "Found 144 unsupported arms of the total 320 arms\n",
      "Done\n",
      "Best, worst, mean accuracy: 1.0000, 0.0400 0.6387\n",
      "Acc quantiles: [0.04       0.31203008 0.53690732 0.67107084 0.78273292 0.87867647\n",
      " 1.        ]\n",
      "Worst arms: [0.04       0.05555556 0.08695652 0.11111111 0.16666667 0.1875\n",
      " 0.1875     0.2        0.2        0.22222222 0.24242424 0.25\n",
      " 0.25       0.25287356 0.27272727 0.28571429 0.28571429 0.30263158\n",
      " 0.32142857 0.33823529 0.36397059 0.375      0.38095238 0.38461538\n",
      " 0.39130435 0.4        0.40625    0.41176471 0.41666667 0.42857143]\n",
      "Read model from ../data/cocos3_10k/kernel.pb\n",
      "Temp: tensor([1.6048, 1.1647, 0.8773, 1.1408, 0.6534, 0.6062])\n",
      "Read model from ../data/cocos3_10k/kernel_no_edge_potential.pb\n",
      "Temp: tensor([1.6343, 1.2952, 1.0454, 1.1590, 0.5719, 0.6520])\n"
     ]
    },
    {
     "name": "stdout",
     "output_type": "stream",
     "text": [
      "Num untouched: 132/320\n",
      "Found 176 for acc sigma: 0.000000\n",
      "Found 49 for acc sigma: 0.300000\n",
      "Found 3 for acc sigma: 0.700000\n",
      "Brute force predictor perf.: 0.0745 0.0569 0.0107\n",
      "Num train, val: 118287 5000\n",
      "Found 21833 good ones in train\n",
      "Found 921 good ones in val\n"
     ]
    },
    {
     "name": "stderr",
     "output_type": "stream",
     "text": [
      "Empirical accuracy: 0.7296\n"
     ]
    },
    {
     "name": "stdout",
     "output_type": "stream",
     "text": [
      "Per scene label acc:\n",
      "[0.92647447 0.87443966 0.88832733 0.73323372 0.79304738]\n",
      "Found 242 unique arms and 94.02 average number of examples per arm\n",
      "Shape of p: (22754, 10), scene: (22754, 5, 2)\n",
      "Found 78/320 empty arms\n",
      "Found 320 unique arms and 66.42 average number of examples per arm\n",
      "Using seed: 2 for warm start\n"
     ]
    },
    {
     "name": "stderr",
     "output_type": "stream",
     "text": [
      "Using joint model.\n",
      "Computing per arm accuracy\n",
      "Found 144 unsupported arms of the total 320 arms\n",
      "Done\n",
      "Best, worst, mean accuracy: 1.0000, 0.0400 0.6387\n",
      "Acc quantiles: [0.04       0.31203008 0.53690732 0.67107084 0.78273292 0.87867647\n",
      " 1.        ]\n",
      "Worst arms: [0.04       0.05555556 0.08695652 0.11111111 0.16666667 0.1875\n",
      " 0.1875     0.2        0.2        0.22222222 0.24242424 0.25\n",
      " 0.25       0.25287356 0.27272727 0.28571429 0.28571429 0.30263158\n",
      " 0.32142857 0.33823529 0.36397059 0.375      0.38095238 0.38461538\n",
      " 0.39130435 0.4        0.40625    0.41176471 0.41666667 0.42857143]\n",
      "Read model from ../data/cocos3_10k/kernel.pb\n",
      "Temp: tensor([1.6048, 1.1647, 0.8773, 1.1408, 0.6534, 0.6062])\n",
      "Read model from ../data/cocos3_10k/kernel_no_edge_potential.pb\n",
      "Temp: tensor([1.6343, 1.2952, 1.0454, 1.1590, 0.5719, 0.6520])\n"
     ]
    },
    {
     "name": "stdout",
     "output_type": "stream",
     "text": [
      "Num untouched: 133/320\n",
      "Found 176 for acc sigma: 0.000000\n",
      "Found 46 for acc sigma: 0.300000\n",
      "Found 1 for acc sigma: 0.700000\n",
      "Brute force predictor perf.: 0.0746 0.0551 0.0041\n",
      "Num train, val: 118287 5000\n",
      "Found 21833 good ones in train\n",
      "Found 921 good ones in val\n"
     ]
    },
    {
     "name": "stderr",
     "output_type": "stream",
     "text": [
      "Empirical accuracy: 0.7311\n"
     ]
    },
    {
     "name": "stdout",
     "output_type": "stream",
     "text": [
      "Per scene label acc:\n",
      "[0.92647447 0.87443966 0.88832733 0.73323372 0.79304738]\n",
      "Found 242 unique arms and 94.02 average number of examples per arm\n",
      "Shape of p: (22754, 10), scene: (22754, 5, 2)\n",
      "Found 78/320 empty arms\n",
      "Found 320 unique arms and 66.42 average number of examples per arm\n",
      "Using seed: 0 for warm start\n"
     ]
    },
    {
     "name": "stderr",
     "output_type": "stream",
     "text": [
      "Using joint model.\n",
      "Computing per arm accuracy\n",
      "Found 144 unsupported arms of the total 320 arms\n",
      "Done\n",
      "Best, worst, mean accuracy: 1.0000, 0.0400 0.6387\n",
      "Acc quantiles: [0.04       0.31203008 0.53690732 0.67107084 0.78273292 0.87867647\n",
      " 1.        ]\n",
      "Worst arms: [0.04       0.05555556 0.08695652 0.11111111 0.16666667 0.1875\n",
      " 0.1875     0.2        0.2        0.22222222 0.24242424 0.25\n",
      " 0.25       0.25287356 0.27272727 0.28571429 0.28571429 0.30263158\n",
      " 0.32142857 0.33823529 0.36397059 0.375      0.38095238 0.38461538\n",
      " 0.39130435 0.4        0.40625    0.41176471 0.41666667 0.42857143]\n",
      "Read model from ../data/cocos3_10k/kernel.pb\n",
      "Temp: tensor([1.6048, 1.1647, 0.8773, 1.1408, 0.6534, 0.6062])\n",
      "Read model from ../data/cocos3_10k/kernel_no_edge_potential.pb\n",
      "Temp: tensor([1.6343, 1.2952, 1.0454, 1.1590, 0.5719, 0.6520])\n"
     ]
    },
    {
     "name": "stdout",
     "output_type": "stream",
     "text": [
      "Num untouched: 15/320\n",
      "Found 176 for acc sigma: 0.000000\n",
      "Found 41 for acc sigma: 0.300000\n",
      "Found 2 for acc sigma: 0.700000\n",
      "Brute force predictor perf.: 0.0766 0.0548 0.0058\n",
      "Num train, val: 118287 5000\n",
      "Found 21833 good ones in train\n",
      "Found 921 good ones in val\n"
     ]
    },
    {
     "name": "stderr",
     "output_type": "stream",
     "text": [
      "Empirical accuracy: 0.7322\n"
     ]
    },
    {
     "name": "stdout",
     "output_type": "stream",
     "text": [
      "Per scene label acc:\n",
      "[0.92647447 0.87443966 0.88832733 0.73323372 0.79304738]\n",
      "Found 242 unique arms and 94.02 average number of examples per arm\n",
      "Shape of p: (22754, 10), scene: (22754, 5, 2)\n",
      "Found 78/320 empty arms\n",
      "Found 320 unique arms and 66.42 average number of examples per arm\n",
      "Using seed: 1 for warm start\n"
     ]
    },
    {
     "name": "stderr",
     "output_type": "stream",
     "text": [
      "Using joint model.\n",
      "Computing per arm accuracy\n",
      "Found 144 unsupported arms of the total 320 arms\n",
      "Done\n",
      "Best, worst, mean accuracy: 1.0000, 0.0400 0.6387\n",
      "Acc quantiles: [0.04       0.31203008 0.53690732 0.67107084 0.78273292 0.87867647\n",
      " 1.        ]\n",
      "Worst arms: [0.04       0.05555556 0.08695652 0.11111111 0.16666667 0.1875\n",
      " 0.1875     0.2        0.2        0.22222222 0.24242424 0.25\n",
      " 0.25       0.25287356 0.27272727 0.28571429 0.28571429 0.30263158\n",
      " 0.32142857 0.33823529 0.36397059 0.375      0.38095238 0.38461538\n",
      " 0.39130435 0.4        0.40625    0.41176471 0.41666667 0.42857143]\n",
      "Read model from ../data/cocos3_10k/kernel.pb\n",
      "Temp: tensor([1.6048, 1.1647, 0.8773, 1.1408, 0.6534, 0.6062])\n",
      "Read model from ../data/cocos3_10k/kernel_no_edge_potential.pb\n",
      "Temp: tensor([1.6343, 1.2952, 1.0454, 1.1590, 0.5719, 0.6520])\n"
     ]
    },
    {
     "name": "stdout",
     "output_type": "stream",
     "text": [
      "Num untouched: 15/320\n",
      "Found 176 for acc sigma: 0.000000\n",
      "Found 38 for acc sigma: 0.300000\n",
      "Found 1 for acc sigma: 0.700000\n",
      "Brute force predictor perf.: 0.0709 0.0479 0.0028\n",
      "Num train, val: 118287 5000\n",
      "Found 21833 good ones in train\n",
      "Found 921 good ones in val\n"
     ]
    },
    {
     "name": "stderr",
     "output_type": "stream",
     "text": [
      "Empirical accuracy: 0.7296\n"
     ]
    },
    {
     "name": "stdout",
     "output_type": "stream",
     "text": [
      "Per scene label acc:\n",
      "[0.92647447 0.87443966 0.88832733 0.73323372 0.79304738]\n",
      "Found 242 unique arms and 94.02 average number of examples per arm\n",
      "Shape of p: (22754, 10), scene: (22754, 5, 2)\n",
      "Found 78/320 empty arms\n",
      "Found 320 unique arms and 66.42 average number of examples per arm\n",
      "Using seed: 2 for warm start\n"
     ]
    },
    {
     "name": "stderr",
     "output_type": "stream",
     "text": [
      "Using joint model.\n",
      "Computing per arm accuracy\n",
      "Found 144 unsupported arms of the total 320 arms\n",
      "Done\n",
      "Best, worst, mean accuracy: 1.0000, 0.0400 0.6387\n",
      "Acc quantiles: [0.04       0.31203008 0.53690732 0.67107084 0.78273292 0.87867647\n",
      " 1.        ]\n",
      "Worst arms: [0.04       0.05555556 0.08695652 0.11111111 0.16666667 0.1875\n",
      " 0.1875     0.2        0.2        0.22222222 0.24242424 0.25\n",
      " 0.25       0.25287356 0.27272727 0.28571429 0.28571429 0.30263158\n",
      " 0.32142857 0.33823529 0.36397059 0.375      0.38095238 0.38461538\n",
      " 0.39130435 0.4        0.40625    0.41176471 0.41666667 0.42857143]\n",
      "Read model from ../data/cocos3_10k/kernel.pb\n",
      "Temp: tensor([1.6048, 1.1647, 0.8773, 1.1408, 0.6534, 0.6062])\n",
      "Read model from ../data/cocos3_10k/kernel_no_edge_potential.pb\n",
      "Temp: tensor([1.6343, 1.2952, 1.0454, 1.1590, 0.5719, 0.6520])\n"
     ]
    },
    {
     "name": "stdout",
     "output_type": "stream",
     "text": [
      "Num untouched: 15/320\n",
      "Found 176 for acc sigma: 0.000000\n",
      "Found 44 for acc sigma: 0.300000\n",
      "Found 1 for acc sigma: 0.700000\n",
      "Brute force predictor perf.: 0.0784 0.0566 0.0028\n",
      "Num train, val: 118287 5000\n",
      "Found 21833 good ones in train\n",
      "Found 921 good ones in val\n"
     ]
    },
    {
     "name": "stderr",
     "output_type": "stream",
     "text": [
      "Empirical accuracy: 0.7311\n"
     ]
    },
    {
     "name": "stdout",
     "output_type": "stream",
     "text": [
      "Per scene label acc:\n",
      "[0.92647447 0.87443966 0.88832733 0.73323372 0.79304738]\n",
      "Found 242 unique arms and 94.02 average number of examples per arm\n",
      "Shape of p: (22754, 10), scene: (22754, 5, 2)\n",
      "Found 78/320 empty arms\n",
      "Found 320 unique arms and 66.42 average number of examples per arm\n",
      "Using seed: 0 for warm start\n"
     ]
    },
    {
     "name": "stderr",
     "output_type": "stream",
     "text": [
      "Using joint model.\n",
      "Computing per arm accuracy\n",
      "Found 144 unsupported arms of the total 320 arms\n",
      "Done\n",
      "Best, worst, mean accuracy: 1.0000, 0.0400 0.6387\n",
      "Acc quantiles: [0.04       0.31203008 0.53690732 0.67107084 0.78273292 0.87867647\n",
      " 1.        ]\n",
      "Worst arms: [0.04       0.05555556 0.08695652 0.11111111 0.16666667 0.1875\n",
      " 0.1875     0.2        0.2        0.22222222 0.24242424 0.25\n",
      " 0.25       0.25287356 0.27272727 0.28571429 0.28571429 0.30263158\n",
      " 0.32142857 0.33823529 0.36397059 0.375      0.38095238 0.38461538\n",
      " 0.39130435 0.4        0.40625    0.41176471 0.41666667 0.42857143]\n",
      "Read model from ../data/cocos3_10k/kernel.pb\n",
      "Temp: tensor([1.6048, 1.1647, 0.8773, 1.1408, 0.6534, 0.6062])\n",
      "Read model from ../data/cocos3_10k/kernel_no_edge_potential.pb\n",
      "Temp: tensor([1.6343, 1.2952, 1.0454, 1.1590, 0.5719, 0.6520])\n",
      "Empirical accuracy: 0.7322\n"
     ]
    },
    {
     "name": "stdout",
     "output_type": "stream",
     "text": [
      "Num untouched: 125/320\n",
      "Found 176 for acc sigma: 0.000000\n",
      "Found 54 for acc sigma: 0.300000\n",
      "Found 6 for acc sigma: 0.700000\n",
      "Brute force predictor perf.: 0.0884 0.0713 0.0191\n",
      "Num train, val: 118287 5000\n",
      "Found 21833 good ones in train\n",
      "Found 921 good ones in val\n",
      "Per scene label acc:\n",
      "[0.92647447 0.87443966 0.88832733 0.73323372 0.79304738]\n",
      "Found 242 unique arms and 94.02 average number of examples per arm\n",
      "Shape of p: (22754, 10), scene: (22754, 5, 2)\n",
      "Found 78/320 empty arms\n",
      "Found 320 unique arms and 66.42 average number of examples per arm\n",
      "Using seed: 1 for warm start\n"
     ]
    },
    {
     "name": "stderr",
     "output_type": "stream",
     "text": [
      "Using joint model.\n",
      "Computing per arm accuracy\n",
      "Found 144 unsupported arms of the total 320 arms\n",
      "Done\n",
      "Best, worst, mean accuracy: 1.0000, 0.0400 0.6387\n",
      "Acc quantiles: [0.04       0.31203008 0.53690732 0.67107084 0.78273292 0.87867647\n",
      " 1.        ]\n",
      "Worst arms: [0.04       0.05555556 0.08695652 0.11111111 0.16666667 0.1875\n",
      " 0.1875     0.2        0.2        0.22222222 0.24242424 0.25\n",
      " 0.25       0.25287356 0.27272727 0.28571429 0.28571429 0.30263158\n",
      " 0.32142857 0.33823529 0.36397059 0.375      0.38095238 0.38461538\n",
      " 0.39130435 0.4        0.40625    0.41176471 0.41666667 0.42857143]\n",
      "Read model from ../data/cocos3_10k/kernel.pb\n",
      "Temp: tensor([1.6048, 1.1647, 0.8773, 1.1408, 0.6534, 0.6062])\n",
      "Read model from ../data/cocos3_10k/kernel_no_edge_potential.pb\n",
      "Temp: tensor([1.6343, 1.2952, 1.0454, 1.1590, 0.5719, 0.6520])\n"
     ]
    },
    {
     "name": "stdout",
     "output_type": "stream",
     "text": [
      "Num untouched: 124/320\n",
      "Found 176 for acc sigma: 0.000000\n",
      "Found 53 for acc sigma: 0.300000\n",
      "Found 6 for acc sigma: 0.700000\n",
      "Brute force predictor perf.: 0.0854 0.0682 0.0193\n",
      "Num train, val: 118287 5000\n",
      "Found 21833 good ones in train\n",
      "Found 921 good ones in val\n"
     ]
    },
    {
     "name": "stderr",
     "output_type": "stream",
     "text": [
      "Empirical accuracy: 0.7296\n"
     ]
    },
    {
     "name": "stdout",
     "output_type": "stream",
     "text": [
      "Per scene label acc:\n",
      "[0.92647447 0.87443966 0.88832733 0.73323372 0.79304738]\n",
      "Found 242 unique arms and 94.02 average number of examples per arm\n",
      "Shape of p: (22754, 10), scene: (22754, 5, 2)\n",
      "Found 78/320 empty arms\n",
      "Found 320 unique arms and 66.42 average number of examples per arm\n",
      "Using seed: 2 for warm start\n"
     ]
    },
    {
     "name": "stderr",
     "output_type": "stream",
     "text": [
      "Using joint model.\n",
      "Computing per arm accuracy\n",
      "Found 144 unsupported arms of the total 320 arms\n",
      "Done\n",
      "Best, worst, mean accuracy: 1.0000, 0.0400 0.6387\n",
      "Acc quantiles: [0.04       0.31203008 0.53690732 0.67107084 0.78273292 0.87867647\n",
      " 1.        ]\n",
      "Worst arms: [0.04       0.05555556 0.08695652 0.11111111 0.16666667 0.1875\n",
      " 0.1875     0.2        0.2        0.22222222 0.24242424 0.25\n",
      " 0.25       0.25287356 0.27272727 0.28571429 0.28571429 0.30263158\n",
      " 0.32142857 0.33823529 0.36397059 0.375      0.38095238 0.38461538\n",
      " 0.39130435 0.4        0.40625    0.41176471 0.41666667 0.42857143]\n",
      "Read model from ../data/cocos3_10k/kernel.pb\n",
      "Temp: tensor([1.6048, 1.1647, 0.8773, 1.1408, 0.6534, 0.6062])\n",
      "Read model from ../data/cocos3_10k/kernel_no_edge_potential.pb\n",
      "Temp: tensor([1.6343, 1.2952, 1.0454, 1.1590, 0.5719, 0.6520])\n"
     ]
    },
    {
     "name": "stdout",
     "output_type": "stream",
     "text": [
      "Num untouched: 125/320\n",
      "Found 176 for acc sigma: 0.000000\n",
      "Found 59 for acc sigma: 0.300000\n",
      "Found 5 for acc sigma: 0.700000\n",
      "Brute force predictor perf.: 0.0895 0.0733 0.0154\n",
      "Num train, val: 118287 5000\n",
      "Found 21833 good ones in train\n",
      "Found 921 good ones in val\n"
     ]
    },
    {
     "name": "stderr",
     "output_type": "stream",
     "text": [
      "Empirical accuracy: 0.7311\n"
     ]
    },
    {
     "name": "stdout",
     "output_type": "stream",
     "text": [
      "Per scene label acc:\n",
      "[0.92647447 0.87443966 0.88832733 0.73323372 0.79304738]\n",
      "Found 242 unique arms and 94.02 average number of examples per arm\n",
      "Shape of p: (22754, 10), scene: (22754, 5, 2)\n",
      "Found 78/320 empty arms\n",
      "Found 320 unique arms and 66.42 average number of examples per arm\n",
      "Using seed: 0 for warm start\n"
     ]
    },
    {
     "name": "stderr",
     "output_type": "stream",
     "text": [
      "Using joint model.\n",
      "Computing per arm accuracy\n",
      "Found 144 unsupported arms of the total 320 arms\n",
      "Done\n",
      "Best, worst, mean accuracy: 1.0000, 0.0400 0.6387\n",
      "Acc quantiles: [0.04       0.31203008 0.53690732 0.67107084 0.78273292 0.87867647\n",
      " 1.        ]\n",
      "Worst arms: [0.04       0.05555556 0.08695652 0.11111111 0.16666667 0.1875\n",
      " 0.1875     0.2        0.2        0.22222222 0.24242424 0.25\n",
      " 0.25       0.25287356 0.27272727 0.28571429 0.28571429 0.30263158\n",
      " 0.32142857 0.33823529 0.36397059 0.375      0.38095238 0.38461538\n",
      " 0.39130435 0.4        0.40625    0.41176471 0.41666667 0.42857143]\n",
      "Read model from ../data/cocos3_10k/kernel.pb\n",
      "Temp: tensor([1.6048, 1.1647, 0.8773, 1.1408, 0.6534, 0.6062])\n",
      "Read model from ../data/cocos3_10k/kernel_no_edge_potential.pb\n",
      "Temp: tensor([1.6343, 1.2952, 1.0454, 1.1590, 0.5719, 0.6520])\n"
     ]
    },
    {
     "name": "stdout",
     "output_type": "stream",
     "text": [
      "Num untouched: 116/320\n",
      "Found 176 for acc sigma: 0.000000\n",
      "Found 20 for acc sigma: 0.300000\n",
      "Found 2 for acc sigma: 0.700000\n",
      "Brute force predictor perf.: 0.0338 0.0250 0.0067\n",
      "Num train, val: 118287 5000\n",
      "Found 21833 good ones in train\n",
      "Found 921 good ones in val\n"
     ]
    },
    {
     "name": "stderr",
     "output_type": "stream",
     "text": [
      "Empirical accuracy: 0.7322\n"
     ]
    },
    {
     "name": "stdout",
     "output_type": "stream",
     "text": [
      "Per scene label acc:\n",
      "[0.92647447 0.87443966 0.88832733 0.73323372 0.79304738]\n",
      "Found 242 unique arms and 94.02 average number of examples per arm\n",
      "Shape of p: (22754, 10), scene: (22754, 5, 2)\n",
      "Found 78/320 empty arms\n",
      "Found 320 unique arms and 66.42 average number of examples per arm\n",
      "Using seed: 1 for warm start\n"
     ]
    },
    {
     "name": "stderr",
     "output_type": "stream",
     "text": [
      "Using joint model.\n",
      "Computing per arm accuracy\n",
      "Found 144 unsupported arms of the total 320 arms\n",
      "Done\n",
      "Best, worst, mean accuracy: 1.0000, 0.0400 0.6387\n",
      "Acc quantiles: [0.04       0.31203008 0.53690732 0.67107084 0.78273292 0.87867647\n",
      " 1.        ]\n",
      "Worst arms: [0.04       0.05555556 0.08695652 0.11111111 0.16666667 0.1875\n",
      " 0.1875     0.2        0.2        0.22222222 0.24242424 0.25\n",
      " 0.25       0.25287356 0.27272727 0.28571429 0.28571429 0.30263158\n",
      " 0.32142857 0.33823529 0.36397059 0.375      0.38095238 0.38461538\n",
      " 0.39130435 0.4        0.40625    0.41176471 0.41666667 0.42857143]\n",
      "Read model from ../data/cocos3_10k/kernel.pb\n",
      "Temp: tensor([1.6048, 1.1647, 0.8773, 1.1408, 0.6534, 0.6062])\n",
      "Read model from ../data/cocos3_10k/kernel_no_edge_potential.pb\n",
      "Temp: tensor([1.6343, 1.2952, 1.0454, 1.1590, 0.5719, 0.6520])\n"
     ]
    },
    {
     "name": "stdout",
     "output_type": "stream",
     "text": [
      "Num untouched: 114/320\n",
      "Found 176 for acc sigma: 0.000000\n",
      "Found 21 for acc sigma: 0.300000\n",
      "Found 3 for acc sigma: 0.700000\n",
      "Brute force predictor perf.: 0.0389 0.0296 0.0106\n",
      "Num train, val: 118287 5000\n",
      "Found 21833 good ones in train\n",
      "Found 921 good ones in val\n"
     ]
    },
    {
     "name": "stderr",
     "output_type": "stream",
     "text": [
      "Empirical accuracy: 0.7296\n"
     ]
    },
    {
     "name": "stdout",
     "output_type": "stream",
     "text": [
      "Per scene label acc:\n",
      "[0.92647447 0.87443966 0.88832733 0.73323372 0.79304738]\n",
      "Found 242 unique arms and 94.02 average number of examples per arm\n",
      "Shape of p: (22754, 10), scene: (22754, 5, 2)\n",
      "Found 78/320 empty arms\n",
      "Found 320 unique arms and 66.42 average number of examples per arm\n",
      "Using seed: 2 for warm start\n"
     ]
    },
    {
     "name": "stderr",
     "output_type": "stream",
     "text": [
      "Using joint model.\n",
      "Computing per arm accuracy\n",
      "Found 144 unsupported arms of the total 320 arms\n",
      "Done\n",
      "Best, worst, mean accuracy: 1.0000, 0.0400 0.6387\n",
      "Acc quantiles: [0.04       0.31203008 0.53690732 0.67107084 0.78273292 0.87867647\n",
      " 1.        ]\n",
      "Worst arms: [0.04       0.05555556 0.08695652 0.11111111 0.16666667 0.1875\n",
      " 0.1875     0.2        0.2        0.22222222 0.24242424 0.25\n",
      " 0.25       0.25287356 0.27272727 0.28571429 0.28571429 0.30263158\n",
      " 0.32142857 0.33823529 0.36397059 0.375      0.38095238 0.38461538\n",
      " 0.39130435 0.4        0.40625    0.41176471 0.41666667 0.42857143]\n",
      "Read model from ../data/cocos3_10k/kernel.pb\n",
      "Temp: tensor([1.6048, 1.1647, 0.8773, 1.1408, 0.6534, 0.6062])\n",
      "Read model from ../data/cocos3_10k/kernel_no_edge_potential.pb\n",
      "Temp: tensor([1.6343, 1.2952, 1.0454, 1.1590, 0.5719, 0.6520])\n"
     ]
    },
    {
     "name": "stdout",
     "output_type": "stream",
     "text": [
      "Num untouched: 115/320\n",
      "Found 176 for acc sigma: 0.000000\n",
      "Found 19 for acc sigma: 0.300000\n",
      "Found 2 for acc sigma: 0.700000\n",
      "Brute force predictor perf.: 0.0348 0.0249 0.0067\n"
     ]
    },
    {
     "name": "stderr",
     "output_type": "stream",
     "text": [
      "Empirical accuracy: 0.7311\n"
     ]
    }
   ],
   "source": [
    "import cocos3_10k\n",
    "dev = torch.device(\"cpu\")\n",
    "\n",
    "cocos3_10k.CACHE_DIR = \"../data/cocos3_10k\"\n",
    "calibrated_perfs, noep_calibrated_perfs, uncalibrated_perfs, gt_perfs = [], [], [], []\n",
    "debug_objs = []\n",
    "err_ns = [0., 0.3, 0.7]\n",
    "# err_ns = [0.1, 0.3, 0.5]\n",
    "sts = [\"correctedwep\", \"correctednoep\", \"raw\", \"gt\"]\n",
    "\n",
    "def perf(num_sample, sample_type):\n",
    "    err1s, err2s, err3s = [], [], []\n",
    "    for seed in range(3):\n",
    "        dataset, data_fitter = cocos3_10k.prepare(seed)\n",
    "        explorer = beta_explorer.BetaExplorer(dataset, data_fitter, data_fitter.cache_dir, dev, \n",
    "                                              explore_strategy='variance', err_ns=err_ns)\n",
    "        err_1, err_2, err_3, all_err = explorer.brute_predictor(num_sample, sample_type=sample_type)\n",
    "        err1s.append(err_1)\n",
    "        err2s.append(err_2)\n",
    "        err3s.append(err_3)\n",
    "    return np.mean(err1s), np.mean(err2s), np.mean(err3s)\n",
    "\n",
    "for num_sample in [0, 500, 1000, 1500, 2000, 3000, 4000, 5000]:\n",
    "    for sti, st in enumerate(sts):\n",
    "        err_1, err_2, err_3 = perf(num_sample, st)\n",
    "        if sti == 0:        \n",
    "            calibrated_perfs.append((num_sample, err_1, err_2, err_3))\n",
    "        elif sti == 1:\n",
    "            noep_calibrated_perfs.append((num_sample, err_1, err_2, err_3))\n",
    "        elif sti == 2:\n",
    "            uncalibrated_perfs.append((num_sample, err_1, err_2, err_3))   \n",
    "        elif sti == 3:\n",
    "            gt_perfs.append((num_sample, err_1, err_2, err_3))   \n",
    "    \n",
    "write([(calibrated_perfs, \"cal:full\"), (noep_calibrated_perfs, \"cal:temp\"), \n",
    "      (uncalibrated_perfs, \"cal:raw\"), (gt_perfs, \"cal:gold\")], \"cocos3_10k\")"
   ]
  },
  {
   "cell_type": "code",
   "execution_count": 7,
   "metadata": {},
   "outputs": [
    {
     "data": {
      "text/plain": [
       "([(0, 0.07632864212265784, 0.05882431062977175, 0.004483508640038908),\n",
       "  (500, 0.070319557236215, 0.053424745803767826, 0.008329697564557743),\n",
       "  (1000, 0.06375730800642194, 0.04639797892211019, 0.00541480089247288),\n",
       "  (1500, 0.06778865262287516, 0.051052743325344645, 0.00934413422167897),\n",
       "  (2000, 0.06840840265058573, 0.05112939339413105, 0.00934413422167897),\n",
       "  (3000, 0.0669169155670306, 0.04830674429852038, 0.0068082505093345624),\n",
       "  (4000, 0.0702958498714918, 0.051456661513606394, 0.007016761540336643),\n",
       "  (5000, 0.07318394145837666, 0.054607943084086376, 0.006291793867364469)],\n",
       " [(0, 0.07632864212265784, 0.05882431062977175, 0.004483508640038908),\n",
       "  (500, 0.08321910104811654, 0.068250548717252, 0.009733150202560025),\n",
       "  (1000, 0.07364904582418158, 0.05476808202291961, 0.0011196213953806172),\n",
       "  (1500, 0.07315762319276796, 0.054499948762984085, 0.00607920002469748),\n",
       "  (2000, 0.07204189364478797, 0.0533238790761531, 0.00708830659564081),\n",
       "  (3000, 0.0702918355152764, 0.05021714271730724, 0.004387013221118417),\n",
       "  (4000, 0.07140016690297733, 0.0503618226574466, 0.005433551142289113),\n",
       "  (5000, 0.07528299734961662, 0.053082222250073884, 0.003820640790187922)],\n",
       " [(0, 0.07632864212265784, 0.05882431062977175, 0.004483508640038908),\n",
       "  (500, 0.08517922524544537, 0.06929451974528734, 0.017473034428809018),\n",
       "  (1000, 0.08458818906476324, 0.06933035608709794, 0.019765186552386814),\n",
       "  (1500, 0.08391754125257427, 0.06680243804200915, 0.015588537539578779),\n",
       "  (2000, 0.08435026406093536, 0.06832699425155252, 0.015588537539578779),\n",
       "  (3000, 0.08543843030897469, 0.06838545146901953, 0.012524889655782136),\n",
       "  (4000, 0.0841563445304354, 0.06668648386100108, 0.016043383966545928),\n",
       "  (5000, 0.08776658351110285, 0.07092922888671759, 0.017947791121811402)],\n",
       " [(0, 0.07632864212265784, 0.05882431062977175, 0.004483508640038908),\n",
       "  (500, 0.0724434326170811, 0.05499708150938853, 0.01018813362373972),\n",
       "  (1000, 0.06166284330188531, 0.04595188800005026, 0.01074329942429187),\n",
       "  (1500, 0.05717969117017388, 0.0447186931152542, 0.008546986769789306),\n",
       "  (2000, 0.053573459358965826, 0.040505505780712485, 0.008546986769789306),\n",
       "  (3000, 0.05132214322414577, 0.04106576005609089, 0.01929818396789525),\n",
       "  (4000, 0.036885964296920114, 0.027306883301358883, 0.00799035554535488),\n",
       "  (5000, 0.03584437254014463, 0.026502457011840227, 0.00799035554535488)])"
      ]
     },
     "execution_count": 7,
     "metadata": {},
     "output_type": "execute_result"
    }
   ],
   "source": [
    "calibrated_perfs, noep_calibrated_perfs, uncalibrated_perfs, gt_perfs"
   ]
  },
  {
   "cell_type": "code",
   "execution_count": 6,
   "metadata": {},
   "outputs": [
    {
     "data": {
      "image/png": "[encoded data removed]",
      "text/plain": [
       "<Figure size 432x288 with 1 Axes>"
      ]
     },
     "metadata": {
      "needs_background": "light"
     },
     "output_type": "display_data"
    }
   ],
   "source": [
    "plot(\"cocos3_10k\", \"COCOS_10K\", \"../plots/cocos_10k_calibration.png\")"
   ]
  },
  {
   "cell_type": "code",
   "execution_count": 4,
   "metadata": {},
   "outputs": [
    {
     "data": {
      "image/png": "[encoded data removed]",
      "text/plain": [
       "<Figure size 432x288 with 1 Axes>"
      ]
     },
     "metadata": {
      "needs_background": "light"
     },
     "output_type": "display_data"
    },
    {
     "data": {
      "image/png": "[encoded data removed]",
      "text/plain": [
       "<Figure size 432x288 with 1 Axes>"
      ]
     },
     "metadata": {
      "needs_background": "light"
     },
     "output_type": "display_data"
    },
    {
     "data": {
      "image/png": "[encoded data removed]",
      "text/plain": [
       "<Figure size 432x288 with 1 Axes>"
      ]
     },
     "metadata": {
      "needs_background": "light"
     },
     "output_type": "display_data"
    },
    {
     "data": {
      "image/png": "[encoded data removed]",
      "text/plain": [
       "<Figure size 432x288 with 1 Axes>"
      ]
     },
     "metadata": {
      "needs_background": "light"
     },
     "output_type": "display_data"
    }
   ],
   "source": [
    "def plot(task, title, save_fname, legend=False, mark=False):\n",
    "    cals = [(\"cal:full\", \"r*-\", \"Cal:Full\"), (\"cal:temp\", \"b*-\", \"Cal:Temp\"), (\"cal:raw\", \"k*-\", \"Cal:Raw\")]\n",
    "    for cal, fmt, name in cals:\n",
    "        with open(\"../data/%s/%s.pkl\" % (task, cal), \"rb\") as f:\n",
    "            perfs = pickle.load(f)\n",
    "            xs, aucs, _, _ = zip(*perfs)\n",
    "            plt.plot(xs, 100*np.array(aucs), fmt, label=name)\n",
    "    plt.title(title, fontdict = {'fontsize' : 20})\n",
    "    if legend:\n",
    "        plt.legend(prop={'size':20}, bbox_to_anchor=(0.5, 0.42, 0.5, 0.5))\n",
    "    if mark:\n",
    "        plt.xlabel('Number Explored')\n",
    "        plt.ylabel('MSE')\n",
    "    plt.tight_layout(pad=0.1)\n",
    "    plt.savefig(save_fname)\n",
    "    plt.show()\n",
    "\n",
    "# plot(\"line_simple_dataset_corr_attr\", \"Line\", \"../plots/line_calibration.png\", legend=True)\n",
    "plot(\"celeba\", \"MF-CelebA\", \"../plots/celeba_calibration.pdf\", legend=True)\n",
    "plot(\"celeba_private\", \"MF-IMDB\", \"../plots/celebap_calibration.pdf\", mark=True)\n",
    "plot(\"cocos3\", \"AC-COCOS\", \"../plots/cocos_calibration.pdf\")\n",
    "plot(\"cocos3_10k\", \"AC-COCOS10K\", \"../plots/cocos_10k_calibration.pdf\")"
   ]
  }
 ],
 "metadata": {
  "kernelspec": {
   "display_name": "Python 3",
   "language": "python",
   "name": "python3"
  },
  "language_info": {
   "codemirror_mode": {
    "name": "ipython",
    "version": 3
   },
   "file_extension": ".py",
   "mimetype": "text/x-python",
   "name": "python",
   "nbconvert_exporter": "python",
   "pygments_lexer": "ipython3",
   "version": "3.6.10"
  }
 },
 "nbformat": 4,
 "nbformat_minor": 4
}
