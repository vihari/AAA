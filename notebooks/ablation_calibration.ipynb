{
 "cells": [
  {
   "cell_type": "code",
   "execution_count": 1,
   "metadata": {},
   "outputs": [],
   "source": [
    "%load_ext autoreload\n",
    "%autoreload 2"
   ]
  },
  {
   "cell_type": "code",
   "execution_count": 1,
   "metadata": {},
   "outputs": [
    {
     "name": "stdout",
     "output_type": "stream",
     "text": [
      "Arms shape:  (2016, 4) [0 0 0 0] [11  2  6  7]\n"
     ]
    }
   ],
   "source": [
    "import os, sys\n",
    "import torch\n",
    "\n",
    "module_path = os.path.abspath(os.path.join('..'))\n",
    "if module_path not in sys.path:\n",
    "    sys.path.append(module_path)\n",
    "\n",
    "from src.utils import train_utils, config, data_utils\n",
    "from src import dataset, data_fitter, beta_explorer\n",
    "import line_simple_data\n",
    "line_simple_data.root_dir = \"../data/line_simple_dataset\""
   ]
  },
  {
   "cell_type": "markdown",
   "metadata": {},
   "source": [
    "# Ablation on sampling from corrected vs uncalibrated dataset"
   ]
  },
  {
   "cell_type": "code",
   "execution_count": 9,
   "metadata": {},
   "outputs": [
    {
     "name": "stdout",
     "output_type": "stream",
     "text": [
      "Loading label attribute models...\n",
      "Done\n",
      "Loding dataset...\n",
      "Size fo available labeled data: 8732\n",
      "Size of available unlabeled data: 40320\n",
      "Setting models...\n",
      "Initializing fitter...\n"
     ]
    },
    {
     "name": "stderr",
     "output_type": "stream",
     "text": [
      "Computing per arm accuracy\n",
      "Done\n",
      "Best, worst, mean accuracy: 1.0000, 0.0000 0.9599\n",
      "Acc quantiles: [0.   0.95 1.   1.   1.   1.   1.  ]\n",
      "Worst arms: [0.   0.   0.   0.   0.   0.   0.   0.   0.   0.   0.   0.   0.   0.\n",
      " 0.   0.   0.   0.   0.   0.   0.   0.   0.   0.   0.   0.   0.05 0.05\n",
      " 0.05 0.05]\n",
      "Worst arm idxs: [1991   31   30   29   28   27   26   25   24 1374 1373  701 1372 1371\n",
      "  703  702  700 1375  696  697  698  699 1368  718 1370 1369 1709   40\n",
      " 1706  716]\n",
      "Worst arm attrs: [[11  2  3  7]\n",
      " [ 0  0  3  7]\n",
      " [ 0  0  3  6]\n",
      " [ 0  0  3  5]\n",
      " [ 0  0  3  4]\n",
      " [ 0  0  3  3]\n",
      " [ 0  0  3  2]\n",
      " [ 0  0  3  1]\n",
      " [ 0  0  3  0]\n",
      " [ 0  2  3  6]\n",
      " [ 0  2  3  5]\n",
      " [ 0  1  3  5]\n",
      " [ 0  2  3  4]\n",
      " [ 0  2  3  3]\n",
      " [ 0  1  3  7]\n",
      " [ 0  1  3  6]\n",
      " [ 0  1  3  4]\n",
      " [ 0  2  3  7]\n",
      " [ 0  1  3  0]\n",
      " [ 0  1  3  1]\n",
      " [ 0  1  3  2]\n",
      " [ 0  1  3  3]\n",
      " [ 0  2  3  0]\n",
      " [ 0  1  5  6]\n",
      " [ 0  2  3  2]\n",
      " [ 0  2  3  1]\n",
      " [ 6  2  3  5]\n",
      " [ 0  0  5  0]\n",
      " [ 6  2  3  2]\n",
      " [ 0  1  5  4]]\n",
      "100%|██████████| 4/4 [00:12<00:00,  3.13s/it]\n",
      "Empirical accuracy: 0.9680\n",
      "  0%|          | 0/4 [00:00<?, ?it/s]"
     ]
    },
    {
     "name": "stdout",
     "output_type": "stream",
     "text": [
      "Found 1940 for acc sigma: 0.030000 0.929896 0.989896\n",
      "Found 154 for acc sigma: 0.050000 0.909896 1.009896\n",
      "Found 127 for acc sigma: 0.100000 0.859896 1.059896\n",
      "Brute force predictor perf.: 0.0665 0.4747 0.5604\n"
     ]
    },
    {
     "name": "stderr",
     "output_type": "stream",
     "text": [
      "100%|██████████| 4/4 [00:12<00:00,  3.08s/it]\n",
      "Empirical accuracy: 0.9740\n",
      "  0%|          | 0/16 [00:00<?, ?it/s]"
     ]
    },
    {
     "name": "stdout",
     "output_type": "stream",
     "text": [
      "Found 1940 for acc sigma: 0.030000 0.929896 0.989896\n",
      "Found 154 for acc sigma: 0.050000 0.909896 1.009896\n",
      "Found 127 for acc sigma: 0.100000 0.859896 1.059896\n",
      "Brute force predictor perf.: 0.0549 0.4200 0.4913\n"
     ]
    },
    {
     "name": "stderr",
     "output_type": "stream",
     "text": [
      "100%|██████████| 16/16 [00:46<00:00,  2.93s/it]\n",
      "Empirical accuracy: 0.9660\n",
      "  0%|          | 0/16 [00:00<?, ?it/s]"
     ]
    },
    {
     "name": "stdout",
     "output_type": "stream",
     "text": [
      "Found 1940 for acc sigma: 0.030000 0.929896 0.989896\n",
      "Found 154 for acc sigma: 0.050000 0.909896 1.009896\n",
      "Found 127 for acc sigma: 0.100000 0.859896 1.059896\n",
      "Brute force predictor perf.: 0.0657 0.4687 0.5445\n"
     ]
    },
    {
     "name": "stderr",
     "output_type": "stream",
     "text": [
      "100%|██████████| 16/16 [00:46<00:00,  2.92s/it]\n",
      "Empirical accuracy: 0.9645\n",
      "  0%|          | 0/40 [00:00<?, ?it/s]"
     ]
    },
    {
     "name": "stdout",
     "output_type": "stream",
     "text": [
      "Found 1940 for acc sigma: 0.030000 0.929896 0.989896\n",
      "Found 154 for acc sigma: 0.050000 0.909896 1.009896\n",
      "Found 127 for acc sigma: 0.100000 0.859896 1.059896\n",
      "Brute force predictor perf.: 0.0584 0.4047 0.4697\n"
     ]
    },
    {
     "name": "stderr",
     "output_type": "stream",
     "text": [
      "100%|██████████| 40/40 [02:01<00:00,  3.05s/it]\n",
      "Empirical accuracy: 0.9642\n",
      "  0%|          | 0/40 [00:00<?, ?it/s]"
     ]
    },
    {
     "name": "stdout",
     "output_type": "stream",
     "text": [
      "Found 1940 for acc sigma: 0.030000 0.929896 0.989896\n",
      "Found 154 for acc sigma: 0.050000 0.909896 1.009896\n",
      "Found 127 for acc sigma: 0.100000 0.859896 1.059896\n",
      "Brute force predictor perf.: 0.0571 0.4226 0.4829\n"
     ]
    },
    {
     "name": "stderr",
     "output_type": "stream",
     "text": [
      "100%|██████████| 40/40 [02:02<00:00,  3.06s/it]\n",
      "Empirical accuracy: 0.9592\n",
      "  0%|          | 0/79 [00:00<?, ?it/s]"
     ]
    },
    {
     "name": "stdout",
     "output_type": "stream",
     "text": [
      "Found 1940 for acc sigma: 0.030000 0.929896 0.989896\n",
      "Found 154 for acc sigma: 0.050000 0.909896 1.009896\n",
      "Found 127 for acc sigma: 0.100000 0.859896 1.059896\n",
      "Brute force predictor perf.: 0.0422 0.2826 0.3201\n"
     ]
    },
    {
     "name": "stderr",
     "output_type": "stream",
     "text": [
      "100%|██████████| 79/79 [03:57<00:00,  3.01s/it]\n",
      "Empirical accuracy: 0.9668\n",
      "  0%|          | 0/79 [00:00<?, ?it/s]"
     ]
    },
    {
     "name": "stdout",
     "output_type": "stream",
     "text": [
      "Found 1940 for acc sigma: 0.030000 0.929896 0.989896\n",
      "Found 154 for acc sigma: 0.050000 0.909896 1.009896\n",
      "Found 127 for acc sigma: 0.100000 0.859896 1.059896\n",
      "Brute force predictor perf.: 0.0576 0.4276 0.4949\n"
     ]
    },
    {
     "name": "stderr",
     "output_type": "stream",
     "text": [
      "100%|██████████| 79/79 [04:09<00:00,  3.15s/it]\n",
      "Empirical accuracy: 0.9603\n"
     ]
    },
    {
     "name": "stdout",
     "output_type": "stream",
     "text": [
      "Found 1940 for acc sigma: 0.030000 0.929896 0.989896\n",
      "Found 154 for acc sigma: 0.050000 0.909896 1.009896\n",
      "Found 127 for acc sigma: 0.100000 0.859896 1.059896\n",
      "Brute force predictor perf.: 0.0402 0.2463 0.2791\n",
      "[(500, 0.054885482959194314, 0.4199536178107606, 0.49125084364454447), (2000, 0.05840086386499725, 0.4047212350083012, 0.4696647821585474), (5000, 0.04216628954416882, 0.2826080325501432, 0.32013667022582043), (10000, 0.04016952623623712, 0.24627414135660214, 0.27908551939998344)]\n"
     ]
    }
   ],
   "source": [
    "dev = torch.device(\"cpu\")\n",
    "\n",
    "line_dataset, line_data_fitter = line_simple_data.prepare()\n",
    "explorer = beta_explorer.BetaExplorer(line_dataset, line_data_fitter, line_data_fitter.cache_dir, dev,\n",
    "                                      explore_strategy='variance')\n",
    "\n",
    "calibrated_perfs, uncalibrated_perfs = [], []\n",
    "for num_sample in [500, 2000, 5000, 10000]:\n",
    "    err_3, err_5, err_10 = explorer.brute_predictor(num_sample, corrected=False)\n",
    "    uncalibrated_perfs.append((num_sample, err_3, err_5, err_10))\n",
    "    err_3, err_5, err_10 = explorer.brute_predictor(num_sample, corrected=True)\n",
    "    calibrated_perfs.append((num_sample, err_3, err_5, err_10))\n",
    "    \n",
    "print (calibrated_perfs)"
   ]
  },
  {
   "cell_type": "code",
   "execution_count": 3,
   "metadata": {},
   "outputs": [
    {
     "data": {
      "image/png": "[encoded data removed]",
      "text/plain": [
       "<Figure size 432x288 with 1 Axes>"
      ]
     },
     "metadata": {
      "needs_background": "light"
     },
     "output_type": "display_data"
    },
    {
     "name": "stdout",
     "output_type": "stream",
     "text": [
      "[(500, 0.054885482959194314, 0.4199536178107606, 0.49125084364454447), (2000, 0.05840086386499725, 0.4047212350083012, 0.4696647821585474), (5000, 0.04216628954416882, 0.2826080325501432, 0.32013667022582043), (10000, 0.04016952623623712, 0.24627414135660214, 0.27908551939998344)]\n"
     ]
    }
   ],
   "source": [
    "import pickle\n",
    "from matplotlib import pyplot as plt\n",
    "\n",
    "if False:\n",
    "    with open(\"../data/line_simple_dataset/fit:emp_exp:rand_uncalibrated.pkl\", \"wb\") as f:\n",
    "        pickle.dump(uncalibrated_perfs, f)\n",
    "    with open(\"../data/line_simple_dataset/fit:emp_exp:rand_calibrated.pkl\", \"wb\") as f:\n",
    "        pickle.dump(calibrated_perfs, f)\n",
    "else:\n",
    "    with open(\"../data/line_simple_dataset/fit:emp_exp:rand_uncalibrated.pkl\", \"rb\") as f:\n",
    "        uncalibrated_perfs = pickle.load(f)\n",
    "    with open(\"../data/line_simple_dataset/fit:emp_exp:rand_calibrated.pkl\", \"rb\") as f:\n",
    "        calibrated_perfs = pickle.load(f)\n",
    "    \n",
    "    \n",
    "nums, errs_3, errs_5, errs_10 = zip(*calibrated_perfs)\n",
    "plt.plot(nums, errs_10, 'r*-', label='calibrated')\n",
    "nums, errs_3, errs_5, errs_10 = zip(*uncalibrated_perfs)\n",
    "plt.plot(nums, errs_10, 'b*-', label='uncalibrated')\n",
    "plt.legend()\n",
    "plt.show()\n",
    "print (calibrated_perfs)"
   ]
  }
 ],
 "metadata": {
  "kernelspec": {
   "display_name": "Python 3",
   "language": "python",
   "name": "python3"
  },
  "language_info": {
   "codemirror_mode": {
    "name": "ipython",
    "version": 3
   },
   "file_extension": ".py",
   "mimetype": "text/x-python",
   "name": "python",
   "nbconvert_exporter": "python",
   "pygments_lexer": "ipython3",
   "version": "3.6.10"
  }
 },
 "nbformat": 4,
 "nbformat_minor": 4
}
